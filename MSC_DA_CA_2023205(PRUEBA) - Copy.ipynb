{
 "cells": [
  {
   "cell_type": "markdown",
   "id": "a8faaaff",
   "metadata": {},
   "source": [
    "# MSC_DA_CA_2023205 "
   ]
  },
  {
   "cell_type": "markdown",
   "id": "50fa8894",
   "metadata": {},
   "source": [
    "## Scenario: Transport in Ireland"
   ]
  },
  {
   "cell_type": "code",
   "execution_count": 104,
   "id": "d8b3b1e3",
   "metadata": {
    "scrolled": true
   },
   "outputs": [
    {
     "name": "stderr",
     "output_type": "stream",
     "text": [
      "[nltk_data] Downloading package stopwords to\n",
      "[nltk_data]     C:\\Users\\ledag\\AppData\\Roaming\\nltk_data...\n",
      "[nltk_data]   Package stopwords is already up-to-date!\n"
     ]
    }
   ],
   "source": [
    "#Importing libraries\n",
    "#General libraries\n",
    "import pandas as pd\n",
    "import numpy as np\n",
    "import seaborn as sns\n",
    "import matplotlib.pyplot as plt\n",
    "from prettytable import PrettyTable\n",
    "import panel as pn\n",
    "import hvplot.pandas\n",
    "from hvplot import explorer\n",
    "\n",
    "#Statistics libraries\n",
    "from statsmodels.stats.proportion import proportions_ztest\n",
    "from statsmodels.graphics.gofplots import qqplot\n",
    "from scipy.stats import t,f_oneway,iqr, skew, norm, uniform, kurtosis, kstest, shapiro\n",
    "\n",
    "#Machine learning libraries\n",
    "from sklearn.model_selection import train_test_split\n",
    "from sklearn.linear_model import LinearRegression\n",
    "from sklearn.metrics import r2_score\n",
    "from sklearn.metrics import mean_squared_error\n",
    "from sklearn.tree import DecisionTreeRegressor\n",
    "from sklearn.preprocessing import PolynomialFeatures\n",
    "from sklearn.linear_model import LinearRegression\n",
    "from sklearn.model_selection import GridSearchCV\n",
    "from sklearn.pipeline import make_pipeline\n",
    "from sklearn import metrics\n",
    "from sklearn.ensemble import RandomForestRegressor\n",
    "import nltk \n",
    "from nltk.corpus import stopwords\n",
    "nltk.download(\"stopwords\")\n",
    "\n",
    "#Dashboard libraries\n",
    "import plotly.express as px\n",
    "import dash\n",
    "from dash import dcc\n",
    "from dash import html\n",
    "from dash.dependencies import Input, Output\n",
    "from datetime import datetime, date"
   ]
  },
  {
   "cell_type": "markdown",
   "id": "ecaa4fbf",
   "metadata": {},
   "source": [
    "### Exploratory Data Analysis"
   ]
  },
  {
   "cell_type": "markdown",
   "id": "60c21028",
   "metadata": {},
   "source": [
    "**Ireland Dataset** \n",
    "\n",
    "The dataset named `TII03` to be used in the analysis for Ireland, has been imported using `Pandas` library.\n",
    "This the data was collected from `https://data.europa.eu/data`.  "
   ]
  },
  {
   "cell_type": "code",
   "execution_count": 2,
   "id": "fd5a67ea",
   "metadata": {},
   "outputs": [],
   "source": [
    "#Importing the datasets\n",
    "df_ireland1 = pd.read_csv(\"TII03.csv\")"
   ]
  },
  {
   "cell_type": "markdown",
   "id": "dc0f6858",
   "metadata": {},
   "source": [
    " `Head()` method gives a first glimpse of which attributes are included in the dataset. As seen below there are 8 columns, at first glance the columns `STATISTIC` and `UNIT` seem to be unnecessary which means that to clean our dataset dropping them could be useful. The column `TLIS(W1)` and `Week` contain in different formats the same information making one of them redundant."
   ]
  },
  {
   "cell_type": "code",
   "execution_count": 3,
   "id": "7d850a36",
   "metadata": {
    "scrolled": false
   },
   "outputs": [
    {
     "data": {
      "text/html": [
       "<div>\n",
       "<style scoped>\n",
       "    .dataframe tbody tr th:only-of-type {\n",
       "        vertical-align: middle;\n",
       "    }\n",
       "\n",
       "    .dataframe tbody tr th {\n",
       "        vertical-align: top;\n",
       "    }\n",
       "\n",
       "    .dataframe thead th {\n",
       "        text-align: right;\n",
       "    }\n",
       "</style>\n",
       "<table border=\"1\" class=\"dataframe\">\n",
       "  <thead>\n",
       "    <tr style=\"text-align: right;\">\n",
       "      <th></th>\n",
       "      <th>STATISTIC</th>\n",
       "      <th>Statistic Label</th>\n",
       "      <th>TLIST(W1)</th>\n",
       "      <th>Week</th>\n",
       "      <th>C03132V03784</th>\n",
       "      <th>Luas Line</th>\n",
       "      <th>UNIT</th>\n",
       "      <th>VALUE</th>\n",
       "    </tr>\n",
       "  </thead>\n",
       "  <tbody>\n",
       "    <tr>\n",
       "      <th>0</th>\n",
       "      <td>TII03C01</td>\n",
       "      <td>Passenger Journeys</td>\n",
       "      <td>2019W01</td>\n",
       "      <td>2019 Week 01</td>\n",
       "      <td>-</td>\n",
       "      <td>All Luas lines</td>\n",
       "      <td>Number</td>\n",
       "      <td>549533.0</td>\n",
       "    </tr>\n",
       "    <tr>\n",
       "      <th>1</th>\n",
       "      <td>TII03C01</td>\n",
       "      <td>Passenger Journeys</td>\n",
       "      <td>2019W01</td>\n",
       "      <td>2019 Week 01</td>\n",
       "      <td>1</td>\n",
       "      <td>Red line</td>\n",
       "      <td>Number</td>\n",
       "      <td>274139.0</td>\n",
       "    </tr>\n",
       "    <tr>\n",
       "      <th>2</th>\n",
       "      <td>TII03C01</td>\n",
       "      <td>Passenger Journeys</td>\n",
       "      <td>2019W01</td>\n",
       "      <td>2019 Week 01</td>\n",
       "      <td>2</td>\n",
       "      <td>Green line</td>\n",
       "      <td>Number</td>\n",
       "      <td>275394.0</td>\n",
       "    </tr>\n",
       "    <tr>\n",
       "      <th>3</th>\n",
       "      <td>TII03C01</td>\n",
       "      <td>Passenger Journeys</td>\n",
       "      <td>2019W02</td>\n",
       "      <td>2019 Week 02</td>\n",
       "      <td>-</td>\n",
       "      <td>All Luas lines</td>\n",
       "      <td>Number</td>\n",
       "      <td>839022.0</td>\n",
       "    </tr>\n",
       "    <tr>\n",
       "      <th>4</th>\n",
       "      <td>TII03C01</td>\n",
       "      <td>Passenger Journeys</td>\n",
       "      <td>2019W02</td>\n",
       "      <td>2019 Week 02</td>\n",
       "      <td>1</td>\n",
       "      <td>Red line</td>\n",
       "      <td>Number</td>\n",
       "      <td>408199.0</td>\n",
       "    </tr>\n",
       "  </tbody>\n",
       "</table>\n",
       "</div>"
      ],
      "text/plain": [
       "  STATISTIC     Statistic Label TLIST(W1)          Week C03132V03784  \\\n",
       "0  TII03C01  Passenger Journeys   2019W01  2019 Week 01            -   \n",
       "1  TII03C01  Passenger Journeys   2019W01  2019 Week 01            1   \n",
       "2  TII03C01  Passenger Journeys   2019W01  2019 Week 01            2   \n",
       "3  TII03C01  Passenger Journeys   2019W02  2019 Week 02            -   \n",
       "4  TII03C01  Passenger Journeys   2019W02  2019 Week 02            1   \n",
       "\n",
       "        Luas Line    UNIT     VALUE  \n",
       "0  All Luas lines  Number  549533.0  \n",
       "1        Red line  Number  274139.0  \n",
       "2      Green line  Number  275394.0  \n",
       "3  All Luas lines  Number  839022.0  \n",
       "4        Red line  Number  408199.0  "
      ]
     },
     "execution_count": 3,
     "metadata": {},
     "output_type": "execute_result"
    }
   ],
   "source": [
    "#Exploring dataset by dataset\n",
    "df_ireland1.head()"
   ]
  },
  {
   "cell_type": "code",
   "execution_count": 4,
   "id": "59c25d5f",
   "metadata": {},
   "outputs": [
    {
     "name": "stdout",
     "output_type": "stream",
     "text": [
      "Dataset's shape: (768, 8)\n"
     ]
    }
   ],
   "source": [
    "#Examining the dataset's shape\n",
    "print(f\"Dataset's shape: {df_ireland1.shape}\")"
   ]
  },
  {
   "cell_type": "markdown",
   "id": "29bbc922",
   "metadata": {},
   "source": [
    "As mentioned before as part of the date cleaning the unnecessary attributes will be dropped. In this case 4 columns does not add value in the analysis of the dataframe. These columns are `STATISTIC`, `Statistic Label`, `TLIST(W1)` and `UNIT`."
   ]
  },
  {
   "cell_type": "code",
   "execution_count": 5,
   "id": "947b44e8",
   "metadata": {},
   "outputs": [
    {
     "data": {
      "text/html": [
       "<div>\n",
       "<style scoped>\n",
       "    .dataframe tbody tr th:only-of-type {\n",
       "        vertical-align: middle;\n",
       "    }\n",
       "\n",
       "    .dataframe tbody tr th {\n",
       "        vertical-align: top;\n",
       "    }\n",
       "\n",
       "    .dataframe thead th {\n",
       "        text-align: right;\n",
       "    }\n",
       "</style>\n",
       "<table border=\"1\" class=\"dataframe\">\n",
       "  <thead>\n",
       "    <tr style=\"text-align: right;\">\n",
       "      <th></th>\n",
       "      <th>Week</th>\n",
       "      <th>C03132V03784</th>\n",
       "      <th>Luas Line</th>\n",
       "      <th>VALUE</th>\n",
       "    </tr>\n",
       "  </thead>\n",
       "  <tbody>\n",
       "    <tr>\n",
       "      <th>0</th>\n",
       "      <td>2019 Week 01</td>\n",
       "      <td>-</td>\n",
       "      <td>All Luas lines</td>\n",
       "      <td>549533.0</td>\n",
       "    </tr>\n",
       "    <tr>\n",
       "      <th>1</th>\n",
       "      <td>2019 Week 01</td>\n",
       "      <td>1</td>\n",
       "      <td>Red line</td>\n",
       "      <td>274139.0</td>\n",
       "    </tr>\n",
       "    <tr>\n",
       "      <th>2</th>\n",
       "      <td>2019 Week 01</td>\n",
       "      <td>2</td>\n",
       "      <td>Green line</td>\n",
       "      <td>275394.0</td>\n",
       "    </tr>\n",
       "    <tr>\n",
       "      <th>3</th>\n",
       "      <td>2019 Week 02</td>\n",
       "      <td>-</td>\n",
       "      <td>All Luas lines</td>\n",
       "      <td>839022.0</td>\n",
       "    </tr>\n",
       "    <tr>\n",
       "      <th>4</th>\n",
       "      <td>2019 Week 02</td>\n",
       "      <td>1</td>\n",
       "      <td>Red line</td>\n",
       "      <td>408199.0</td>\n",
       "    </tr>\n",
       "  </tbody>\n",
       "</table>\n",
       "</div>"
      ],
      "text/plain": [
       "           Week C03132V03784       Luas Line     VALUE\n",
       "0  2019 Week 01            -  All Luas lines  549533.0\n",
       "1  2019 Week 01            1        Red line  274139.0\n",
       "2  2019 Week 01            2      Green line  275394.0\n",
       "3  2019 Week 02            -  All Luas lines  839022.0\n",
       "4  2019 Week 02            1        Red line  408199.0"
      ]
     },
     "execution_count": 5,
     "metadata": {},
     "output_type": "execute_result"
    }
   ],
   "source": [
    "#Dropping unnecessary columns\n",
    "df_ireland1.drop(columns = [\"STATISTIC\",\"Statistic Label\",\"TLIST(W1)\",\"UNIT\"], axis = 1, inplace = True)\n",
    "df_ireland1.head()"
   ]
  },
  {
   "cell_type": "code",
   "execution_count": 6,
   "id": "75700ef6",
   "metadata": {
    "scrolled": false
   },
   "outputs": [
    {
     "data": {
      "text/plain": [
       "Week             object\n",
       "C03132V03784     object\n",
       "Luas Line        object\n",
       "VALUE           float64\n",
       "dtype: object"
      ]
     },
     "execution_count": 6,
     "metadata": {},
     "output_type": "execute_result"
    }
   ],
   "source": [
    "#Examining the data types included in the dataset\n",
    "df_ireland1.dtypes"
   ]
  },
  {
   "cell_type": "markdown",
   "id": "66c106f7",
   "metadata": {},
   "source": [
    "It has been noticed the attribute `Week` holds relevant information, however, in the formast presented cannot be used properly, therefore splitting it in 2 in `Year` and `Week_Year` makes it more useful."
   ]
  },
  {
   "cell_type": "code",
   "execution_count": 7,
   "id": "3b42916a",
   "metadata": {
    "scrolled": true
   },
   "outputs": [
    {
     "data": {
      "text/html": [
       "<div>\n",
       "<style scoped>\n",
       "    .dataframe tbody tr th:only-of-type {\n",
       "        vertical-align: middle;\n",
       "    }\n",
       "\n",
       "    .dataframe tbody tr th {\n",
       "        vertical-align: top;\n",
       "    }\n",
       "\n",
       "    .dataframe thead th {\n",
       "        text-align: right;\n",
       "    }\n",
       "</style>\n",
       "<table border=\"1\" class=\"dataframe\">\n",
       "  <thead>\n",
       "    <tr style=\"text-align: right;\">\n",
       "      <th></th>\n",
       "      <th>C03132V03784</th>\n",
       "      <th>Luas Line</th>\n",
       "      <th>VALUE</th>\n",
       "      <th>Year</th>\n",
       "      <th>Week_Year</th>\n",
       "    </tr>\n",
       "  </thead>\n",
       "  <tbody>\n",
       "    <tr>\n",
       "      <th>0</th>\n",
       "      <td>-</td>\n",
       "      <td>All Luas lines</td>\n",
       "      <td>549533.0</td>\n",
       "      <td>2019</td>\n",
       "      <td>Week 01</td>\n",
       "    </tr>\n",
       "    <tr>\n",
       "      <th>1</th>\n",
       "      <td>1</td>\n",
       "      <td>Red line</td>\n",
       "      <td>274139.0</td>\n",
       "      <td>2019</td>\n",
       "      <td>Week 01</td>\n",
       "    </tr>\n",
       "    <tr>\n",
       "      <th>2</th>\n",
       "      <td>2</td>\n",
       "      <td>Green line</td>\n",
       "      <td>275394.0</td>\n",
       "      <td>2019</td>\n",
       "      <td>Week 01</td>\n",
       "    </tr>\n",
       "    <tr>\n",
       "      <th>3</th>\n",
       "      <td>-</td>\n",
       "      <td>All Luas lines</td>\n",
       "      <td>839022.0</td>\n",
       "      <td>2019</td>\n",
       "      <td>Week 02</td>\n",
       "    </tr>\n",
       "    <tr>\n",
       "      <th>4</th>\n",
       "      <td>1</td>\n",
       "      <td>Red line</td>\n",
       "      <td>408199.0</td>\n",
       "      <td>2019</td>\n",
       "      <td>Week 02</td>\n",
       "    </tr>\n",
       "    <tr>\n",
       "      <th>...</th>\n",
       "      <td>...</td>\n",
       "      <td>...</td>\n",
       "      <td>...</td>\n",
       "      <td>...</td>\n",
       "      <td>...</td>\n",
       "    </tr>\n",
       "    <tr>\n",
       "      <th>763</th>\n",
       "      <td>1</td>\n",
       "      <td>Red line</td>\n",
       "      <td>578178.0</td>\n",
       "      <td>2023</td>\n",
       "      <td>Week 43</td>\n",
       "    </tr>\n",
       "    <tr>\n",
       "      <th>764</th>\n",
       "      <td>2</td>\n",
       "      <td>Green line</td>\n",
       "      <td>528068.0</td>\n",
       "      <td>2023</td>\n",
       "      <td>Week 43</td>\n",
       "    </tr>\n",
       "    <tr>\n",
       "      <th>765</th>\n",
       "      <td>-</td>\n",
       "      <td>All Luas lines</td>\n",
       "      <td>949071.0</td>\n",
       "      <td>2023</td>\n",
       "      <td>Week 44</td>\n",
       "    </tr>\n",
       "    <tr>\n",
       "      <th>766</th>\n",
       "      <td>1</td>\n",
       "      <td>Red line</td>\n",
       "      <td>502054.0</td>\n",
       "      <td>2023</td>\n",
       "      <td>Week 44</td>\n",
       "    </tr>\n",
       "    <tr>\n",
       "      <th>767</th>\n",
       "      <td>2</td>\n",
       "      <td>Green line</td>\n",
       "      <td>447017.0</td>\n",
       "      <td>2023</td>\n",
       "      <td>Week 44</td>\n",
       "    </tr>\n",
       "  </tbody>\n",
       "</table>\n",
       "<p>768 rows × 5 columns</p>\n",
       "</div>"
      ],
      "text/plain": [
       "    C03132V03784       Luas Line     VALUE  Year Week_Year\n",
       "0              -  All Luas lines  549533.0  2019   Week 01\n",
       "1              1        Red line  274139.0  2019   Week 01\n",
       "2              2      Green line  275394.0  2019   Week 01\n",
       "3              -  All Luas lines  839022.0  2019   Week 02\n",
       "4              1        Red line  408199.0  2019   Week 02\n",
       "..           ...             ...       ...   ...       ...\n",
       "763            1        Red line  578178.0  2023   Week 43\n",
       "764            2      Green line  528068.0  2023   Week 43\n",
       "765            -  All Luas lines  949071.0  2023   Week 44\n",
       "766            1        Red line  502054.0  2023   Week 44\n",
       "767            2      Green line  447017.0  2023   Week 44\n",
       "\n",
       "[768 rows x 5 columns]"
      ]
     },
     "execution_count": 7,
     "metadata": {},
     "output_type": "execute_result"
    }
   ],
   "source": [
    "#Separating attribute [\"Week\"] into 2 attributes [\"Year\"] and [\"Week_Year\"]\n",
    "split = df_ireland1[\"Week\"].str.split(\" \", n = 1, expand = True)\n",
    "df_ireland1[\"Year\"] =  split[0]\n",
    "df_ireland1[\"Week_Year\"] =  split[1]\n",
    "df_ireland1.drop(columns = [\"Week\"], axis = 1, inplace = True)\n",
    "df_ireland1"
   ]
  },
  {
   "cell_type": "code",
   "execution_count": 8,
   "id": "efc3216f",
   "metadata": {
    "scrolled": false
   },
   "outputs": [
    {
     "data": {
      "text/html": [
       "<div>\n",
       "<style scoped>\n",
       "    .dataframe tbody tr th:only-of-type {\n",
       "        vertical-align: middle;\n",
       "    }\n",
       "\n",
       "    .dataframe tbody tr th {\n",
       "        vertical-align: top;\n",
       "    }\n",
       "\n",
       "    .dataframe thead th {\n",
       "        text-align: right;\n",
       "    }\n",
       "</style>\n",
       "<table border=\"1\" class=\"dataframe\">\n",
       "  <thead>\n",
       "    <tr style=\"text-align: right;\">\n",
       "      <th></th>\n",
       "      <th>Year</th>\n",
       "      <th>Week_Year</th>\n",
       "      <th>Luas Line</th>\n",
       "      <th>C03132V03784</th>\n",
       "      <th>VALUE</th>\n",
       "    </tr>\n",
       "  </thead>\n",
       "  <tbody>\n",
       "    <tr>\n",
       "      <th>0</th>\n",
       "      <td>2019</td>\n",
       "      <td>Week 01</td>\n",
       "      <td>All Luas lines</td>\n",
       "      <td>-</td>\n",
       "      <td>549533.0</td>\n",
       "    </tr>\n",
       "    <tr>\n",
       "      <th>1</th>\n",
       "      <td>2019</td>\n",
       "      <td>Week 01</td>\n",
       "      <td>Red line</td>\n",
       "      <td>1</td>\n",
       "      <td>274139.0</td>\n",
       "    </tr>\n",
       "    <tr>\n",
       "      <th>2</th>\n",
       "      <td>2019</td>\n",
       "      <td>Week 01</td>\n",
       "      <td>Green line</td>\n",
       "      <td>2</td>\n",
       "      <td>275394.0</td>\n",
       "    </tr>\n",
       "    <tr>\n",
       "      <th>3</th>\n",
       "      <td>2019</td>\n",
       "      <td>Week 02</td>\n",
       "      <td>All Luas lines</td>\n",
       "      <td>-</td>\n",
       "      <td>839022.0</td>\n",
       "    </tr>\n",
       "    <tr>\n",
       "      <th>4</th>\n",
       "      <td>2019</td>\n",
       "      <td>Week 02</td>\n",
       "      <td>Red line</td>\n",
       "      <td>1</td>\n",
       "      <td>408199.0</td>\n",
       "    </tr>\n",
       "    <tr>\n",
       "      <th>...</th>\n",
       "      <td>...</td>\n",
       "      <td>...</td>\n",
       "      <td>...</td>\n",
       "      <td>...</td>\n",
       "      <td>...</td>\n",
       "    </tr>\n",
       "    <tr>\n",
       "      <th>763</th>\n",
       "      <td>2023</td>\n",
       "      <td>Week 43</td>\n",
       "      <td>Red line</td>\n",
       "      <td>1</td>\n",
       "      <td>578178.0</td>\n",
       "    </tr>\n",
       "    <tr>\n",
       "      <th>764</th>\n",
       "      <td>2023</td>\n",
       "      <td>Week 43</td>\n",
       "      <td>Green line</td>\n",
       "      <td>2</td>\n",
       "      <td>528068.0</td>\n",
       "    </tr>\n",
       "    <tr>\n",
       "      <th>765</th>\n",
       "      <td>2023</td>\n",
       "      <td>Week 44</td>\n",
       "      <td>All Luas lines</td>\n",
       "      <td>-</td>\n",
       "      <td>949071.0</td>\n",
       "    </tr>\n",
       "    <tr>\n",
       "      <th>766</th>\n",
       "      <td>2023</td>\n",
       "      <td>Week 44</td>\n",
       "      <td>Red line</td>\n",
       "      <td>1</td>\n",
       "      <td>502054.0</td>\n",
       "    </tr>\n",
       "    <tr>\n",
       "      <th>767</th>\n",
       "      <td>2023</td>\n",
       "      <td>Week 44</td>\n",
       "      <td>Green line</td>\n",
       "      <td>2</td>\n",
       "      <td>447017.0</td>\n",
       "    </tr>\n",
       "  </tbody>\n",
       "</table>\n",
       "<p>768 rows × 5 columns</p>\n",
       "</div>"
      ],
      "text/plain": [
       "     Year Week_Year       Luas Line C03132V03784     VALUE\n",
       "0    2019   Week 01  All Luas lines            -  549533.0\n",
       "1    2019   Week 01        Red line            1  274139.0\n",
       "2    2019   Week 01      Green line            2  275394.0\n",
       "3    2019   Week 02  All Luas lines            -  839022.0\n",
       "4    2019   Week 02        Red line            1  408199.0\n",
       "..    ...       ...             ...          ...       ...\n",
       "763  2023   Week 43        Red line            1  578178.0\n",
       "764  2023   Week 43      Green line            2  528068.0\n",
       "765  2023   Week 44  All Luas lines            -  949071.0\n",
       "766  2023   Week 44        Red line            1  502054.0\n",
       "767  2023   Week 44      Green line            2  447017.0\n",
       "\n",
       "[768 rows x 5 columns]"
      ]
     },
     "execution_count": 8,
     "metadata": {},
     "output_type": "execute_result"
    }
   ],
   "source": [
    "#Reindexing the dataset for understanding purposes\n",
    "df_ireland1 = df_ireland1[[\"Year\",\"Week_Year\",\"Luas Line\",\"C03132V03784\",\"VALUE\"]]\n",
    "df_ireland1"
   ]
  },
  {
   "cell_type": "markdown",
   "id": "881691b2",
   "metadata": {},
   "source": [
    "The method `describe()` provides a general statistic analysis "
   ]
  },
  {
   "cell_type": "code",
   "execution_count": 9,
   "id": "36784736",
   "metadata": {},
   "outputs": [
    {
     "data": {
      "text/html": [
       "<div>\n",
       "<style scoped>\n",
       "    .dataframe tbody tr th:only-of-type {\n",
       "        vertical-align: middle;\n",
       "    }\n",
       "\n",
       "    .dataframe tbody tr th {\n",
       "        vertical-align: top;\n",
       "    }\n",
       "\n",
       "    .dataframe thead th {\n",
       "        text-align: right;\n",
       "    }\n",
       "</style>\n",
       "<table border=\"1\" class=\"dataframe\">\n",
       "  <thead>\n",
       "    <tr style=\"text-align: right;\">\n",
       "      <th></th>\n",
       "      <th>VALUE</th>\n",
       "    </tr>\n",
       "  </thead>\n",
       "  <tbody>\n",
       "    <tr>\n",
       "      <th>count</th>\n",
       "      <td>7.590000e+02</td>\n",
       "    </tr>\n",
       "    <tr>\n",
       "      <th>mean</th>\n",
       "      <td>4.378549e+05</td>\n",
       "    </tr>\n",
       "    <tr>\n",
       "      <th>std</th>\n",
       "      <td>2.669235e+05</td>\n",
       "    </tr>\n",
       "    <tr>\n",
       "      <th>min</th>\n",
       "      <td>1.972700e+04</td>\n",
       "    </tr>\n",
       "    <tr>\n",
       "      <th>25%</th>\n",
       "      <td>2.289615e+05</td>\n",
       "    </tr>\n",
       "    <tr>\n",
       "      <th>50%</th>\n",
       "      <td>4.204630e+05</td>\n",
       "    </tr>\n",
       "    <tr>\n",
       "      <th>75%</th>\n",
       "      <td>5.307355e+05</td>\n",
       "    </tr>\n",
       "    <tr>\n",
       "      <th>max</th>\n",
       "      <td>1.173473e+06</td>\n",
       "    </tr>\n",
       "  </tbody>\n",
       "</table>\n",
       "</div>"
      ],
      "text/plain": [
       "              VALUE\n",
       "count  7.590000e+02\n",
       "mean   4.378549e+05\n",
       "std    2.669235e+05\n",
       "min    1.972700e+04\n",
       "25%    2.289615e+05\n",
       "50%    4.204630e+05\n",
       "75%    5.307355e+05\n",
       "max    1.173473e+06"
      ]
     },
     "execution_count": 9,
     "metadata": {},
     "output_type": "execute_result"
    }
   ],
   "source": [
    "#Examining general statistics parameters of the dataset\n",
    "df_ireland1.describe()"
   ]
  },
  {
   "cell_type": "code",
   "execution_count": 10,
   "id": "4ba2570a",
   "metadata": {
    "scrolled": true
   },
   "outputs": [
    {
     "name": "stdout",
     "output_type": "stream",
     "text": [
      "<class 'pandas.core.frame.DataFrame'>\n",
      "RangeIndex: 768 entries, 0 to 767\n",
      "Data columns (total 5 columns):\n",
      " #   Column        Non-Null Count  Dtype  \n",
      "---  ------        --------------  -----  \n",
      " 0   Year          768 non-null    object \n",
      " 1   Week_Year     768 non-null    object \n",
      " 2   Luas Line     768 non-null    object \n",
      " 3   C03132V03784  768 non-null    object \n",
      " 4   VALUE         759 non-null    float64\n",
      "dtypes: float64(1), object(4)\n",
      "memory usage: 30.1+ KB\n"
     ]
    }
   ],
   "source": [
    "#Having a look at the general information of the dataset\n",
    "df_ireland1.info()"
   ]
  },
  {
   "cell_type": "markdown",
   "id": "f5810611",
   "metadata": {},
   "source": [
    "Null values `isna()` and duplicates `duplicates()` are one of the revision that have to be made to any dataset since they have an impact on the results."
   ]
  },
  {
   "cell_type": "code",
   "execution_count": 12,
   "id": "9642ab10",
   "metadata": {},
   "outputs": [
    {
     "name": "stdout",
     "output_type": "stream",
     "text": [
      "Duplicated values on dataset:\n",
      "Year            0\n",
      "Week_Year       0\n",
      "Luas Line       0\n",
      "C03132V03784    0\n",
      "VALUE           9\n",
      "dtype: int64\n",
      "\n",
      "Duplicated values on dataset: 0\n"
     ]
    }
   ],
   "source": [
    "#Confirming the presence or not of null values\n",
    "print(f'Duplicated values on dataset:\\n{df_ireland1.isna().sum()}\\n')\n",
    "\n",
    "#Confirming the presence or not of duplicated values\n",
    "print(f'Duplicated values on dataset: {df_ireland1.duplicated().sum()}')"
   ]
  },
  {
   "cell_type": "code",
   "execution_count": 13,
   "id": "82cd9f23",
   "metadata": {
    "scrolled": false
   },
   "outputs": [
    {
     "data": {
      "text/html": [
       "<div>\n",
       "<style scoped>\n",
       "    .dataframe tbody tr th:only-of-type {\n",
       "        vertical-align: middle;\n",
       "    }\n",
       "\n",
       "    .dataframe tbody tr th {\n",
       "        vertical-align: top;\n",
       "    }\n",
       "\n",
       "    .dataframe thead th {\n",
       "        text-align: right;\n",
       "    }\n",
       "</style>\n",
       "<table border=\"1\" class=\"dataframe\">\n",
       "  <thead>\n",
       "    <tr style=\"text-align: right;\">\n",
       "      <th></th>\n",
       "      <th>Year</th>\n",
       "      <th>Week_Year</th>\n",
       "      <th>Luas Line</th>\n",
       "      <th>C03132V03784</th>\n",
       "      <th>VALUE</th>\n",
       "    </tr>\n",
       "  </thead>\n",
       "  <tbody>\n",
       "    <tr>\n",
       "      <th>156</th>\n",
       "      <td>2019</td>\n",
       "      <td>Week 53</td>\n",
       "      <td>All Luas lines</td>\n",
       "      <td>-</td>\n",
       "      <td>NaN</td>\n",
       "    </tr>\n",
       "    <tr>\n",
       "      <th>157</th>\n",
       "      <td>2019</td>\n",
       "      <td>Week 53</td>\n",
       "      <td>Red line</td>\n",
       "      <td>1</td>\n",
       "      <td>NaN</td>\n",
       "    </tr>\n",
       "    <tr>\n",
       "      <th>158</th>\n",
       "      <td>2019</td>\n",
       "      <td>Week 53</td>\n",
       "      <td>Green line</td>\n",
       "      <td>2</td>\n",
       "      <td>NaN</td>\n",
       "    </tr>\n",
       "    <tr>\n",
       "      <th>474</th>\n",
       "      <td>2021</td>\n",
       "      <td>Week 53</td>\n",
       "      <td>All Luas lines</td>\n",
       "      <td>-</td>\n",
       "      <td>NaN</td>\n",
       "    </tr>\n",
       "    <tr>\n",
       "      <th>475</th>\n",
       "      <td>2021</td>\n",
       "      <td>Week 53</td>\n",
       "      <td>Red line</td>\n",
       "      <td>1</td>\n",
       "      <td>NaN</td>\n",
       "    </tr>\n",
       "    <tr>\n",
       "      <th>476</th>\n",
       "      <td>2021</td>\n",
       "      <td>Week 53</td>\n",
       "      <td>Green line</td>\n",
       "      <td>2</td>\n",
       "      <td>NaN</td>\n",
       "    </tr>\n",
       "    <tr>\n",
       "      <th>633</th>\n",
       "      <td>2022</td>\n",
       "      <td>Week 53</td>\n",
       "      <td>All Luas lines</td>\n",
       "      <td>-</td>\n",
       "      <td>NaN</td>\n",
       "    </tr>\n",
       "    <tr>\n",
       "      <th>634</th>\n",
       "      <td>2022</td>\n",
       "      <td>Week 53</td>\n",
       "      <td>Red line</td>\n",
       "      <td>1</td>\n",
       "      <td>NaN</td>\n",
       "    </tr>\n",
       "    <tr>\n",
       "      <th>635</th>\n",
       "      <td>2022</td>\n",
       "      <td>Week 53</td>\n",
       "      <td>Green line</td>\n",
       "      <td>2</td>\n",
       "      <td>NaN</td>\n",
       "    </tr>\n",
       "  </tbody>\n",
       "</table>\n",
       "</div>"
      ],
      "text/plain": [
       "     Year Week_Year       Luas Line C03132V03784  VALUE\n",
       "156  2019   Week 53  All Luas lines            -    NaN\n",
       "157  2019   Week 53        Red line            1    NaN\n",
       "158  2019   Week 53      Green line            2    NaN\n",
       "474  2021   Week 53  All Luas lines            -    NaN\n",
       "475  2021   Week 53        Red line            1    NaN\n",
       "476  2021   Week 53      Green line            2    NaN\n",
       "633  2022   Week 53  All Luas lines            -    NaN\n",
       "634  2022   Week 53        Red line            1    NaN\n",
       "635  2022   Week 53      Green line            2    NaN"
      ]
     },
     "execution_count": 13,
     "metadata": {},
     "output_type": "execute_result"
    }
   ],
   "source": [
    "#Identifying the missing values to make a decision of how to proceed with it\n",
    "null_data = df_ireland1[df_ireland1.isnull().any(axis=1)]\n",
    "null_data"
   ]
  },
  {
   "cell_type": "markdown",
   "id": "46c3beb0",
   "metadata": {},
   "source": [
    "All the missing values seem to belong to the record of the `Week 53`  of the year. The years shown above are not leap years, therefore, the `Week 53` did not exist explaining why these records are missing."
   ]
  },
  {
   "cell_type": "code",
   "execution_count": 14,
   "id": "115229c5",
   "metadata": {
    "scrolled": true
   },
   "outputs": [
    {
     "data": {
      "text/html": [
       "<div>\n",
       "<style scoped>\n",
       "    .dataframe tbody tr th:only-of-type {\n",
       "        vertical-align: middle;\n",
       "    }\n",
       "\n",
       "    .dataframe tbody tr th {\n",
       "        vertical-align: top;\n",
       "    }\n",
       "\n",
       "    .dataframe thead th {\n",
       "        text-align: right;\n",
       "    }\n",
       "</style>\n",
       "<table border=\"1\" class=\"dataframe\">\n",
       "  <thead>\n",
       "    <tr style=\"text-align: right;\">\n",
       "      <th></th>\n",
       "      <th>Year</th>\n",
       "      <th>Week_Year</th>\n",
       "      <th>Luas_line</th>\n",
       "      <th>Luas_line_encoded</th>\n",
       "      <th>Passengers</th>\n",
       "    </tr>\n",
       "  </thead>\n",
       "  <tbody>\n",
       "    <tr>\n",
       "      <th>0</th>\n",
       "      <td>2019</td>\n",
       "      <td>Week 01</td>\n",
       "      <td>All Luas lines</td>\n",
       "      <td>-</td>\n",
       "      <td>549533.0</td>\n",
       "    </tr>\n",
       "    <tr>\n",
       "      <th>1</th>\n",
       "      <td>2019</td>\n",
       "      <td>Week 01</td>\n",
       "      <td>Red line</td>\n",
       "      <td>1</td>\n",
       "      <td>274139.0</td>\n",
       "    </tr>\n",
       "    <tr>\n",
       "      <th>2</th>\n",
       "      <td>2019</td>\n",
       "      <td>Week 01</td>\n",
       "      <td>Green line</td>\n",
       "      <td>2</td>\n",
       "      <td>275394.0</td>\n",
       "    </tr>\n",
       "    <tr>\n",
       "      <th>3</th>\n",
       "      <td>2019</td>\n",
       "      <td>Week 02</td>\n",
       "      <td>All Luas lines</td>\n",
       "      <td>-</td>\n",
       "      <td>839022.0</td>\n",
       "    </tr>\n",
       "    <tr>\n",
       "      <th>4</th>\n",
       "      <td>2019</td>\n",
       "      <td>Week 02</td>\n",
       "      <td>Red line</td>\n",
       "      <td>1</td>\n",
       "      <td>408199.0</td>\n",
       "    </tr>\n",
       "    <tr>\n",
       "      <th>...</th>\n",
       "      <td>...</td>\n",
       "      <td>...</td>\n",
       "      <td>...</td>\n",
       "      <td>...</td>\n",
       "      <td>...</td>\n",
       "    </tr>\n",
       "    <tr>\n",
       "      <th>763</th>\n",
       "      <td>2023</td>\n",
       "      <td>Week 43</td>\n",
       "      <td>Red line</td>\n",
       "      <td>1</td>\n",
       "      <td>578178.0</td>\n",
       "    </tr>\n",
       "    <tr>\n",
       "      <th>764</th>\n",
       "      <td>2023</td>\n",
       "      <td>Week 43</td>\n",
       "      <td>Green line</td>\n",
       "      <td>2</td>\n",
       "      <td>528068.0</td>\n",
       "    </tr>\n",
       "    <tr>\n",
       "      <th>765</th>\n",
       "      <td>2023</td>\n",
       "      <td>Week 44</td>\n",
       "      <td>All Luas lines</td>\n",
       "      <td>-</td>\n",
       "      <td>949071.0</td>\n",
       "    </tr>\n",
       "    <tr>\n",
       "      <th>766</th>\n",
       "      <td>2023</td>\n",
       "      <td>Week 44</td>\n",
       "      <td>Red line</td>\n",
       "      <td>1</td>\n",
       "      <td>502054.0</td>\n",
       "    </tr>\n",
       "    <tr>\n",
       "      <th>767</th>\n",
       "      <td>2023</td>\n",
       "      <td>Week 44</td>\n",
       "      <td>Green line</td>\n",
       "      <td>2</td>\n",
       "      <td>447017.0</td>\n",
       "    </tr>\n",
       "  </tbody>\n",
       "</table>\n",
       "<p>768 rows × 5 columns</p>\n",
       "</div>"
      ],
      "text/plain": [
       "     Year Week_Year       Luas_line Luas_line_encoded  Passengers\n",
       "0    2019   Week 01  All Luas lines                 -    549533.0\n",
       "1    2019   Week 01        Red line                 1    274139.0\n",
       "2    2019   Week 01      Green line                 2    275394.0\n",
       "3    2019   Week 02  All Luas lines                 -    839022.0\n",
       "4    2019   Week 02        Red line                 1    408199.0\n",
       "..    ...       ...             ...               ...         ...\n",
       "763  2023   Week 43        Red line                 1    578178.0\n",
       "764  2023   Week 43      Green line                 2    528068.0\n",
       "765  2023   Week 44  All Luas lines                 -    949071.0\n",
       "766  2023   Week 44        Red line                 1    502054.0\n",
       "767  2023   Week 44      Green line                 2    447017.0\n",
       "\n",
       "[768 rows x 5 columns]"
      ]
     },
     "execution_count": 14,
     "metadata": {},
     "output_type": "execute_result"
    }
   ],
   "source": [
    "#Renaming columns for better understanding\n",
    "df_ireland1.rename(columns = {\"Luas Line\": \"Luas_line\",\"C03132V03784\": \"Luas_line_encoded\", \"Days of Week\": \"Week_day\", \"VALUE\": \"Passengers\"}, inplace = True)\n",
    "df_ireland1"
   ]
  },
  {
   "cell_type": "markdown",
   "id": "38124aaf",
   "metadata": {},
   "source": [
    "Getting more insights on each attribute performing the `unique()` and `nununique()` functions."
   ]
  },
  {
   "cell_type": "code",
   "execution_count": 15,
   "id": "afc66f01",
   "metadata": {},
   "outputs": [],
   "source": [
    "#Creating a function to find the unique values in x dataframe\n",
    "def dataframe_uniques(dataset):\n",
    "    columns = dataset.columns\n",
    "    for column in columns:\n",
    "        print(f'{column}: {dataset[column].unique()}')\n",
    "        print(f'{column}: {dataset[column].nunique()}\\n')"
   ]
  },
  {
   "cell_type": "code",
   "execution_count": 16,
   "id": "ccc3a588",
   "metadata": {
    "scrolled": true
   },
   "outputs": [
    {
     "name": "stdout",
     "output_type": "stream",
     "text": [
      "Year: ['2019' '2020' '2021' '2022' '2023']\n",
      "Year: 5\n",
      "\n",
      "Week_Year: ['Week 01' 'Week 02' 'Week 03' 'Week 04' 'Week 05' 'Week 06' 'Week 07'\n",
      " 'Week 08' 'Week 09' 'Week 10' 'Week 11' 'Week 12' 'Week 13' 'Week 14'\n",
      " 'Week 15' 'Week 16' 'Week 17' 'Week 18' 'Week 19' 'Week 20' 'Week 21'\n",
      " 'Week 22' 'Week 23' 'Week 24' 'Week 25' 'Week 26' 'Week 27' 'Week 28'\n",
      " 'Week 29' 'Week 30' 'Week 31' 'Week 32' 'Week 33' 'Week 34' 'Week 35'\n",
      " 'Week 36' 'Week 37' 'Week 38' 'Week 39' 'Week 40' 'Week 41' 'Week 42'\n",
      " 'Week 43' 'Week 44' 'Week 45' 'Week 46' 'Week 47' 'Week 48' 'Week 49'\n",
      " 'Week 50' 'Week 51' 'Week 52' 'Week 53']\n",
      "Week_Year: 53\n",
      "\n",
      "Luas_line: ['All Luas lines' 'Red line' 'Green line']\n",
      "Luas_line: 3\n",
      "\n",
      "Luas_line_encoded: ['-' '1' '2']\n",
      "Luas_line_encoded: 3\n",
      "\n",
      "Passengers: [ 549533.  274139.  275394.  839022.  408199.  430823.  819359.  376785.\n",
      "  442574.  860745.  405224.  455521.  912795.  441197.  471598.  912612.\n",
      "  449398.  463215.  940476.  466795.  473682.  952291.  480974.  471317.\n",
      "  929391.  468299.  461093.  941919.  475467.  466451.  924998.  442796.\n",
      "  482201.  868205.  440137.  428068. 1003871.  516298.  487573.  933575.\n",
      "  457616.  475959.  945662.  469346.  476316.  842186.  426377.  415809.\n",
      "  801296.  408238.  393058.  919255.  453764.  465491.  817933.  411312.\n",
      "  406621.  904983.  446595.  458388.  902415.  455929.  446486.  973025.\n",
      "  502622.  470403.  826269.  422419.  403850.  925516.  471816.  453700.\n",
      "  883208.  444675.  438533.  905636.  457342.  448295.  982288.  498818.\n",
      "  483470.  919158.  478360.  440798.  903958.  452205.  451753.  926491.\n",
      "  469191.  457300.  832452.  422939.  409513.  807393.  423004.  384389.\n",
      "  868677.  445915.  422762.  862939.  448568.  414371.  897355.  442634.\n",
      "  454721.  933362.  454849.  478513.  969818.  469489.  500329.  990123.\n",
      "  484461.  505662. 1031937.  515967.  515970.  986159.  484015.  502144.\n",
      " 1054749.  534986.  519763. 1014017.  499959.  514057. 1028522.  502241.\n",
      "  526281.  924586.  471553.  453032. 1019705.  497796.  521908. 1038825.\n",
      "  514523.  524302. 1062275.  530882.  531392. 1113668.  544022.  569646.\n",
      " 1080791.  519257.  561534. 1151098.  556229.  594869. 1173473.  550775.\n",
      "  622699.  538511.  259211.  279301.      nan  602998.  304607.  298391.\n",
      "  828455.  401704.  426751.  889804.  436427.  453378.  904841.  438798.\n",
      "  466044.  942828.  460495.  482333.  920121.  460914.  459207.  911461.\n",
      "  448811.  462651.  923869.  461085.  462784.  898856.  437082.  461774.\n",
      "  914613.  472655.  441958.  684508.  347419.  337090.  172062.   94591.\n",
      "   77471.  109378.   64188.   45190.   51655.   30357.   21298.   51695.\n",
      "   31902.   19793.   49393.   29666.   19727.   55246.   33589.   21657.\n",
      "   53321.   30363.   22958.   62327.   37373.   24953.   70288.   42233.\n",
      "   28056.   97318.   57828.   39490.  121645.   70711.   50934.  116454.\n",
      "   66098.   50356.  162187.   91498.   70689.  198036.  104738.   93298.\n",
      "  212109.  111503.  100606.  260302.  132545.  127756.  272181.  144676.\n",
      "  127505.  281255.  147109.  134146.  299837.  153043.  146794.  329979.\n",
      "  175329.  154650.  324687.  173546.  151141.  327981.  166560.  161421.\n",
      "  332762.  176256.  156507.  352046.  183972.  168074.  364177.  181996.\n",
      "  182181.  385884.  196461.  189424.  359756.  183897.  175859.  322384.\n",
      "  158777.  163607.  334649.  167616.  167033.  350028.  174748.  175280.\n",
      "  338183.  164088.  174095.  283638.  145295.  138343.  186287.  102521.\n",
      "   83766.  227605.  118170.  109435.  237979.  124527.  113452.  244276.\n",
      "  129443.  114833.  259772.  133829.  125944.  394613.  195204.  199409.\n",
      "  443719.  214437.  229282.  460029.  223291.  236739.  276844.  135020.\n",
      "  141825.  141651.   71440.   70211.  154882.   86518.   68364.  147908.\n",
      "   83202.   64705.  150280.   84576.   65704.  148633.   84355.   64278.\n",
      "  156469.   87285.   69184.  154595.   86266.   68329.  158958.   85601.\n",
      "   73357.  173458.   95896.   77563.  182546.   99907.   82639.  182343.\n",
      "  100098.   82245.  184592.   97816.   86775.  194458.  103504.   90954.\n",
      "  193222.  104351.   88872.  175429.   94942.   80488.  232495.  118595.\n",
      "  113900.  240221.  126802.  113419.  237120.  125669.  111451.  216926.\n",
      "  112233.  104694.  304059.  157788.  146271.  356075.  181324.  174751.\n",
      "  388279.  202202.  186077.  381468.  210560.  170908.  376282.  196288.\n",
      "  179995.  414980.  219396.  195584.  413187.  218088.  195099.  408603.\n",
      "  218863.  189741.  403259.  216285.  186974.  417819.  225848.  191971.\n",
      "  416359.  228641.  187718.  391588.  201734.  189854.  386208.  203388.\n",
      "  182820.  430283.  231872.  198411.  441304.  235705.  205599.  462372.\n",
      "  239564.  222808.  456687.  230456.  226231.  490349.  245380.  244968.\n",
      "  505786.  249168.  256618.  552233.  268040.  284193.  551254.  270932.\n",
      "  280322.  592664.  290380.  302283.  575688.  262502.  313186.  606775.\n",
      "  301424.  305350.  546048.  279174.  266874.  616810.  308166.  308644.\n",
      "  630247.  310262.  319985.  617761.  306977.  310783.  613392.  309178.\n",
      "  304214.  597259.  300053.  297205.  550174.  281430.  268744.  649573.\n",
      "  327777.  321796.  403994.  202322.  201673.  278203.  148925.  129279.\n",
      "  345593.  184047.  161546.  433914.  225426.  208488.  462831.  241094.\n",
      "  221737.  537929.  274293.  263636.  571873.  293209.  278664.  586898.\n",
      "  298548.  288350.  579835.  295635.  284200.  577293.  302427.  274866.\n",
      "  607075.  319517.  287557.  590952.  316221.  274731.  576609.  314256.\n",
      "  262354.  603392.  310281.  293111.  632821.  337105.  295716.  640207.\n",
      "  333218.  306988.  619031.  345061.  273971.  617520.  340040.  277480.\n",
      "  642988.  326313.  316675.  650527.  336415.  314112.  701703.  367620.\n",
      "  334083.  702050.  364591.  337459.  736455.  400252.  336203.  748966.\n",
      "  414633.  334333.  654577.  351030.  303546.  746758.  403216.  343542.\n",
      "  768947.  425115.  343832.  779963.  401680.  378283.  761521.  402776.\n",
      "  358745.  739605.  384792.  354813.  739584.  386315.  353269.  723458.\n",
      "  381066.  342392.  689408.  370788.  318620.  716924.  385414.  331511.\n",
      "  742734.  394475.  348259.  778106.  407670.  370436.  749341.  394870.\n",
      "  354471.  839027.  441116.  397912.  890854.  464639.  426215.  915330.\n",
      "  468498.  446831.  966770.  495114.  471656.  976883.  499121.  477762.\n",
      "  973313.  490773.  482540.  988465.  507315.  481150. 1024107.  527175.\n",
      "  496932.  892530.  472903.  419627. 1027304.  530589.  496715. 1036079.\n",
      "  535652.  500427. 1039314.  535559.  503755. 1038722.  547010.  491713.\n",
      " 1035628.  537455.  498173. 1060205.  526929.  533275.  832231.  420463.\n",
      "  411768.  560483.  289972.  270512.  711191.  371194.  339997.  828385.\n",
      "  430666.  397719.  851892.  440142.  411750.  948591.  486675.  461916.\n",
      "  952736.  489532.  463204.  957284.  497428.  459856.  968927.  500579.\n",
      "  468348.  949241.  491496.  457745.  887706.  479445.  408261.  933919.\n",
      "  502781.  431138.  942682.  505332.  437350.  971374.  507092.  464282.\n",
      "  894947.  482842.  412105.  830253.  476106.  354148.  936981.  493366.\n",
      "  443616.  913737.  495522.  418215.  885361.  483525.  401836.  939287.\n",
      "  496075.  443212.  934041.  487287.  446753.  942106.  598293.  343813.\n",
      "  712764.  383243.  329521.  845530.  465542.  379988.  908491.  482633.\n",
      "  425858.  942501.  510176.  432325.  965830.  525000.  440830.  917233.\n",
      "  501656.  415577.  854628.  458273.  396355.  866913.  463673.  403240.\n",
      "  898925.  490187.  408738.  807150.  466708.  340441.  773935.  437277.\n",
      "  336659.  830665.  449135.  381530.  900531.  495211.  405320.  844129.\n",
      "  432251.  411878.  898741.  465836.  432905.  907481.  462007.  445474.\n",
      " 1031691.  533098.  498593. 1013117.  512536.  500581. 1050425.  534463.\n",
      "  515962. 1045716.  532162.  513554. 1085573.  571365.  514208. 1106246.\n",
      "  578178.  528068.  949071.  502054.  447017.]\n",
      "Passengers: 756\n",
      "\n"
     ]
    }
   ],
   "source": [
    "dataframe_uniques(df_ireland1)"
   ]
  },
  {
   "cell_type": "markdown",
   "id": "6bf18a64",
   "metadata": {},
   "source": [
    "After getting the uniques per attribute it can be conclude the following:\n",
    "- The dataset contains record of 5 years in which just 2020 is a leap year containing 53 weeks.\n",
    "- It is important to mention that in the attribute `Luas Line` the dataset has data for `All Luas Lines`, `Red line` and `Green line`.The dataset has to be separated and least in two `All Luas lines` and leave `Red line` and `Green line` together or separate them in 2 depending on the objective.\n",
    "- The attribute `Line_encoded` contains a unique value of `-` which can be related to one type of `Luas Line`, however is not useful in this way, it has to be edited."
   ]
  },
  {
   "cell_type": "code",
   "execution_count": 17,
   "id": "7ce85080",
   "metadata": {
    "scrolled": true
   },
   "outputs": [
    {
     "data": {
      "text/html": [
       "<div>\n",
       "<style scoped>\n",
       "    .dataframe tbody tr th:only-of-type {\n",
       "        vertical-align: middle;\n",
       "    }\n",
       "\n",
       "    .dataframe tbody tr th {\n",
       "        vertical-align: top;\n",
       "    }\n",
       "\n",
       "    .dataframe thead th {\n",
       "        text-align: right;\n",
       "    }\n",
       "</style>\n",
       "<table border=\"1\" class=\"dataframe\">\n",
       "  <thead>\n",
       "    <tr style=\"text-align: right;\">\n",
       "      <th></th>\n",
       "      <th>Year</th>\n",
       "      <th>Week_Year</th>\n",
       "      <th>Luas_line</th>\n",
       "      <th>Luas_line_encoded</th>\n",
       "      <th>Passengers</th>\n",
       "    </tr>\n",
       "  </thead>\n",
       "  <tbody>\n",
       "    <tr>\n",
       "      <th>0</th>\n",
       "      <td>2019</td>\n",
       "      <td>Week 01</td>\n",
       "      <td>All Luas lines</td>\n",
       "      <td>-</td>\n",
       "      <td>549533.0</td>\n",
       "    </tr>\n",
       "    <tr>\n",
       "      <th>1</th>\n",
       "      <td>2019</td>\n",
       "      <td>Week 01</td>\n",
       "      <td>Red line</td>\n",
       "      <td>1</td>\n",
       "      <td>274139.0</td>\n",
       "    </tr>\n",
       "    <tr>\n",
       "      <th>2</th>\n",
       "      <td>2019</td>\n",
       "      <td>Week 01</td>\n",
       "      <td>Green line</td>\n",
       "      <td>2</td>\n",
       "      <td>275394.0</td>\n",
       "    </tr>\n",
       "    <tr>\n",
       "      <th>3</th>\n",
       "      <td>2019</td>\n",
       "      <td>Week 02</td>\n",
       "      <td>All Luas lines</td>\n",
       "      <td>-</td>\n",
       "      <td>839022.0</td>\n",
       "    </tr>\n",
       "    <tr>\n",
       "      <th>4</th>\n",
       "      <td>2019</td>\n",
       "      <td>Week 02</td>\n",
       "      <td>Red line</td>\n",
       "      <td>1</td>\n",
       "      <td>408199.0</td>\n",
       "    </tr>\n",
       "    <tr>\n",
       "      <th>...</th>\n",
       "      <td>...</td>\n",
       "      <td>...</td>\n",
       "      <td>...</td>\n",
       "      <td>...</td>\n",
       "      <td>...</td>\n",
       "    </tr>\n",
       "    <tr>\n",
       "      <th>763</th>\n",
       "      <td>2023</td>\n",
       "      <td>Week 43</td>\n",
       "      <td>Red line</td>\n",
       "      <td>1</td>\n",
       "      <td>578178.0</td>\n",
       "    </tr>\n",
       "    <tr>\n",
       "      <th>764</th>\n",
       "      <td>2023</td>\n",
       "      <td>Week 43</td>\n",
       "      <td>Green line</td>\n",
       "      <td>2</td>\n",
       "      <td>528068.0</td>\n",
       "    </tr>\n",
       "    <tr>\n",
       "      <th>765</th>\n",
       "      <td>2023</td>\n",
       "      <td>Week 44</td>\n",
       "      <td>All Luas lines</td>\n",
       "      <td>-</td>\n",
       "      <td>949071.0</td>\n",
       "    </tr>\n",
       "    <tr>\n",
       "      <th>766</th>\n",
       "      <td>2023</td>\n",
       "      <td>Week 44</td>\n",
       "      <td>Red line</td>\n",
       "      <td>1</td>\n",
       "      <td>502054.0</td>\n",
       "    </tr>\n",
       "    <tr>\n",
       "      <th>767</th>\n",
       "      <td>2023</td>\n",
       "      <td>Week 44</td>\n",
       "      <td>Green line</td>\n",
       "      <td>2</td>\n",
       "      <td>447017.0</td>\n",
       "    </tr>\n",
       "  </tbody>\n",
       "</table>\n",
       "<p>768 rows × 5 columns</p>\n",
       "</div>"
      ],
      "text/plain": [
       "     Year Week_Year       Luas_line Luas_line_encoded  Passengers\n",
       "0    2019   Week 01  All Luas lines                 -    549533.0\n",
       "1    2019   Week 01        Red line                 1    274139.0\n",
       "2    2019   Week 01      Green line                 2    275394.0\n",
       "3    2019   Week 02  All Luas lines                 -    839022.0\n",
       "4    2019   Week 02        Red line                 1    408199.0\n",
       "..    ...       ...             ...               ...         ...\n",
       "763  2023   Week 43        Red line                 1    578178.0\n",
       "764  2023   Week 43      Green line                 2    528068.0\n",
       "765  2023   Week 44  All Luas lines                 -    949071.0\n",
       "766  2023   Week 44        Red line                 1    502054.0\n",
       "767  2023   Week 44      Green line                 2    447017.0\n",
       "\n",
       "[768 rows x 5 columns]"
      ]
     },
     "execution_count": 17,
     "metadata": {},
     "output_type": "execute_result"
    }
   ],
   "source": [
    "#Checking how many weeks have been recorded for the year 2023\n",
    "df_ireland1.loc[df_ireland1[\"Year\"] == 2023]\n",
    "df_ireland1"
   ]
  },
  {
   "cell_type": "code",
   "execution_count": 18,
   "id": "882a9984",
   "metadata": {
    "scrolled": true
   },
   "outputs": [
    {
     "data": {
      "text/html": [
       "<div>\n",
       "<style scoped>\n",
       "    .dataframe tbody tr th:only-of-type {\n",
       "        vertical-align: middle;\n",
       "    }\n",
       "\n",
       "    .dataframe tbody tr th {\n",
       "        vertical-align: top;\n",
       "    }\n",
       "\n",
       "    .dataframe thead th {\n",
       "        text-align: right;\n",
       "    }\n",
       "</style>\n",
       "<table border=\"1\" class=\"dataframe\">\n",
       "  <thead>\n",
       "    <tr style=\"text-align: right;\">\n",
       "      <th></th>\n",
       "      <th>Year</th>\n",
       "      <th>Week_Year</th>\n",
       "      <th>Luas_line</th>\n",
       "      <th>Luas_line_encoded</th>\n",
       "      <th>Passengers</th>\n",
       "    </tr>\n",
       "  </thead>\n",
       "  <tbody>\n",
       "    <tr>\n",
       "      <th>0</th>\n",
       "      <td>2019</td>\n",
       "      <td>Week 01</td>\n",
       "      <td>All Luas lines</td>\n",
       "      <td>-</td>\n",
       "      <td>549533.0</td>\n",
       "    </tr>\n",
       "    <tr>\n",
       "      <th>1</th>\n",
       "      <td>2019</td>\n",
       "      <td>Week 01</td>\n",
       "      <td>Red line</td>\n",
       "      <td>1</td>\n",
       "      <td>274139.0</td>\n",
       "    </tr>\n",
       "    <tr>\n",
       "      <th>2</th>\n",
       "      <td>2019</td>\n",
       "      <td>Week 01</td>\n",
       "      <td>Green line</td>\n",
       "      <td>2</td>\n",
       "      <td>275394.0</td>\n",
       "    </tr>\n",
       "    <tr>\n",
       "      <th>3</th>\n",
       "      <td>2019</td>\n",
       "      <td>Week 02</td>\n",
       "      <td>All Luas lines</td>\n",
       "      <td>-</td>\n",
       "      <td>839022.0</td>\n",
       "    </tr>\n",
       "    <tr>\n",
       "      <th>4</th>\n",
       "      <td>2019</td>\n",
       "      <td>Week 02</td>\n",
       "      <td>Red line</td>\n",
       "      <td>1</td>\n",
       "      <td>408199.0</td>\n",
       "    </tr>\n",
       "    <tr>\n",
       "      <th>...</th>\n",
       "      <td>...</td>\n",
       "      <td>...</td>\n",
       "      <td>...</td>\n",
       "      <td>...</td>\n",
       "      <td>...</td>\n",
       "    </tr>\n",
       "    <tr>\n",
       "      <th>763</th>\n",
       "      <td>2023</td>\n",
       "      <td>Week 43</td>\n",
       "      <td>Red line</td>\n",
       "      <td>1</td>\n",
       "      <td>578178.0</td>\n",
       "    </tr>\n",
       "    <tr>\n",
       "      <th>764</th>\n",
       "      <td>2023</td>\n",
       "      <td>Week 43</td>\n",
       "      <td>Green line</td>\n",
       "      <td>2</td>\n",
       "      <td>528068.0</td>\n",
       "    </tr>\n",
       "    <tr>\n",
       "      <th>765</th>\n",
       "      <td>2023</td>\n",
       "      <td>Week 44</td>\n",
       "      <td>All Luas lines</td>\n",
       "      <td>-</td>\n",
       "      <td>949071.0</td>\n",
       "    </tr>\n",
       "    <tr>\n",
       "      <th>766</th>\n",
       "      <td>2023</td>\n",
       "      <td>Week 44</td>\n",
       "      <td>Red line</td>\n",
       "      <td>1</td>\n",
       "      <td>502054.0</td>\n",
       "    </tr>\n",
       "    <tr>\n",
       "      <th>767</th>\n",
       "      <td>2023</td>\n",
       "      <td>Week 44</td>\n",
       "      <td>Green line</td>\n",
       "      <td>2</td>\n",
       "      <td>447017.0</td>\n",
       "    </tr>\n",
       "  </tbody>\n",
       "</table>\n",
       "<p>759 rows × 5 columns</p>\n",
       "</div>"
      ],
      "text/plain": [
       "     Year Week_Year       Luas_line Luas_line_encoded  Passengers\n",
       "0    2019   Week 01  All Luas lines                 -    549533.0\n",
       "1    2019   Week 01        Red line                 1    274139.0\n",
       "2    2019   Week 01      Green line                 2    275394.0\n",
       "3    2019   Week 02  All Luas lines                 -    839022.0\n",
       "4    2019   Week 02        Red line                 1    408199.0\n",
       "..    ...       ...             ...               ...         ...\n",
       "763  2023   Week 43        Red line                 1    578178.0\n",
       "764  2023   Week 43      Green line                 2    528068.0\n",
       "765  2023   Week 44  All Luas lines                 -    949071.0\n",
       "766  2023   Week 44        Red line                 1    502054.0\n",
       "767  2023   Week 44      Green line                 2    447017.0\n",
       "\n",
       "[759 rows x 5 columns]"
      ]
     },
     "execution_count": 18,
     "metadata": {},
     "output_type": "execute_result"
    }
   ],
   "source": [
    "#Dropping the missing values\n",
    "df_ireland1.dropna(inplace = True)\n",
    "df_ireland1"
   ]
  },
  {
   "cell_type": "code",
   "execution_count": 20,
   "id": "88b999e6",
   "metadata": {
    "scrolled": true
   },
   "outputs": [
    {
     "data": {
      "text/html": [
       "<div>\n",
       "<style scoped>\n",
       "    .dataframe tbody tr th:only-of-type {\n",
       "        vertical-align: middle;\n",
       "    }\n",
       "\n",
       "    .dataframe tbody tr th {\n",
       "        vertical-align: top;\n",
       "    }\n",
       "\n",
       "    .dataframe thead th {\n",
       "        text-align: right;\n",
       "    }\n",
       "</style>\n",
       "<table border=\"1\" class=\"dataframe\">\n",
       "  <thead>\n",
       "    <tr style=\"text-align: right;\">\n",
       "      <th></th>\n",
       "      <th>Year</th>\n",
       "      <th>Week_Year</th>\n",
       "      <th>Luas_line</th>\n",
       "      <th>Luas_line_encoded</th>\n",
       "      <th>Passengers</th>\n",
       "    </tr>\n",
       "  </thead>\n",
       "  <tbody>\n",
       "    <tr>\n",
       "      <th>0</th>\n",
       "      <td>2019</td>\n",
       "      <td>Week 01</td>\n",
       "      <td>All Luas lines</td>\n",
       "      <td>0</td>\n",
       "      <td>549533.0</td>\n",
       "    </tr>\n",
       "    <tr>\n",
       "      <th>1</th>\n",
       "      <td>2019</td>\n",
       "      <td>Week 01</td>\n",
       "      <td>Red line</td>\n",
       "      <td>1</td>\n",
       "      <td>274139.0</td>\n",
       "    </tr>\n",
       "    <tr>\n",
       "      <th>2</th>\n",
       "      <td>2019</td>\n",
       "      <td>Week 01</td>\n",
       "      <td>Green line</td>\n",
       "      <td>2</td>\n",
       "      <td>275394.0</td>\n",
       "    </tr>\n",
       "    <tr>\n",
       "      <th>3</th>\n",
       "      <td>2019</td>\n",
       "      <td>Week 02</td>\n",
       "      <td>All Luas lines</td>\n",
       "      <td>0</td>\n",
       "      <td>839022.0</td>\n",
       "    </tr>\n",
       "    <tr>\n",
       "      <th>4</th>\n",
       "      <td>2019</td>\n",
       "      <td>Week 02</td>\n",
       "      <td>Red line</td>\n",
       "      <td>1</td>\n",
       "      <td>408199.0</td>\n",
       "    </tr>\n",
       "    <tr>\n",
       "      <th>...</th>\n",
       "      <td>...</td>\n",
       "      <td>...</td>\n",
       "      <td>...</td>\n",
       "      <td>...</td>\n",
       "      <td>...</td>\n",
       "    </tr>\n",
       "    <tr>\n",
       "      <th>763</th>\n",
       "      <td>2023</td>\n",
       "      <td>Week 43</td>\n",
       "      <td>Red line</td>\n",
       "      <td>1</td>\n",
       "      <td>578178.0</td>\n",
       "    </tr>\n",
       "    <tr>\n",
       "      <th>764</th>\n",
       "      <td>2023</td>\n",
       "      <td>Week 43</td>\n",
       "      <td>Green line</td>\n",
       "      <td>2</td>\n",
       "      <td>528068.0</td>\n",
       "    </tr>\n",
       "    <tr>\n",
       "      <th>765</th>\n",
       "      <td>2023</td>\n",
       "      <td>Week 44</td>\n",
       "      <td>All Luas lines</td>\n",
       "      <td>0</td>\n",
       "      <td>949071.0</td>\n",
       "    </tr>\n",
       "    <tr>\n",
       "      <th>766</th>\n",
       "      <td>2023</td>\n",
       "      <td>Week 44</td>\n",
       "      <td>Red line</td>\n",
       "      <td>1</td>\n",
       "      <td>502054.0</td>\n",
       "    </tr>\n",
       "    <tr>\n",
       "      <th>767</th>\n",
       "      <td>2023</td>\n",
       "      <td>Week 44</td>\n",
       "      <td>Green line</td>\n",
       "      <td>2</td>\n",
       "      <td>447017.0</td>\n",
       "    </tr>\n",
       "  </tbody>\n",
       "</table>\n",
       "<p>759 rows × 5 columns</p>\n",
       "</div>"
      ],
      "text/plain": [
       "     Year Week_Year       Luas_line Luas_line_encoded  Passengers\n",
       "0    2019   Week 01  All Luas lines                 0    549533.0\n",
       "1    2019   Week 01        Red line                 1    274139.0\n",
       "2    2019   Week 01      Green line                 2    275394.0\n",
       "3    2019   Week 02  All Luas lines                 0    839022.0\n",
       "4    2019   Week 02        Red line                 1    408199.0\n",
       "..    ...       ...             ...               ...         ...\n",
       "763  2023   Week 43        Red line                 1    578178.0\n",
       "764  2023   Week 43      Green line                 2    528068.0\n",
       "765  2023   Week 44  All Luas lines                 0    949071.0\n",
       "766  2023   Week 44        Red line                 1    502054.0\n",
       "767  2023   Week 44      Green line                 2    447017.0\n",
       "\n",
       "[759 rows x 5 columns]"
      ]
     },
     "execution_count": 20,
     "metadata": {},
     "output_type": "execute_result"
    }
   ],
   "source": [
    "#Tidying the `luas_line_encoded` \n",
    "def replace_values(code):\n",
    "    if code == \"-\":\n",
    "        return 0\n",
    "    else:\n",
    "        return code\n",
    "    \n",
    "df_ireland1[\"Luas_line_encoded\"] = df_ireland1[\"Luas_line_encoded\"].apply(replace_values)\n",
    "df_ireland1"
   ]
  },
  {
   "cell_type": "code",
   "execution_count": 21,
   "id": "40d5ca11",
   "metadata": {
    "scrolled": true
   },
   "outputs": [
    {
     "data": {
      "text/plain": [
       "Year                 0\n",
       "Week_Year            0\n",
       "Luas_line            0\n",
       "Luas_line_encoded    0\n",
       "Passengers           0\n",
       "dtype: int64"
      ]
     },
     "execution_count": 21,
     "metadata": {},
     "output_type": "execute_result"
    }
   ],
   "source": [
    "#Checking the changes had been made\n",
    "df_ireland1.isnull().sum()"
   ]
  },
  {
   "cell_type": "code",
   "execution_count": 22,
   "id": "a9dc2a34",
   "metadata": {},
   "outputs": [],
   "source": [
    "#Creation of the 2 dataset\n",
    "df_general = df_ireland1.loc[df_ireland1[\"Luas_line\"] == \"All Luas lines\"]\n",
    "df_expanded = df_ireland1.loc[df_ireland1[\"Luas_line\"] != \"All Luas lines\"]"
   ]
  },
  {
   "cell_type": "code",
   "execution_count": 29,
   "id": "95cad952",
   "metadata": {},
   "outputs": [
    {
     "data": {
      "text/html": [
       "<div>\n",
       "<style scoped>\n",
       "    .dataframe tbody tr th:only-of-type {\n",
       "        vertical-align: middle;\n",
       "    }\n",
       "\n",
       "    .dataframe tbody tr th {\n",
       "        vertical-align: top;\n",
       "    }\n",
       "\n",
       "    .dataframe thead th {\n",
       "        text-align: right;\n",
       "    }\n",
       "</style>\n",
       "<table border=\"1\" class=\"dataframe\">\n",
       "  <thead>\n",
       "    <tr style=\"text-align: right;\">\n",
       "      <th></th>\n",
       "      <th>Year</th>\n",
       "      <th>Week_Year</th>\n",
       "      <th>Luas_line</th>\n",
       "      <th>Luas_line_encoded</th>\n",
       "      <th>Passengers</th>\n",
       "    </tr>\n",
       "  </thead>\n",
       "  <tbody>\n",
       "    <tr>\n",
       "      <th>1</th>\n",
       "      <td>2019</td>\n",
       "      <td>Week 01</td>\n",
       "      <td>Red line</td>\n",
       "      <td>1</td>\n",
       "      <td>274139.0</td>\n",
       "    </tr>\n",
       "    <tr>\n",
       "      <th>2</th>\n",
       "      <td>2019</td>\n",
       "      <td>Week 01</td>\n",
       "      <td>Green line</td>\n",
       "      <td>2</td>\n",
       "      <td>275394.0</td>\n",
       "    </tr>\n",
       "    <tr>\n",
       "      <th>4</th>\n",
       "      <td>2019</td>\n",
       "      <td>Week 02</td>\n",
       "      <td>Red line</td>\n",
       "      <td>1</td>\n",
       "      <td>408199.0</td>\n",
       "    </tr>\n",
       "    <tr>\n",
       "      <th>5</th>\n",
       "      <td>2019</td>\n",
       "      <td>Week 02</td>\n",
       "      <td>Green line</td>\n",
       "      <td>2</td>\n",
       "      <td>430823.0</td>\n",
       "    </tr>\n",
       "    <tr>\n",
       "      <th>7</th>\n",
       "      <td>2019</td>\n",
       "      <td>Week 03</td>\n",
       "      <td>Red line</td>\n",
       "      <td>1</td>\n",
       "      <td>376785.0</td>\n",
       "    </tr>\n",
       "    <tr>\n",
       "      <th>...</th>\n",
       "      <td>...</td>\n",
       "      <td>...</td>\n",
       "      <td>...</td>\n",
       "      <td>...</td>\n",
       "      <td>...</td>\n",
       "    </tr>\n",
       "    <tr>\n",
       "      <th>761</th>\n",
       "      <td>2023</td>\n",
       "      <td>Week 42</td>\n",
       "      <td>Green line</td>\n",
       "      <td>2</td>\n",
       "      <td>514208.0</td>\n",
       "    </tr>\n",
       "    <tr>\n",
       "      <th>763</th>\n",
       "      <td>2023</td>\n",
       "      <td>Week 43</td>\n",
       "      <td>Red line</td>\n",
       "      <td>1</td>\n",
       "      <td>578178.0</td>\n",
       "    </tr>\n",
       "    <tr>\n",
       "      <th>764</th>\n",
       "      <td>2023</td>\n",
       "      <td>Week 43</td>\n",
       "      <td>Green line</td>\n",
       "      <td>2</td>\n",
       "      <td>528068.0</td>\n",
       "    </tr>\n",
       "    <tr>\n",
       "      <th>766</th>\n",
       "      <td>2023</td>\n",
       "      <td>Week 44</td>\n",
       "      <td>Red line</td>\n",
       "      <td>1</td>\n",
       "      <td>502054.0</td>\n",
       "    </tr>\n",
       "    <tr>\n",
       "      <th>767</th>\n",
       "      <td>2023</td>\n",
       "      <td>Week 44</td>\n",
       "      <td>Green line</td>\n",
       "      <td>2</td>\n",
       "      <td>447017.0</td>\n",
       "    </tr>\n",
       "  </tbody>\n",
       "</table>\n",
       "<p>506 rows × 5 columns</p>\n",
       "</div>"
      ],
      "text/plain": [
       "     Year Week_Year   Luas_line Luas_line_encoded  Passengers\n",
       "1    2019   Week 01    Red line                 1    274139.0\n",
       "2    2019   Week 01  Green line                 2    275394.0\n",
       "4    2019   Week 02    Red line                 1    408199.0\n",
       "5    2019   Week 02  Green line                 2    430823.0\n",
       "7    2019   Week 03    Red line                 1    376785.0\n",
       "..    ...       ...         ...               ...         ...\n",
       "761  2023   Week 42  Green line                 2    514208.0\n",
       "763  2023   Week 43    Red line                 1    578178.0\n",
       "764  2023   Week 43  Green line                 2    528068.0\n",
       "766  2023   Week 44    Red line                 1    502054.0\n",
       "767  2023   Week 44  Green line                 2    447017.0\n",
       "\n",
       "[506 rows x 5 columns]"
      ]
     },
     "execution_count": 29,
     "metadata": {},
     "output_type": "execute_result"
    }
   ],
   "source": [
    "df_expanded"
   ]
  },
  {
   "cell_type": "code",
   "execution_count": 23,
   "id": "76fa3cc1",
   "metadata": {},
   "outputs": [],
   "source": [
    "#Creating a general function for labels in graphs\n",
    "\n",
    "def label_graph(x_label, y_label, title_label, width, height):\n",
    "    \n",
    "    plt.figure(figsize = (width, height))\n",
    "    plt.xlabel(x_label)\n",
    "    plt.ylabel(y_label)\n",
    "    plt.title(title_label)"
   ]
  },
  {
   "cell_type": "code",
   "execution_count": 26,
   "id": "9899c413",
   "metadata": {
    "scrolled": false
   },
   "outputs": [
    {
     "data": {
      "image/png": "[encoded data removed]",
      "text/plain": [
       "<Figure size 800x600 with 1 Axes>"
      ]
     },
     "metadata": {},
     "output_type": "display_data"
    }
   ],
   "source": [
    "#Plotting the average passanger per year in all the tram lines\n",
    "label_graph(\"Year\", \"Passengers\",\"Average number of passenger in the Luas service in general\", 8, 6)\n",
    "sns.scatterplot(data = df_ireland1.loc[df_ireland1[\"Luas_line\"] == \"All Luas lines\"], x = \"Year\", y = \"Passengers\");"
   ]
  },
  {
   "cell_type": "code",
   "execution_count": 131,
   "id": "72f4b87a",
   "metadata": {
    "scrolled": true
   },
   "outputs": [
    {
     "data": {
      "application/javascript": [
       "(function(root) {\n",
       "  function now() {\n",
       "    return new Date();\n",
       "  }\n",
       "\n",
       "  var force = true;\n",
       "  var py_version = '3.2.1'.replace('rc', '-rc.').replace('.dev', '-dev.');\n",
       "  var is_dev = py_version.indexOf(\"+\") !== -1 || py_version.indexOf(\"-\") !== -1;\n",
       "  var reloading = true;\n",
       "  var Bokeh = root.Bokeh;\n",
       "  var bokeh_loaded = Bokeh != null && (Bokeh.version === py_version || (Bokeh.versions !== undefined && Bokeh.versions.has(py_version)));\n",
       "\n",
       "  if (typeof (root._bokeh_timeout) === \"undefined\" || force) {\n",
       "    root._bokeh_timeout = Date.now() + 5000;\n",
       "    root._bokeh_failed_load = false;\n",
       "  }\n",
       "\n",
       "  function run_callbacks() {\n",
       "    try {\n",
       "      root._bokeh_onload_callbacks.forEach(function(callback) {\n",
       "        if (callback != null)\n",
       "          callback();\n",
       "      });\n",
       "    } finally {\n",
       "      delete root._bokeh_onload_callbacks;\n",
       "    }\n",
       "    console.debug(\"Bokeh: all callbacks have finished\");\n",
       "  }\n",
       "\n",
       "  function load_libs(css_urls, js_urls, js_modules, js_exports, callback) {\n",
       "    if (css_urls == null) css_urls = [];\n",
       "    if (js_urls == null) js_urls = [];\n",
       "    if (js_modules == null) js_modules = [];\n",
       "    if (js_exports == null) js_exports = {};\n",
       "\n",
       "    root._bokeh_onload_callbacks.push(callback);\n",
       "\n",
       "    if (root._bokeh_is_loading > 0) {\n",
       "      console.debug(\"Bokeh: BokehJS is being loaded, scheduling callback at\", now());\n",
       "      return null;\n",
       "    }\n",
       "    if (js_urls.length === 0 && js_modules.length === 0 && Object.keys(js_exports).length === 0) {\n",
       "      run_callbacks();\n",
       "      return null;\n",
       "    }\n",
       "    if (!reloading) {\n",
       "      console.debug(\"Bokeh: BokehJS not loaded, scheduling load and callback at\", now());\n",
       "    }\n",
       "\n",
       "    function on_load() {\n",
       "      root._bokeh_is_loading--;\n",
       "      if (root._bokeh_is_loading === 0) {\n",
       "        console.debug(\"Bokeh: all BokehJS libraries/stylesheets loaded\");\n",
       "        run_callbacks()\n",
       "      }\n",
       "    }\n",
       "    window._bokeh_on_load = on_load\n",
       "\n",
       "    function on_error() {\n",
       "      console.error(\"failed to load \" + url);\n",
       "    }\n",
       "\n",
       "    var skip = [];\n",
       "    if (window.requirejs) {\n",
       "      window.requirejs.config({'packages': {}, 'paths': {'jspanel': 'https://cdn.jsdelivr.net/npm/jspanel4@4.12.0/dist/jspanel', 'jspanel-modal': 'https://cdn.jsdelivr.net/npm/jspanel4@4.12.0/dist/extensions/modal/jspanel.modal', 'jspanel-tooltip': 'https://cdn.jsdelivr.net/npm/jspanel4@4.12.0/dist/extensions/tooltip/jspanel.tooltip', 'jspanel-hint': 'https://cdn.jsdelivr.net/npm/jspanel4@4.12.0/dist/extensions/hint/jspanel.hint', 'jspanel-layout': 'https://cdn.jsdelivr.net/npm/jspanel4@4.12.0/dist/extensions/layout/jspanel.layout', 'jspanel-contextmenu': 'https://cdn.jsdelivr.net/npm/jspanel4@4.12.0/dist/extensions/contextmenu/jspanel.contextmenu', 'jspanel-dock': 'https://cdn.jsdelivr.net/npm/jspanel4@4.12.0/dist/extensions/dock/jspanel.dock', 'gridstack': 'https://cdn.jsdelivr.net/npm/gridstack@7.2.3/dist/gridstack-all', 'notyf': 'https://cdn.jsdelivr.net/npm/notyf@3/notyf.min'}, 'shim': {'jspanel': {'exports': 'jsPanel'}, 'gridstack': {'exports': 'GridStack'}}});\n",
       "      require([\"jspanel\"], function(jsPanel) {\n",
       "\twindow.jsPanel = jsPanel\n",
       "\ton_load()\n",
       "      })\n",
       "      require([\"jspanel-modal\"], function() {\n",
       "\ton_load()\n",
       "      })\n",
       "      require([\"jspanel-tooltip\"], function() {\n",
       "\ton_load()\n",
       "      })\n",
       "      require([\"jspanel-hint\"], function() {\n",
       "\ton_load()\n",
       "      })\n",
       "      require([\"jspanel-layout\"], function() {\n",
       "\ton_load()\n",
       "      })\n",
       "      require([\"jspanel-contextmenu\"], function() {\n",
       "\ton_load()\n",
       "      })\n",
       "      require([\"jspanel-dock\"], function() {\n",
       "\ton_load()\n",
       "      })\n",
       "      require([\"gridstack\"], function(GridStack) {\n",
       "\twindow.GridStack = GridStack\n",
       "\ton_load()\n",
       "      })\n",
       "      require([\"notyf\"], function() {\n",
       "\ton_load()\n",
       "      })\n",
       "      root._bokeh_is_loading = css_urls.length + 9;\n",
       "    } else {\n",
       "      root._bokeh_is_loading = css_urls.length + js_urls.length + js_modules.length + Object.keys(js_exports).length;\n",
       "    }\n",
       "\n",
       "    var existing_stylesheets = []\n",
       "    var links = document.getElementsByTagName('link')\n",
       "    for (var i = 0; i < links.length; i++) {\n",
       "      var link = links[i]\n",
       "      if (link.href != null) {\n",
       "\texisting_stylesheets.push(link.href)\n",
       "      }\n",
       "    }\n",
       "    for (var i = 0; i < css_urls.length; i++) {\n",
       "      var url = css_urls[i];\n",
       "      if (existing_stylesheets.indexOf(url) !== -1) {\n",
       "\ton_load()\n",
       "\tcontinue;\n",
       "      }\n",
       "      const element = document.createElement(\"link\");\n",
       "      element.onload = on_load;\n",
       "      element.onerror = on_error;\n",
       "      element.rel = \"stylesheet\";\n",
       "      element.type = \"text/css\";\n",
       "      element.href = url;\n",
       "      console.debug(\"Bokeh: injecting link tag for BokehJS stylesheet: \", url);\n",
       "      document.body.appendChild(element);\n",
       "    }    if (((window['jsPanel'] !== undefined) && (!(window['jsPanel'] instanceof HTMLElement))) || window.requirejs) {\n",
       "      var urls = ['https://cdn.holoviz.org/panel/1.2.1/dist/bundled/floatpanel/jspanel4@4.12.0/dist/jspanel.js', 'https://cdn.holoviz.org/panel/1.2.1/dist/bundled/floatpanel/jspanel4@4.12.0/dist/extensions/modal/jspanel.modal.js', 'https://cdn.holoviz.org/panel/1.2.1/dist/bundled/floatpanel/jspanel4@4.12.0/dist/extensions/tooltip/jspanel.tooltip.js', 'https://cdn.holoviz.org/panel/1.2.1/dist/bundled/floatpanel/jspanel4@4.12.0/dist/extensions/hint/jspanel.hint.js', 'https://cdn.holoviz.org/panel/1.2.1/dist/bundled/floatpanel/jspanel4@4.12.0/dist/extensions/layout/jspanel.layout.js', 'https://cdn.holoviz.org/panel/1.2.1/dist/bundled/floatpanel/jspanel4@4.12.0/dist/extensions/contextmenu/jspanel.contextmenu.js', 'https://cdn.holoviz.org/panel/1.2.1/dist/bundled/floatpanel/jspanel4@4.12.0/dist/extensions/dock/jspanel.dock.js'];\n",
       "      for (var i = 0; i < urls.length; i++) {\n",
       "        skip.push(urls[i])\n",
       "      }\n",
       "    }    if (((window['GridStack'] !== undefined) && (!(window['GridStack'] instanceof HTMLElement))) || window.requirejs) {\n",
       "      var urls = ['https://cdn.holoviz.org/panel/1.2.1/dist/bundled/gridstack/gridstack@7.2.3/dist/gridstack-all.js'];\n",
       "      for (var i = 0; i < urls.length; i++) {\n",
       "        skip.push(urls[i])\n",
       "      }\n",
       "    }    if (((window['Notyf'] !== undefined) && (!(window['Notyf'] instanceof HTMLElement))) || window.requirejs) {\n",
       "      var urls = ['https://cdn.holoviz.org/panel/1.2.1/dist/bundled/notificationarea/notyf@3/notyf.min.js'];\n",
       "      for (var i = 0; i < urls.length; i++) {\n",
       "        skip.push(urls[i])\n",
       "      }\n",
       "    }    var existing_scripts = []\n",
       "    var scripts = document.getElementsByTagName('script')\n",
       "    for (var i = 0; i < scripts.length; i++) {\n",
       "      var script = scripts[i]\n",
       "      if (script.src != null) {\n",
       "\texisting_scripts.push(script.src)\n",
       "      }\n",
       "    }\n",
       "    for (var i = 0; i < js_urls.length; i++) {\n",
       "      var url = js_urls[i];\n",
       "      if (skip.indexOf(url) !== -1 || existing_scripts.indexOf(url) !== -1) {\n",
       "\tif (!window.requirejs) {\n",
       "\t  on_load();\n",
       "\t}\n",
       "\tcontinue;\n",
       "      }\n",
       "      var element = document.createElement('script');\n",
       "      element.onload = on_load;\n",
       "      element.onerror = on_error;\n",
       "      element.async = false;\n",
       "      element.src = url;\n",
       "      console.debug(\"Bokeh: injecting script tag for BokehJS library: \", url);\n",
       "      document.head.appendChild(element);\n",
       "    }\n",
       "    for (var i = 0; i < js_modules.length; i++) {\n",
       "      var url = js_modules[i];\n",
       "      if (skip.indexOf(url) !== -1 || existing_scripts.indexOf(url) !== -1) {\n",
       "\tif (!window.requirejs) {\n",
       "\t  on_load();\n",
       "\t}\n",
       "\tcontinue;\n",
       "      }\n",
       "      var element = document.createElement('script');\n",
       "      element.onload = on_load;\n",
       "      element.onerror = on_error;\n",
       "      element.async = false;\n",
       "      element.src = url;\n",
       "      element.type = \"module\";\n",
       "      console.debug(\"Bokeh: injecting script tag for BokehJS library: \", url);\n",
       "      document.head.appendChild(element);\n",
       "    }\n",
       "    for (const name in js_exports) {\n",
       "      var url = js_exports[name];\n",
       "      if (skip.indexOf(url) >= 0 || root[name] != null) {\n",
       "\tif (!window.requirejs) {\n",
       "\t  on_load();\n",
       "\t}\n",
       "\tcontinue;\n",
       "      }\n",
       "      var element = document.createElement('script');\n",
       "      element.onerror = on_error;\n",
       "      element.async = false;\n",
       "      element.type = \"module\";\n",
       "      console.debug(\"Bokeh: injecting script tag for BokehJS library: \", url);\n",
       "      element.textContent = `\n",
       "      import ${name} from \"${url}\"\n",
       "      window.${name} = ${name}\n",
       "      window._bokeh_on_load()\n",
       "      `\n",
       "      document.head.appendChild(element);\n",
       "    }\n",
       "    if (!js_urls.length && !js_modules.length) {\n",
       "      on_load()\n",
       "    }\n",
       "  };\n",
       "\n",
       "  function inject_raw_css(css) {\n",
       "    const element = document.createElement(\"style\");\n",
       "    element.appendChild(document.createTextNode(css));\n",
       "    document.body.appendChild(element);\n",
       "  }\n",
       "\n",
       "  var js_urls = [];\n",
       "  var js_modules = [];\n",
       "  var js_exports = {};\n",
       "  var css_urls = [];\n",
       "  var inline_js = [    function(Bokeh) {\n",
       "      Bokeh.set_log_level(\"info\");\n",
       "    },\n",
       "function(Bokeh) {} // ensure no trailing comma for IE\n",
       "  ];\n",
       "\n",
       "  function run_inline_js() {\n",
       "    if ((root.Bokeh !== undefined) || (force === true)) {\n",
       "      for (var i = 0; i < inline_js.length; i++) {\n",
       "        inline_js[i].call(root, root.Bokeh);\n",
       "      }\n",
       "      // Cache old bokeh versions\n",
       "      if (Bokeh != undefined && !reloading) {\n",
       "\tvar NewBokeh = root.Bokeh;\n",
       "\tif (Bokeh.versions === undefined) {\n",
       "\t  Bokeh.versions = new Map();\n",
       "\t}\n",
       "\tif (NewBokeh.version !== Bokeh.version) {\n",
       "\t  Bokeh.versions.set(NewBokeh.version, NewBokeh)\n",
       "\t}\n",
       "\troot.Bokeh = Bokeh;\n",
       "      }} else if (Date.now() < root._bokeh_timeout) {\n",
       "      setTimeout(run_inline_js, 100);\n",
       "    } else if (!root._bokeh_failed_load) {\n",
       "      console.log(\"Bokeh: BokehJS failed to load within specified timeout.\");\n",
       "      root._bokeh_failed_load = true;\n",
       "    }\n",
       "    root._bokeh_is_initializing = false\n",
       "  }\n",
       "\n",
       "  function load_or_wait() {\n",
       "    // Implement a backoff loop that tries to ensure we do not load multiple\n",
       "    // versions of Bokeh and its dependencies at the same time.\n",
       "    // In recent versions we use the root._bokeh_is_initializing flag\n",
       "    // to determine whether there is an ongoing attempt to initialize\n",
       "    // bokeh, however for backward compatibility we also try to ensure\n",
       "    // that we do not start loading a newer (Panel>=1.0 and Bokeh>3) version\n",
       "    // before older versions are fully initialized.\n",
       "    if (root._bokeh_is_initializing && Date.now() > root._bokeh_timeout) {\n",
       "      root._bokeh_is_initializing = false;\n",
       "      root._bokeh_onload_callbacks = undefined;\n",
       "      console.log(\"Bokeh: BokehJS was loaded multiple times but one version failed to initialize.\");\n",
       "      load_or_wait();\n",
       "    } else if (root._bokeh_is_initializing || (typeof root._bokeh_is_initializing === \"undefined\" && root._bokeh_onload_callbacks !== undefined)) {\n",
       "      setTimeout(load_or_wait, 100);\n",
       "    } else {\n",
       "      Bokeh = root.Bokeh;\n",
       "      bokeh_loaded = Bokeh != null && (Bokeh.version === py_version || (Bokeh.versions !== undefined && Bokeh.versions.has(py_version)));\n",
       "      root._bokeh_is_initializing = true\n",
       "      root._bokeh_onload_callbacks = []\n",
       "      if (!reloading && (!bokeh_loaded || is_dev)) {\n",
       "\troot.Bokeh = undefined;\n",
       "      }\n",
       "      load_libs(css_urls, js_urls, js_modules, js_exports, function() {\n",
       "\tconsole.debug(\"Bokeh: BokehJS plotting callback run at\", now());\n",
       "\trun_inline_js();\n",
       "      });\n",
       "    }\n",
       "  }\n",
       "  // Give older versions of the autoload script a head-start to ensure\n",
       "  // they initialize before we start loading newer version.\n",
       "  setTimeout(load_or_wait, 100)\n",
       "}(window));"
      ],
      "application/vnd.holoviews_load.v0+json": "(function(root) {\n  function now() {\n    return new Date();\n  }\n\n  var force = true;\n  var py_version = '3.2.1'.replace('rc', '-rc.').replace('.dev', '-dev.');\n  var is_dev = py_version.indexOf(\"+\") !== -1 || py_version.indexOf(\"-\") !== -1;\n  var reloading = true;\n  var Bokeh = root.Bokeh;\n  var bokeh_loaded = Bokeh != null && (Bokeh.version === py_version || (Bokeh.versions !== undefined && Bokeh.versions.has(py_version)));\n\n  if (typeof (root._bokeh_timeout) === \"undefined\" || force) {\n    root._bokeh_timeout = Date.now() + 5000;\n    root._bokeh_failed_load = false;\n  }\n\n  function run_callbacks() {\n    try {\n      root._bokeh_onload_callbacks.forEach(function(callback) {\n        if (callback != null)\n          callback();\n      });\n    } finally {\n      delete root._bokeh_onload_callbacks;\n    }\n    console.debug(\"Bokeh: all callbacks have finished\");\n  }\n\n  function load_libs(css_urls, js_urls, js_modules, js_exports, callback) {\n    if (css_urls == null) css_urls = [];\n    if (js_urls == null) js_urls = [];\n    if (js_modules == null) js_modules = [];\n    if (js_exports == null) js_exports = {};\n\n    root._bokeh_onload_callbacks.push(callback);\n\n    if (root._bokeh_is_loading > 0) {\n      console.debug(\"Bokeh: BokehJS is being loaded, scheduling callback at\", now());\n      return null;\n    }\n    if (js_urls.length === 0 && js_modules.length === 0 && Object.keys(js_exports).length === 0) {\n      run_callbacks();\n      return null;\n    }\n    if (!reloading) {\n      console.debug(\"Bokeh: BokehJS not loaded, scheduling load and callback at\", now());\n    }\n\n    function on_load() {\n      root._bokeh_is_loading--;\n      if (root._bokeh_is_loading === 0) {\n        console.debug(\"Bokeh: all BokehJS libraries/stylesheets loaded\");\n        run_callbacks()\n      }\n    }\n    window._bokeh_on_load = on_load\n\n    function on_error() {\n      console.error(\"failed to load \" + url);\n    }\n\n    var skip = [];\n    if (window.requirejs) {\n      window.requirejs.config({'packages': {}, 'paths': {'jspanel': 'https://cdn.jsdelivr.net/npm/jspanel4@4.12.0/dist/jspanel', 'jspanel-modal': 'https://cdn.jsdelivr.net/npm/jspanel4@4.12.0/dist/extensions/modal/jspanel.modal', 'jspanel-tooltip': 'https://cdn.jsdelivr.net/npm/jspanel4@4.12.0/dist/extensions/tooltip/jspanel.tooltip', 'jspanel-hint': 'https://cdn.jsdelivr.net/npm/jspanel4@4.12.0/dist/extensions/hint/jspanel.hint', 'jspanel-layout': 'https://cdn.jsdelivr.net/npm/jspanel4@4.12.0/dist/extensions/layout/jspanel.layout', 'jspanel-contextmenu': 'https://cdn.jsdelivr.net/npm/jspanel4@4.12.0/dist/extensions/contextmenu/jspanel.contextmenu', 'jspanel-dock': 'https://cdn.jsdelivr.net/npm/jspanel4@4.12.0/dist/extensions/dock/jspanel.dock', 'gridstack': 'https://cdn.jsdelivr.net/npm/gridstack@7.2.3/dist/gridstack-all', 'notyf': 'https://cdn.jsdelivr.net/npm/notyf@3/notyf.min'}, 'shim': {'jspanel': {'exports': 'jsPanel'}, 'gridstack': {'exports': 'GridStack'}}});\n      require([\"jspanel\"], function(jsPanel) {\n\twindow.jsPanel = jsPanel\n\ton_load()\n      })\n      require([\"jspanel-modal\"], function() {\n\ton_load()\n      })\n      require([\"jspanel-tooltip\"], function() {\n\ton_load()\n      })\n      require([\"jspanel-hint\"], function() {\n\ton_load()\n      })\n      require([\"jspanel-layout\"], function() {\n\ton_load()\n      })\n      require([\"jspanel-contextmenu\"], function() {\n\ton_load()\n      })\n      require([\"jspanel-dock\"], function() {\n\ton_load()\n      })\n      require([\"gridstack\"], function(GridStack) {\n\twindow.GridStack = GridStack\n\ton_load()\n      })\n      require([\"notyf\"], function() {\n\ton_load()\n      })\n      root._bokeh_is_loading = css_urls.length + 9;\n    } else {\n      root._bokeh_is_loading = css_urls.length + js_urls.length + js_modules.length + Object.keys(js_exports).length;\n    }\n\n    var existing_stylesheets = []\n    var links = document.getElementsByTagName('link')\n    for (var i = 0; i < links.length; i++) {\n      var link = links[i]\n      if (link.href != null) {\n\texisting_stylesheets.push(link.href)\n      }\n    }\n    for (var i = 0; i < css_urls.length; i++) {\n      var url = css_urls[i];\n      if (existing_stylesheets.indexOf(url) !== -1) {\n\ton_load()\n\tcontinue;\n      }\n      const element = document.createElement(\"link\");\n      element.onload = on_load;\n      element.onerror = on_error;\n      element.rel = \"stylesheet\";\n      element.type = \"text/css\";\n      element.href = url;\n      console.debug(\"Bokeh: injecting link tag for BokehJS stylesheet: \", url);\n      document.body.appendChild(element);\n    }    if (((window['jsPanel'] !== undefined) && (!(window['jsPanel'] instanceof HTMLElement))) || window.requirejs) {\n      var urls = ['https://cdn.holoviz.org/panel/1.2.1/dist/bundled/floatpanel/jspanel4@4.12.0/dist/jspanel.js', 'https://cdn.holoviz.org/panel/1.2.1/dist/bundled/floatpanel/jspanel4@4.12.0/dist/extensions/modal/jspanel.modal.js', 'https://cdn.holoviz.org/panel/1.2.1/dist/bundled/floatpanel/jspanel4@4.12.0/dist/extensions/tooltip/jspanel.tooltip.js', 'https://cdn.holoviz.org/panel/1.2.1/dist/bundled/floatpanel/jspanel4@4.12.0/dist/extensions/hint/jspanel.hint.js', 'https://cdn.holoviz.org/panel/1.2.1/dist/bundled/floatpanel/jspanel4@4.12.0/dist/extensions/layout/jspanel.layout.js', 'https://cdn.holoviz.org/panel/1.2.1/dist/bundled/floatpanel/jspanel4@4.12.0/dist/extensions/contextmenu/jspanel.contextmenu.js', 'https://cdn.holoviz.org/panel/1.2.1/dist/bundled/floatpanel/jspanel4@4.12.0/dist/extensions/dock/jspanel.dock.js'];\n      for (var i = 0; i < urls.length; i++) {\n        skip.push(urls[i])\n      }\n    }    if (((window['GridStack'] !== undefined) && (!(window['GridStack'] instanceof HTMLElement))) || window.requirejs) {\n      var urls = ['https://cdn.holoviz.org/panel/1.2.1/dist/bundled/gridstack/gridstack@7.2.3/dist/gridstack-all.js'];\n      for (var i = 0; i < urls.length; i++) {\n        skip.push(urls[i])\n      }\n    }    if (((window['Notyf'] !== undefined) && (!(window['Notyf'] instanceof HTMLElement))) || window.requirejs) {\n      var urls = ['https://cdn.holoviz.org/panel/1.2.1/dist/bundled/notificationarea/notyf@3/notyf.min.js'];\n      for (var i = 0; i < urls.length; i++) {\n        skip.push(urls[i])\n      }\n    }    var existing_scripts = []\n    var scripts = document.getElementsByTagName('script')\n    for (var i = 0; i < scripts.length; i++) {\n      var script = scripts[i]\n      if (script.src != null) {\n\texisting_scripts.push(script.src)\n      }\n    }\n    for (var i = 0; i < js_urls.length; i++) {\n      var url = js_urls[i];\n      if (skip.indexOf(url) !== -1 || existing_scripts.indexOf(url) !== -1) {\n\tif (!window.requirejs) {\n\t  on_load();\n\t}\n\tcontinue;\n      }\n      var element = document.createElement('script');\n      element.onload = on_load;\n      element.onerror = on_error;\n      element.async = false;\n      element.src = url;\n      console.debug(\"Bokeh: injecting script tag for BokehJS library: \", url);\n      document.head.appendChild(element);\n    }\n    for (var i = 0; i < js_modules.length; i++) {\n      var url = js_modules[i];\n      if (skip.indexOf(url) !== -1 || existing_scripts.indexOf(url) !== -1) {\n\tif (!window.requirejs) {\n\t  on_load();\n\t}\n\tcontinue;\n      }\n      var element = document.createElement('script');\n      element.onload = on_load;\n      element.onerror = on_error;\n      element.async = false;\n      element.src = url;\n      element.type = \"module\";\n      console.debug(\"Bokeh: injecting script tag for BokehJS library: \", url);\n      document.head.appendChild(element);\n    }\n    for (const name in js_exports) {\n      var url = js_exports[name];\n      if (skip.indexOf(url) >= 0 || root[name] != null) {\n\tif (!window.requirejs) {\n\t  on_load();\n\t}\n\tcontinue;\n      }\n      var element = document.createElement('script');\n      element.onerror = on_error;\n      element.async = false;\n      element.type = \"module\";\n      console.debug(\"Bokeh: injecting script tag for BokehJS library: \", url);\n      element.textContent = `\n      import ${name} from \"${url}\"\n      window.${name} = ${name}\n      window._bokeh_on_load()\n      `\n      document.head.appendChild(element);\n    }\n    if (!js_urls.length && !js_modules.length) {\n      on_load()\n    }\n  };\n\n  function inject_raw_css(css) {\n    const element = document.createElement(\"style\");\n    element.appendChild(document.createTextNode(css));\n    document.body.appendChild(element);\n  }\n\n  var js_urls = [];\n  var js_modules = [];\n  var js_exports = {};\n  var css_urls = [];\n  var inline_js = [    function(Bokeh) {\n      Bokeh.set_log_level(\"info\");\n    },\nfunction(Bokeh) {} // ensure no trailing comma for IE\n  ];\n\n  function run_inline_js() {\n    if ((root.Bokeh !== undefined) || (force === true)) {\n      for (var i = 0; i < inline_js.length; i++) {\n        inline_js[i].call(root, root.Bokeh);\n      }\n      // Cache old bokeh versions\n      if (Bokeh != undefined && !reloading) {\n\tvar NewBokeh = root.Bokeh;\n\tif (Bokeh.versions === undefined) {\n\t  Bokeh.versions = new Map();\n\t}\n\tif (NewBokeh.version !== Bokeh.version) {\n\t  Bokeh.versions.set(NewBokeh.version, NewBokeh)\n\t}\n\troot.Bokeh = Bokeh;\n      }} else if (Date.now() < root._bokeh_timeout) {\n      setTimeout(run_inline_js, 100);\n    } else if (!root._bokeh_failed_load) {\n      console.log(\"Bokeh: BokehJS failed to load within specified timeout.\");\n      root._bokeh_failed_load = true;\n    }\n    root._bokeh_is_initializing = false\n  }\n\n  function load_or_wait() {\n    // Implement a backoff loop that tries to ensure we do not load multiple\n    // versions of Bokeh and its dependencies at the same time.\n    // In recent versions we use the root._bokeh_is_initializing flag\n    // to determine whether there is an ongoing attempt to initialize\n    // bokeh, however for backward compatibility we also try to ensure\n    // that we do not start loading a newer (Panel>=1.0 and Bokeh>3) version\n    // before older versions are fully initialized.\n    if (root._bokeh_is_initializing && Date.now() > root._bokeh_timeout) {\n      root._bokeh_is_initializing = false;\n      root._bokeh_onload_callbacks = undefined;\n      console.log(\"Bokeh: BokehJS was loaded multiple times but one version failed to initialize.\");\n      load_or_wait();\n    } else if (root._bokeh_is_initializing || (typeof root._bokeh_is_initializing === \"undefined\" && root._bokeh_onload_callbacks !== undefined)) {\n      setTimeout(load_or_wait, 100);\n    } else {\n      Bokeh = root.Bokeh;\n      bokeh_loaded = Bokeh != null && (Bokeh.version === py_version || (Bokeh.versions !== undefined && Bokeh.versions.has(py_version)));\n      root._bokeh_is_initializing = true\n      root._bokeh_onload_callbacks = []\n      if (!reloading && (!bokeh_loaded || is_dev)) {\n\troot.Bokeh = undefined;\n      }\n      load_libs(css_urls, js_urls, js_modules, js_exports, function() {\n\tconsole.debug(\"Bokeh: BokehJS plotting callback run at\", now());\n\trun_inline_js();\n      });\n    }\n  }\n  // Give older versions of the autoload script a head-start to ensure\n  // they initialize before we start loading newer version.\n  setTimeout(load_or_wait, 100)\n}(window));"
     },
     "metadata": {},
     "output_type": "display_data"
    },
    {
     "data": {
      "application/javascript": [
       "\n",
       "if ((window.PyViz === undefined) || (window.PyViz instanceof HTMLElement)) {\n",
       "  window.PyViz = {comms: {}, comm_status:{}, kernels:{}, receivers: {}, plot_index: []}\n",
       "}\n",
       "\n",
       "\n",
       "    function JupyterCommManager() {\n",
       "    }\n",
       "\n",
       "    JupyterCommManager.prototype.register_target = function(plot_id, comm_id, msg_handler) {\n",
       "      if (window.comm_manager || ((window.Jupyter !== undefined) && (Jupyter.notebook.kernel != null))) {\n",
       "        var comm_manager = window.comm_manager || Jupyter.notebook.kernel.comm_manager;\n",
       "        comm_manager.register_target(comm_id, function(comm) {\n",
       "          comm.on_msg(msg_handler);\n",
       "        });\n",
       "      } else if ((plot_id in window.PyViz.kernels) && (window.PyViz.kernels[plot_id])) {\n",
       "        window.PyViz.kernels[plot_id].registerCommTarget(comm_id, function(comm) {\n",
       "          comm.onMsg = msg_handler;\n",
       "        });\n",
       "      } else if (typeof google != 'undefined' && google.colab.kernel != null) {\n",
       "        google.colab.kernel.comms.registerTarget(comm_id, (comm) => {\n",
       "          var messages = comm.messages[Symbol.asyncIterator]();\n",
       "          function processIteratorResult(result) {\n",
       "            var message = result.value;\n",
       "            console.log(message)\n",
       "            var content = {data: message.data, comm_id};\n",
       "            var buffers = []\n",
       "            for (var buffer of message.buffers || []) {\n",
       "              buffers.push(new DataView(buffer))\n",
       "            }\n",
       "            var metadata = message.metadata || {};\n",
       "            var msg = {content, buffers, metadata}\n",
       "            msg_handler(msg);\n",
       "            return messages.next().then(processIteratorResult);\n",
       "          }\n",
       "          return messages.next().then(processIteratorResult);\n",
       "        })\n",
       "      }\n",
       "    }\n",
       "\n",
       "    JupyterCommManager.prototype.get_client_comm = function(plot_id, comm_id, msg_handler) {\n",
       "      if (comm_id in window.PyViz.comms) {\n",
       "        return window.PyViz.comms[comm_id];\n",
       "      } else if (window.comm_manager || ((window.Jupyter !== undefined) && (Jupyter.notebook.kernel != null))) {\n",
       "        var comm_manager = window.comm_manager || Jupyter.notebook.kernel.comm_manager;\n",
       "        var comm = comm_manager.new_comm(comm_id, {}, {}, {}, comm_id);\n",
       "        if (msg_handler) {\n",
       "          comm.on_msg(msg_handler);\n",
       "        }\n",
       "      } else if ((plot_id in window.PyViz.kernels) && (window.PyViz.kernels[plot_id])) {\n",
       "        var comm = window.PyViz.kernels[plot_id].connectToComm(comm_id);\n",
       "        comm.open();\n",
       "        if (msg_handler) {\n",
       "          comm.onMsg = msg_handler;\n",
       "        }\n",
       "      } else if (typeof google != 'undefined' && google.colab.kernel != null) {\n",
       "        var comm_promise = google.colab.kernel.comms.open(comm_id)\n",
       "        comm_promise.then((comm) => {\n",
       "          window.PyViz.comms[comm_id] = comm;\n",
       "          if (msg_handler) {\n",
       "            var messages = comm.messages[Symbol.asyncIterator]();\n",
       "            function processIteratorResult(result) {\n",
       "              var message = result.value;\n",
       "              var content = {data: message.data};\n",
       "              var metadata = message.metadata || {comm_id};\n",
       "              var msg = {content, metadata}\n",
       "              msg_handler(msg);\n",
       "              return messages.next().then(processIteratorResult);\n",
       "            }\n",
       "            return messages.next().then(processIteratorResult);\n",
       "          }\n",
       "        }) \n",
       "        var sendClosure = (data, metadata, buffers, disposeOnDone) => {\n",
       "          return comm_promise.then((comm) => {\n",
       "            comm.send(data, metadata, buffers, disposeOnDone);\n",
       "          });\n",
       "        };\n",
       "        var comm = {\n",
       "          send: sendClosure\n",
       "        };\n",
       "      }\n",
       "      window.PyViz.comms[comm_id] = comm;\n",
       "      return comm;\n",
       "    }\n",
       "    window.PyViz.comm_manager = new JupyterCommManager();\n",
       "    \n",
       "\n",
       "\n",
       "var JS_MIME_TYPE = 'application/javascript';\n",
       "var HTML_MIME_TYPE = 'text/html';\n",
       "var EXEC_MIME_TYPE = 'application/vnd.holoviews_exec.v0+json';\n",
       "var CLASS_NAME = 'output';\n",
       "\n",
       "/**\n",
       " * Render data to the DOM node\n",
       " */\n",
       "function render(props, node) {\n",
       "  var div = document.createElement(\"div\");\n",
       "  var script = document.createElement(\"script\");\n",
       "  node.appendChild(div);\n",
       "  node.appendChild(script);\n",
       "}\n",
       "\n",
       "/**\n",
       " * Handle when a new output is added\n",
       " */\n",
       "function handle_add_output(event, handle) {\n",
       "  var output_area = handle.output_area;\n",
       "  var output = handle.output;\n",
       "  if ((output.data == undefined) || (!output.data.hasOwnProperty(EXEC_MIME_TYPE))) {\n",
       "    return\n",
       "  }\n",
       "  var id = output.metadata[EXEC_MIME_TYPE][\"id\"];\n",
       "  var toinsert = output_area.element.find(\".\" + CLASS_NAME.split(' ')[0]);\n",
       "  if (id !== undefined) {\n",
       "    var nchildren = toinsert.length;\n",
       "    var html_node = toinsert[nchildren-1].children[0];\n",
       "    html_node.innerHTML = output.data[HTML_MIME_TYPE];\n",
       "    var scripts = [];\n",
       "    var nodelist = html_node.querySelectorAll(\"script\");\n",
       "    for (var i in nodelist) {\n",
       "      if (nodelist.hasOwnProperty(i)) {\n",
       "        scripts.push(nodelist[i])\n",
       "      }\n",
       "    }\n",
       "\n",
       "    scripts.forEach( function (oldScript) {\n",
       "      var newScript = document.createElement(\"script\");\n",
       "      var attrs = [];\n",
       "      var nodemap = oldScript.attributes;\n",
       "      for (var j in nodemap) {\n",
       "        if (nodemap.hasOwnProperty(j)) {\n",
       "          attrs.push(nodemap[j])\n",
       "        }\n",
       "      }\n",
       "      attrs.forEach(function(attr) { newScript.setAttribute(attr.name, attr.value) });\n",
       "      newScript.appendChild(document.createTextNode(oldScript.innerHTML));\n",
       "      oldScript.parentNode.replaceChild(newScript, oldScript);\n",
       "    });\n",
       "    if (JS_MIME_TYPE in output.data) {\n",
       "      toinsert[nchildren-1].children[1].textContent = output.data[JS_MIME_TYPE];\n",
       "    }\n",
       "    output_area._hv_plot_id = id;\n",
       "    if ((window.Bokeh !== undefined) && (id in Bokeh.index)) {\n",
       "      window.PyViz.plot_index[id] = Bokeh.index[id];\n",
       "    } else {\n",
       "      window.PyViz.plot_index[id] = null;\n",
       "    }\n",
       "  } else if (output.metadata[EXEC_MIME_TYPE][\"server_id\"] !== undefined) {\n",
       "    var bk_div = document.createElement(\"div\");\n",
       "    bk_div.innerHTML = output.data[HTML_MIME_TYPE];\n",
       "    var script_attrs = bk_div.children[0].attributes;\n",
       "    for (var i = 0; i < script_attrs.length; i++) {\n",
       "      toinsert[toinsert.length - 1].childNodes[1].setAttribute(script_attrs[i].name, script_attrs[i].value);\n",
       "    }\n",
       "    // store reference to server id on output_area\n",
       "    output_area._bokeh_server_id = output.metadata[EXEC_MIME_TYPE][\"server_id\"];\n",
       "  }\n",
       "}\n",
       "\n",
       "/**\n",
       " * Handle when an output is cleared or removed\n",
       " */\n",
       "function handle_clear_output(event, handle) {\n",
       "  var id = handle.cell.output_area._hv_plot_id;\n",
       "  var server_id = handle.cell.output_area._bokeh_server_id;\n",
       "  if (((id === undefined) || !(id in PyViz.plot_index)) && (server_id !== undefined)) { return; }\n",
       "  var comm = window.PyViz.comm_manager.get_client_comm(\"hv-extension-comm\", \"hv-extension-comm\", function () {});\n",
       "  if (server_id !== null) {\n",
       "    comm.send({event_type: 'server_delete', 'id': server_id});\n",
       "    return;\n",
       "  } else if (comm !== null) {\n",
       "    comm.send({event_type: 'delete', 'id': id});\n",
       "  }\n",
       "  delete PyViz.plot_index[id];\n",
       "  if ((window.Bokeh !== undefined) & (id in window.Bokeh.index)) {\n",
       "    var doc = window.Bokeh.index[id].model.document\n",
       "    doc.clear();\n",
       "    const i = window.Bokeh.documents.indexOf(doc);\n",
       "    if (i > -1) {\n",
       "      window.Bokeh.documents.splice(i, 1);\n",
       "    }\n",
       "  }\n",
       "}\n",
       "\n",
       "/**\n",
       " * Handle kernel restart event\n",
       " */\n",
       "function handle_kernel_cleanup(event, handle) {\n",
       "  delete PyViz.comms[\"hv-extension-comm\"];\n",
       "  window.PyViz.plot_index = {}\n",
       "}\n",
       "\n",
       "/**\n",
       " * Handle update_display_data messages\n",
       " */\n",
       "function handle_update_output(event, handle) {\n",
       "  handle_clear_output(event, {cell: {output_area: handle.output_area}})\n",
       "  handle_add_output(event, handle)\n",
       "}\n",
       "\n",
       "function register_renderer(events, OutputArea) {\n",
       "  function append_mime(data, metadata, element) {\n",
       "    // create a DOM node to render to\n",
       "    var toinsert = this.create_output_subarea(\n",
       "    metadata,\n",
       "    CLASS_NAME,\n",
       "    EXEC_MIME_TYPE\n",
       "    );\n",
       "    this.keyboard_manager.register_events(toinsert);\n",
       "    // Render to node\n",
       "    var props = {data: data, metadata: metadata[EXEC_MIME_TYPE]};\n",
       "    render(props, toinsert[0]);\n",
       "    element.append(toinsert);\n",
       "    return toinsert\n",
       "  }\n",
       "\n",
       "  events.on('output_added.OutputArea', handle_add_output);\n",
       "  events.on('output_updated.OutputArea', handle_update_output);\n",
       "  events.on('clear_output.CodeCell', handle_clear_output);\n",
       "  events.on('delete.Cell', handle_clear_output);\n",
       "  events.on('kernel_ready.Kernel', handle_kernel_cleanup);\n",
       "\n",
       "  OutputArea.prototype.register_mime_type(EXEC_MIME_TYPE, append_mime, {\n",
       "    safe: true,\n",
       "    index: 0\n",
       "  });\n",
       "}\n",
       "\n",
       "if (window.Jupyter !== undefined) {\n",
       "  try {\n",
       "    var events = require('base/js/events');\n",
       "    var OutputArea = require('notebook/js/outputarea').OutputArea;\n",
       "    if (OutputArea.prototype.mime_types().indexOf(EXEC_MIME_TYPE) == -1) {\n",
       "      register_renderer(events, OutputArea);\n",
       "    }\n",
       "  } catch(err) {\n",
       "  }\n",
       "}\n"
      ],
      "application/vnd.holoviews_load.v0+json": "\nif ((window.PyViz === undefined) || (window.PyViz instanceof HTMLElement)) {\n  window.PyViz = {comms: {}, comm_status:{}, kernels:{}, receivers: {}, plot_index: []}\n}\n\n\n    function JupyterCommManager() {\n    }\n\n    JupyterCommManager.prototype.register_target = function(plot_id, comm_id, msg_handler) {\n      if (window.comm_manager || ((window.Jupyter !== undefined) && (Jupyter.notebook.kernel != null))) {\n        var comm_manager = window.comm_manager || Jupyter.notebook.kernel.comm_manager;\n        comm_manager.register_target(comm_id, function(comm) {\n          comm.on_msg(msg_handler);\n        });\n      } else if ((plot_id in window.PyViz.kernels) && (window.PyViz.kernels[plot_id])) {\n        window.PyViz.kernels[plot_id].registerCommTarget(comm_id, function(comm) {\n          comm.onMsg = msg_handler;\n        });\n      } else if (typeof google != 'undefined' && google.colab.kernel != null) {\n        google.colab.kernel.comms.registerTarget(comm_id, (comm) => {\n          var messages = comm.messages[Symbol.asyncIterator]();\n          function processIteratorResult(result) {\n            var message = result.value;\n            console.log(message)\n            var content = {data: message.data, comm_id};\n            var buffers = []\n            for (var buffer of message.buffers || []) {\n              buffers.push(new DataView(buffer))\n            }\n            var metadata = message.metadata || {};\n            var msg = {content, buffers, metadata}\n            msg_handler(msg);\n            return messages.next().then(processIteratorResult);\n          }\n          return messages.next().then(processIteratorResult);\n        })\n      }\n    }\n\n    JupyterCommManager.prototype.get_client_comm = function(plot_id, comm_id, msg_handler) {\n      if (comm_id in window.PyViz.comms) {\n        return window.PyViz.comms[comm_id];\n      } else if (window.comm_manager || ((window.Jupyter !== undefined) && (Jupyter.notebook.kernel != null))) {\n        var comm_manager = window.comm_manager || Jupyter.notebook.kernel.comm_manager;\n        var comm = comm_manager.new_comm(comm_id, {}, {}, {}, comm_id);\n        if (msg_handler) {\n          comm.on_msg(msg_handler);\n        }\n      } else if ((plot_id in window.PyViz.kernels) && (window.PyViz.kernels[plot_id])) {\n        var comm = window.PyViz.kernels[plot_id].connectToComm(comm_id);\n        comm.open();\n        if (msg_handler) {\n          comm.onMsg = msg_handler;\n        }\n      } else if (typeof google != 'undefined' && google.colab.kernel != null) {\n        var comm_promise = google.colab.kernel.comms.open(comm_id)\n        comm_promise.then((comm) => {\n          window.PyViz.comms[comm_id] = comm;\n          if (msg_handler) {\n            var messages = comm.messages[Symbol.asyncIterator]();\n            function processIteratorResult(result) {\n              var message = result.value;\n              var content = {data: message.data};\n              var metadata = message.metadata || {comm_id};\n              var msg = {content, metadata}\n              msg_handler(msg);\n              return messages.next().then(processIteratorResult);\n            }\n            return messages.next().then(processIteratorResult);\n          }\n        }) \n        var sendClosure = (data, metadata, buffers, disposeOnDone) => {\n          return comm_promise.then((comm) => {\n            comm.send(data, metadata, buffers, disposeOnDone);\n          });\n        };\n        var comm = {\n          send: sendClosure\n        };\n      }\n      window.PyViz.comms[comm_id] = comm;\n      return comm;\n    }\n    window.PyViz.comm_manager = new JupyterCommManager();\n    \n\n\nvar JS_MIME_TYPE = 'application/javascript';\nvar HTML_MIME_TYPE = 'text/html';\nvar EXEC_MIME_TYPE = 'application/vnd.holoviews_exec.v0+json';\nvar CLASS_NAME = 'output';\n\n/**\n * Render data to the DOM node\n */\nfunction render(props, node) {\n  var div = document.createElement(\"div\");\n  var script = document.createElement(\"script\");\n  node.appendChild(div);\n  node.appendChild(script);\n}\n\n/**\n * Handle when a new output is added\n */\nfunction handle_add_output(event, handle) {\n  var output_area = handle.output_area;\n  var output = handle.output;\n  if ((output.data == undefined) || (!output.data.hasOwnProperty(EXEC_MIME_TYPE))) {\n    return\n  }\n  var id = output.metadata[EXEC_MIME_TYPE][\"id\"];\n  var toinsert = output_area.element.find(\".\" + CLASS_NAME.split(' ')[0]);\n  if (id !== undefined) {\n    var nchildren = toinsert.length;\n    var html_node = toinsert[nchildren-1].children[0];\n    html_node.innerHTML = output.data[HTML_MIME_TYPE];\n    var scripts = [];\n    var nodelist = html_node.querySelectorAll(\"script\");\n    for (var i in nodelist) {\n      if (nodelist.hasOwnProperty(i)) {\n        scripts.push(nodelist[i])\n      }\n    }\n\n    scripts.forEach( function (oldScript) {\n      var newScript = document.createElement(\"script\");\n      var attrs = [];\n      var nodemap = oldScript.attributes;\n      for (var j in nodemap) {\n        if (nodemap.hasOwnProperty(j)) {\n          attrs.push(nodemap[j])\n        }\n      }\n      attrs.forEach(function(attr) { newScript.setAttribute(attr.name, attr.value) });\n      newScript.appendChild(document.createTextNode(oldScript.innerHTML));\n      oldScript.parentNode.replaceChild(newScript, oldScript);\n    });\n    if (JS_MIME_TYPE in output.data) {\n      toinsert[nchildren-1].children[1].textContent = output.data[JS_MIME_TYPE];\n    }\n    output_area._hv_plot_id = id;\n    if ((window.Bokeh !== undefined) && (id in Bokeh.index)) {\n      window.PyViz.plot_index[id] = Bokeh.index[id];\n    } else {\n      window.PyViz.plot_index[id] = null;\n    }\n  } else if (output.metadata[EXEC_MIME_TYPE][\"server_id\"] !== undefined) {\n    var bk_div = document.createElement(\"div\");\n    bk_div.innerHTML = output.data[HTML_MIME_TYPE];\n    var script_attrs = bk_div.children[0].attributes;\n    for (var i = 0; i < script_attrs.length; i++) {\n      toinsert[toinsert.length - 1].childNodes[1].setAttribute(script_attrs[i].name, script_attrs[i].value);\n    }\n    // store reference to server id on output_area\n    output_area._bokeh_server_id = output.metadata[EXEC_MIME_TYPE][\"server_id\"];\n  }\n}\n\n/**\n * Handle when an output is cleared or removed\n */\nfunction handle_clear_output(event, handle) {\n  var id = handle.cell.output_area._hv_plot_id;\n  var server_id = handle.cell.output_area._bokeh_server_id;\n  if (((id === undefined) || !(id in PyViz.plot_index)) && (server_id !== undefined)) { return; }\n  var comm = window.PyViz.comm_manager.get_client_comm(\"hv-extension-comm\", \"hv-extension-comm\", function () {});\n  if (server_id !== null) {\n    comm.send({event_type: 'server_delete', 'id': server_id});\n    return;\n  } else if (comm !== null) {\n    comm.send({event_type: 'delete', 'id': id});\n  }\n  delete PyViz.plot_index[id];\n  if ((window.Bokeh !== undefined) & (id in window.Bokeh.index)) {\n    var doc = window.Bokeh.index[id].model.document\n    doc.clear();\n    const i = window.Bokeh.documents.indexOf(doc);\n    if (i > -1) {\n      window.Bokeh.documents.splice(i, 1);\n    }\n  }\n}\n\n/**\n * Handle kernel restart event\n */\nfunction handle_kernel_cleanup(event, handle) {\n  delete PyViz.comms[\"hv-extension-comm\"];\n  window.PyViz.plot_index = {}\n}\n\n/**\n * Handle update_display_data messages\n */\nfunction handle_update_output(event, handle) {\n  handle_clear_output(event, {cell: {output_area: handle.output_area}})\n  handle_add_output(event, handle)\n}\n\nfunction register_renderer(events, OutputArea) {\n  function append_mime(data, metadata, element) {\n    // create a DOM node to render to\n    var toinsert = this.create_output_subarea(\n    metadata,\n    CLASS_NAME,\n    EXEC_MIME_TYPE\n    );\n    this.keyboard_manager.register_events(toinsert);\n    // Render to node\n    var props = {data: data, metadata: metadata[EXEC_MIME_TYPE]};\n    render(props, toinsert[0]);\n    element.append(toinsert);\n    return toinsert\n  }\n\n  events.on('output_added.OutputArea', handle_add_output);\n  events.on('output_updated.OutputArea', handle_update_output);\n  events.on('clear_output.CodeCell', handle_clear_output);\n  events.on('delete.Cell', handle_clear_output);\n  events.on('kernel_ready.Kernel', handle_kernel_cleanup);\n\n  OutputArea.prototype.register_mime_type(EXEC_MIME_TYPE, append_mime, {\n    safe: true,\n    index: 0\n  });\n}\n\nif (window.Jupyter !== undefined) {\n  try {\n    var events = require('base/js/events');\n    var OutputArea = require('notebook/js/outputarea').OutputArea;\n    if (OutputArea.prototype.mime_types().indexOf(EXEC_MIME_TYPE) == -1) {\n      register_renderer(events, OutputArea);\n    }\n  } catch(err) {\n  }\n}\n"
     },
     "metadata": {},
     "output_type": "display_data"
    },
    {
     "data": {
      "text/html": [
       "<style>*[data-root-id],\n",
       "*[data-root-id] > * {\n",
       "  box-sizing: border-box;\n",
       "  font-family: var(--jp-ui-font-family);\n",
       "  font-size: var(--jp-ui-font-size1);\n",
       "  color: var(--vscode-editor-foreground, var(--jp-ui-font-color1));\n",
       "}\n",
       "\n",
       "/* Override VSCode background color */\n",
       ".cell-output-ipywidget-background:has(\n",
       "    > .cell-output-ipywidget-background > .lm-Widget > *[data-root-id]\n",
       "  ),\n",
       ".cell-output-ipywidget-background:has(> .lm-Widget > *[data-root-id]) {\n",
       "  background-color: transparent !important;\n",
       "}\n",
       "</style>"
      ]
     },
     "metadata": {},
     "output_type": "display_data"
    },
    {
     "data": {},
     "metadata": {},
     "output_type": "display_data"
    },
    {
     "data": {},
     "metadata": {},
     "output_type": "display_data"
    },
    {
     "data": {
      "application/vnd.holoviews_exec.v0+json": "",
      "text/html": [
       "<div id='9933ac25-a684-4c2f-b471-29101c0f87ae'>\n",
       "  <div id=\"e3d469f6-a2fe-4e21-acd3-dd20fcc1bbbf\" data-root-id=\"9933ac25-a684-4c2f-b471-29101c0f87ae\" style=\"display: contents;\"></div>\n",
       "</div>\n",
       "<script type=\"application/javascript\">(function(root) {\n",
       "  var docs_json = {\"7b8ecc12-17ac-4949-bf2b-0043db996e09\":{\"version\":\"3.2.1\",\"title\":\"Bokeh Application\",\"roots\":[{\"type\":\"object\",\"name\":\"Row\",\"id\":\"9933ac25-a684-4c2f-b471-29101c0f87ae\",\"attributes\":{\"name\":\"Row76294\",\"stylesheets\":[\"\\n:host(.pn-loading.pn-arc):before, .pn-loading.pn-arc:before {\\n  background-image: url(\\\"data:image/svg+xml;base64,PHN2ZyB4bWxucz0iaHR0cDovL3d3dy53My5vcmcvMjAwMC9zdmciIHN0eWxlPSJtYXJnaW46IGF1dG87IGJhY2tncm91bmQ6IG5vbmU7IGRpc3BsYXk6IGJsb2NrOyBzaGFwZS1yZW5kZXJpbmc6IGF1dG87IiB2aWV3Qm94PSIwIDAgMTAwIDEwMCIgcHJlc2VydmVBc3BlY3RSYXRpbz0ieE1pZFlNaWQiPiAgPGNpcmNsZSBjeD0iNTAiIGN5PSI1MCIgZmlsbD0ibm9uZSIgc3Ryb2tlPSIjYzNjM2MzIiBzdHJva2Utd2lkdGg9IjEwIiByPSIzNSIgc3Ryb2tlLWRhc2hhcnJheT0iMTY0LjkzMzYxNDMxMzQ2NDE1IDU2Ljk3Nzg3MTQzNzgyMTM4Ij4gICAgPGFuaW1hdGVUcmFuc2Zvcm0gYXR0cmlidXRlTmFtZT0idHJhbnNmb3JtIiB0eXBlPSJyb3RhdGUiIHJlcGVhdENvdW50PSJpbmRlZmluaXRlIiBkdXI9IjFzIiB2YWx1ZXM9IjAgNTAgNTA7MzYwIDUwIDUwIiBrZXlUaW1lcz0iMDsxIj48L2FuaW1hdGVUcmFuc2Zvcm0+ICA8L2NpcmNsZT48L3N2Zz4=\\\");\\n  background-size: auto calc(min(50%, 400px));\\n}\",{\"type\":\"object\",\"name\":\"ImportedStyleSheet\",\"id\":\"71f297b0-0c17-4f5f-b193-cb60cf4f0403\",\"attributes\":{\"url\":\"https://cdn.holoviz.org/panel/1.2.1/dist/css/loading.css\"}},{\"type\":\"object\",\"name\":\"ImportedStyleSheet\",\"id\":\"f2166928-2b5f-46c7-b827-4a179661cddb\",\"attributes\":{\"url\":\"https://cdn.holoviz.org/panel/1.2.1/dist/css/listpanel.css\"}},{\"type\":\"object\",\"name\":\"ImportedStyleSheet\",\"id\":\"cea878be-64f2-44a1-ab99-9a103967dcfb\",\"attributes\":{\"url\":\"https://cdn.holoviz.org/panel/1.2.1/dist/bundled/theme/default.css\"}},{\"type\":\"object\",\"name\":\"ImportedStyleSheet\",\"id\":\"61081606-3c4b-4035-ae7f-3714884c2627\",\"attributes\":{\"url\":\"https://cdn.holoviz.org/panel/1.2.1/dist/bundled/theme/native.css\"}}],\"margin\":0,\"align\":\"start\",\"children\":[{\"type\":\"object\",\"name\":\"Figure\",\"id\":\"17892be0-66ec-4c32-90e0-eff6fd03c48e\",\"attributes\":{\"width\":900,\"height\":300,\"margin\":[5,10],\"sizing_mode\":\"fixed\",\"align\":\"start\",\"x_range\":{\"type\":\"object\",\"name\":\"FactorRange\",\"id\":\"6aa7520d-e210-42a1-b282-77a3a2cdeb91\",\"attributes\":{\"tags\":[[[\"Week_Year\",\"Week_Year\",null]],[]],\"factors\":[\"Week 01\",\"Week 02\",\"Week 03\",\"Week 04\",\"Week 05\",\"Week 06\",\"Week 07\",\"Week 08\",\"Week 09\",\"Week 10\",\"Week 11\",\"Week 12\",\"Week 13\",\"Week 14\",\"Week 15\",\"Week 16\",\"Week 17\",\"Week 18\",\"Week 19\",\"Week 20\",\"Week 21\",\"Week 22\",\"Week 23\",\"Week 24\",\"Week 25\",\"Week 26\",\"Week 27\",\"Week 28\",\"Week 29\",\"Week 30\",\"Week 31\",\"Week 32\",\"Week 33\",\"Week 34\",\"Week 35\",\"Week 36\",\"Week 37\",\"Week 38\",\"Week 39\",\"Week 40\",\"Week 41\",\"Week 42\",\"Week 43\",\"Week 44\",\"Week 45\",\"Week 46\",\"Week 47\",\"Week 48\",\"Week 49\",\"Week 50\",\"Week 51\",\"Week 52\",\"Week 53\"]}},\"y_range\":{\"type\":\"object\",\"name\":\"Range1d\",\"id\":\"6432416e-5399-473b-80f8-03aeb72de68d\",\"attributes\":{\"tags\":[[[\"Passengers\",\"Passengers\",null]],{\"type\":\"map\",\"entries\":[[\"invert_yaxis\",false],[\"autorange\",false]]}],\"start\":-95647.6,\"end\":1288847.6,\"reset_start\":-95647.6,\"reset_end\":1288847.6}},\"x_scale\":{\"type\":\"object\",\"name\":\"CategoricalScale\",\"id\":\"3c5c156d-aea5-4f62-9bd0-914f2f4cde25\"},\"y_scale\":{\"type\":\"object\",\"name\":\"LinearScale\",\"id\":\"8758a3e2-c5f8-4e06-a553-af1c5711c9f9\"},\"title\":{\"type\":\"object\",\"name\":\"Title\",\"id\":\"7c408e14-4cb8-426e-8b4a-9bee48dc8a73\",\"attributes\":{\"text_color\":\"black\",\"text_font_size\":\"12pt\"}},\"renderers\":[{\"type\":\"object\",\"name\":\"GlyphRenderer\",\"id\":\"584d9e6d-edb3-409e-b78e-e4518f2ae2e3\",\"attributes\":{\"data_source\":{\"type\":\"object\",\"name\":\"ColumnDataSource\",\"id\":\"b47ed51c-49fc-4f4f-87d1-6a9100545b53\",\"attributes\":{\"selected\":{\"type\":\"object\",\"name\":\"Selection\",\"id\":\"ca284ef8-3559-4f1d-96a5-94ab3c08620e\",\"attributes\":{\"indices\":[],\"line_indices\":[]}},\"selection_policy\":{\"type\":\"object\",\"name\":\"UnionRenderers\",\"id\":\"189c41fe-83be-41a7-8139-846de09d3bac\"},\"data\":{\"type\":\"map\",\"entries\":[[\"Week_Year\",[\"Week 01\",\"Week 01\",\"Week 01\",\"Week 02\",\"Week 02\",\"Week 02\",\"Week 03\",\"Week 03\",\"Week 03\",\"Week 04\",\"Week 04\",\"Week 04\",\"Week 05\",\"Week 05\",\"Week 05\",\"Week 06\",\"Week 06\",\"Week 06\",\"Week 07\",\"Week 07\",\"Week 07\",\"Week 08\",\"Week 08\",\"Week 08\",\"Week 09\",\"Week 09\",\"Week 09\",\"Week 10\",\"Week 10\",\"Week 10\",\"Week 11\",\"Week 11\",\"Week 11\",\"Week 12\",\"Week 12\",\"Week 12\",\"Week 13\",\"Week 13\",\"Week 13\",\"Week 14\",\"Week 14\",\"Week 14\",\"Week 15\",\"Week 15\",\"Week 15\",\"Week 16\",\"Week 16\",\"Week 16\",\"Week 17\",\"Week 17\",\"Week 17\",\"Week 18\",\"Week 18\",\"Week 18\",\"Week 19\",\"Week 19\",\"Week 19\",\"Week 20\",\"Week 20\",\"Week 20\",\"Week 21\",\"Week 21\",\"Week 21\",\"Week 22\",\"Week 22\",\"Week 22\",\"Week 23\",\"Week 23\",\"Week 23\",\"Week 24\",\"Week 24\",\"Week 24\",\"Week 25\",\"Week 25\",\"Week 25\",\"Week 26\",\"Week 26\",\"Week 26\",\"Week 27\",\"Week 27\",\"Week 27\",\"Week 28\",\"Week 28\",\"Week 28\",\"Week 29\",\"Week 29\",\"Week 29\",\"Week 30\",\"Week 30\",\"Week 30\",\"Week 31\",\"Week 31\",\"Week 31\",\"Week 32\",\"Week 32\",\"Week 32\",\"Week 33\",\"Week 33\",\"Week 33\",\"Week 34\",\"Week 34\",\"Week 34\",\"Week 35\",\"Week 35\",\"Week 35\",\"Week 36\",\"Week 36\",\"Week 36\",\"Week 37\",\"Week 37\",\"Week 37\",\"Week 38\",\"Week 38\",\"Week 38\",\"Week 39\",\"Week 39\",\"Week 39\",\"Week 40\",\"Week 40\",\"Week 40\",\"Week 41\",\"Week 41\",\"Week 41\",\"Week 42\",\"Week 42\",\"Week 42\",\"Week 43\",\"Week 43\",\"Week 43\",\"Week 44\",\"Week 44\",\"Week 44\",\"Week 45\",\"Week 45\",\"Week 45\",\"Week 46\",\"Week 46\",\"Week 46\",\"Week 47\",\"Week 47\",\"Week 47\",\"Week 48\",\"Week 48\",\"Week 48\",\"Week 49\",\"Week 49\",\"Week 49\",\"Week 50\",\"Week 50\",\"Week 50\",\"Week 51\",\"Week 51\",\"Week 51\",\"Week 52\",\"Week 52\",\"Week 52\",\"Week 01\",\"Week 01\",\"Week 01\",\"Week 02\",\"Week 02\",\"Week 02\",\"Week 03\",\"Week 03\",\"Week 03\",\"Week 04\",\"Week 04\",\"Week 04\",\"Week 05\",\"Week 05\",\"Week 05\",\"Week 06\",\"Week 06\",\"Week 06\",\"Week 07\",\"Week 07\",\"Week 07\",\"Week 08\",\"Week 08\",\"Week 08\",\"Week 09\",\"Week 09\",\"Week 09\",\"Week 10\",\"Week 10\",\"Week 10\",\"Week 11\",\"Week 11\",\"Week 11\",\"Week 12\",\"Week 12\",\"Week 12\",\"Week 13\",\"Week 13\",\"Week 13\",\"Week 14\",\"Week 14\",\"Week 14\",\"Week 15\",\"Week 15\",\"Week 15\",\"Week 16\",\"Week 16\",\"Week 16\",\"Week 17\",\"Week 17\",\"Week 17\",\"Week 18\",\"Week 18\",\"Week 18\",\"Week 19\",\"Week 19\",\"Week 19\",\"Week 20\",\"Week 20\",\"Week 20\",\"Week 21\",\"Week 21\",\"Week 21\",\"Week 22\",\"Week 22\",\"Week 22\",\"Week 23\",\"Week 23\",\"Week 23\",\"Week 24\",\"Week 24\",\"Week 24\",\"Week 25\",\"Week 25\",\"Week 25\",\"Week 26\",\"Week 26\",\"Week 26\",\"Week 27\",\"Week 27\",\"Week 27\",\"Week 28\",\"Week 28\",\"Week 28\",\"Week 29\",\"Week 29\",\"Week 29\",\"Week 30\",\"Week 30\",\"Week 30\",\"Week 31\",\"Week 31\",\"Week 31\",\"Week 32\",\"Week 32\",\"Week 32\",\"Week 33\",\"Week 33\",\"Week 33\",\"Week 34\",\"Week 34\",\"Week 34\",\"Week 35\",\"Week 35\",\"Week 35\",\"Week 36\",\"Week 36\",\"Week 36\",\"Week 37\",\"Week 37\",\"Week 37\",\"Week 38\",\"Week 38\",\"Week 38\",\"Week 39\",\"Week 39\",\"Week 39\",\"Week 40\",\"Week 40\",\"Week 40\",\"Week 41\",\"Week 41\",\"Week 41\",\"Week 42\",\"Week 42\",\"Week 42\",\"Week 43\",\"Week 43\",\"Week 43\",\"Week 44\",\"Week 44\",\"Week 44\",\"Week 45\",\"Week 45\",\"Week 45\",\"Week 46\",\"Week 46\",\"Week 46\",\"Week 47\",\"Week 47\",\"Week 47\",\"Week 48\",\"Week 48\",\"Week 48\",\"Week 49\",\"Week 49\",\"Week 49\",\"Week 50\",\"Week 50\",\"Week 50\",\"Week 51\",\"Week 51\",\"Week 51\",\"Week 52\",\"Week 52\",\"Week 52\",\"Week 53\",\"Week 53\",\"Week 53\",\"Week 01\",\"Week 01\",\"Week 01\",\"Week 02\",\"Week 02\",\"Week 02\",\"Week 03\",\"Week 03\",\"Week 03\",\"Week 04\",\"Week 04\",\"Week 04\",\"Week 05\",\"Week 05\",\"Week 05\",\"Week 06\",\"Week 06\",\"Week 06\",\"Week 07\",\"Week 07\",\"Week 07\",\"Week 08\",\"Week 08\",\"Week 08\",\"Week 09\",\"Week 09\",\"Week 09\",\"Week 10\",\"Week 10\",\"Week 10\",\"Week 11\",\"Week 11\",\"Week 11\",\"Week 12\",\"Week 12\",\"Week 12\",\"Week 13\",\"Week 13\",\"Week 13\",\"Week 14\",\"Week 14\",\"Week 14\",\"Week 15\",\"Week 15\",\"Week 15\",\"Week 16\",\"Week 16\",\"Week 16\",\"Week 17\",\"Week 17\",\"Week 17\",\"Week 18\",\"Week 18\",\"Week 18\",\"Week 19\",\"Week 19\",\"Week 19\",\"Week 20\",\"Week 20\",\"Week 20\",\"Week 21\",\"Week 21\",\"Week 21\",\"Week 22\",\"Week 22\",\"Week 22\",\"Week 23\",\"Week 23\",\"Week 23\",\"Week 24\",\"Week 24\",\"Week 24\",\"Week 25\",\"Week 25\",\"Week 25\",\"Week 26\",\"Week 26\",\"Week 26\",\"Week 27\",\"Week 27\",\"Week 27\",\"Week 28\",\"Week 28\",\"Week 28\",\"Week 29\",\"Week 29\",\"Week 29\",\"Week 30\",\"Week 30\",\"Week 30\",\"Week 31\",\"Week 31\",\"Week 31\",\"Week 32\",\"Week 32\",\"Week 32\",\"Week 33\",\"Week 33\",\"Week 33\",\"Week 34\",\"Week 34\",\"Week 34\",\"Week 35\",\"Week 35\",\"Week 35\",\"Week 36\",\"Week 36\",\"Week 36\",\"Week 37\",\"Week 37\",\"Week 37\",\"Week 38\",\"Week 38\",\"Week 38\",\"Week 39\",\"Week 39\",\"Week 39\",\"Week 40\",\"Week 40\",\"Week 40\",\"Week 41\",\"Week 41\",\"Week 41\",\"Week 42\",\"Week 42\",\"Week 42\",\"Week 43\",\"Week 43\",\"Week 43\",\"Week 44\",\"Week 44\",\"Week 44\",\"Week 45\",\"Week 45\",\"Week 45\",\"Week 46\",\"Week 46\",\"Week 46\",\"Week 47\",\"Week 47\",\"Week 47\",\"Week 48\",\"Week 48\",\"Week 48\",\"Week 49\",\"Week 49\",\"Week 49\",\"Week 50\",\"Week 50\",\"Week 50\",\"Week 51\",\"Week 51\",\"Week 51\",\"Week 52\",\"Week 52\",\"Week 52\",\"Week 01\",\"Week 01\",\"Week 01\",\"Week 02\",\"Week 02\",\"Week 02\",\"Week 03\",\"Week 03\",\"Week 03\",\"Week 04\",\"Week 04\",\"Week 04\",\"Week 05\",\"Week 05\",\"Week 05\",\"Week 06\",\"Week 06\",\"Week 06\",\"Week 07\",\"Week 07\",\"Week 07\",\"Week 08\",\"Week 08\",\"Week 08\",\"Week 09\",\"Week 09\",\"Week 09\",\"Week 10\",\"Week 10\",\"Week 10\",\"Week 11\",\"Week 11\",\"Week 11\",\"Week 12\",\"Week 12\",\"Week 12\",\"Week 13\",\"Week 13\",\"Week 13\",\"Week 14\",\"Week 14\",\"Week 14\",\"Week 15\",\"Week 15\",\"Week 15\",\"Week 16\",\"Week 16\",\"Week 16\",\"Week 17\",\"Week 17\",\"Week 17\",\"Week 18\",\"Week 18\",\"Week 18\",\"Week 19\",\"Week 19\",\"Week 19\",\"Week 20\",\"Week 20\",\"Week 20\",\"Week 21\",\"Week 21\",\"Week 21\",\"Week 22\",\"Week 22\",\"Week 22\",\"Week 23\",\"Week 23\",\"Week 23\",\"Week 24\",\"Week 24\",\"Week 24\",\"Week 25\",\"Week 25\",\"Week 25\",\"Week 26\",\"Week 26\",\"Week 26\",\"Week 27\",\"Week 27\",\"Week 27\",\"Week 28\",\"Week 28\",\"Week 28\",\"Week 29\",\"Week 29\",\"Week 29\",\"Week 30\",\"Week 30\",\"Week 30\",\"Week 31\",\"Week 31\",\"Week 31\",\"Week 32\",\"Week 32\",\"Week 32\",\"Week 33\",\"Week 33\",\"Week 33\",\"Week 34\",\"Week 34\",\"Week 34\",\"Week 35\",\"Week 35\",\"Week 35\",\"Week 36\",\"Week 36\",\"Week 36\",\"Week 37\",\"Week 37\",\"Week 37\",\"Week 38\",\"Week 38\",\"Week 38\",\"Week 39\",\"Week 39\",\"Week 39\",\"Week 40\",\"Week 40\",\"Week 40\",\"Week 41\",\"Week 41\",\"Week 41\",\"Week 42\",\"Week 42\",\"Week 42\",\"Week 43\",\"Week 43\",\"Week 43\",\"Week 44\",\"Week 44\",\"Week 44\",\"Week 45\",\"Week 45\",\"Week 45\",\"Week 46\",\"Week 46\",\"Week 46\",\"Week 47\",\"Week 47\",\"Week 47\",\"Week 48\",\"Week 48\",\"Week 48\",\"Week 49\",\"Week 49\",\"Week 49\",\"Week 50\",\"Week 50\",\"Week 50\",\"Week 51\",\"Week 51\",\"Week 51\",\"Week 52\",\"Week 52\",\"Week 52\",\"Week 01\",\"Week 01\",\"Week 01\",\"Week 02\",\"Week 02\",\"Week 02\",\"Week 03\",\"Week 03\",\"Week 03\",\"Week 04\",\"Week 04\",\"Week 04\",\"Week 05\",\"Week 05\",\"Week 05\",\"Week 06\",\"Week 06\",\"Week 06\",\"Week 07\",\"Week 07\",\"Week 07\",\"Week 08\",\"Week 08\",\"Week 08\",\"Week 09\",\"Week 09\",\"Week 09\",\"Week 10\",\"Week 10\",\"Week 10\",\"Week 11\",\"Week 11\",\"Week 11\",\"Week 12\",\"Week 12\",\"Week 12\",\"Week 13\",\"Week 13\",\"Week 13\",\"Week 14\",\"Week 14\",\"Week 14\",\"Week 15\",\"Week 15\",\"Week 15\",\"Week 16\",\"Week 16\",\"Week 16\",\"Week 17\",\"Week 17\",\"Week 17\",\"Week 18\",\"Week 18\",\"Week 18\",\"Week 19\",\"Week 19\",\"Week 19\",\"Week 20\",\"Week 20\",\"Week 20\",\"Week 21\",\"Week 21\",\"Week 21\",\"Week 22\",\"Week 22\",\"Week 22\",\"Week 23\",\"Week 23\",\"Week 23\",\"Week 24\",\"Week 24\",\"Week 24\",\"Week 25\",\"Week 25\",\"Week 25\",\"Week 26\",\"Week 26\",\"Week 26\",\"Week 27\",\"Week 27\",\"Week 27\",\"Week 28\",\"Week 28\",\"Week 28\",\"Week 29\",\"Week 29\",\"Week 29\",\"Week 30\",\"Week 30\",\"Week 30\",\"Week 31\",\"Week 31\",\"Week 31\",\"Week 32\",\"Week 32\",\"Week 32\",\"Week 33\",\"Week 33\",\"Week 33\",\"Week 34\",\"Week 34\",\"Week 34\",\"Week 35\",\"Week 35\",\"Week 35\",\"Week 36\",\"Week 36\",\"Week 36\",\"Week 37\",\"Week 37\",\"Week 37\",\"Week 38\",\"Week 38\",\"Week 38\",\"Week 39\",\"Week 39\",\"Week 39\",\"Week 40\",\"Week 40\",\"Week 40\",\"Week 41\",\"Week 41\",\"Week 41\",\"Week 42\",\"Week 42\",\"Week 42\",\"Week 43\",\"Week 43\",\"Week 43\",\"Week 44\",\"Week 44\",\"Week 44\"]],[\"Passengers\",{\"type\":\"ndarray\",\"array\":{\"type\":\"bytes\",\"data\":\"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\"},\"shape\":[759],\"dtype\":\"float64\",\"order\":\"little\"}]]}}},\"view\":{\"type\":\"object\",\"name\":\"CDSView\",\"id\":\"aaf74887-8bc9-408a-80c1-ff9e4f281513\",\"attributes\":{\"filter\":{\"type\":\"object\",\"name\":\"AllIndices\",\"id\":\"bd927620-811e-4737-aa93-1c2f090c0851\"}}},\"glyph\":{\"type\":\"object\",\"name\":\"Line\",\"id\":\"ea64e3a7-19a9-4a4d-8098-7458a864b113\",\"attributes\":{\"tags\":[\"apply_ranges\"],\"x\":{\"type\":\"field\",\"field\":\"Week_Year\"},\"y\":{\"type\":\"field\",\"field\":\"Passengers\"},\"line_color\":\"#30a2da\",\"line_width\":2}},\"selection_glyph\":{\"type\":\"object\",\"name\":\"Line\",\"id\":\"e6e0927a-ddf8-4784-a211-da61d83d940a\",\"attributes\":{\"tags\":[\"apply_ranges\"],\"x\":{\"type\":\"field\",\"field\":\"Week_Year\"},\"y\":{\"type\":\"field\",\"field\":\"Passengers\"},\"line_color\":\"#30a2da\",\"line_width\":2}},\"nonselection_glyph\":{\"type\":\"object\",\"name\":\"Line\",\"id\":\"b3b44b6f-7435-4fcc-bd29-c073c10600dd\",\"attributes\":{\"tags\":[\"apply_ranges\"],\"x\":{\"type\":\"field\",\"field\":\"Week_Year\"},\"y\":{\"type\":\"field\",\"field\":\"Passengers\"},\"line_color\":\"#30a2da\",\"line_alpha\":0.1,\"line_width\":2}},\"muted_glyph\":{\"type\":\"object\",\"name\":\"Line\",\"id\":\"f95b12a8-c0f7-4f8b-8df1-eeda2d19ec72\",\"attributes\":{\"tags\":[\"apply_ranges\"],\"x\":{\"type\":\"field\",\"field\":\"Week_Year\"},\"y\":{\"type\":\"field\",\"field\":\"Passengers\"},\"line_color\":\"#30a2da\",\"line_alpha\":0.2,\"line_width\":2}}}}],\"toolbar\":{\"type\":\"object\",\"name\":\"Toolbar\",\"id\":\"6edfb9a6-381e-4759-b616-4b274bcc78ee\",\"attributes\":{\"tools\":[{\"type\":\"object\",\"name\":\"WheelZoomTool\",\"id\":\"3946c585-7a2e-4d7f-9f5a-a38fbf96834c\",\"attributes\":{\"tags\":[\"hv_created\"],\"zoom_together\":\"none\"}},{\"type\":\"object\",\"name\":\"HoverTool\",\"id\":\"7dd0794e-8851-4852-a1e9-a921c128e4e7\",\"attributes\":{\"tags\":[\"hv_created\"],\"renderers\":[{\"id\":\"584d9e6d-edb3-409e-b78e-e4518f2ae2e3\"}],\"tooltips\":[[\"Week_Year\",\"@{Week_Year}\"],[\"Passengers\",\"@{Passengers}\"]]}},{\"type\":\"object\",\"name\":\"SaveTool\",\"id\":\"d7793f14-ff78-4a37-8925-71a517cc9c3c\"},{\"type\":\"object\",\"name\":\"PanTool\",\"id\":\"1a272bc9-3024-4894-a83f-d02de8b23e94\"},{\"type\":\"object\",\"name\":\"BoxZoomTool\",\"id\":\"ed3b38e5-c887-4c98-b3e5-15daa1fdcd8f\",\"attributes\":{\"overlay\":{\"type\":\"object\",\"name\":\"BoxAnnotation\",\"id\":\"c35b5a4f-f341-42e8-a7a7-12586c599e16\",\"attributes\":{\"syncable\":false,\"level\":\"overlay\",\"visible\":false,\"left_units\":\"canvas\",\"right_units\":\"canvas\",\"bottom_units\":\"canvas\",\"top_units\":\"canvas\",\"line_color\":\"black\",\"line_alpha\":1.0,\"line_width\":2,\"line_dash\":[4,4],\"fill_color\":\"lightgrey\",\"fill_alpha\":0.5}}}},{\"type\":\"object\",\"name\":\"ResetTool\",\"id\":\"cc2c5e98-cbc3-405f-ae5f-f2d30cabec5a\"}],\"active_drag\":{\"id\":\"1a272bc9-3024-4894-a83f-d02de8b23e94\"},\"active_scroll\":{\"id\":\"3946c585-7a2e-4d7f-9f5a-a38fbf96834c\"}}},\"left\":[{\"type\":\"object\",\"name\":\"LinearAxis\",\"id\":\"a0478081-2467-426c-b7bf-7fab24ccc9aa\",\"attributes\":{\"ticker\":{\"type\":\"object\",\"name\":\"BasicTicker\",\"id\":\"1953dabb-6ad0-4e62-8079-16f770ea9d41\",\"attributes\":{\"mantissas\":[1,2,5]}},\"formatter\":{\"type\":\"object\",\"name\":\"BasicTickFormatter\",\"id\":\"2a7095de-2687-47b5-8d7d-16f0ef1278d2\"},\"axis_label\":\"Passengers\",\"major_label_policy\":{\"type\":\"object\",\"name\":\"AllLabels\",\"id\":\"d7d012eb-fe45-483d-b0be-8aef97a85191\"}}}],\"below\":[{\"type\":\"object\",\"name\":\"CategoricalAxis\",\"id\":\"ef513f0d-b5c1-4014-a160-6a72839571d0\",\"attributes\":{\"ticker\":{\"type\":\"object\",\"name\":\"CategoricalTicker\",\"id\":\"faafe5ff-2933-4467-8be9-4a9181fd3762\"},\"formatter\":{\"type\":\"object\",\"name\":\"CategoricalTickFormatter\",\"id\":\"a8d5e17b-7449-43aa-84ca-b1ec2310adff\"},\"axis_label\":\"Week_Year\",\"major_label_orientation\":1.5707963267948966,\"major_label_policy\":{\"type\":\"object\",\"name\":\"AllLabels\",\"id\":\"64f75ba6-bfb7-4d8e-be2a-0a5439612fc2\"}}}],\"center\":[{\"type\":\"object\",\"name\":\"Grid\",\"id\":\"ed8eb585-ec1d-41d5-af02-013d599fa2ce\",\"attributes\":{\"axis\":{\"id\":\"ef513f0d-b5c1-4014-a160-6a72839571d0\"},\"grid_line_color\":null}},{\"type\":\"object\",\"name\":\"Grid\",\"id\":\"2a3774aa-24d5-4540-874c-ad9aa4df694b\",\"attributes\":{\"dimension\":1,\"axis\":{\"id\":\"a0478081-2467-426c-b7bf-7fab24ccc9aa\"},\"grid_line_color\":null}}],\"min_border_top\":10,\"min_border_bottom\":10,\"min_border_left\":10,\"min_border_right\":10,\"output_backend\":\"webgl\"}}]}},{\"type\":\"object\",\"name\":\"panel.models.comm_manager.CommManager\",\"id\":\"e08277a7-3189-485a-92b0-7ea0fa7d848a\",\"attributes\":{\"plot_id\":\"9933ac25-a684-4c2f-b471-29101c0f87ae\",\"comm_id\":\"194f796eccb240e884c73cc5065e4539\",\"client_comm_id\":\"64a9403816e64edd8136b87b63b06a6e\"}}],\"defs\":[{\"type\":\"model\",\"name\":\"ReactiveHTML1\"},{\"type\":\"model\",\"name\":\"FlexBox1\",\"properties\":[{\"name\":\"align_content\",\"kind\":\"Any\",\"default\":\"flex-start\"},{\"name\":\"align_items\",\"kind\":\"Any\",\"default\":\"flex-start\"},{\"name\":\"flex_direction\",\"kind\":\"Any\",\"default\":\"row\"},{\"name\":\"flex_wrap\",\"kind\":\"Any\",\"default\":\"wrap\"},{\"name\":\"justify_content\",\"kind\":\"Any\",\"default\":\"flex-start\"}]},{\"type\":\"model\",\"name\":\"FloatPanel1\",\"properties\":[{\"name\":\"config\",\"kind\":\"Any\",\"default\":{\"type\":\"map\"}},{\"name\":\"contained\",\"kind\":\"Any\",\"default\":true},{\"name\":\"position\",\"kind\":\"Any\",\"default\":\"right-top\"},{\"name\":\"offsetx\",\"kind\":\"Any\",\"default\":null},{\"name\":\"offsety\",\"kind\":\"Any\",\"default\":null},{\"name\":\"theme\",\"kind\":\"Any\",\"default\":\"primary\"},{\"name\":\"status\",\"kind\":\"Any\",\"default\":\"normalized\"}]},{\"type\":\"model\",\"name\":\"GridStack1\",\"properties\":[{\"name\":\"mode\",\"kind\":\"Any\",\"default\":\"warn\"},{\"name\":\"ncols\",\"kind\":\"Any\",\"default\":null},{\"name\":\"nrows\",\"kind\":\"Any\",\"default\":null},{\"name\":\"allow_resize\",\"kind\":\"Any\",\"default\":true},{\"name\":\"allow_drag\",\"kind\":\"Any\",\"default\":true},{\"name\":\"state\",\"kind\":\"Any\",\"default\":[]}]},{\"type\":\"model\",\"name\":\"drag1\",\"properties\":[{\"name\":\"slider_width\",\"kind\":\"Any\",\"default\":5},{\"name\":\"slider_color\",\"kind\":\"Any\",\"default\":\"black\"},{\"name\":\"value\",\"kind\":\"Any\",\"default\":50}]},{\"type\":\"model\",\"name\":\"click1\",\"properties\":[{\"name\":\"terminal_output\",\"kind\":\"Any\",\"default\":\"\"},{\"name\":\"debug_name\",\"kind\":\"Any\",\"default\":\"\"},{\"name\":\"clears\",\"kind\":\"Any\",\"default\":0}]},{\"type\":\"model\",\"name\":\"FastWrapper1\",\"properties\":[{\"name\":\"object\",\"kind\":\"Any\",\"default\":null},{\"name\":\"style\",\"kind\":\"Any\",\"default\":null}]},{\"type\":\"model\",\"name\":\"NotificationAreaBase1\",\"properties\":[{\"name\":\"js_events\",\"kind\":\"Any\",\"default\":{\"type\":\"map\"}},{\"name\":\"position\",\"kind\":\"Any\",\"default\":\"bottom-right\"},{\"name\":\"_clear\",\"kind\":\"Any\",\"default\":0}]},{\"type\":\"model\",\"name\":\"NotificationArea1\",\"properties\":[{\"name\":\"js_events\",\"kind\":\"Any\",\"default\":{\"type\":\"map\"}},{\"name\":\"notifications\",\"kind\":\"Any\",\"default\":[]},{\"name\":\"position\",\"kind\":\"Any\",\"default\":\"bottom-right\"},{\"name\":\"_clear\",\"kind\":\"Any\",\"default\":0},{\"name\":\"types\",\"kind\":\"Any\",\"default\":[{\"type\":\"map\",\"entries\":[[\"type\",\"warning\"],[\"background\",\"#ffc107\"],[\"icon\",{\"type\":\"map\",\"entries\":[[\"className\",\"fas fa-exclamation-triangle\"],[\"tagName\",\"i\"],[\"color\",\"white\"]]}]]},{\"type\":\"map\",\"entries\":[[\"type\",\"info\"],[\"background\",\"#007bff\"],[\"icon\",{\"type\":\"map\",\"entries\":[[\"className\",\"fas fa-info-circle\"],[\"tagName\",\"i\"],[\"color\",\"white\"]]}]]}]}]},{\"type\":\"model\",\"name\":\"Notification\",\"properties\":[{\"name\":\"background\",\"kind\":\"Any\",\"default\":null},{\"name\":\"duration\",\"kind\":\"Any\",\"default\":3000},{\"name\":\"icon\",\"kind\":\"Any\",\"default\":null},{\"name\":\"message\",\"kind\":\"Any\",\"default\":\"\"},{\"name\":\"notification_type\",\"kind\":\"Any\",\"default\":null},{\"name\":\"_destroyed\",\"kind\":\"Any\",\"default\":false}]},{\"type\":\"model\",\"name\":\"TemplateActions1\",\"properties\":[{\"name\":\"open_modal\",\"kind\":\"Any\",\"default\":0},{\"name\":\"close_modal\",\"kind\":\"Any\",\"default\":0}]},{\"type\":\"model\",\"name\":\"BootstrapTemplateActions1\",\"properties\":[{\"name\":\"open_modal\",\"kind\":\"Any\",\"default\":0},{\"name\":\"close_modal\",\"kind\":\"Any\",\"default\":0}]},{\"type\":\"model\",\"name\":\"MaterialTemplateActions1\",\"properties\":[{\"name\":\"open_modal\",\"kind\":\"Any\",\"default\":0},{\"name\":\"close_modal\",\"kind\":\"Any\",\"default\":0}]}]}};\n",
       "  var render_items = [{\"docid\":\"7b8ecc12-17ac-4949-bf2b-0043db996e09\",\"roots\":{\"9933ac25-a684-4c2f-b471-29101c0f87ae\":\"e3d469f6-a2fe-4e21-acd3-dd20fcc1bbbf\"},\"root_ids\":[\"9933ac25-a684-4c2f-b471-29101c0f87ae\"]}];\n",
       "  var docs = Object.values(docs_json)\n",
       "  if (!docs) {\n",
       "    return\n",
       "  }\n",
       "  const py_version = docs[0].version.replace('rc', '-rc.').replace('.dev', '-dev.')\n",
       "  const is_dev = py_version.indexOf(\"+\") !== -1 || py_version.indexOf(\"-\") !== -1\n",
       "  function embed_document(root) {\n",
       "    var Bokeh = get_bokeh(root)\n",
       "    Bokeh.embed.embed_items_notebook(docs_json, render_items);\n",
       "    for (const render_item of render_items) {\n",
       "      for (const root_id of render_item.root_ids) {\n",
       "\tconst id_el = document.getElementById(root_id)\n",
       "\tif (id_el.children.length && (id_el.children[0].className === 'bk-root')) {\n",
       "\t  const root_el = id_el.children[0]\n",
       "\t  root_el.id = root_el.id + '-rendered'\n",
       "\t}\n",
       "      }\n",
       "    }\n",
       "  }\n",
       "  function get_bokeh(root) {\n",
       "    if (root.Bokeh === undefined) {\n",
       "      return null\n",
       "    } else if (root.Bokeh.version !== py_version && !is_dev) {\n",
       "      if (root.Bokeh.versions === undefined || !root.Bokeh.versions.has(py_version)) {\n",
       "\treturn null\n",
       "      }\n",
       "      return root.Bokeh.versions.get(py_version);\n",
       "    } else if (root.Bokeh.version === py_version) {\n",
       "      return root.Bokeh\n",
       "    }\n",
       "    return null\n",
       "  }\n",
       "  function is_loaded(root) {\n",
       "    var Bokeh = get_bokeh(root)\n",
       "    return (Bokeh != null && Bokeh.Panel !== undefined)\n",
       "  }\n",
       "  if (is_loaded(root)) {\n",
       "    embed_document(root);\n",
       "  } else {\n",
       "    var attempts = 0;\n",
       "    var timer = setInterval(function(root) {\n",
       "      if (is_loaded(root)) {\n",
       "        clearInterval(timer);\n",
       "        embed_document(root);\n",
       "      } else if (document.readyState == \"complete\") {\n",
       "        attempts++;\n",
       "        if (attempts > 200) {\n",
       "          clearInterval(timer);\n",
       "\t  var Bokeh = get_bokeh(root)\n",
       "\t  if (Bokeh == null || Bokeh.Panel == null) {\n",
       "            console.warn(\"Panel: ERROR: Unable to run Panel code because Bokeh or Panel library is missing\");\n",
       "\t  } else {\n",
       "\t    console.warn(\"Panel: WARNING: Attempting to render but not all required libraries could be resolved.\")\n",
       "\t    embed_document(root)\n",
       "\t  }\n",
       "        }\n",
       "      }\n",
       "    }, 25, root)\n",
       "  }\n",
       "})(window);</script>"
      ],
      "text/plain": [
       "<hvplot.interactive.Interactive at 0x1b0837efd50>"
      ]
     },
     "execution_count": 131,
     "metadata": {
      "application/vnd.holoviews_exec.v0+json": {
       "id": "9933ac25-a684-4c2f-b471-29101c0f87ae"
      }
     },
     "output_type": "execute_result"
    }
   ],
   "source": [
    "import panel as pn\n",
    "pn.extension()\n",
    "\n",
    "year_select = pn.widgets.Select(name = \"Year\", options = [\"2019\", \"2020\", \"2021\", \"2022\", \"2023\"])\n",
    "multi_select = pn.widgets.MultiSelect(name = 'MultiSelect',options = [\"All lines\", \"Green line\", \"Red Line\"])\n",
    "idf = df_ireland1.interactive()\n",
    "\n",
    "def update_dataframe(event):\n",
    "    selected_year = year_select.value\n",
    "    selected_lines = multi_select.value\n",
    "\n",
    "    if \"All lines\" in selected_lines:\n",
    "        selected_lines = df_ireland1['Luas_line'].unique()\n",
    "\n",
    "    idf = idf[(idf[\"Year\"] == selected_year) & (idf[\"Luas_line\"].isin(selected_lines))]\n",
    "\n",
    "idf.hvplot(kind = \"line\", x = \"Week_Year\", y = \"Passengers\", width = 900, rot = 90)\n",
    "    \n",
    "\n",
    "\n"
   ]
  },
  {
   "cell_type": "code",
   "execution_count": 132,
   "id": "d13e8307",
   "metadata": {},
   "outputs": [
    {
     "data": {},
     "metadata": {},
     "output_type": "display_data"
    },
    {
     "data": {},
     "metadata": {},
     "output_type": "display_data"
    },
    {
     "data": {
      "application/vnd.holoviews_exec.v0+json": "",
      "text/html": [
       "<div id='5cdcf7fe-8183-4522-be61-570b318b149b'>\n",
       "  <div id=\"e9838b74-0d87-4d8d-93ae-ab30d8e95a7a\" data-root-id=\"5cdcf7fe-8183-4522-be61-570b318b149b\" style=\"display: contents;\"></div>\n",
       "</div>\n",
       "<script type=\"application/javascript\">(function(root) {\n",
       "  var docs_json = {\"97ffe1e8-6101-4e48-9ab8-f1cd6db1a529\":{\"version\":\"3.2.1\",\"title\":\"Bokeh Application\",\"roots\":[{\"type\":\"object\",\"name\":\"Row\",\"id\":\"5cdcf7fe-8183-4522-be61-570b318b149b\",\"attributes\":{\"name\":\"Row76576\",\"stylesheets\":[\"\\n:host(.pn-loading.pn-arc):before, .pn-loading.pn-arc:before {\\n  background-image: url(\\\"data:image/svg+xml;base64,PHN2ZyB4bWxucz0iaHR0cDovL3d3dy53My5vcmcvMjAwMC9zdmciIHN0eWxlPSJtYXJnaW46IGF1dG87IGJhY2tncm91bmQ6IG5vbmU7IGRpc3BsYXk6IGJsb2NrOyBzaGFwZS1yZW5kZXJpbmc6IGF1dG87IiB2aWV3Qm94PSIwIDAgMTAwIDEwMCIgcHJlc2VydmVBc3BlY3RSYXRpbz0ieE1pZFlNaWQiPiAgPGNpcmNsZSBjeD0iNTAiIGN5PSI1MCIgZmlsbD0ibm9uZSIgc3Ryb2tlPSIjYzNjM2MzIiBzdHJva2Utd2lkdGg9IjEwIiByPSIzNSIgc3Ryb2tlLWRhc2hhcnJheT0iMTY0LjkzMzYxNDMxMzQ2NDE1IDU2Ljk3Nzg3MTQzNzgyMTM4Ij4gICAgPGFuaW1hdGVUcmFuc2Zvcm0gYXR0cmlidXRlTmFtZT0idHJhbnNmb3JtIiB0eXBlPSJyb3RhdGUiIHJlcGVhdENvdW50PSJpbmRlZmluaXRlIiBkdXI9IjFzIiB2YWx1ZXM9IjAgNTAgNTA7MzYwIDUwIDUwIiBrZXlUaW1lcz0iMDsxIj48L2FuaW1hdGVUcmFuc2Zvcm0+ICA8L2NpcmNsZT48L3N2Zz4=\\\");\\n  background-size: auto calc(min(50%, 400px));\\n}\",{\"type\":\"object\",\"name\":\"ImportedStyleSheet\",\"id\":\"9193c55d-65ca-4a43-988d-6e4e25f254ae\",\"attributes\":{\"url\":\"https://cdn.holoviz.org/panel/1.2.1/dist/css/loading.css\"}},{\"type\":\"object\",\"name\":\"ImportedStyleSheet\",\"id\":\"27a88fae-7892-4a8b-b0cf-beb71dce600f\",\"attributes\":{\"url\":\"https://cdn.holoviz.org/panel/1.2.1/dist/css/listpanel.css\"}},{\"type\":\"object\",\"name\":\"ImportedStyleSheet\",\"id\":\"f69d0714-2f35-40c7-8217-543c40874ee8\",\"attributes\":{\"url\":\"https://cdn.holoviz.org/panel/1.2.1/dist/bundled/theme/default.css\"}},{\"type\":\"object\",\"name\":\"ImportedStyleSheet\",\"id\":\"729c2703-9918-4b80-9d64-23f675b56179\",\"attributes\":{\"url\":\"https://cdn.holoviz.org/panel/1.2.1/dist/bundled/theme/native.css\"}}],\"margin\":0,\"align\":\"start\",\"children\":[{\"type\":\"object\",\"name\":\"Column\",\"id\":\"4a76091e-664f-45dd-a621-5f0e66e77f09\",\"attributes\":{\"name\":\"Column76573\",\"stylesheets\":[\"\\n:host(.pn-loading.pn-arc):before, .pn-loading.pn-arc:before {\\n  background-image: url(\\\"data:image/svg+xml;base64,PHN2ZyB4bWxucz0iaHR0cDovL3d3dy53My5vcmcvMjAwMC9zdmciIHN0eWxlPSJtYXJnaW46IGF1dG87IGJhY2tncm91bmQ6IG5vbmU7IGRpc3BsYXk6IGJsb2NrOyBzaGFwZS1yZW5kZXJpbmc6IGF1dG87IiB2aWV3Qm94PSIwIDAgMTAwIDEwMCIgcHJlc2VydmVBc3BlY3RSYXRpbz0ieE1pZFlNaWQiPiAgPGNpcmNsZSBjeD0iNTAiIGN5PSI1MCIgZmlsbD0ibm9uZSIgc3Ryb2tlPSIjYzNjM2MzIiBzdHJva2Utd2lkdGg9IjEwIiByPSIzNSIgc3Ryb2tlLWRhc2hhcnJheT0iMTY0LjkzMzYxNDMxMzQ2NDE1IDU2Ljk3Nzg3MTQzNzgyMTM4Ij4gICAgPGFuaW1hdGVUcmFuc2Zvcm0gYXR0cmlidXRlTmFtZT0idHJhbnNmb3JtIiB0eXBlPSJyb3RhdGUiIHJlcGVhdENvdW50PSJpbmRlZmluaXRlIiBkdXI9IjFzIiB2YWx1ZXM9IjAgNTAgNTA7MzYwIDUwIDUwIiBrZXlUaW1lcz0iMDsxIj48L2FuaW1hdGVUcmFuc2Zvcm0+ICA8L2NpcmNsZT48L3N2Zz4=\\\");\\n  background-size: auto calc(min(50%, 400px));\\n}\",{\"id\":\"9193c55d-65ca-4a43-988d-6e4e25f254ae\"},{\"id\":\"27a88fae-7892-4a8b-b0cf-beb71dce600f\"},{\"id\":\"f69d0714-2f35-40c7-8217-543c40874ee8\"},{\"id\":\"729c2703-9918-4b80-9d64-23f675b56179\"}],\"margin\":0,\"align\":\"start\",\"children\":[{\"type\":\"object\",\"name\":\"Column\",\"id\":\"4cdc5e52-c3c8-426e-85ff-3feee9011776\",\"attributes\":{\"name\":\"Column76556\",\"stylesheets\":[\"\\n:host(.pn-loading.pn-arc):before, .pn-loading.pn-arc:before {\\n  background-image: url(\\\"data:image/svg+xml;base64,PHN2ZyB4bWxucz0iaHR0cDovL3d3dy53My5vcmcvMjAwMC9zdmciIHN0eWxlPSJtYXJnaW46IGF1dG87IGJhY2tncm91bmQ6IG5vbmU7IGRpc3BsYXk6IGJsb2NrOyBzaGFwZS1yZW5kZXJpbmc6IGF1dG87IiB2aWV3Qm94PSIwIDAgMTAwIDEwMCIgcHJlc2VydmVBc3BlY3RSYXRpbz0ieE1pZFlNaWQiPiAgPGNpcmNsZSBjeD0iNTAiIGN5PSI1MCIgZmlsbD0ibm9uZSIgc3Ryb2tlPSIjYzNjM2MzIiBzdHJva2Utd2lkdGg9IjEwIiByPSIzNSIgc3Ryb2tlLWRhc2hhcnJheT0iMTY0LjkzMzYxNDMxMzQ2NDE1IDU2Ljk3Nzg3MTQzNzgyMTM4Ij4gICAgPGFuaW1hdGVUcmFuc2Zvcm0gYXR0cmlidXRlTmFtZT0idHJhbnNmb3JtIiB0eXBlPSJyb3RhdGUiIHJlcGVhdENvdW50PSJpbmRlZmluaXRlIiBkdXI9IjFzIiB2YWx1ZXM9IjAgNTAgNTA7MzYwIDUwIDUwIiBrZXlUaW1lcz0iMDsxIj48L2FuaW1hdGVUcmFuc2Zvcm0+ICA8L2NpcmNsZT48L3N2Zz4=\\\");\\n  background-size: auto calc(min(50%, 400px));\\n}\",{\"id\":\"9193c55d-65ca-4a43-988d-6e4e25f254ae\"},{\"id\":\"27a88fae-7892-4a8b-b0cf-beb71dce600f\"},{\"id\":\"f69d0714-2f35-40c7-8217-543c40874ee8\"},{\"id\":\"729c2703-9918-4b80-9d64-23f675b56179\"}],\"margin\":0,\"align\":\"start\",\"children\":[{\"type\":\"object\",\"name\":\"panel.models.widgets.CustomSelect\",\"id\":\"66044da5-8657-49ae-b0ce-ccf4c10a79b3\",\"attributes\":{\"stylesheets\":[\"\\n:host(.pn-loading.pn-arc):before, .pn-loading.pn-arc:before {\\n  background-image: url(\\\"data:image/svg+xml;base64,PHN2ZyB4bWxucz0iaHR0cDovL3d3dy53My5vcmcvMjAwMC9zdmciIHN0eWxlPSJtYXJnaW46IGF1dG87IGJhY2tncm91bmQ6IG5vbmU7IGRpc3BsYXk6IGJsb2NrOyBzaGFwZS1yZW5kZXJpbmc6IGF1dG87IiB2aWV3Qm94PSIwIDAgMTAwIDEwMCIgcHJlc2VydmVBc3BlY3RSYXRpbz0ieE1pZFlNaWQiPiAgPGNpcmNsZSBjeD0iNTAiIGN5PSI1MCIgZmlsbD0ibm9uZSIgc3Ryb2tlPSIjYzNjM2MzIiBzdHJva2Utd2lkdGg9IjEwIiByPSIzNSIgc3Ryb2tlLWRhc2hhcnJheT0iMTY0LjkzMzYxNDMxMzQ2NDE1IDU2Ljk3Nzg3MTQzNzgyMTM4Ij4gICAgPGFuaW1hdGVUcmFuc2Zvcm0gYXR0cmlidXRlTmFtZT0idHJhbnNmb3JtIiB0eXBlPSJyb3RhdGUiIHJlcGVhdENvdW50PSJpbmRlZmluaXRlIiBkdXI9IjFzIiB2YWx1ZXM9IjAgNTAgNTA7MzYwIDUwIDUwIiBrZXlUaW1lcz0iMDsxIj48L2FuaW1hdGVUcmFuc2Zvcm0+ICA8L2NpcmNsZT48L3N2Zz4=\\\");\\n  background-size: auto calc(min(50%, 400px));\\n}\",{\"id\":\"9193c55d-65ca-4a43-988d-6e4e25f254ae\"},{\"type\":\"object\",\"name\":\"ImportedStyleSheet\",\"id\":\"3b1e6c42-f725-49e3-b162-d90ed2d51e6f\",\"attributes\":{\"url\":\"https://cdn.holoviz.org/panel/1.2.1/dist/css/select.css\"}},{\"id\":\"f69d0714-2f35-40c7-8217-543c40874ee8\"},{\"id\":\"729c2703-9918-4b80-9d64-23f675b56179\"}],\"width\":300,\"min_width\":300,\"margin\":[5,10],\"align\":\"start\",\"title\":\"Year\",\"options\":[\"2019\",\"2020\",\"2021\",\"2022\",\"2023\"],\"value\":\"2019\"}}]}},{\"type\":\"object\",\"name\":\"Figure\",\"id\":\"1e95cf6b-ed00-4781-a8dc-1ec2d2e02d9d\",\"attributes\":{\"width\":900,\"height\":300,\"margin\":[5,10],\"sizing_mode\":\"fixed\",\"align\":\"start\",\"x_range\":{\"type\":\"object\",\"name\":\"FactorRange\",\"id\":\"5a90a7b2-f03a-4bf6-8278-4b55c8d0e548\",\"attributes\":{\"tags\":[[[\"Week_Year\",\"Week_Year\",null]],[]],\"factors\":[\"Week 01\",\"Week 02\",\"Week 03\",\"Week 04\",\"Week 05\",\"Week 06\",\"Week 07\",\"Week 08\",\"Week 09\",\"Week 10\",\"Week 11\",\"Week 12\",\"Week 13\",\"Week 14\",\"Week 15\",\"Week 16\",\"Week 17\",\"Week 18\",\"Week 19\",\"Week 20\",\"Week 21\",\"Week 22\",\"Week 23\",\"Week 24\",\"Week 25\",\"Week 26\",\"Week 27\",\"Week 28\",\"Week 29\",\"Week 30\",\"Week 31\",\"Week 32\",\"Week 33\",\"Week 34\",\"Week 35\",\"Week 36\",\"Week 37\",\"Week 38\",\"Week 39\",\"Week 40\",\"Week 41\",\"Week 42\",\"Week 43\",\"Week 44\",\"Week 45\",\"Week 46\",\"Week 47\",\"Week 48\",\"Week 49\",\"Week 50\",\"Week 51\",\"Week 52\"]}},\"y_range\":{\"type\":\"object\",\"name\":\"Range1d\",\"id\":\"bf7215af-3c0e-4722-aa7a-7fc8dd74f8ac\",\"attributes\":{\"tags\":[[[\"Passengers\",\"Passengers\",null]],{\"type\":\"map\",\"entries\":[[\"invert_yaxis\",false],[\"autorange\",false]]}],\"start\":475014.8,\"end\":1236969.2,\"reset_start\":475014.8,\"reset_end\":1236969.2}},\"x_scale\":{\"type\":\"object\",\"name\":\"CategoricalScale\",\"id\":\"42cf14f1-a393-4950-bfc7-c255aba7d4e4\"},\"y_scale\":{\"type\":\"object\",\"name\":\"LinearScale\",\"id\":\"fbf3f089-397f-442c-8447-bd925995e614\"},\"title\":{\"type\":\"object\",\"name\":\"Title\",\"id\":\"ac805e24-2254-465a-b48a-508b6fc1f27f\",\"attributes\":{\"text_color\":\"black\",\"text_font_size\":\"12pt\"}},\"renderers\":[{\"type\":\"object\",\"name\":\"GlyphRenderer\",\"id\":\"af41f25b-aef0-47ec-bd3e-9f4ab62d5eaf\",\"attributes\":{\"data_source\":{\"type\":\"object\",\"name\":\"ColumnDataSource\",\"id\":\"548f6ea6-3130-4125-b217-2e59ef2ccb68\",\"attributes\":{\"selected\":{\"type\":\"object\",\"name\":\"Selection\",\"id\":\"b32dea84-16cc-4b89-8a37-303e3741dd29\",\"attributes\":{\"indices\":[],\"line_indices\":[]}},\"selection_policy\":{\"type\":\"object\",\"name\":\"UnionRenderers\",\"id\":\"6f523430-dcf3-4169-a22b-55fbd2a46102\"},\"data\":{\"type\":\"map\",\"entries\":[[\"Week_Year\",[\"Week 01\",\"Week 02\",\"Week 03\",\"Week 04\",\"Week 05\",\"Week 06\",\"Week 07\",\"Week 08\",\"Week 09\",\"Week 10\",\"Week 11\",\"Week 12\",\"Week 13\",\"Week 14\",\"Week 15\",\"Week 16\",\"Week 17\",\"Week 18\",\"Week 19\",\"Week 20\",\"Week 21\",\"Week 22\",\"Week 23\",\"Week 24\",\"Week 25\",\"Week 26\",\"Week 27\",\"Week 28\",\"Week 29\",\"Week 30\",\"Week 31\",\"Week 32\",\"Week 33\",\"Week 34\",\"Week 35\",\"Week 36\",\"Week 37\",\"Week 38\",\"Week 39\",\"Week 40\",\"Week 41\",\"Week 42\",\"Week 43\",\"Week 44\",\"Week 45\",\"Week 46\",\"Week 47\",\"Week 48\",\"Week 49\",\"Week 50\",\"Week 51\",\"Week 52\"]],[\"Passengers\",{\"type\":\"ndarray\",\"array\":{\"type\":\"bytes\",\"data\":\"AAAAADrFIEEAAAAA3JopQQAAAAA+ASlBAAAAAJJEKkEAAAAANtsrQQAAAADI2StBAAAAAHizLEEAAAAAxg8tQQAAAADeXCxBAAAAAL6+LEEAAAAAjDosQQAAAADafipBAAAAAL6iLkEAAAAAjn0sQQAAAAD82yxBAAAAAJSzKUEAAAAAIHQoQQAAAACuDSxBAAAAABr2KEEAAAAALp4rQQAAAAAeiitBAAAAAMKxLUEAAAAAOjcpQQAAAACYPixBAAAAABD0KkEAAAAASKMrQQAAAAAg+i1BAAAAAOwMLEEAAAAALJYrQQAAAAA2RixBAAAAAIhnKUEAAAAAwqMoQQAAAACKgipBAAAAALZVKkEAAAAAlmIrQQAAAADkeyxBAAAAALSYLUEAAAAAVjcuQQAAAAACfi9BAAAAAF4YLkEAAAAAHRgwQQAAAAAC8i5BAAAAAFRjL0EAAAAAVDcsQQAAAAByHi9BAAAAANKzL0EAAAAAgzUwQQAAAABE/jBBAAAAANd9MEEAAAAAepAxQQAAAADh5zFBAAAAAB5vIEE=\"},\"shape\":[52],\"dtype\":\"float64\",\"order\":\"little\"}]]}}},\"view\":{\"type\":\"object\",\"name\":\"CDSView\",\"id\":\"2b8a3ba8-8647-48c5-bc3e-7a18bd239b7b\",\"attributes\":{\"filter\":{\"type\":\"object\",\"name\":\"AllIndices\",\"id\":\"8cd0db78-5830-416b-9149-8af4e41e61c3\"}}},\"glyph\":{\"type\":\"object\",\"name\":\"Line\",\"id\":\"4f670e71-86cd-4a1f-a6ba-fc42515f8b03\",\"attributes\":{\"tags\":[\"apply_ranges\"],\"x\":{\"type\":\"field\",\"field\":\"Week_Year\"},\"y\":{\"type\":\"field\",\"field\":\"Passengers\"},\"line_color\":\"#30a2da\",\"line_width\":2}},\"selection_glyph\":{\"type\":\"object\",\"name\":\"Line\",\"id\":\"aa7204c2-7e22-4115-8155-c5edbbba330f\",\"attributes\":{\"tags\":[\"apply_ranges\"],\"x\":{\"type\":\"field\",\"field\":\"Week_Year\"},\"y\":{\"type\":\"field\",\"field\":\"Passengers\"},\"line_color\":\"#30a2da\",\"line_width\":2}},\"nonselection_glyph\":{\"type\":\"object\",\"name\":\"Line\",\"id\":\"5ac2a85a-09ba-4582-a1f7-18bdcfcbbd79\",\"attributes\":{\"tags\":[\"apply_ranges\"],\"x\":{\"type\":\"field\",\"field\":\"Week_Year\"},\"y\":{\"type\":\"field\",\"field\":\"Passengers\"},\"line_color\":\"#30a2da\",\"line_alpha\":0.1,\"line_width\":2}},\"muted_glyph\":{\"type\":\"object\",\"name\":\"Line\",\"id\":\"32624895-3bff-49f2-a226-3520eb651281\",\"attributes\":{\"tags\":[\"apply_ranges\"],\"x\":{\"type\":\"field\",\"field\":\"Week_Year\"},\"y\":{\"type\":\"field\",\"field\":\"Passengers\"},\"line_color\":\"#30a2da\",\"line_alpha\":0.2,\"line_width\":2}}}}],\"toolbar\":{\"type\":\"object\",\"name\":\"Toolbar\",\"id\":\"6427c1d5-8a9e-49c8-ba21-4076dac1f79a\",\"attributes\":{\"tools\":[{\"type\":\"object\",\"name\":\"WheelZoomTool\",\"id\":\"9ac18b06-62aa-435f-92d9-73338479a3c8\",\"attributes\":{\"tags\":[\"hv_created\"],\"zoom_together\":\"none\"}},{\"type\":\"object\",\"name\":\"HoverTool\",\"id\":\"29fe841c-4220-41a9-b77a-a671f1b3f546\",\"attributes\":{\"tags\":[\"hv_created\"],\"renderers\":[{\"id\":\"af41f25b-aef0-47ec-bd3e-9f4ab62d5eaf\"}],\"tooltips\":[[\"Week_Year\",\"@{Week_Year}\"],[\"Passengers\",\"@{Passengers}\"]]}},{\"type\":\"object\",\"name\":\"SaveTool\",\"id\":\"43f2ceb5-448b-4fc0-a409-7814a60b37ed\"},{\"type\":\"object\",\"name\":\"PanTool\",\"id\":\"a6fb7b87-bf28-4515-bac8-6a7eb92962b6\"},{\"type\":\"object\",\"name\":\"BoxZoomTool\",\"id\":\"a351a153-b376-49c6-a3fb-d29e0a7b5634\",\"attributes\":{\"overlay\":{\"type\":\"object\",\"name\":\"BoxAnnotation\",\"id\":\"1c174190-b148-4d7f-9cde-5dcbe3760659\",\"attributes\":{\"syncable\":false,\"level\":\"overlay\",\"visible\":false,\"left_units\":\"canvas\",\"right_units\":\"canvas\",\"bottom_units\":\"canvas\",\"top_units\":\"canvas\",\"line_color\":\"black\",\"line_alpha\":1.0,\"line_width\":2,\"line_dash\":[4,4],\"fill_color\":\"lightgrey\",\"fill_alpha\":0.5}}}},{\"type\":\"object\",\"name\":\"ResetTool\",\"id\":\"fcf04cc0-7cc0-4548-a6f7-bcf90fd5a33e\"}],\"active_drag\":{\"id\":\"a6fb7b87-bf28-4515-bac8-6a7eb92962b6\"},\"active_scroll\":{\"id\":\"9ac18b06-62aa-435f-92d9-73338479a3c8\"}}},\"left\":[{\"type\":\"object\",\"name\":\"LinearAxis\",\"id\":\"0406e1af-a36b-45c2-b073-be055955a4ee\",\"attributes\":{\"ticker\":{\"type\":\"object\",\"name\":\"BasicTicker\",\"id\":\"1d0529b5-5912-4f45-849b-76caf12e0521\",\"attributes\":{\"mantissas\":[1,2,5]}},\"formatter\":{\"type\":\"object\",\"name\":\"BasicTickFormatter\",\"id\":\"549d98ed-f6a4-43c1-a587-e9b0786827ca\"},\"axis_label\":\"Passengers\",\"major_label_policy\":{\"type\":\"object\",\"name\":\"AllLabels\",\"id\":\"2ea0670b-3661-4da7-84d6-465c31221113\"}}}],\"below\":[{\"type\":\"object\",\"name\":\"CategoricalAxis\",\"id\":\"11fc73ba-c168-4edb-9e69-bb654e90e329\",\"attributes\":{\"ticker\":{\"type\":\"object\",\"name\":\"CategoricalTicker\",\"id\":\"8111fbf0-2dbd-425e-92de-51ba2e6c9304\"},\"formatter\":{\"type\":\"object\",\"name\":\"CategoricalTickFormatter\",\"id\":\"9917bba0-8980-4a7e-aa53-2c4f6b84bb93\"},\"axis_label\":\"Week_Year\",\"major_label_orientation\":1.5707963267948966,\"major_label_policy\":{\"type\":\"object\",\"name\":\"AllLabels\",\"id\":\"be09731e-1222-4d5c-a104-f0fcaf4fc29a\"}}}],\"center\":[{\"type\":\"object\",\"name\":\"Grid\",\"id\":\"5b221e4a-21f9-4697-a276-60a32428174d\",\"attributes\":{\"axis\":{\"id\":\"11fc73ba-c168-4edb-9e69-bb654e90e329\"},\"grid_line_color\":null}},{\"type\":\"object\",\"name\":\"Grid\",\"id\":\"84199bb1-80af-4311-8962-aab08d35f6b1\",\"attributes\":{\"dimension\":1,\"axis\":{\"id\":\"0406e1af-a36b-45c2-b073-be055955a4ee\"},\"grid_line_color\":null}}],\"min_border_top\":10,\"min_border_bottom\":10,\"min_border_left\":10,\"min_border_right\":10,\"output_backend\":\"webgl\"}}]}}]}},{\"type\":\"object\",\"name\":\"panel.models.comm_manager.CommManager\",\"id\":\"63d9f6d4-fb26-46dc-a3fc-7f52776771cc\",\"attributes\":{\"plot_id\":\"5cdcf7fe-8183-4522-be61-570b318b149b\",\"comm_id\":\"001e58b20f4043d7bba024176d943d58\",\"client_comm_id\":\"7f86644b85d44094b91597715d9b4a41\"}}],\"defs\":[{\"type\":\"model\",\"name\":\"ReactiveHTML1\"},{\"type\":\"model\",\"name\":\"FlexBox1\",\"properties\":[{\"name\":\"align_content\",\"kind\":\"Any\",\"default\":\"flex-start\"},{\"name\":\"align_items\",\"kind\":\"Any\",\"default\":\"flex-start\"},{\"name\":\"flex_direction\",\"kind\":\"Any\",\"default\":\"row\"},{\"name\":\"flex_wrap\",\"kind\":\"Any\",\"default\":\"wrap\"},{\"name\":\"justify_content\",\"kind\":\"Any\",\"default\":\"flex-start\"}]},{\"type\":\"model\",\"name\":\"FloatPanel1\",\"properties\":[{\"name\":\"config\",\"kind\":\"Any\",\"default\":{\"type\":\"map\"}},{\"name\":\"contained\",\"kind\":\"Any\",\"default\":true},{\"name\":\"position\",\"kind\":\"Any\",\"default\":\"right-top\"},{\"name\":\"offsetx\",\"kind\":\"Any\",\"default\":null},{\"name\":\"offsety\",\"kind\":\"Any\",\"default\":null},{\"name\":\"theme\",\"kind\":\"Any\",\"default\":\"primary\"},{\"name\":\"status\",\"kind\":\"Any\",\"default\":\"normalized\"}]},{\"type\":\"model\",\"name\":\"GridStack1\",\"properties\":[{\"name\":\"mode\",\"kind\":\"Any\",\"default\":\"warn\"},{\"name\":\"ncols\",\"kind\":\"Any\",\"default\":null},{\"name\":\"nrows\",\"kind\":\"Any\",\"default\":null},{\"name\":\"allow_resize\",\"kind\":\"Any\",\"default\":true},{\"name\":\"allow_drag\",\"kind\":\"Any\",\"default\":true},{\"name\":\"state\",\"kind\":\"Any\",\"default\":[]}]},{\"type\":\"model\",\"name\":\"drag1\",\"properties\":[{\"name\":\"slider_width\",\"kind\":\"Any\",\"default\":5},{\"name\":\"slider_color\",\"kind\":\"Any\",\"default\":\"black\"},{\"name\":\"value\",\"kind\":\"Any\",\"default\":50}]},{\"type\":\"model\",\"name\":\"click1\",\"properties\":[{\"name\":\"terminal_output\",\"kind\":\"Any\",\"default\":\"\"},{\"name\":\"debug_name\",\"kind\":\"Any\",\"default\":\"\"},{\"name\":\"clears\",\"kind\":\"Any\",\"default\":0}]},{\"type\":\"model\",\"name\":\"FastWrapper1\",\"properties\":[{\"name\":\"object\",\"kind\":\"Any\",\"default\":null},{\"name\":\"style\",\"kind\":\"Any\",\"default\":null}]},{\"type\":\"model\",\"name\":\"NotificationAreaBase1\",\"properties\":[{\"name\":\"js_events\",\"kind\":\"Any\",\"default\":{\"type\":\"map\"}},{\"name\":\"position\",\"kind\":\"Any\",\"default\":\"bottom-right\"},{\"name\":\"_clear\",\"kind\":\"Any\",\"default\":0}]},{\"type\":\"model\",\"name\":\"NotificationArea1\",\"properties\":[{\"name\":\"js_events\",\"kind\":\"Any\",\"default\":{\"type\":\"map\"}},{\"name\":\"notifications\",\"kind\":\"Any\",\"default\":[]},{\"name\":\"position\",\"kind\":\"Any\",\"default\":\"bottom-right\"},{\"name\":\"_clear\",\"kind\":\"Any\",\"default\":0},{\"name\":\"types\",\"kind\":\"Any\",\"default\":[{\"type\":\"map\",\"entries\":[[\"type\",\"warning\"],[\"background\",\"#ffc107\"],[\"icon\",{\"type\":\"map\",\"entries\":[[\"className\",\"fas fa-exclamation-triangle\"],[\"tagName\",\"i\"],[\"color\",\"white\"]]}]]},{\"type\":\"map\",\"entries\":[[\"type\",\"info\"],[\"background\",\"#007bff\"],[\"icon\",{\"type\":\"map\",\"entries\":[[\"className\",\"fas fa-info-circle\"],[\"tagName\",\"i\"],[\"color\",\"white\"]]}]]}]}]},{\"type\":\"model\",\"name\":\"Notification\",\"properties\":[{\"name\":\"background\",\"kind\":\"Any\",\"default\":null},{\"name\":\"duration\",\"kind\":\"Any\",\"default\":3000},{\"name\":\"icon\",\"kind\":\"Any\",\"default\":null},{\"name\":\"message\",\"kind\":\"Any\",\"default\":\"\"},{\"name\":\"notification_type\",\"kind\":\"Any\",\"default\":null},{\"name\":\"_destroyed\",\"kind\":\"Any\",\"default\":false}]},{\"type\":\"model\",\"name\":\"TemplateActions1\",\"properties\":[{\"name\":\"open_modal\",\"kind\":\"Any\",\"default\":0},{\"name\":\"close_modal\",\"kind\":\"Any\",\"default\":0}]},{\"type\":\"model\",\"name\":\"BootstrapTemplateActions1\",\"properties\":[{\"name\":\"open_modal\",\"kind\":\"Any\",\"default\":0},{\"name\":\"close_modal\",\"kind\":\"Any\",\"default\":0}]},{\"type\":\"model\",\"name\":\"MaterialTemplateActions1\",\"properties\":[{\"name\":\"open_modal\",\"kind\":\"Any\",\"default\":0},{\"name\":\"close_modal\",\"kind\":\"Any\",\"default\":0}]}]}};\n",
       "  var render_items = [{\"docid\":\"97ffe1e8-6101-4e48-9ab8-f1cd6db1a529\",\"roots\":{\"5cdcf7fe-8183-4522-be61-570b318b149b\":\"e9838b74-0d87-4d8d-93ae-ab30d8e95a7a\"},\"root_ids\":[\"5cdcf7fe-8183-4522-be61-570b318b149b\"]}];\n",
       "  var docs = Object.values(docs_json)\n",
       "  if (!docs) {\n",
       "    return\n",
       "  }\n",
       "  const py_version = docs[0].version.replace('rc', '-rc.').replace('.dev', '-dev.')\n",
       "  const is_dev = py_version.indexOf(\"+\") !== -1 || py_version.indexOf(\"-\") !== -1\n",
       "  function embed_document(root) {\n",
       "    var Bokeh = get_bokeh(root)\n",
       "    Bokeh.embed.embed_items_notebook(docs_json, render_items);\n",
       "    for (const render_item of render_items) {\n",
       "      for (const root_id of render_item.root_ids) {\n",
       "\tconst id_el = document.getElementById(root_id)\n",
       "\tif (id_el.children.length && (id_el.children[0].className === 'bk-root')) {\n",
       "\t  const root_el = id_el.children[0]\n",
       "\t  root_el.id = root_el.id + '-rendered'\n",
       "\t}\n",
       "      }\n",
       "    }\n",
       "  }\n",
       "  function get_bokeh(root) {\n",
       "    if (root.Bokeh === undefined) {\n",
       "      return null\n",
       "    } else if (root.Bokeh.version !== py_version && !is_dev) {\n",
       "      if (root.Bokeh.versions === undefined || !root.Bokeh.versions.has(py_version)) {\n",
       "\treturn null\n",
       "      }\n",
       "      return root.Bokeh.versions.get(py_version);\n",
       "    } else if (root.Bokeh.version === py_version) {\n",
       "      return root.Bokeh\n",
       "    }\n",
       "    return null\n",
       "  }\n",
       "  function is_loaded(root) {\n",
       "    var Bokeh = get_bokeh(root)\n",
       "    return (Bokeh != null && Bokeh.Panel !== undefined)\n",
       "  }\n",
       "  if (is_loaded(root)) {\n",
       "    embed_document(root);\n",
       "  } else {\n",
       "    var attempts = 0;\n",
       "    var timer = setInterval(function(root) {\n",
       "      if (is_loaded(root)) {\n",
       "        clearInterval(timer);\n",
       "        embed_document(root);\n",
       "      } else if (document.readyState == \"complete\") {\n",
       "        attempts++;\n",
       "        if (attempts > 200) {\n",
       "          clearInterval(timer);\n",
       "\t  var Bokeh = get_bokeh(root)\n",
       "\t  if (Bokeh == null || Bokeh.Panel == null) {\n",
       "            console.warn(\"Panel: ERROR: Unable to run Panel code because Bokeh or Panel library is missing\");\n",
       "\t  } else {\n",
       "\t    console.warn(\"Panel: WARNING: Attempting to render but not all required libraries could be resolved.\")\n",
       "\t    embed_document(root)\n",
       "\t  }\n",
       "        }\n",
       "      }\n",
       "    }, 25, root)\n",
       "  }\n",
       "})(window);</script>"
      ],
      "text/plain": [
       "<hvplot.interactive.Interactive at 0x1b083f26090>"
      ]
     },
     "execution_count": 132,
     "metadata": {
      "application/vnd.holoviews_exec.v0+json": {
       "id": "5cdcf7fe-8183-4522-be61-570b318b149b"
      }
     },
     "output_type": "execute_result"
    }
   ],
   "source": [
    "year_select = pn.widgets.Select(name = \"Year\", options = [\"2019\", \"2020\", \"2021\", \"2022\", \"2023\"])\n",
    "idf = df_general.interactive()\n",
    "idf = idf[(idf[\"Year\"] == year_select)]\n",
    "\n",
    "idf.head()\n",
    "#label_graph(\"Year\", \"Passengers\",\"Average number of passenger in the Luas service in general\", 10, 6)\n",
    "idf.hvplot(kind = \"line\", x = \"Week_Year\", y = \"Passengers\", width = 900, rot = 90)"
   ]
  },
  {
   "cell_type": "code",
   "execution_count": 123,
   "id": "682e1145",
   "metadata": {},
   "outputs": [
    {
     "data": {},
     "metadata": {},
     "output_type": "display_data"
    },
    {
     "data": {},
     "metadata": {},
     "output_type": "display_data"
    },
    {
     "data": {
      "application/vnd.holoviews_exec.v0+json": "",
      "text/html": [
       "<div id='4f86b375-27b6-4974-b477-04333d4d4048'>\n",
       "  <div id=\"de650ec5-3643-45c6-8e2b-b019eabd7caf\" data-root-id=\"4f86b375-27b6-4974-b477-04333d4d4048\" style=\"display: contents;\"></div>\n",
       "</div>\n",
       "<script type=\"application/javascript\">(function(root) {\n",
       "  var docs_json = {\"9e859340-540f-4974-ade6-1fe65f9eb7b3\":{\"version\":\"3.2.1\",\"title\":\"Bokeh Application\",\"roots\":[{\"type\":\"object\",\"name\":\"Column\",\"id\":\"4f86b375-27b6-4974-b477-04333d4d4048\",\"attributes\":{\"name\":\"Column74888\",\"stylesheets\":[\"\\n:host(.pn-loading.pn-arc):before, .pn-loading.pn-arc:before {\\n  background-image: url(\\\"data:image/svg+xml;base64,PHN2ZyB4bWxucz0iaHR0cDovL3d3dy53My5vcmcvMjAwMC9zdmciIHN0eWxlPSJtYXJnaW46IGF1dG87IGJhY2tncm91bmQ6IG5vbmU7IGRpc3BsYXk6IGJsb2NrOyBzaGFwZS1yZW5kZXJpbmc6IGF1dG87IiB2aWV3Qm94PSIwIDAgMTAwIDEwMCIgcHJlc2VydmVBc3BlY3RSYXRpbz0ieE1pZFlNaWQiPiAgPGNpcmNsZSBjeD0iNTAiIGN5PSI1MCIgZmlsbD0ibm9uZSIgc3Ryb2tlPSIjYzNjM2MzIiBzdHJva2Utd2lkdGg9IjEwIiByPSIzNSIgc3Ryb2tlLWRhc2hhcnJheT0iMTY0LjkzMzYxNDMxMzQ2NDE1IDU2Ljk3Nzg3MTQzNzgyMTM4Ij4gICAgPGFuaW1hdGVUcmFuc2Zvcm0gYXR0cmlidXRlTmFtZT0idHJhbnNmb3JtIiB0eXBlPSJyb3RhdGUiIHJlcGVhdENvdW50PSJpbmRlZmluaXRlIiBkdXI9IjFzIiB2YWx1ZXM9IjAgNTAgNTA7MzYwIDUwIDUwIiBrZXlUaW1lcz0iMDsxIj48L2FuaW1hdGVUcmFuc2Zvcm0+ICA8L2NpcmNsZT48L3N2Zz4=\\\");\\n  background-size: auto calc(min(50%, 400px));\\n}\",{\"type\":\"object\",\"name\":\"ImportedStyleSheet\",\"id\":\"05179817-f79b-4af2-965b-7fb3fdc71b6e\",\"attributes\":{\"url\":\"https://cdn.holoviz.org/panel/1.2.1/dist/css/loading.css\"}},{\"type\":\"object\",\"name\":\"ImportedStyleSheet\",\"id\":\"d667afb0-d832-411b-b221-09b343559dee\",\"attributes\":{\"url\":\"https://cdn.holoviz.org/panel/1.2.1/dist/css/listpanel.css\"}},{\"type\":\"object\",\"name\":\"ImportedStyleSheet\",\"id\":\"cda13461-dd67-44f8-a052-2a5159271cf4\",\"attributes\":{\"url\":\"https://cdn.holoviz.org/panel/1.2.1/dist/bundled/theme/default.css\"}},{\"type\":\"object\",\"name\":\"ImportedStyleSheet\",\"id\":\"721bb6fa-ca46-4720-ac23-29f421296575\",\"attributes\":{\"url\":\"https://cdn.holoviz.org/panel/1.2.1/dist/bundled/theme/native.css\"}}],\"min_width\":400,\"margin\":0,\"sizing_mode\":\"stretch_width\",\"align\":\"start\",\"children\":[{\"type\":\"object\",\"name\":\"panel.models.markup.HTML\",\"id\":\"03e4ed37-a11e-44fc-acd1-b6bfc3c2b108\",\"attributes\":{\"visible\":false,\"css_classes\":[\"markdown\",\"alert\",\"alert-danger\"],\"stylesheets\":[\"\\n:host(.pn-loading.pn-arc):before, .pn-loading.pn-arc:before {\\n  background-image: url(\\\"data:image/svg+xml;base64,PHN2ZyB4bWxucz0iaHR0cDovL3d3dy53My5vcmcvMjAwMC9zdmciIHN0eWxlPSJtYXJnaW46IGF1dG87IGJhY2tncm91bmQ6IG5vbmU7IGRpc3BsYXk6IGJsb2NrOyBzaGFwZS1yZW5kZXJpbmc6IGF1dG87IiB2aWV3Qm94PSIwIDAgMTAwIDEwMCIgcHJlc2VydmVBc3BlY3RSYXRpbz0ieE1pZFlNaWQiPiAgPGNpcmNsZSBjeD0iNTAiIGN5PSI1MCIgZmlsbD0ibm9uZSIgc3Ryb2tlPSIjYzNjM2MzIiBzdHJva2Utd2lkdGg9IjEwIiByPSIzNSIgc3Ryb2tlLWRhc2hhcnJheT0iMTY0LjkzMzYxNDMxMzQ2NDE1IDU2Ljk3Nzg3MTQzNzgyMTM4Ij4gICAgPGFuaW1hdGVUcmFuc2Zvcm0gYXR0cmlidXRlTmFtZT0idHJhbnNmb3JtIiB0eXBlPSJyb3RhdGUiIHJlcGVhdENvdW50PSJpbmRlZmluaXRlIiBkdXI9IjFzIiB2YWx1ZXM9IjAgNTAgNTA7MzYwIDUwIDUwIiBrZXlUaW1lcz0iMDsxIj48L2FuaW1hdGVUcmFuc2Zvcm0+ICA8L2NpcmNsZT48L3N2Zz4=\\\");\\n  background-size: auto calc(min(50%, 400px));\\n}\",{\"id\":\"05179817-f79b-4af2-965b-7fb3fdc71b6e\"},{\"type\":\"object\",\"name\":\"ImportedStyleSheet\",\"id\":\"c3669ab2-28a3-4ec1-beed-1dffaeff2457\",\"attributes\":{\"url\":\"https://cdn.holoviz.org/panel/1.2.1/dist/css/alerts.css\"}},{\"id\":\"cda13461-dd67-44f8-a052-2a5159271cf4\"},{\"id\":\"721bb6fa-ca46-4720-ac23-29f421296575\"}],\"margin\":[5,10],\"sizing_mode\":\"stretch_width\",\"align\":\"start\"}},{\"type\":\"object\",\"name\":\"Row\",\"id\":\"40cc4e9b-1d5b-4908-a845-42467fa9969d\",\"attributes\":{\"name\":\"Row74882\",\"stylesheets\":[\"\\n:host(.pn-loading.pn-arc):before, .pn-loading.pn-arc:before {\\n  background-image: url(\\\"data:image/svg+xml;base64,PHN2ZyB4bWxucz0iaHR0cDovL3d3dy53My5vcmcvMjAwMC9zdmciIHN0eWxlPSJtYXJnaW46IGF1dG87IGJhY2tncm91bmQ6IG5vbmU7IGRpc3BsYXk6IGJsb2NrOyBzaGFwZS1yZW5kZXJpbmc6IGF1dG87IiB2aWV3Qm94PSIwIDAgMTAwIDEwMCIgcHJlc2VydmVBc3BlY3RSYXRpbz0ieE1pZFlNaWQiPiAgPGNpcmNsZSBjeD0iNTAiIGN5PSI1MCIgZmlsbD0ibm9uZSIgc3Ryb2tlPSIjYzNjM2MzIiBzdHJva2Utd2lkdGg9IjEwIiByPSIzNSIgc3Ryb2tlLWRhc2hhcnJheT0iMTY0LjkzMzYxNDMxMzQ2NDE1IDU2Ljk3Nzg3MTQzNzgyMTM4Ij4gICAgPGFuaW1hdGVUcmFuc2Zvcm0gYXR0cmlidXRlTmFtZT0idHJhbnNmb3JtIiB0eXBlPSJyb3RhdGUiIHJlcGVhdENvdW50PSJpbmRlZmluaXRlIiBkdXI9IjFzIiB2YWx1ZXM9IjAgNTAgNTA7MzYwIDUwIDUwIiBrZXlUaW1lcz0iMDsxIj48L2FuaW1hdGVUcmFuc2Zvcm0+ICA8L2NpcmNsZT48L3N2Zz4=\\\");\\n  background-size: auto calc(min(50%, 400px));\\n}\",{\"id\":\"05179817-f79b-4af2-965b-7fb3fdc71b6e\"},{\"id\":\"d667afb0-d832-411b-b221-09b343559dee\"},{\"id\":\"cda13461-dd67-44f8-a052-2a5159271cf4\"},{\"id\":\"721bb6fa-ca46-4720-ac23-29f421296575\"}],\"min_width\":400,\"margin\":0,\"sizing_mode\":\"stretch_width\",\"align\":\"start\",\"children\":[{\"type\":\"object\",\"name\":\"panel.models.tabs.Tabs\",\"id\":\"ef72c2de-4136-4f29-8511-aab986b749a0\",\"attributes\":{\"stylesheets\":[\"\\n:host(.pn-loading.pn-arc):before, .pn-loading.pn-arc:before {\\n  background-image: url(\\\"data:image/svg+xml;base64,PHN2ZyB4bWxucz0iaHR0cDovL3d3dy53My5vcmcvMjAwMC9zdmciIHN0eWxlPSJtYXJnaW46IGF1dG87IGJhY2tncm91bmQ6IG5vbmU7IGRpc3BsYXk6IGJsb2NrOyBzaGFwZS1yZW5kZXJpbmc6IGF1dG87IiB2aWV3Qm94PSIwIDAgMTAwIDEwMCIgcHJlc2VydmVBc3BlY3RSYXRpbz0ieE1pZFlNaWQiPiAgPGNpcmNsZSBjeD0iNTAiIGN5PSI1MCIgZmlsbD0ibm9uZSIgc3Ryb2tlPSIjYzNjM2MzIiBzdHJva2Utd2lkdGg9IjEwIiByPSIzNSIgc3Ryb2tlLWRhc2hhcnJheT0iMTY0LjkzMzYxNDMxMzQ2NDE1IDU2Ljk3Nzg3MTQzNzgyMTM4Ij4gICAgPGFuaW1hdGVUcmFuc2Zvcm0gYXR0cmlidXRlTmFtZT0idHJhbnNmb3JtIiB0eXBlPSJyb3RhdGUiIHJlcGVhdENvdW50PSJpbmRlZmluaXRlIiBkdXI9IjFzIiB2YWx1ZXM9IjAgNTAgNTA7MzYwIDUwIDUwIiBrZXlUaW1lcz0iMDsxIj48L2FuaW1hdGVUcmFuc2Zvcm0+ICA8L2NpcmNsZT48L3N2Zz4=\\\");\\n  background-size: auto calc(min(50%, 400px));\\n}\",{\"id\":\"05179817-f79b-4af2-965b-7fb3fdc71b6e\"},{\"id\":\"cda13461-dd67-44f8-a052-2a5159271cf4\"},{\"id\":\"721bb6fa-ca46-4720-ac23-29f421296575\"}],\"width\":400,\"min_width\":400,\"margin\":0,\"align\":\"start\",\"tabs\":[{\"type\":\"object\",\"name\":\"TabPanel\",\"id\":\"d734a115-b77d-4ba9-ac1e-cc2305759ca3\",\"attributes\":{\"name\":\"hvDataFrameExplorer\",\"title\":\"Fields\",\"child\":{\"type\":\"object\",\"name\":\"Column\",\"id\":\"ea0b87a3-232e-4620-ae1a-57bf285c3037\",\"attributes\":{\"name\":\"hvDataFrameExplorer\",\"stylesheets\":[\"\\n:host(.pn-loading.pn-arc):before, .pn-loading.pn-arc:before {\\n  background-image: url(\\\"data:image/svg+xml;base64,PHN2ZyB4bWxucz0iaHR0cDovL3d3dy53My5vcmcvMjAwMC9zdmciIHN0eWxlPSJtYXJnaW46IGF1dG87IGJhY2tncm91bmQ6IG5vbmU7IGRpc3BsYXk6IGJsb2NrOyBzaGFwZS1yZW5kZXJpbmc6IGF1dG87IiB2aWV3Qm94PSIwIDAgMTAwIDEwMCIgcHJlc2VydmVBc3BlY3RSYXRpbz0ieE1pZFlNaWQiPiAgPGNpcmNsZSBjeD0iNTAiIGN5PSI1MCIgZmlsbD0ibm9uZSIgc3Ryb2tlPSIjYzNjM2MzIiBzdHJva2Utd2lkdGg9IjEwIiByPSIzNSIgc3Ryb2tlLWRhc2hhcnJheT0iMTY0LjkzMzYxNDMxMzQ2NDE1IDU2Ljk3Nzg3MTQzNzgyMTM4Ij4gICAgPGFuaW1hdGVUcmFuc2Zvcm0gYXR0cmlidXRlTmFtZT0idHJhbnNmb3JtIiB0eXBlPSJyb3RhdGUiIHJlcGVhdENvdW50PSJpbmRlZmluaXRlIiBkdXI9IjFzIiB2YWx1ZXM9IjAgNTAgNTA7MzYwIDUwIDUwIiBrZXlUaW1lcz0iMDsxIj48L2FuaW1hdGVUcmFuc2Zvcm0+ICA8L2NpcmNsZT48L3N2Zz4=\\\");\\n  background-size: auto calc(min(50%, 400px));\\n}\",{\"id\":\"05179817-f79b-4af2-965b-7fb3fdc71b6e\"},{\"id\":\"d667afb0-d832-411b-b221-09b343559dee\"},{\"id\":\"cda13461-dd67-44f8-a052-2a5159271cf4\"},{\"id\":\"721bb6fa-ca46-4720-ac23-29f421296575\"}],\"min_width\":320,\"max_width\":300,\"margin\":[5,10],\"sizing_mode\":\"stretch_width\",\"align\":\"start\",\"children\":[{\"type\":\"object\",\"name\":\"panel.models.widgets.CustomSelect\",\"id\":\"a991ca3a-123a-459b-9270-207a21fcb27f\",\"attributes\":{\"stylesheets\":[\"\\n:host(.pn-loading.pn-arc):before, .pn-loading.pn-arc:before {\\n  background-image: url(\\\"data:image/svg+xml;base64,PHN2ZyB4bWxucz0iaHR0cDovL3d3dy53My5vcmcvMjAwMC9zdmciIHN0eWxlPSJtYXJnaW46IGF1dG87IGJhY2tncm91bmQ6IG5vbmU7IGRpc3BsYXk6IGJsb2NrOyBzaGFwZS1yZW5kZXJpbmc6IGF1dG87IiB2aWV3Qm94PSIwIDAgMTAwIDEwMCIgcHJlc2VydmVBc3BlY3RSYXRpbz0ieE1pZFlNaWQiPiAgPGNpcmNsZSBjeD0iNTAiIGN5PSI1MCIgZmlsbD0ibm9uZSIgc3Ryb2tlPSIjYzNjM2MzIiBzdHJva2Utd2lkdGg9IjEwIiByPSIzNSIgc3Ryb2tlLWRhc2hhcnJheT0iMTY0LjkzMzYxNDMxMzQ2NDE1IDU2Ljk3Nzg3MTQzNzgyMTM4Ij4gICAgPGFuaW1hdGVUcmFuc2Zvcm0gYXR0cmlidXRlTmFtZT0idHJhbnNmb3JtIiB0eXBlPSJyb3RhdGUiIHJlcGVhdENvdW50PSJpbmRlZmluaXRlIiBkdXI9IjFzIiB2YWx1ZXM9IjAgNTAgNTA7MzYwIDUwIDUwIiBrZXlUaW1lcz0iMDsxIj48L2FuaW1hdGVUcmFuc2Zvcm0+ICA8L2NpcmNsZT48L3N2Zz4=\\\");\\n  background-size: auto calc(min(50%, 400px));\\n}\",{\"id\":\"05179817-f79b-4af2-965b-7fb3fdc71b6e\"},{\"type\":\"object\",\"name\":\"ImportedStyleSheet\",\"id\":\"484aadd5-943f-447d-9ca6-6cd7a85947e9\",\"attributes\":{\"url\":\"https://cdn.holoviz.org/panel/1.2.1/dist/css/select.css\"}},{\"id\":\"cda13461-dd67-44f8-a052-2a5159271cf4\"},{\"id\":\"721bb6fa-ca46-4720-ac23-29f421296575\"}],\"width\":300,\"min_width\":300,\"margin\":[5,10],\"align\":\"start\",\"title\":\"Kind\",\"options\":[[\"area\",\"area\"],[\"bar\",\"bar\"],[\"barh\",\"barh\"],[\"bivariate\",\"bivariate\"],[\"box\",\"box\"],[\"density\",\"density\"],[\"errorbars\",\"errorbars\"],[\"heatmap\",\"heatmap\"],[\"hexbin\",\"hexbin\"],[\"hist\",\"hist\"],[\"kde\",\"kde\"],[\"labels\",\"labels\"],[\"line\",\"line\"],[\"ohlc\",\"ohlc\"],[\"paths\",\"paths\"],[\"polygons\",\"polygons\"],[\"scatter\",\"scatter\"],[\"step\",\"step\"],[\"table\",\"table\"],[\"vectorfield\",\"vectorfield\"],[\"violin\",\"violin\"]],\"value\":\"line\"}},{\"type\":\"object\",\"name\":\"panel.models.widgets.CustomSelect\",\"id\":\"6ee56c2f-f2d2-45ca-bb8f-72343eae1d3c\",\"attributes\":{\"stylesheets\":[\"\\n:host(.pn-loading.pn-arc):before, .pn-loading.pn-arc:before {\\n  background-image: url(\\\"data:image/svg+xml;base64,PHN2ZyB4bWxucz0iaHR0cDovL3d3dy53My5vcmcvMjAwMC9zdmciIHN0eWxlPSJtYXJnaW46IGF1dG87IGJhY2tncm91bmQ6IG5vbmU7IGRpc3BsYXk6IGJsb2NrOyBzaGFwZS1yZW5kZXJpbmc6IGF1dG87IiB2aWV3Qm94PSIwIDAgMTAwIDEwMCIgcHJlc2VydmVBc3BlY3RSYXRpbz0ieE1pZFlNaWQiPiAgPGNpcmNsZSBjeD0iNTAiIGN5PSI1MCIgZmlsbD0ibm9uZSIgc3Ryb2tlPSIjYzNjM2MzIiBzdHJva2Utd2lkdGg9IjEwIiByPSIzNSIgc3Ryb2tlLWRhc2hhcnJheT0iMTY0LjkzMzYxNDMxMzQ2NDE1IDU2Ljk3Nzg3MTQzNzgyMTM4Ij4gICAgPGFuaW1hdGVUcmFuc2Zvcm0gYXR0cmlidXRlTmFtZT0idHJhbnNmb3JtIiB0eXBlPSJyb3RhdGUiIHJlcGVhdENvdW50PSJpbmRlZmluaXRlIiBkdXI9IjFzIiB2YWx1ZXM9IjAgNTAgNTA7MzYwIDUwIDUwIiBrZXlUaW1lcz0iMDsxIj48L2FuaW1hdGVUcmFuc2Zvcm0+ICA8L2NpcmNsZT48L3N2Zz4=\\\");\\n  background-size: auto calc(min(50%, 400px));\\n}\",{\"id\":\"05179817-f79b-4af2-965b-7fb3fdc71b6e\"},{\"id\":\"484aadd5-943f-447d-9ca6-6cd7a85947e9\"},{\"id\":\"cda13461-dd67-44f8-a052-2a5159271cf4\"},{\"id\":\"721bb6fa-ca46-4720-ac23-29f421296575\"}],\"width\":300,\"min_width\":300,\"margin\":[5,10],\"align\":\"start\",\"title\":\"X\",\"options\":[[\"index\",\"index\"],[\"Year\",\"Year\"],[\"Week_Year\",\"Week_Year\"],[\"Luas_line\",\"Luas_line\"],[\"Luas_line_encoded\",\"Luas_line_encoded\"],[\"Passengers\",\"Passengers\"]],\"value\":\"index\"}},{\"type\":\"object\",\"name\":\"MultiSelect\",\"id\":\"1cb674f4-8cef-4b11-a126-1985702ccd4c\",\"attributes\":{\"stylesheets\":[\"\\n:host(.pn-loading.pn-arc):before, .pn-loading.pn-arc:before {\\n  background-image: url(\\\"data:image/svg+xml;base64,PHN2ZyB4bWxucz0iaHR0cDovL3d3dy53My5vcmcvMjAwMC9zdmciIHN0eWxlPSJtYXJnaW46IGF1dG87IGJhY2tncm91bmQ6IG5vbmU7IGRpc3BsYXk6IGJsb2NrOyBzaGFwZS1yZW5kZXJpbmc6IGF1dG87IiB2aWV3Qm94PSIwIDAgMTAwIDEwMCIgcHJlc2VydmVBc3BlY3RSYXRpbz0ieE1pZFlNaWQiPiAgPGNpcmNsZSBjeD0iNTAiIGN5PSI1MCIgZmlsbD0ibm9uZSIgc3Ryb2tlPSIjYzNjM2MzIiBzdHJva2Utd2lkdGg9IjEwIiByPSIzNSIgc3Ryb2tlLWRhc2hhcnJheT0iMTY0LjkzMzYxNDMxMzQ2NDE1IDU2Ljk3Nzg3MTQzNzgyMTM4Ij4gICAgPGFuaW1hdGVUcmFuc2Zvcm0gYXR0cmlidXRlTmFtZT0idHJhbnNmb3JtIiB0eXBlPSJyb3RhdGUiIHJlcGVhdENvdW50PSJpbmRlZmluaXRlIiBkdXI9IjFzIiB2YWx1ZXM9IjAgNTAgNTA7MzYwIDUwIDUwIiBrZXlUaW1lcz0iMDsxIj48L2FuaW1hdGVUcmFuc2Zvcm0+ICA8L2NpcmNsZT48L3N2Zz4=\\\");\\n  background-size: auto calc(min(50%, 400px));\\n}\",{\"id\":\"05179817-f79b-4af2-965b-7fb3fdc71b6e\"},{\"id\":\"484aadd5-943f-447d-9ca6-6cd7a85947e9\"},{\"id\":\"cda13461-dd67-44f8-a052-2a5159271cf4\"},{\"id\":\"721bb6fa-ca46-4720-ac23-29f421296575\"}],\"width\":300,\"min_width\":300,\"margin\":[5,10],\"align\":\"start\",\"title\":\"y\",\"options\":[\"Year\",\"Week_Year\",\"Luas_line\",\"Luas_line_encoded\",\"Passengers\"]}},{\"type\":\"object\",\"name\":\"MultiSelect\",\"id\":\"23973042-f040-4f49-86dd-f8f76c6b81ee\",\"attributes\":{\"stylesheets\":[\"\\n:host(.pn-loading.pn-arc):before, .pn-loading.pn-arc:before {\\n  background-image: url(\\\"data:image/svg+xml;base64,PHN2ZyB4bWxucz0iaHR0cDovL3d3dy53My5vcmcvMjAwMC9zdmciIHN0eWxlPSJtYXJnaW46IGF1dG87IGJhY2tncm91bmQ6IG5vbmU7IGRpc3BsYXk6IGJsb2NrOyBzaGFwZS1yZW5kZXJpbmc6IGF1dG87IiB2aWV3Qm94PSIwIDAgMTAwIDEwMCIgcHJlc2VydmVBc3BlY3RSYXRpbz0ieE1pZFlNaWQiPiAgPGNpcmNsZSBjeD0iNTAiIGN5PSI1MCIgZmlsbD0ibm9uZSIgc3Ryb2tlPSIjYzNjM2MzIiBzdHJva2Utd2lkdGg9IjEwIiByPSIzNSIgc3Ryb2tlLWRhc2hhcnJheT0iMTY0LjkzMzYxNDMxMzQ2NDE1IDU2Ljk3Nzg3MTQzNzgyMTM4Ij4gICAgPGFuaW1hdGVUcmFuc2Zvcm0gYXR0cmlidXRlTmFtZT0idHJhbnNmb3JtIiB0eXBlPSJyb3RhdGUiIHJlcGVhdENvdW50PSJpbmRlZmluaXRlIiBkdXI9IjFzIiB2YWx1ZXM9IjAgNTAgNTA7MzYwIDUwIDUwIiBrZXlUaW1lcz0iMDsxIj48L2FuaW1hdGVUcmFuc2Zvcm0+ICA8L2NpcmNsZT48L3N2Zz4=\\\");\\n  background-size: auto calc(min(50%, 400px));\\n}\",{\"id\":\"05179817-f79b-4af2-965b-7fb3fdc71b6e\"},{\"id\":\"484aadd5-943f-447d-9ca6-6cd7a85947e9\"},{\"id\":\"cda13461-dd67-44f8-a052-2a5159271cf4\"},{\"id\":\"721bb6fa-ca46-4720-ac23-29f421296575\"}],\"width\":300,\"min_width\":300,\"margin\":[5,10],\"align\":\"start\",\"title\":\"By\",\"options\":[\"Year\",\"Week_Year\",\"Luas_line\",\"Luas_line_encoded\",\"Passengers\"]}},{\"type\":\"object\",\"name\":\"MultiSelect\",\"id\":\"2bdfacb6-cd7f-497a-9e3a-c6359ee6aeac\",\"attributes\":{\"stylesheets\":[\"\\n:host(.pn-loading.pn-arc):before, .pn-loading.pn-arc:before {\\n  background-image: url(\\\"data:image/svg+xml;base64,PHN2ZyB4bWxucz0iaHR0cDovL3d3dy53My5vcmcvMjAwMC9zdmciIHN0eWxlPSJtYXJnaW46IGF1dG87IGJhY2tncm91bmQ6IG5vbmU7IGRpc3BsYXk6IGJsb2NrOyBzaGFwZS1yZW5kZXJpbmc6IGF1dG87IiB2aWV3Qm94PSIwIDAgMTAwIDEwMCIgcHJlc2VydmVBc3BlY3RSYXRpbz0ieE1pZFlNaWQiPiAgPGNpcmNsZSBjeD0iNTAiIGN5PSI1MCIgZmlsbD0ibm9uZSIgc3Ryb2tlPSIjYzNjM2MzIiBzdHJva2Utd2lkdGg9IjEwIiByPSIzNSIgc3Ryb2tlLWRhc2hhcnJheT0iMTY0LjkzMzYxNDMxMzQ2NDE1IDU2Ljk3Nzg3MTQzNzgyMTM4Ij4gICAgPGFuaW1hdGVUcmFuc2Zvcm0gYXR0cmlidXRlTmFtZT0idHJhbnNmb3JtIiB0eXBlPSJyb3RhdGUiIHJlcGVhdENvdW50PSJpbmRlZmluaXRlIiBkdXI9IjFzIiB2YWx1ZXM9IjAgNTAgNTA7MzYwIDUwIDUwIiBrZXlUaW1lcz0iMDsxIj48L2FuaW1hdGVUcmFuc2Zvcm0+ICA8L2NpcmNsZT48L3N2Zz4=\\\");\\n  background-size: auto calc(min(50%, 400px));\\n}\",{\"id\":\"05179817-f79b-4af2-965b-7fb3fdc71b6e\"},{\"id\":\"484aadd5-943f-447d-9ca6-6cd7a85947e9\"},{\"id\":\"cda13461-dd67-44f8-a052-2a5159271cf4\"},{\"id\":\"721bb6fa-ca46-4720-ac23-29f421296575\"}],\"width\":300,\"min_width\":300,\"margin\":[5,10],\"align\":\"start\",\"title\":\"Groupby\",\"options\":[\"Year\",\"Week_Year\",\"Luas_line\",\"Luas_line_encoded\",\"Passengers\"]}}]}}}},{\"type\":\"object\",\"name\":\"TabPanel\",\"id\":\"ec040a6c-fb00-4654-a90a-dc7dcd935928\",\"attributes\":{\"name\":\"Axes\",\"title\":\"Axes\",\"child\":{\"type\":\"object\",\"name\":\"Column\",\"id\":\"9a115d04-1549-4e5a-8c7a-f999bfbbfffb\",\"attributes\":{\"name\":\"Axes\",\"stylesheets\":[\"\\n:host(.pn-loading.pn-arc):before, .pn-loading.pn-arc:before {\\n  background-image: url(\\\"data:image/svg+xml;base64,PHN2ZyB4bWxucz0iaHR0cDovL3d3dy53My5vcmcvMjAwMC9zdmciIHN0eWxlPSJtYXJnaW46IGF1dG87IGJhY2tncm91bmQ6IG5vbmU7IGRpc3BsYXk6IGJsb2NrOyBzaGFwZS1yZW5kZXJpbmc6IGF1dG87IiB2aWV3Qm94PSIwIDAgMTAwIDEwMCIgcHJlc2VydmVBc3BlY3RSYXRpbz0ieE1pZFlNaWQiPiAgPGNpcmNsZSBjeD0iNTAiIGN5PSI1MCIgZmlsbD0ibm9uZSIgc3Ryb2tlPSIjYzNjM2MzIiBzdHJva2Utd2lkdGg9IjEwIiByPSIzNSIgc3Ryb2tlLWRhc2hhcnJheT0iMTY0LjkzMzYxNDMxMzQ2NDE1IDU2Ljk3Nzg3MTQzNzgyMTM4Ij4gICAgPGFuaW1hdGVUcmFuc2Zvcm0gYXR0cmlidXRlTmFtZT0idHJhbnNmb3JtIiB0eXBlPSJyb3RhdGUiIHJlcGVhdENvdW50PSJpbmRlZmluaXRlIiBkdXI9IjFzIiB2YWx1ZXM9IjAgNTAgNTA7MzYwIDUwIDUwIiBrZXlUaW1lcz0iMDsxIj48L2FuaW1hdGVUcmFuc2Zvcm0+ICA8L2NpcmNsZT48L3N2Zz4=\\\");\\n  background-size: auto calc(min(50%, 400px));\\n}\",{\"id\":\"05179817-f79b-4af2-965b-7fb3fdc71b6e\"},{\"id\":\"d667afb0-d832-411b-b221-09b343559dee\"},{\"id\":\"cda13461-dd67-44f8-a052-2a5159271cf4\"},{\"id\":\"721bb6fa-ca46-4720-ac23-29f421296575\"}],\"margin\":[5,10],\"align\":\"start\",\"children\":[{\"type\":\"object\",\"name\":\"RangeSlider\",\"id\":\"06a290d1-ff5c-428a-9288-053d3601adb1\",\"attributes\":{\"stylesheets\":[\"\\n:host(.pn-loading.pn-arc):before, .pn-loading.pn-arc:before {\\n  background-image: url(\\\"data:image/svg+xml;base64,PHN2ZyB4bWxucz0iaHR0cDovL3d3dy53My5vcmcvMjAwMC9zdmciIHN0eWxlPSJtYXJnaW46IGF1dG87IGJhY2tncm91bmQ6IG5vbmU7IGRpc3BsYXk6IGJsb2NrOyBzaGFwZS1yZW5kZXJpbmc6IGF1dG87IiB2aWV3Qm94PSIwIDAgMTAwIDEwMCIgcHJlc2VydmVBc3BlY3RSYXRpbz0ieE1pZFlNaWQiPiAgPGNpcmNsZSBjeD0iNTAiIGN5PSI1MCIgZmlsbD0ibm9uZSIgc3Ryb2tlPSIjYzNjM2MzIiBzdHJva2Utd2lkdGg9IjEwIiByPSIzNSIgc3Ryb2tlLWRhc2hhcnJheT0iMTY0LjkzMzYxNDMxMzQ2NDE1IDU2Ljk3Nzg3MTQzNzgyMTM4Ij4gICAgPGFuaW1hdGVUcmFuc2Zvcm0gYXR0cmlidXRlTmFtZT0idHJhbnNmb3JtIiB0eXBlPSJyb3RhdGUiIHJlcGVhdENvdW50PSJpbmRlZmluaXRlIiBkdXI9IjFzIiB2YWx1ZXM9IjAgNTAgNTA7MzYwIDUwIDUwIiBrZXlUaW1lcz0iMDsxIj48L2FuaW1hdGVUcmFuc2Zvcm0+ICA8L2NpcmNsZT48L3N2Zz4=\\\");\\n  background-size: auto calc(min(50%, 400px));\\n}\",{\"id\":\"05179817-f79b-4af2-965b-7fb3fdc71b6e\"},{\"id\":\"cda13461-dd67-44f8-a052-2a5159271cf4\"},{\"id\":\"721bb6fa-ca46-4720-ac23-29f421296575\"}],\"margin\":[5,10],\"align\":\"start\",\"title\":\"Xlim\",\"value\":[1,767],\"start\":1,\"end\":767,\"step\":0.1}},{\"type\":\"object\",\"name\":\"panel.models.widgets.CustomSelect\",\"id\":\"7e6995bd-074b-4ccd-9ee1-4b777d8871a5\",\"attributes\":{\"stylesheets\":[\"\\n:host(.pn-loading.pn-arc):before, .pn-loading.pn-arc:before {\\n  background-image: url(\\\"data:image/svg+xml;base64,PHN2ZyB4bWxucz0iaHR0cDovL3d3dy53My5vcmcvMjAwMC9zdmciIHN0eWxlPSJtYXJnaW46IGF1dG87IGJhY2tncm91bmQ6IG5vbmU7IGRpc3BsYXk6IGJsb2NrOyBzaGFwZS1yZW5kZXJpbmc6IGF1dG87IiB2aWV3Qm94PSIwIDAgMTAwIDEwMCIgcHJlc2VydmVBc3BlY3RSYXRpbz0ieE1pZFlNaWQiPiAgPGNpcmNsZSBjeD0iNTAiIGN5PSI1MCIgZmlsbD0ibm9uZSIgc3Ryb2tlPSIjYzNjM2MzIiBzdHJva2Utd2lkdGg9IjEwIiByPSIzNSIgc3Ryb2tlLWRhc2hhcnJheT0iMTY0LjkzMzYxNDMxMzQ2NDE1IDU2Ljk3Nzg3MTQzNzgyMTM4Ij4gICAgPGFuaW1hdGVUcmFuc2Zvcm0gYXR0cmlidXRlTmFtZT0idHJhbnNmb3JtIiB0eXBlPSJyb3RhdGUiIHJlcGVhdENvdW50PSJpbmRlZmluaXRlIiBkdXI9IjFzIiB2YWx1ZXM9IjAgNTAgNTA7MzYwIDUwIDUwIiBrZXlUaW1lcz0iMDsxIj48L2FuaW1hdGVUcmFuc2Zvcm0+ICA8L2NpcmNsZT48L3N2Zz4=\\\");\\n  background-size: auto calc(min(50%, 400px));\\n}\",{\"id\":\"05179817-f79b-4af2-965b-7fb3fdc71b6e\"},{\"id\":\"484aadd5-943f-447d-9ca6-6cd7a85947e9\"},{\"id\":\"cda13461-dd67-44f8-a052-2a5159271cf4\"},{\"id\":\"721bb6fa-ca46-4720-ac23-29f421296575\"}],\"width\":300,\"min_width\":300,\"margin\":[5,10],\"align\":\"start\",\"title\":\"Legend\",\"options\":[[\"top_right\",\"top_right\"],[\"top_left\",\"top_left\"],[\"bottom_left\",\"bottom_left\"],[\"bottom_right\",\"bottom_right\"],[\"right\",\"right\"],[\"left\",\"left\"],[\"top\",\"top\"],[\"bottom\",\"bottom\"]],\"value\":\"right\"}},{\"type\":\"object\",\"name\":\"Checkbox\",\"id\":\"51ab585a-f35f-431e-a32c-30e71bc99f13\",\"attributes\":{\"stylesheets\":[\"\\n:host(.pn-loading.pn-arc):before, .pn-loading.pn-arc:before {\\n  background-image: url(\\\"data:image/svg+xml;base64,PHN2ZyB4bWxucz0iaHR0cDovL3d3dy53My5vcmcvMjAwMC9zdmciIHN0eWxlPSJtYXJnaW46IGF1dG87IGJhY2tncm91bmQ6IG5vbmU7IGRpc3BsYXk6IGJsb2NrOyBzaGFwZS1yZW5kZXJpbmc6IGF1dG87IiB2aWV3Qm94PSIwIDAgMTAwIDEwMCIgcHJlc2VydmVBc3BlY3RSYXRpbz0ieE1pZFlNaWQiPiAgPGNpcmNsZSBjeD0iNTAiIGN5PSI1MCIgZmlsbD0ibm9uZSIgc3Ryb2tlPSIjYzNjM2MzIiBzdHJva2Utd2lkdGg9IjEwIiByPSIzNSIgc3Ryb2tlLWRhc2hhcnJheT0iMTY0LjkzMzYxNDMxMzQ2NDE1IDU2Ljk3Nzg3MTQzNzgyMTM4Ij4gICAgPGFuaW1hdGVUcmFuc2Zvcm0gYXR0cmlidXRlTmFtZT0idHJhbnNmb3JtIiB0eXBlPSJyb3RhdGUiIHJlcGVhdENvdW50PSJpbmRlZmluaXRlIiBkdXI9IjFzIiB2YWx1ZXM9IjAgNTAgNTA7MzYwIDUwIDUwIiBrZXlUaW1lcz0iMDsxIj48L2FuaW1hdGVUcmFuc2Zvcm0+ICA8L2NpcmNsZT48L3N2Zz4=\\\");\\n  background-size: auto calc(min(50%, 400px));\\n}\",{\"id\":\"05179817-f79b-4af2-965b-7fb3fdc71b6e\"},{\"id\":\"cda13461-dd67-44f8-a052-2a5159271cf4\"},{\"id\":\"721bb6fa-ca46-4720-ac23-29f421296575\"}],\"margin\":[5,10],\"align\":\"start\",\"label\":\"Logx\"}},{\"type\":\"object\",\"name\":\"Checkbox\",\"id\":\"f6205846-f278-4285-8e4f-187568913a82\",\"attributes\":{\"stylesheets\":[\"\\n:host(.pn-loading.pn-arc):before, .pn-loading.pn-arc:before {\\n  background-image: url(\\\"data:image/svg+xml;base64,PHN2ZyB4bWxucz0iaHR0cDovL3d3dy53My5vcmcvMjAwMC9zdmciIHN0eWxlPSJtYXJnaW46IGF1dG87IGJhY2tncm91bmQ6IG5vbmU7IGRpc3BsYXk6IGJsb2NrOyBzaGFwZS1yZW5kZXJpbmc6IGF1dG87IiB2aWV3Qm94PSIwIDAgMTAwIDEwMCIgcHJlc2VydmVBc3BlY3RSYXRpbz0ieE1pZFlNaWQiPiAgPGNpcmNsZSBjeD0iNTAiIGN5PSI1MCIgZmlsbD0ibm9uZSIgc3Ryb2tlPSIjYzNjM2MzIiBzdHJva2Utd2lkdGg9IjEwIiByPSIzNSIgc3Ryb2tlLWRhc2hhcnJheT0iMTY0LjkzMzYxNDMxMzQ2NDE1IDU2Ljk3Nzg3MTQzNzgyMTM4Ij4gICAgPGFuaW1hdGVUcmFuc2Zvcm0gYXR0cmlidXRlTmFtZT0idHJhbnNmb3JtIiB0eXBlPSJyb3RhdGUiIHJlcGVhdENvdW50PSJpbmRlZmluaXRlIiBkdXI9IjFzIiB2YWx1ZXM9IjAgNTAgNTA7MzYwIDUwIDUwIiBrZXlUaW1lcz0iMDsxIj48L2FuaW1hdGVUcmFuc2Zvcm0+ICA8L2NpcmNsZT48L3N2Zz4=\\\");\\n  background-size: auto calc(min(50%, 400px));\\n}\",{\"id\":\"05179817-f79b-4af2-965b-7fb3fdc71b6e\"},{\"id\":\"cda13461-dd67-44f8-a052-2a5159271cf4\"},{\"id\":\"721bb6fa-ca46-4720-ac23-29f421296575\"}],\"margin\":[5,10],\"align\":\"start\",\"label\":\"Logy\"}},{\"type\":\"object\",\"name\":\"Spinner\",\"id\":\"0b29eb86-5afd-4d07-a543-b93b7a4c99f2\",\"attributes\":{\"stylesheets\":[\"\\n:host(.pn-loading.pn-arc):before, .pn-loading.pn-arc:before {\\n  background-image: url(\\\"data:image/svg+xml;base64,PHN2ZyB4bWxucz0iaHR0cDovL3d3dy53My5vcmcvMjAwMC9zdmciIHN0eWxlPSJtYXJnaW46IGF1dG87IGJhY2tncm91bmQ6IG5vbmU7IGRpc3BsYXk6IGJsb2NrOyBzaGFwZS1yZW5kZXJpbmc6IGF1dG87IiB2aWV3Qm94PSIwIDAgMTAwIDEwMCIgcHJlc2VydmVBc3BlY3RSYXRpbz0ieE1pZFlNaWQiPiAgPGNpcmNsZSBjeD0iNTAiIGN5PSI1MCIgZmlsbD0ibm9uZSIgc3Ryb2tlPSIjYzNjM2MzIiBzdHJva2Utd2lkdGg9IjEwIiByPSIzNSIgc3Ryb2tlLWRhc2hhcnJheT0iMTY0LjkzMzYxNDMxMzQ2NDE1IDU2Ljk3Nzg3MTQzNzgyMTM4Ij4gICAgPGFuaW1hdGVUcmFuc2Zvcm0gYXR0cmlidXRlTmFtZT0idHJhbnNmb3JtIiB0eXBlPSJyb3RhdGUiIHJlcGVhdENvdW50PSJpbmRlZmluaXRlIiBkdXI9IjFzIiB2YWx1ZXM9IjAgNTAgNTA7MzYwIDUwIDUwIiBrZXlUaW1lcz0iMDsxIj48L2FuaW1hdGVUcmFuc2Zvcm0+ICA8L2NpcmNsZT48L3N2Zz4=\\\");\\n  background-size: auto calc(min(50%, 400px));\\n}\",{\"id\":\"05179817-f79b-4af2-965b-7fb3fdc71b6e\"},{\"id\":\"cda13461-dd67-44f8-a052-2a5159271cf4\"},{\"id\":\"721bb6fa-ca46-4720-ac23-29f421296575\"}],\"width\":300,\"min_width\":300,\"margin\":[5,10],\"align\":\"start\",\"title\":\"Height\",\"low\":0,\"placeholder\":\"0\",\"mode\":\"int\"}},{\"type\":\"object\",\"name\":\"Spinner\",\"id\":\"26e1b516-c135-4c7e-942d-be6bab3fd06f\",\"attributes\":{\"stylesheets\":[\"\\n:host(.pn-loading.pn-arc):before, .pn-loading.pn-arc:before {\\n  background-image: url(\\\"data:image/svg+xml;base64,PHN2ZyB4bWxucz0iaHR0cDovL3d3dy53My5vcmcvMjAwMC9zdmciIHN0eWxlPSJtYXJnaW46IGF1dG87IGJhY2tncm91bmQ6IG5vbmU7IGRpc3BsYXk6IGJsb2NrOyBzaGFwZS1yZW5kZXJpbmc6IGF1dG87IiB2aWV3Qm94PSIwIDAgMTAwIDEwMCIgcHJlc2VydmVBc3BlY3RSYXRpbz0ieE1pZFlNaWQiPiAgPGNpcmNsZSBjeD0iNTAiIGN5PSI1MCIgZmlsbD0ibm9uZSIgc3Ryb2tlPSIjYzNjM2MzIiBzdHJva2Utd2lkdGg9IjEwIiByPSIzNSIgc3Ryb2tlLWRhc2hhcnJheT0iMTY0LjkzMzYxNDMxMzQ2NDE1IDU2Ljk3Nzg3MTQzNzgyMTM4Ij4gICAgPGFuaW1hdGVUcmFuc2Zvcm0gYXR0cmlidXRlTmFtZT0idHJhbnNmb3JtIiB0eXBlPSJyb3RhdGUiIHJlcGVhdENvdW50PSJpbmRlZmluaXRlIiBkdXI9IjFzIiB2YWx1ZXM9IjAgNTAgNTA7MzYwIDUwIDUwIiBrZXlUaW1lcz0iMDsxIj48L2FuaW1hdGVUcmFuc2Zvcm0+ICA8L2NpcmNsZT48L3N2Zz4=\\\");\\n  background-size: auto calc(min(50%, 400px));\\n}\",{\"id\":\"05179817-f79b-4af2-965b-7fb3fdc71b6e\"},{\"id\":\"cda13461-dd67-44f8-a052-2a5159271cf4\"},{\"id\":\"721bb6fa-ca46-4720-ac23-29f421296575\"}],\"width\":300,\"min_width\":300,\"margin\":[5,10],\"align\":\"start\",\"title\":\"Width\",\"low\":0,\"placeholder\":\"0\",\"mode\":\"int\"}},{\"type\":\"object\",\"name\":\"Checkbox\",\"id\":\"49b41aac-9f63-4141-aac7-3194117b7f51\",\"attributes\":{\"stylesheets\":[\"\\n:host(.pn-loading.pn-arc):before, .pn-loading.pn-arc:before {\\n  background-image: url(\\\"data:image/svg+xml;base64,PHN2ZyB4bWxucz0iaHR0cDovL3d3dy53My5vcmcvMjAwMC9zdmciIHN0eWxlPSJtYXJnaW46IGF1dG87IGJhY2tncm91bmQ6IG5vbmU7IGRpc3BsYXk6IGJsb2NrOyBzaGFwZS1yZW5kZXJpbmc6IGF1dG87IiB2aWV3Qm94PSIwIDAgMTAwIDEwMCIgcHJlc2VydmVBc3BlY3RSYXRpbz0ieE1pZFlNaWQiPiAgPGNpcmNsZSBjeD0iNTAiIGN5PSI1MCIgZmlsbD0ibm9uZSIgc3Ryb2tlPSIjYzNjM2MzIiBzdHJva2Utd2lkdGg9IjEwIiByPSIzNSIgc3Ryb2tlLWRhc2hhcnJheT0iMTY0LjkzMzYxNDMxMzQ2NDE1IDU2Ljk3Nzg3MTQzNzgyMTM4Ij4gICAgPGFuaW1hdGVUcmFuc2Zvcm0gYXR0cmlidXRlTmFtZT0idHJhbnNmb3JtIiB0eXBlPSJyb3RhdGUiIHJlcGVhdENvdW50PSJpbmRlZmluaXRlIiBkdXI9IjFzIiB2YWx1ZXM9IjAgNTAgNTA7MzYwIDUwIDUwIiBrZXlUaW1lcz0iMDsxIj48L2FuaW1hdGVUcmFuc2Zvcm0+ICA8L2NpcmNsZT48L3N2Zz4=\\\");\\n  background-size: auto calc(min(50%, 400px));\\n}\",{\"id\":\"05179817-f79b-4af2-965b-7fb3fdc71b6e\"},{\"id\":\"cda13461-dd67-44f8-a052-2a5159271cf4\"},{\"id\":\"721bb6fa-ca46-4720-ac23-29f421296575\"}],\"margin\":[5,10],\"align\":\"start\",\"label\":\"Responsive\"}},{\"type\":\"object\",\"name\":\"Checkbox\",\"id\":\"dc54c2ff-783f-4904-bdb8-d939ae89736f\",\"attributes\":{\"stylesheets\":[\"\\n:host(.pn-loading.pn-arc):before, .pn-loading.pn-arc:before {\\n  background-image: url(\\\"data:image/svg+xml;base64,PHN2ZyB4bWxucz0iaHR0cDovL3d3dy53My5vcmcvMjAwMC9zdmciIHN0eWxlPSJtYXJnaW46IGF1dG87IGJhY2tncm91bmQ6IG5vbmU7IGRpc3BsYXk6IGJsb2NrOyBzaGFwZS1yZW5kZXJpbmc6IGF1dG87IiB2aWV3Qm94PSIwIDAgMTAwIDEwMCIgcHJlc2VydmVBc3BlY3RSYXRpbz0ieE1pZFlNaWQiPiAgPGNpcmNsZSBjeD0iNTAiIGN5PSI1MCIgZmlsbD0ibm9uZSIgc3Ryb2tlPSIjYzNjM2MzIiBzdHJva2Utd2lkdGg9IjEwIiByPSIzNSIgc3Ryb2tlLWRhc2hhcnJheT0iMTY0LjkzMzYxNDMxMzQ2NDE1IDU2Ljk3Nzg3MTQzNzgyMTM4Ij4gICAgPGFuaW1hdGVUcmFuc2Zvcm0gYXR0cmlidXRlTmFtZT0idHJhbnNmb3JtIiB0eXBlPSJyb3RhdGUiIHJlcGVhdENvdW50PSJpbmRlZmluaXRlIiBkdXI9IjFzIiB2YWx1ZXM9IjAgNTAgNTA7MzYwIDUwIDUwIiBrZXlUaW1lcz0iMDsxIj48L2FuaW1hdGVUcmFuc2Zvcm0+ICA8L2NpcmNsZT48L3N2Zz4=\\\");\\n  background-size: auto calc(min(50%, 400px));\\n}\",{\"id\":\"05179817-f79b-4af2-965b-7fb3fdc71b6e\"},{\"id\":\"cda13461-dd67-44f8-a052-2a5159271cf4\"},{\"id\":\"721bb6fa-ca46-4720-ac23-29f421296575\"}],\"margin\":[5,10],\"align\":\"start\",\"active\":true,\"label\":\"Shared axes\"}}]}}}},{\"type\":\"object\",\"name\":\"TabPanel\",\"id\":\"455bd782-ca14-4202-a685-b1da786486e9\",\"attributes\":{\"name\":\"Labels\",\"title\":\"Labels\",\"child\":{\"type\":\"object\",\"name\":\"Column\",\"id\":\"a2255510-4a7e-47f6-9c1e-21650c3b8b48\",\"attributes\":{\"name\":\"Labels\",\"stylesheets\":[\"\\n:host(.pn-loading.pn-arc):before, .pn-loading.pn-arc:before {\\n  background-image: url(\\\"data:image/svg+xml;base64,PHN2ZyB4bWxucz0iaHR0cDovL3d3dy53My5vcmcvMjAwMC9zdmciIHN0eWxlPSJtYXJnaW46IGF1dG87IGJhY2tncm91bmQ6IG5vbmU7IGRpc3BsYXk6IGJsb2NrOyBzaGFwZS1yZW5kZXJpbmc6IGF1dG87IiB2aWV3Qm94PSIwIDAgMTAwIDEwMCIgcHJlc2VydmVBc3BlY3RSYXRpbz0ieE1pZFlNaWQiPiAgPGNpcmNsZSBjeD0iNTAiIGN5PSI1MCIgZmlsbD0ibm9uZSIgc3Ryb2tlPSIjYzNjM2MzIiBzdHJva2Utd2lkdGg9IjEwIiByPSIzNSIgc3Ryb2tlLWRhc2hhcnJheT0iMTY0LjkzMzYxNDMxMzQ2NDE1IDU2Ljk3Nzg3MTQzNzgyMTM4Ij4gICAgPGFuaW1hdGVUcmFuc2Zvcm0gYXR0cmlidXRlTmFtZT0idHJhbnNmb3JtIiB0eXBlPSJyb3RhdGUiIHJlcGVhdENvdW50PSJpbmRlZmluaXRlIiBkdXI9IjFzIiB2YWx1ZXM9IjAgNTAgNTA7MzYwIDUwIDUwIiBrZXlUaW1lcz0iMDsxIj48L2FuaW1hdGVUcmFuc2Zvcm0+ICA8L2NpcmNsZT48L3N2Zz4=\\\");\\n  background-size: auto calc(min(50%, 400px));\\n}\",{\"id\":\"05179817-f79b-4af2-965b-7fb3fdc71b6e\"},{\"id\":\"d667afb0-d832-411b-b221-09b343559dee\"},{\"id\":\"cda13461-dd67-44f8-a052-2a5159271cf4\"},{\"id\":\"721bb6fa-ca46-4720-ac23-29f421296575\"}],\"margin\":[5,10],\"align\":\"start\",\"children\":[{\"type\":\"object\",\"name\":\"TextInput\",\"id\":\"ec7f6137-33b5-44fc-924b-feafadc7bf9d\",\"attributes\":{\"stylesheets\":[\"\\n:host(.pn-loading.pn-arc):before, .pn-loading.pn-arc:before {\\n  background-image: url(\\\"data:image/svg+xml;base64,PHN2ZyB4bWxucz0iaHR0cDovL3d3dy53My5vcmcvMjAwMC9zdmciIHN0eWxlPSJtYXJnaW46IGF1dG87IGJhY2tncm91bmQ6IG5vbmU7IGRpc3BsYXk6IGJsb2NrOyBzaGFwZS1yZW5kZXJpbmc6IGF1dG87IiB2aWV3Qm94PSIwIDAgMTAwIDEwMCIgcHJlc2VydmVBc3BlY3RSYXRpbz0ieE1pZFlNaWQiPiAgPGNpcmNsZSBjeD0iNTAiIGN5PSI1MCIgZmlsbD0ibm9uZSIgc3Ryb2tlPSIjYzNjM2MzIiBzdHJva2Utd2lkdGg9IjEwIiByPSIzNSIgc3Ryb2tlLWRhc2hhcnJheT0iMTY0LjkzMzYxNDMxMzQ2NDE1IDU2Ljk3Nzg3MTQzNzgyMTM4Ij4gICAgPGFuaW1hdGVUcmFuc2Zvcm0gYXR0cmlidXRlTmFtZT0idHJhbnNmb3JtIiB0eXBlPSJyb3RhdGUiIHJlcGVhdENvdW50PSJpbmRlZmluaXRlIiBkdXI9IjFzIiB2YWx1ZXM9IjAgNTAgNTA7MzYwIDUwIDUwIiBrZXlUaW1lcz0iMDsxIj48L2FuaW1hdGVUcmFuc2Zvcm0+ICA8L2NpcmNsZT48L3N2Zz4=\\\");\\n  background-size: auto calc(min(50%, 400px));\\n}\",{\"id\":\"05179817-f79b-4af2-965b-7fb3fdc71b6e\"},{\"id\":\"cda13461-dd67-44f8-a052-2a5159271cf4\"},{\"id\":\"721bb6fa-ca46-4720-ac23-29f421296575\"}],\"width\":300,\"min_width\":300,\"margin\":[5,10],\"align\":\"start\",\"title\":\"Title\",\"description\":{\"type\":\"object\",\"name\":\"Tooltip\",\"id\":\"eeb18fab-25e3-4395-abe0-8c804d4b5b1f\",\"attributes\":{\"syncable\":false,\"stylesheets\":[\":host { white-space: initial; max-width: 300px; }\"],\"position\":\"right\",\"content\":{\"type\":\"object\",\"name\":\"bokeh.models.dom.HTML\",\"id\":\"e67daff7-031b-4fe1-a4e5-d4c1b0d1c8be\",\"attributes\":{\"html\":\"<p>Title for the plot</p>\\n\"}}}},\"max_length\":5000}},{\"type\":\"object\",\"name\":\"TextInput\",\"id\":\"a7e32ca5-dfc1-4c50-9a8d-75e21a339ad9\",\"attributes\":{\"stylesheets\":[\"\\n:host(.pn-loading.pn-arc):before, .pn-loading.pn-arc:before {\\n  background-image: url(\\\"data:image/svg+xml;base64,PHN2ZyB4bWxucz0iaHR0cDovL3d3dy53My5vcmcvMjAwMC9zdmciIHN0eWxlPSJtYXJnaW46IGF1dG87IGJhY2tncm91bmQ6IG5vbmU7IGRpc3BsYXk6IGJsb2NrOyBzaGFwZS1yZW5kZXJpbmc6IGF1dG87IiB2aWV3Qm94PSIwIDAgMTAwIDEwMCIgcHJlc2VydmVBc3BlY3RSYXRpbz0ieE1pZFlNaWQiPiAgPGNpcmNsZSBjeD0iNTAiIGN5PSI1MCIgZmlsbD0ibm9uZSIgc3Ryb2tlPSIjYzNjM2MzIiBzdHJva2Utd2lkdGg9IjEwIiByPSIzNSIgc3Ryb2tlLWRhc2hhcnJheT0iMTY0LjkzMzYxNDMxMzQ2NDE1IDU2Ljk3Nzg3MTQzNzgyMTM4Ij4gICAgPGFuaW1hdGVUcmFuc2Zvcm0gYXR0cmlidXRlTmFtZT0idHJhbnNmb3JtIiB0eXBlPSJyb3RhdGUiIHJlcGVhdENvdW50PSJpbmRlZmluaXRlIiBkdXI9IjFzIiB2YWx1ZXM9IjAgNTAgNTA7MzYwIDUwIDUwIiBrZXlUaW1lcz0iMDsxIj48L2FuaW1hdGVUcmFuc2Zvcm0+ICA8L2NpcmNsZT48L3N2Zz4=\\\");\\n  background-size: auto calc(min(50%, 400px));\\n}\",{\"id\":\"05179817-f79b-4af2-965b-7fb3fdc71b6e\"},{\"id\":\"cda13461-dd67-44f8-a052-2a5159271cf4\"},{\"id\":\"721bb6fa-ca46-4720-ac23-29f421296575\"}],\"width\":300,\"min_width\":300,\"margin\":[5,10],\"align\":\"start\",\"title\":\"Xlabel\",\"description\":{\"type\":\"object\",\"name\":\"Tooltip\",\"id\":\"dc68ac02-81f5-4b42-bd39-1366e16520c6\",\"attributes\":{\"syncable\":false,\"stylesheets\":[\":host { white-space: initial; max-width: 300px; }\"],\"position\":\"right\",\"content\":{\"type\":\"object\",\"name\":\"bokeh.models.dom.HTML\",\"id\":\"d64e3758-a793-4a65-8970-262c576eb076\",\"attributes\":{\"html\":\"<p>Axis labels for the x-axis.</p>\\n\"}}}},\"max_length\":5000}},{\"type\":\"object\",\"name\":\"TextInput\",\"id\":\"6a5276b9-1129-44d2-bbac-921270de94ba\",\"attributes\":{\"stylesheets\":[\"\\n:host(.pn-loading.pn-arc):before, .pn-loading.pn-arc:before {\\n  background-image: url(\\\"data:image/svg+xml;base64,PHN2ZyB4bWxucz0iaHR0cDovL3d3dy53My5vcmcvMjAwMC9zdmciIHN0eWxlPSJtYXJnaW46IGF1dG87IGJhY2tncm91bmQ6IG5vbmU7IGRpc3BsYXk6IGJsb2NrOyBzaGFwZS1yZW5kZXJpbmc6IGF1dG87IiB2aWV3Qm94PSIwIDAgMTAwIDEwMCIgcHJlc2VydmVBc3BlY3RSYXRpbz0ieE1pZFlNaWQiPiAgPGNpcmNsZSBjeD0iNTAiIGN5PSI1MCIgZmlsbD0ibm9uZSIgc3Ryb2tlPSIjYzNjM2MzIiBzdHJva2Utd2lkdGg9IjEwIiByPSIzNSIgc3Ryb2tlLWRhc2hhcnJheT0iMTY0LjkzMzYxNDMxMzQ2NDE1IDU2Ljk3Nzg3MTQzNzgyMTM4Ij4gICAgPGFuaW1hdGVUcmFuc2Zvcm0gYXR0cmlidXRlTmFtZT0idHJhbnNmb3JtIiB0eXBlPSJyb3RhdGUiIHJlcGVhdENvdW50PSJpbmRlZmluaXRlIiBkdXI9IjFzIiB2YWx1ZXM9IjAgNTAgNTA7MzYwIDUwIDUwIiBrZXlUaW1lcz0iMDsxIj48L2FuaW1hdGVUcmFuc2Zvcm0+ICA8L2NpcmNsZT48L3N2Zz4=\\\");\\n  background-size: auto calc(min(50%, 400px));\\n}\",{\"id\":\"05179817-f79b-4af2-965b-7fb3fdc71b6e\"},{\"id\":\"cda13461-dd67-44f8-a052-2a5159271cf4\"},{\"id\":\"721bb6fa-ca46-4720-ac23-29f421296575\"}],\"width\":300,\"min_width\":300,\"margin\":[5,10],\"align\":\"start\",\"title\":\"Ylabel\",\"description\":{\"type\":\"object\",\"name\":\"Tooltip\",\"id\":\"89a91d09-f6dc-4970-afe7-a92a897aa69a\",\"attributes\":{\"syncable\":false,\"stylesheets\":[\":host { white-space: initial; max-width: 300px; }\"],\"position\":\"right\",\"content\":{\"type\":\"object\",\"name\":\"bokeh.models.dom.HTML\",\"id\":\"0ff683bc-433f-4bdd-a597-ee4942be6ec0\",\"attributes\":{\"html\":\"<p>Axis labels for the y-axis.</p>\\n\"}}}},\"max_length\":5000}},{\"type\":\"object\",\"name\":\"TextInput\",\"id\":\"15893c71-6d40-43f6-8142-5051d6e90388\",\"attributes\":{\"stylesheets\":[\"\\n:host(.pn-loading.pn-arc):before, .pn-loading.pn-arc:before {\\n  background-image: url(\\\"data:image/svg+xml;base64,PHN2ZyB4bWxucz0iaHR0cDovL3d3dy53My5vcmcvMjAwMC9zdmciIHN0eWxlPSJtYXJnaW46IGF1dG87IGJhY2tncm91bmQ6IG5vbmU7IGRpc3BsYXk6IGJsb2NrOyBzaGFwZS1yZW5kZXJpbmc6IGF1dG87IiB2aWV3Qm94PSIwIDAgMTAwIDEwMCIgcHJlc2VydmVBc3BlY3RSYXRpbz0ieE1pZFlNaWQiPiAgPGNpcmNsZSBjeD0iNTAiIGN5PSI1MCIgZmlsbD0ibm9uZSIgc3Ryb2tlPSIjYzNjM2MzIiBzdHJva2Utd2lkdGg9IjEwIiByPSIzNSIgc3Ryb2tlLWRhc2hhcnJheT0iMTY0LjkzMzYxNDMxMzQ2NDE1IDU2Ljk3Nzg3MTQzNzgyMTM4Ij4gICAgPGFuaW1hdGVUcmFuc2Zvcm0gYXR0cmlidXRlTmFtZT0idHJhbnNmb3JtIiB0eXBlPSJyb3RhdGUiIHJlcGVhdENvdW50PSJpbmRlZmluaXRlIiBkdXI9IjFzIiB2YWx1ZXM9IjAgNTAgNTA7MzYwIDUwIDUwIiBrZXlUaW1lcz0iMDsxIj48L2FuaW1hdGVUcmFuc2Zvcm0+ICA8L2NpcmNsZT48L3N2Zz4=\\\");\\n  background-size: auto calc(min(50%, 400px));\\n}\",{\"id\":\"05179817-f79b-4af2-965b-7fb3fdc71b6e\"},{\"id\":\"cda13461-dd67-44f8-a052-2a5159271cf4\"},{\"id\":\"721bb6fa-ca46-4720-ac23-29f421296575\"}],\"width\":300,\"min_width\":300,\"margin\":[5,10],\"align\":\"start\",\"title\":\"Clabel\",\"description\":{\"type\":\"object\",\"name\":\"Tooltip\",\"id\":\"2ad445b7-f09d-4f5e-80d4-126c9311f9d6\",\"attributes\":{\"syncable\":false,\"stylesheets\":[\":host { white-space: initial; max-width: 300px; }\"],\"position\":\"right\",\"content\":{\"type\":\"object\",\"name\":\"bokeh.models.dom.HTML\",\"id\":\"c4bf9ba1-b070-4895-ab0a-bf1314936658\",\"attributes\":{\"html\":\"<p>Axis labels for the colorbar.</p>\\n\"}}}},\"max_length\":5000}},{\"type\":\"object\",\"name\":\"Spinner\",\"id\":\"6871a105-14b1-4c36-8cca-6ff6011dcc91\",\"attributes\":{\"stylesheets\":[\"\\n:host(.pn-loading.pn-arc):before, .pn-loading.pn-arc:before {\\n  background-image: url(\\\"data:image/svg+xml;base64,PHN2ZyB4bWxucz0iaHR0cDovL3d3dy53My5vcmcvMjAwMC9zdmciIHN0eWxlPSJtYXJnaW46IGF1dG87IGJhY2tncm91bmQ6IG5vbmU7IGRpc3BsYXk6IGJsb2NrOyBzaGFwZS1yZW5kZXJpbmc6IGF1dG87IiB2aWV3Qm94PSIwIDAgMTAwIDEwMCIgcHJlc2VydmVBc3BlY3RSYXRpbz0ieE1pZFlNaWQiPiAgPGNpcmNsZSBjeD0iNTAiIGN5PSI1MCIgZmlsbD0ibm9uZSIgc3Ryb2tlPSIjYzNjM2MzIiBzdHJva2Utd2lkdGg9IjEwIiByPSIzNSIgc3Ryb2tlLWRhc2hhcnJheT0iMTY0LjkzMzYxNDMxMzQ2NDE1IDU2Ljk3Nzg3MTQzNzgyMTM4Ij4gICAgPGFuaW1hdGVUcmFuc2Zvcm0gYXR0cmlidXRlTmFtZT0idHJhbnNmb3JtIiB0eXBlPSJyb3RhdGUiIHJlcGVhdENvdW50PSJpbmRlZmluaXRlIiBkdXI9IjFzIiB2YWx1ZXM9IjAgNTAgNTA7MzYwIDUwIDUwIiBrZXlUaW1lcz0iMDsxIj48L2FuaW1hdGVUcmFuc2Zvcm0+ICA8L2NpcmNsZT48L3N2Zz4=\\\");\\n  background-size: auto calc(min(50%, 400px));\\n}\",{\"id\":\"05179817-f79b-4af2-965b-7fb3fdc71b6e\"},{\"id\":\"cda13461-dd67-44f8-a052-2a5159271cf4\"},{\"id\":\"721bb6fa-ca46-4720-ac23-29f421296575\"}],\"width\":300,\"min_width\":300,\"margin\":[5,10],\"align\":\"start\",\"title\":\"Fontscale\",\"description\":{\"type\":\"object\",\"name\":\"Tooltip\",\"id\":\"02cf9404-d0f9-4000-b46f-f44f34aeca7f\",\"attributes\":{\"syncable\":false,\"stylesheets\":[\":host { white-space: initial; max-width: 300px; }\"],\"position\":\"right\",\"content\":{\"type\":\"object\",\"name\":\"bokeh.models.dom.HTML\",\"id\":\"b730ccaf-669d-4688-89ce-56078bfff4d3\",\"attributes\":{\"html\":\"<p>Scales the size of all fonts by the same amount, e.g. fontscale=1.5\\nenlarges all fonts (title, xticks, labels etc.) by 50%.</p>\\n\"}}}},\"value\":1,\"step\":0.1}},{\"type\":\"object\",\"name\":\"Slider\",\"id\":\"0fa45340-78ba-4913-b399-7d61ad818e4a\",\"attributes\":{\"stylesheets\":[\"\\n:host(.pn-loading.pn-arc):before, .pn-loading.pn-arc:before {\\n  background-image: url(\\\"data:image/svg+xml;base64,PHN2ZyB4bWxucz0iaHR0cDovL3d3dy53My5vcmcvMjAwMC9zdmciIHN0eWxlPSJtYXJnaW46IGF1dG87IGJhY2tncm91bmQ6IG5vbmU7IGRpc3BsYXk6IGJsb2NrOyBzaGFwZS1yZW5kZXJpbmc6IGF1dG87IiB2aWV3Qm94PSIwIDAgMTAwIDEwMCIgcHJlc2VydmVBc3BlY3RSYXRpbz0ieE1pZFlNaWQiPiAgPGNpcmNsZSBjeD0iNTAiIGN5PSI1MCIgZmlsbD0ibm9uZSIgc3Ryb2tlPSIjYzNjM2MzIiBzdHJva2Utd2lkdGg9IjEwIiByPSIzNSIgc3Ryb2tlLWRhc2hhcnJheT0iMTY0LjkzMzYxNDMxMzQ2NDE1IDU2Ljk3Nzg3MTQzNzgyMTM4Ij4gICAgPGFuaW1hdGVUcmFuc2Zvcm0gYXR0cmlidXRlTmFtZT0idHJhbnNmb3JtIiB0eXBlPSJyb3RhdGUiIHJlcGVhdENvdW50PSJpbmRlZmluaXRlIiBkdXI9IjFzIiB2YWx1ZXM9IjAgNTAgNTA7MzYwIDUwIDUwIiBrZXlUaW1lcz0iMDsxIj48L2FuaW1hdGVUcmFuc2Zvcm0+ICA8L2NpcmNsZT48L3N2Zz4=\\\");\\n  background-size: auto calc(min(50%, 400px));\\n}\",{\"id\":\"05179817-f79b-4af2-965b-7fb3fdc71b6e\"},{\"id\":\"cda13461-dd67-44f8-a052-2a5159271cf4\"},{\"id\":\"721bb6fa-ca46-4720-ac23-29f421296575\"}],\"margin\":[5,10],\"align\":\"start\",\"title\":\"Rot\",\"start\":0,\"end\":360,\"value\":0}}]}}}},{\"type\":\"object\",\"name\":\"TabPanel\",\"id\":\"bad0d34f-f906-4bf7-9385-5b2b4654055b\",\"attributes\":{\"name\":\"Style\",\"title\":\"Style\",\"child\":{\"type\":\"object\",\"name\":\"Column\",\"id\":\"fafb858b-0cc4-44c8-91b0-757a69c10a52\",\"attributes\":{\"name\":\"Style\",\"stylesheets\":[\"\\n:host(.pn-loading.pn-arc):before, .pn-loading.pn-arc:before {\\n  background-image: url(\\\"data:image/svg+xml;base64,PHN2ZyB4bWxucz0iaHR0cDovL3d3dy53My5vcmcvMjAwMC9zdmciIHN0eWxlPSJtYXJnaW46IGF1dG87IGJhY2tncm91bmQ6IG5vbmU7IGRpc3BsYXk6IGJsb2NrOyBzaGFwZS1yZW5kZXJpbmc6IGF1dG87IiB2aWV3Qm94PSIwIDAgMTAwIDEwMCIgcHJlc2VydmVBc3BlY3RSYXRpbz0ieE1pZFlNaWQiPiAgPGNpcmNsZSBjeD0iNTAiIGN5PSI1MCIgZmlsbD0ibm9uZSIgc3Ryb2tlPSIjYzNjM2MzIiBzdHJva2Utd2lkdGg9IjEwIiByPSIzNSIgc3Ryb2tlLWRhc2hhcnJheT0iMTY0LjkzMzYxNDMxMzQ2NDE1IDU2Ljk3Nzg3MTQzNzgyMTM4Ij4gICAgPGFuaW1hdGVUcmFuc2Zvcm0gYXR0cmlidXRlTmFtZT0idHJhbnNmb3JtIiB0eXBlPSJyb3RhdGUiIHJlcGVhdENvdW50PSJpbmRlZmluaXRlIiBkdXI9IjFzIiB2YWx1ZXM9IjAgNTAgNTA7MzYwIDUwIDUwIiBrZXlUaW1lcz0iMDsxIj48L2FuaW1hdGVUcmFuc2Zvcm0+ICA8L2NpcmNsZT48L3N2Zz4=\\\");\\n  background-size: auto calc(min(50%, 400px));\\n}\",{\"id\":\"05179817-f79b-4af2-965b-7fb3fdc71b6e\"},{\"id\":\"d667afb0-d832-411b-b221-09b343559dee\"},{\"id\":\"cda13461-dd67-44f8-a052-2a5159271cf4\"},{\"id\":\"721bb6fa-ca46-4720-ac23-29f421296575\"}],\"min_width\":320,\"max_width\":300,\"margin\":[5,10],\"sizing_mode\":\"stretch_width\",\"align\":\"start\",\"children\":[{\"type\":\"object\",\"name\":\"Slider\",\"id\":\"62eb97a7-979d-4732-8045-d4a6119fd6d7\",\"attributes\":{\"stylesheets\":[\"\\n:host(.pn-loading.pn-arc):before, .pn-loading.pn-arc:before {\\n  background-image: url(\\\"data:image/svg+xml;base64,PHN2ZyB4bWxucz0iaHR0cDovL3d3dy53My5vcmcvMjAwMC9zdmciIHN0eWxlPSJtYXJnaW46IGF1dG87IGJhY2tncm91bmQ6IG5vbmU7IGRpc3BsYXk6IGJsb2NrOyBzaGFwZS1yZW5kZXJpbmc6IGF1dG87IiB2aWV3Qm94PSIwIDAgMTAwIDEwMCIgcHJlc2VydmVBc3BlY3RSYXRpbz0ieE1pZFlNaWQiPiAgPGNpcmNsZSBjeD0iNTAiIGN5PSI1MCIgZmlsbD0ibm9uZSIgc3Ryb2tlPSIjYzNjM2MzIiBzdHJva2Utd2lkdGg9IjEwIiByPSIzNSIgc3Ryb2tlLWRhc2hhcnJheT0iMTY0LjkzMzYxNDMxMzQ2NDE1IDU2Ljk3Nzg3MTQzNzgyMTM4Ij4gICAgPGFuaW1hdGVUcmFuc2Zvcm0gYXR0cmlidXRlTmFtZT0idHJhbnNmb3JtIiB0eXBlPSJyb3RhdGUiIHJlcGVhdENvdW50PSJpbmRlZmluaXRlIiBkdXI9IjFzIiB2YWx1ZXM9IjAgNTAgNTA7MzYwIDUwIDUwIiBrZXlUaW1lcz0iMDsxIj48L2FuaW1hdGVUcmFuc2Zvcm0+ICA8L2NpcmNsZT48L3N2Zz4=\\\");\\n  background-size: auto calc(min(50%, 400px));\\n}\",{\"id\":\"05179817-f79b-4af2-965b-7fb3fdc71b6e\"},{\"id\":\"cda13461-dd67-44f8-a052-2a5159271cf4\"},{\"id\":\"721bb6fa-ca46-4720-ac23-29f421296575\"}],\"margin\":[5,10],\"align\":\"start\",\"title\":\"Alpha\",\"start\":0.0,\"end\":1.0,\"value\":1,\"step\":0.1}}]}}}},{\"type\":\"object\",\"name\":\"TabPanel\",\"id\":\"1751dc91-28c8-499a-a6d7-7b1dac08dba4\",\"attributes\":{\"name\":\"Operations\",\"title\":\"Operations\",\"child\":{\"type\":\"object\",\"name\":\"Column\",\"id\":\"1fa535cc-70c7-4c4b-baf6-5e2c2401184e\",\"attributes\":{\"name\":\"Operations\",\"stylesheets\":[\"\\n:host(.pn-loading.pn-arc):before, .pn-loading.pn-arc:before {\\n  background-image: url(\\\"data:image/svg+xml;base64,PHN2ZyB4bWxucz0iaHR0cDovL3d3dy53My5vcmcvMjAwMC9zdmciIHN0eWxlPSJtYXJnaW46IGF1dG87IGJhY2tncm91bmQ6IG5vbmU7IGRpc3BsYXk6IGJsb2NrOyBzaGFwZS1yZW5kZXJpbmc6IGF1dG87IiB2aWV3Qm94PSIwIDAgMTAwIDEwMCIgcHJlc2VydmVBc3BlY3RSYXRpbz0ieE1pZFlNaWQiPiAgPGNpcmNsZSBjeD0iNTAiIGN5PSI1MCIgZmlsbD0ibm9uZSIgc3Ryb2tlPSIjYzNjM2MzIiBzdHJva2Utd2lkdGg9IjEwIiByPSIzNSIgc3Ryb2tlLWRhc2hhcnJheT0iMTY0LjkzMzYxNDMxMzQ2NDE1IDU2Ljk3Nzg3MTQzNzgyMTM4Ij4gICAgPGFuaW1hdGVUcmFuc2Zvcm0gYXR0cmlidXRlTmFtZT0idHJhbnNmb3JtIiB0eXBlPSJyb3RhdGUiIHJlcGVhdENvdW50PSJpbmRlZmluaXRlIiBkdXI9IjFzIiB2YWx1ZXM9IjAgNTAgNTA7MzYwIDUwIDUwIiBrZXlUaW1lcz0iMDsxIj48L2FuaW1hdGVUcmFuc2Zvcm0+ICA8L2NpcmNsZT48L3N2Zz4=\\\");\\n  background-size: auto calc(min(50%, 400px));\\n}\",{\"id\":\"05179817-f79b-4af2-965b-7fb3fdc71b6e\"},{\"id\":\"d667afb0-d832-411b-b221-09b343559dee\"},{\"id\":\"cda13461-dd67-44f8-a052-2a5159271cf4\"},{\"id\":\"721bb6fa-ca46-4720-ac23-29f421296575\"}],\"min_width\":320,\"max_width\":300,\"margin\":[5,10],\"sizing_mode\":\"stretch_width\",\"align\":\"start\",\"children\":[{\"type\":\"object\",\"name\":\"Checkbox\",\"id\":\"739c8c1f-f7ba-4246-908f-d9f698ba3f62\",\"attributes\":{\"stylesheets\":[\"\\n:host(.pn-loading.pn-arc):before, .pn-loading.pn-arc:before {\\n  background-image: url(\\\"data:image/svg+xml;base64,PHN2ZyB4bWxucz0iaHR0cDovL3d3dy53My5vcmcvMjAwMC9zdmciIHN0eWxlPSJtYXJnaW46IGF1dG87IGJhY2tncm91bmQ6IG5vbmU7IGRpc3BsYXk6IGJsb2NrOyBzaGFwZS1yZW5kZXJpbmc6IGF1dG87IiB2aWV3Qm94PSIwIDAgMTAwIDEwMCIgcHJlc2VydmVBc3BlY3RSYXRpbz0ieE1pZFlNaWQiPiAgPGNpcmNsZSBjeD0iNTAiIGN5PSI1MCIgZmlsbD0ibm9uZSIgc3Ryb2tlPSIjYzNjM2MzIiBzdHJva2Utd2lkdGg9IjEwIiByPSIzNSIgc3Ryb2tlLWRhc2hhcnJheT0iMTY0LjkzMzYxNDMxMzQ2NDE1IDU2Ljk3Nzg3MTQzNzgyMTM4Ij4gICAgPGFuaW1hdGVUcmFuc2Zvcm0gYXR0cmlidXRlTmFtZT0idHJhbnNmb3JtIiB0eXBlPSJyb3RhdGUiIHJlcGVhdENvdW50PSJpbmRlZmluaXRlIiBkdXI9IjFzIiB2YWx1ZXM9IjAgNTAgNTA7MzYwIDUwIDUwIiBrZXlUaW1lcz0iMDsxIj48L2FuaW1hdGVUcmFuc2Zvcm0+ICA8L2NpcmNsZT48L3N2Zz4=\\\");\\n  background-size: auto calc(min(50%, 400px));\\n}\",{\"id\":\"05179817-f79b-4af2-965b-7fb3fdc71b6e\"},{\"id\":\"cda13461-dd67-44f8-a052-2a5159271cf4\"},{\"id\":\"721bb6fa-ca46-4720-ac23-29f421296575\"}],\"margin\":[5,10],\"align\":\"start\",\"label\":\"Datashade\"}},{\"type\":\"object\",\"name\":\"Checkbox\",\"id\":\"31f6a59c-6481-42b8-89d8-b1affc7bdfc0\",\"attributes\":{\"stylesheets\":[\"\\n:host(.pn-loading.pn-arc):before, .pn-loading.pn-arc:before {\\n  background-image: url(\\\"data:image/svg+xml;base64,PHN2ZyB4bWxucz0iaHR0cDovL3d3dy53My5vcmcvMjAwMC9zdmciIHN0eWxlPSJtYXJnaW46IGF1dG87IGJhY2tncm91bmQ6IG5vbmU7IGRpc3BsYXk6IGJsb2NrOyBzaGFwZS1yZW5kZXJpbmc6IGF1dG87IiB2aWV3Qm94PSIwIDAgMTAwIDEwMCIgcHJlc2VydmVBc3BlY3RSYXRpbz0ieE1pZFlNaWQiPiAgPGNpcmNsZSBjeD0iNTAiIGN5PSI1MCIgZmlsbD0ibm9uZSIgc3Ryb2tlPSIjYzNjM2MzIiBzdHJva2Utd2lkdGg9IjEwIiByPSIzNSIgc3Ryb2tlLWRhc2hhcnJheT0iMTY0LjkzMzYxNDMxMzQ2NDE1IDU2Ljk3Nzg3MTQzNzgyMTM4Ij4gICAgPGFuaW1hdGVUcmFuc2Zvcm0gYXR0cmlidXRlTmFtZT0idHJhbnNmb3JtIiB0eXBlPSJyb3RhdGUiIHJlcGVhdENvdW50PSJpbmRlZmluaXRlIiBkdXI9IjFzIiB2YWx1ZXM9IjAgNTAgNTA7MzYwIDUwIDUwIiBrZXlUaW1lcz0iMDsxIj48L2FuaW1hdGVUcmFuc2Zvcm0+ICA8L2NpcmNsZT48L3N2Zz4=\\\");\\n  background-size: auto calc(min(50%, 400px));\\n}\",{\"id\":\"05179817-f79b-4af2-965b-7fb3fdc71b6e\"},{\"id\":\"cda13461-dd67-44f8-a052-2a5159271cf4\"},{\"id\":\"721bb6fa-ca46-4720-ac23-29f421296575\"}],\"margin\":[5,10],\"align\":\"start\",\"label\":\"Rasterize\"}},{\"type\":\"object\",\"name\":\"panel.models.widgets.CustomSelect\",\"id\":\"24e1f8de-eeb0-4d27-9a01-c593c9a2af66\",\"attributes\":{\"stylesheets\":[\"\\n:host(.pn-loading.pn-arc):before, .pn-loading.pn-arc:before {\\n  background-image: url(\\\"data:image/svg+xml;base64,PHN2ZyB4bWxucz0iaHR0cDovL3d3dy53My5vcmcvMjAwMC9zdmciIHN0eWxlPSJtYXJnaW46IGF1dG87IGJhY2tncm91bmQ6IG5vbmU7IGRpc3BsYXk6IGJsb2NrOyBzaGFwZS1yZW5kZXJpbmc6IGF1dG87IiB2aWV3Qm94PSIwIDAgMTAwIDEwMCIgcHJlc2VydmVBc3BlY3RSYXRpbz0ieE1pZFlNaWQiPiAgPGNpcmNsZSBjeD0iNTAiIGN5PSI1MCIgZmlsbD0ibm9uZSIgc3Ryb2tlPSIjYzNjM2MzIiBzdHJva2Utd2lkdGg9IjEwIiByPSIzNSIgc3Ryb2tlLWRhc2hhcnJheT0iMTY0LjkzMzYxNDMxMzQ2NDE1IDU2Ljk3Nzg3MTQzNzgyMTM4Ij4gICAgPGFuaW1hdGVUcmFuc2Zvcm0gYXR0cmlidXRlTmFtZT0idHJhbnNmb3JtIiB0eXBlPSJyb3RhdGUiIHJlcGVhdENvdW50PSJpbmRlZmluaXRlIiBkdXI9IjFzIiB2YWx1ZXM9IjAgNTAgNTA7MzYwIDUwIDUwIiBrZXlUaW1lcz0iMDsxIj48L2FuaW1hdGVUcmFuc2Zvcm0+ICA8L2NpcmNsZT48L3N2Zz4=\\\");\\n  background-size: auto calc(min(50%, 400px));\\n}\",{\"id\":\"05179817-f79b-4af2-965b-7fb3fdc71b6e\"},{\"id\":\"484aadd5-943f-447d-9ca6-6cd7a85947e9\"},{\"id\":\"cda13461-dd67-44f8-a052-2a5159271cf4\"},{\"id\":\"721bb6fa-ca46-4720-ac23-29f421296575\"}],\"disabled\":true,\"width\":300,\"min_width\":300,\"margin\":[5,10],\"align\":\"start\",\"title\":\"Aggregator\",\"description\":{\"type\":\"object\",\"name\":\"Tooltip\",\"id\":\"9cde84df-a6d3-41c7-b18f-a24d2519f7ee\",\"attributes\":{\"syncable\":false,\"stylesheets\":[\":host { white-space: initial; max-width: 300px; }\"],\"position\":\"right\",\"content\":{\"type\":\"object\",\"name\":\"bokeh.models.dom.HTML\",\"id\":\"3aeee538-7143-4a79-8863-41ee2ea04016\",\"attributes\":{\"html\":\"<p>Aggregator to use when applying rasterize or datashade operation.</p>\\n\"}}}},\"options\":[[\"None\",\"None\"],[\"count\",\"count\"],[\"min\",\"min\"],[\"max\",\"max\"],[\"mean\",\"mean\"],[\"sum\",\"sum\"],[\"any\",\"any\"]]}},{\"type\":\"object\",\"name\":\"Checkbox\",\"id\":\"440e00c1-725d-4e5a-b563-61855b3cdcdf\",\"attributes\":{\"stylesheets\":[\"\\n:host(.pn-loading.pn-arc):before, .pn-loading.pn-arc:before {\\n  background-image: url(\\\"data:image/svg+xml;base64,PHN2ZyB4bWxucz0iaHR0cDovL3d3dy53My5vcmcvMjAwMC9zdmciIHN0eWxlPSJtYXJnaW46IGF1dG87IGJhY2tncm91bmQ6IG5vbmU7IGRpc3BsYXk6IGJsb2NrOyBzaGFwZS1yZW5kZXJpbmc6IGF1dG87IiB2aWV3Qm94PSIwIDAgMTAwIDEwMCIgcHJlc2VydmVBc3BlY3RSYXRpbz0ieE1pZFlNaWQiPiAgPGNpcmNsZSBjeD0iNTAiIGN5PSI1MCIgZmlsbD0ibm9uZSIgc3Ryb2tlPSIjYzNjM2MzIiBzdHJva2Utd2lkdGg9IjEwIiByPSIzNSIgc3Ryb2tlLWRhc2hhcnJheT0iMTY0LjkzMzYxNDMxMzQ2NDE1IDU2Ljk3Nzg3MTQzNzgyMTM4Ij4gICAgPGFuaW1hdGVUcmFuc2Zvcm0gYXR0cmlidXRlTmFtZT0idHJhbnNmb3JtIiB0eXBlPSJyb3RhdGUiIHJlcGVhdENvdW50PSJpbmRlZmluaXRlIiBkdXI9IjFzIiB2YWx1ZXM9IjAgNTAgNTA7MzYwIDUwIDUwIiBrZXlUaW1lcz0iMDsxIj48L2FuaW1hdGVUcmFuc2Zvcm0+ICA8L2NpcmNsZT48L3N2Zz4=\\\");\\n  background-size: auto calc(min(50%, 400px));\\n}\",{\"id\":\"05179817-f79b-4af2-965b-7fb3fdc71b6e\"},{\"id\":\"cda13461-dd67-44f8-a052-2a5159271cf4\"},{\"id\":\"721bb6fa-ca46-4720-ac23-29f421296575\"}],\"disabled\":true,\"margin\":[5,10],\"align\":\"start\",\"label\":\"Dynspread\"}},{\"type\":\"object\",\"name\":\"Spinner\",\"id\":\"e08cd7b2-2e2a-45e4-b58e-9a7d839a1e26\",\"attributes\":{\"stylesheets\":[\"\\n:host(.pn-loading.pn-arc):before, .pn-loading.pn-arc:before {\\n  background-image: url(\\\"data:image/svg+xml;base64,PHN2ZyB4bWxucz0iaHR0cDovL3d3dy53My5vcmcvMjAwMC9zdmciIHN0eWxlPSJtYXJnaW46IGF1dG87IGJhY2tncm91bmQ6IG5vbmU7IGRpc3BsYXk6IGJsb2NrOyBzaGFwZS1yZW5kZXJpbmc6IGF1dG87IiB2aWV3Qm94PSIwIDAgMTAwIDEwMCIgcHJlc2VydmVBc3BlY3RSYXRpbz0ieE1pZFlNaWQiPiAgPGNpcmNsZSBjeD0iNTAiIGN5PSI1MCIgZmlsbD0ibm9uZSIgc3Ryb2tlPSIjYzNjM2MzIiBzdHJva2Utd2lkdGg9IjEwIiByPSIzNSIgc3Ryb2tlLWRhc2hhcnJheT0iMTY0LjkzMzYxNDMxMzQ2NDE1IDU2Ljk3Nzg3MTQzNzgyMTM4Ij4gICAgPGFuaW1hdGVUcmFuc2Zvcm0gYXR0cmlidXRlTmFtZT0idHJhbnNmb3JtIiB0eXBlPSJyb3RhdGUiIHJlcGVhdENvdW50PSJpbmRlZmluaXRlIiBkdXI9IjFzIiB2YWx1ZXM9IjAgNTAgNTA7MzYwIDUwIDUwIiBrZXlUaW1lcz0iMDsxIj48L2FuaW1hdGVUcmFuc2Zvcm0+ICA8L2NpcmNsZT48L3N2Zz4=\\\");\\n  background-size: auto calc(min(50%, 400px));\\n}\",{\"id\":\"05179817-f79b-4af2-965b-7fb3fdc71b6e\"},{\"id\":\"cda13461-dd67-44f8-a052-2a5159271cf4\"},{\"id\":\"721bb6fa-ca46-4720-ac23-29f421296575\"}],\"disabled\":true,\"width\":300,\"min_width\":300,\"margin\":[5,10],\"align\":\"start\",\"title\":\"X sampling\",\"description\":{\"type\":\"object\",\"name\":\"Tooltip\",\"id\":\"0b4c76dd-aac7-4fba-b217-00a3bcf6d1ae\",\"attributes\":{\"syncable\":false,\"stylesheets\":[\":host { white-space: initial; max-width: 300px; }\"],\"position\":\"right\",\"content\":{\"type\":\"object\",\"name\":\"bokeh.models.dom.HTML\",\"id\":\"87e03cf1-8212-4051-8c67-5f012f784e4c\",\"attributes\":{\"html\":\"<p>Specifies the smallest allowed sampling interval along the x-axis.</p>\\n\"}}}},\"step\":0.1}},{\"type\":\"object\",\"name\":\"Spinner\",\"id\":\"df15cf9f-8fb1-4dcb-972d-13819f103676\",\"attributes\":{\"stylesheets\":[\"\\n:host(.pn-loading.pn-arc):before, .pn-loading.pn-arc:before {\\n  background-image: url(\\\"data:image/svg+xml;base64,PHN2ZyB4bWxucz0iaHR0cDovL3d3dy53My5vcmcvMjAwMC9zdmciIHN0eWxlPSJtYXJnaW46IGF1dG87IGJhY2tncm91bmQ6IG5vbmU7IGRpc3BsYXk6IGJsb2NrOyBzaGFwZS1yZW5kZXJpbmc6IGF1dG87IiB2aWV3Qm94PSIwIDAgMTAwIDEwMCIgcHJlc2VydmVBc3BlY3RSYXRpbz0ieE1pZFlNaWQiPiAgPGNpcmNsZSBjeD0iNTAiIGN5PSI1MCIgZmlsbD0ibm9uZSIgc3Ryb2tlPSIjYzNjM2MzIiBzdHJva2Utd2lkdGg9IjEwIiByPSIzNSIgc3Ryb2tlLWRhc2hhcnJheT0iMTY0LjkzMzYxNDMxMzQ2NDE1IDU2Ljk3Nzg3MTQzNzgyMTM4Ij4gICAgPGFuaW1hdGVUcmFuc2Zvcm0gYXR0cmlidXRlTmFtZT0idHJhbnNmb3JtIiB0eXBlPSJyb3RhdGUiIHJlcGVhdENvdW50PSJpbmRlZmluaXRlIiBkdXI9IjFzIiB2YWx1ZXM9IjAgNTAgNTA7MzYwIDUwIDUwIiBrZXlUaW1lcz0iMDsxIj48L2FuaW1hdGVUcmFuc2Zvcm0+ICA8L2NpcmNsZT48L3N2Zz4=\\\");\\n  background-size: auto calc(min(50%, 400px));\\n}\",{\"id\":\"05179817-f79b-4af2-965b-7fb3fdc71b6e\"},{\"id\":\"cda13461-dd67-44f8-a052-2a5159271cf4\"},{\"id\":\"721bb6fa-ca46-4720-ac23-29f421296575\"}],\"disabled\":true,\"width\":300,\"min_width\":300,\"margin\":[5,10],\"align\":\"start\",\"title\":\"Y sampling\",\"description\":{\"type\":\"object\",\"name\":\"Tooltip\",\"id\":\"d9dc9f1e-9ec0-4da2-b0a4-dfe199172c93\",\"attributes\":{\"syncable\":false,\"stylesheets\":[\":host { white-space: initial; max-width: 300px; }\"],\"position\":\"right\",\"content\":{\"type\":\"object\",\"name\":\"bokeh.models.dom.HTML\",\"id\":\"fd288530-c7b4-4f8b-88d8-2e984ab64a34\",\"attributes\":{\"html\":\"<p>Specifies the smallest allowed sampling interval along the y-axis.</p>\\n\"}}}},\"step\":0.1}}]}}}}],\"tabs_location\":\"left\"}},{\"type\":\"object\",\"name\":\"Row\",\"id\":\"c276b084-01e1-40a8-ad32-1f2b383b2e8f\",\"attributes\":{\"name\":\"Row75094\",\"stylesheets\":[\"\\n:host(.pn-loading.pn-arc):before, .pn-loading.pn-arc:before {\\n  background-image: url(\\\"data:image/svg+xml;base64,PHN2ZyB4bWxucz0iaHR0cDovL3d3dy53My5vcmcvMjAwMC9zdmciIHN0eWxlPSJtYXJnaW46IGF1dG87IGJhY2tncm91bmQ6IG5vbmU7IGRpc3BsYXk6IGJsb2NrOyBzaGFwZS1yZW5kZXJpbmc6IGF1dG87IiB2aWV3Qm94PSIwIDAgMTAwIDEwMCIgcHJlc2VydmVBc3BlY3RSYXRpbz0ieE1pZFlNaWQiPiAgPGNpcmNsZSBjeD0iNTAiIGN5PSI1MCIgZmlsbD0ibm9uZSIgc3Ryb2tlPSIjYzNjM2MzIiBzdHJva2Utd2lkdGg9IjEwIiByPSIzNSIgc3Ryb2tlLWRhc2hhcnJheT0iMTY0LjkzMzYxNDMxMzQ2NDE1IDU2Ljk3Nzg3MTQzNzgyMTM4Ij4gICAgPGFuaW1hdGVUcmFuc2Zvcm0gYXR0cmlidXRlTmFtZT0idHJhbnNmb3JtIiB0eXBlPSJyb3RhdGUiIHJlcGVhdENvdW50PSJpbmRlZmluaXRlIiBkdXI9IjFzIiB2YWx1ZXM9IjAgNTAgNTA7MzYwIDUwIDUwIiBrZXlUaW1lcz0iMDsxIj48L2FuaW1hdGVUcmFuc2Zvcm0+ICA8L2NpcmNsZT48L3N2Zz4=\\\");\\n  background-size: auto calc(min(50%, 400px));\\n}\",{\"id\":\"05179817-f79b-4af2-965b-7fb3fdc71b6e\"},{\"id\":\"d667afb0-d832-411b-b221-09b343559dee\"},{\"id\":\"cda13461-dd67-44f8-a052-2a5159271cf4\"},{\"id\":\"721bb6fa-ca46-4720-ac23-29f421296575\"}],\"margin\":0,\"sizing_mode\":\"stretch_width\",\"align\":\"start\",\"children\":[{\"type\":\"object\",\"name\":\"Figure\",\"id\":\"fe165977-dca8-4ff8-8bc9-cfc979b2267b\",\"attributes\":{\"width\":700,\"height\":300,\"min_height\":300,\"margin\":[0,20,0,20],\"sizing_mode\":\"stretch_width\",\"align\":\"start\",\"x_range\":{\"type\":\"object\",\"name\":\"Range1d\",\"id\":\"a77fdff4-ec69-484a-b530-a7617b99520a\",\"attributes\":{\"tags\":[[[\"index\",\"index\",null]],[]],\"start\":1.0,\"end\":767.0,\"reset_start\":1.0,\"reset_end\":767.0}},\"y_range\":{\"type\":\"object\",\"name\":\"Range1d\",\"id\":\"ebbbf314-17be-42df-99c7-1e754f2c4409\",\"attributes\":{\"tags\":[[[\"Passengers\",\"Passengers\",null]],{\"type\":\"map\",\"entries\":[[\"invert_yaxis\",false],[\"autorange\",false]]}],\"start\":-40570.200000000004,\"end\":682996.2,\"reset_start\":-40570.200000000004,\"reset_end\":682996.2}},\"x_scale\":{\"type\":\"object\",\"name\":\"LinearScale\",\"id\":\"6b30c2b3-cc4d-4413-be10-fa1d446af9b7\"},\"y_scale\":{\"type\":\"object\",\"name\":\"LinearScale\",\"id\":\"e5fe38c5-51cb-4bd8-91ed-a4c194946f61\"},\"title\":{\"type\":\"object\",\"name\":\"Title\",\"id\":\"eb523e85-f856-4f5d-9d5e-5c8954332b62\",\"attributes\":{\"text_color\":\"black\",\"text_font_size\":\"12pt\"}},\"renderers\":[{\"type\":\"object\",\"name\":\"GlyphRenderer\",\"id\":\"44e24bfd-6db1-4ee2-b4a0-bee366027865\",\"attributes\":{\"data_source\":{\"type\":\"object\",\"name\":\"ColumnDataSource\",\"id\":\"96eefe70-ac7a-4103-942a-6104f4de7bcc\",\"attributes\":{\"selected\":{\"type\":\"object\",\"name\":\"Selection\",\"id\":\"f50b53a4-0e42-4002-8ae1-3f2c9d2b5c23\",\"attributes\":{\"indices\":[],\"line_indices\":[]}},\"selection_policy\":{\"type\":\"object\",\"name\":\"UnionRenderers\",\"id\":\"03c0310b-5576-4ecc-b5fd-a68d0b2f9142\"},\"data\":{\"type\":\"map\",\"entries\":[[\"index\",{\"type\":\"ndarray\",\"array\":{\"type\":\"bytes\",\"data\":\"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\"},\"shape\":[506],\"dtype\":\"int32\",\"order\":\"little\"}],[\"Passengers\",{\"type\":\"ndarray\",\"array\":{\"type\":\"bytes\",\"data\":\"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\"},\"shape\":[506],\"dtype\":\"float64\",\"order\":\"little\"}]]}}},\"view\":{\"type\":\"object\",\"name\":\"CDSView\",\"id\":\"c392847d-348c-4eef-a306-1155e8498c1e\",\"attributes\":{\"filter\":{\"type\":\"object\",\"name\":\"AllIndices\",\"id\":\"f8beb0b7-b85e-48e0-b1d9-0c71aff835ff\"}}},\"glyph\":{\"type\":\"object\",\"name\":\"Line\",\"id\":\"c8dc8358-57ff-4aa0-80ca-e71aa195487e\",\"attributes\":{\"tags\":[\"apply_ranges\"],\"x\":{\"type\":\"field\",\"field\":\"index\"},\"y\":{\"type\":\"field\",\"field\":\"Passengers\"},\"line_color\":\"#30a2da\",\"line_width\":2}},\"selection_glyph\":{\"type\":\"object\",\"name\":\"Line\",\"id\":\"5295cff5-6269-4501-b7ca-53203692f9bc\",\"attributes\":{\"tags\":[\"apply_ranges\"],\"x\":{\"type\":\"field\",\"field\":\"index\"},\"y\":{\"type\":\"field\",\"field\":\"Passengers\"},\"line_color\":\"#30a2da\",\"line_width\":2}},\"nonselection_glyph\":{\"type\":\"object\",\"name\":\"Line\",\"id\":\"7fdd6332-b3b9-4fc5-9b85-40e352dd2c78\",\"attributes\":{\"tags\":[\"apply_ranges\"],\"x\":{\"type\":\"field\",\"field\":\"index\"},\"y\":{\"type\":\"field\",\"field\":\"Passengers\"},\"line_color\":\"#30a2da\",\"line_alpha\":1,\"line_width\":2}},\"muted_glyph\":{\"type\":\"object\",\"name\":\"Line\",\"id\":\"b817a453-a333-4d38-9780-242cadf14cf3\",\"attributes\":{\"tags\":[\"apply_ranges\"],\"x\":{\"type\":\"field\",\"field\":\"index\"},\"y\":{\"type\":\"field\",\"field\":\"Passengers\"},\"line_color\":\"#30a2da\",\"line_alpha\":0.2,\"line_width\":2}}}}],\"toolbar\":{\"type\":\"object\",\"name\":\"Toolbar\",\"id\":\"45ac8968-dc04-43df-98a5-570bc9f31493\",\"attributes\":{\"tools\":[{\"type\":\"object\",\"name\":\"WheelZoomTool\",\"id\":\"3e1a5b24-d20c-4d71-8a58-18a69a387b25\",\"attributes\":{\"tags\":[\"hv_created\"],\"zoom_together\":\"none\"}},{\"type\":\"object\",\"name\":\"HoverTool\",\"id\":\"8370b23f-d4ec-4124-92d1-2be88d226182\",\"attributes\":{\"tags\":[\"hv_created\"],\"renderers\":[{\"id\":\"44e24bfd-6db1-4ee2-b4a0-bee366027865\"}],\"tooltips\":[[\"index\",\"@{index}\"],[\"Passengers\",\"@{Passengers}\"]]}},{\"type\":\"object\",\"name\":\"SaveTool\",\"id\":\"905f712a-2668-44dd-b7fc-8a50791268f5\"},{\"type\":\"object\",\"name\":\"PanTool\",\"id\":\"1d23fc8f-d5e4-43a6-ad2a-959b3cc1e3ad\"},{\"type\":\"object\",\"name\":\"BoxZoomTool\",\"id\":\"15772a81-18ca-48f5-912b-b15010e2f02e\",\"attributes\":{\"overlay\":{\"type\":\"object\",\"name\":\"BoxAnnotation\",\"id\":\"0c1f52ac-0a3f-48a4-bdf6-acd9e6983ac1\",\"attributes\":{\"syncable\":false,\"level\":\"overlay\",\"visible\":false,\"left_units\":\"canvas\",\"right_units\":\"canvas\",\"bottom_units\":\"canvas\",\"top_units\":\"canvas\",\"line_color\":\"black\",\"line_alpha\":1.0,\"line_width\":2,\"line_dash\":[4,4],\"fill_color\":\"lightgrey\",\"fill_alpha\":0.5}}}},{\"type\":\"object\",\"name\":\"ResetTool\",\"id\":\"a2fd6c7e-cd11-4904-b163-d075dc754f18\"}],\"active_drag\":{\"id\":\"1d23fc8f-d5e4-43a6-ad2a-959b3cc1e3ad\"},\"active_scroll\":{\"id\":\"3e1a5b24-d20c-4d71-8a58-18a69a387b25\"}}},\"left\":[{\"type\":\"object\",\"name\":\"LinearAxis\",\"id\":\"2e09507f-2aff-4ce5-877f-b48a2275dd67\",\"attributes\":{\"ticker\":{\"type\":\"object\",\"name\":\"BasicTicker\",\"id\":\"03d1b4ff-f36d-47a7-a68c-7b49ad9391e1\",\"attributes\":{\"mantissas\":[1,2,5]}},\"formatter\":{\"type\":\"object\",\"name\":\"BasicTickFormatter\",\"id\":\"797cd4eb-c7c5-4443-86b8-b8323bd67db8\"},\"axis_label\":\"Passengers\",\"major_label_policy\":{\"type\":\"object\",\"name\":\"AllLabels\",\"id\":\"8dc06688-4794-4ebe-8b7a-630237b2d707\"}}}],\"below\":[{\"type\":\"object\",\"name\":\"LinearAxis\",\"id\":\"fbb6a49f-8522-46e4-b9b5-a6b10a33fba4\",\"attributes\":{\"ticker\":{\"type\":\"object\",\"name\":\"BasicTicker\",\"id\":\"bc5e8817-7537-4a4a-8be7-d0aa68af17bd\",\"attributes\":{\"mantissas\":[1,2,5]}},\"formatter\":{\"type\":\"object\",\"name\":\"BasicTickFormatter\",\"id\":\"5b4cd45d-34da-4a79-9587-1d6b2263c9ab\"},\"axis_label\":\"\",\"major_label_policy\":{\"type\":\"object\",\"name\":\"AllLabels\",\"id\":\"316fe4d6-a514-4032-9332-652b359f6421\"}}}],\"center\":[{\"type\":\"object\",\"name\":\"Grid\",\"id\":\"f39f55db-ed67-43fe-b1af-a4415c09d005\",\"attributes\":{\"axis\":{\"id\":\"fbb6a49f-8522-46e4-b9b5-a6b10a33fba4\"},\"grid_line_color\":null}},{\"type\":\"object\",\"name\":\"Grid\",\"id\":\"2e4f94f3-9608-4c6b-9c55-732f87c23aaf\",\"attributes\":{\"dimension\":1,\"axis\":{\"id\":\"2e09507f-2aff-4ce5-877f-b48a2275dd67\"},\"grid_line_color\":null}}],\"min_border_top\":10,\"min_border_bottom\":10,\"min_border_left\":10,\"min_border_right\":10,\"output_backend\":\"webgl\"}}]}}]}},{\"type\":\"object\",\"name\":\"Spacer\",\"id\":\"ff03423c-22c3-4aeb-b899-d06b09ae6568\",\"attributes\":{\"name\":\"HSpacer74885\",\"stylesheets\":[\"\\n:host(.pn-loading.pn-arc):before, .pn-loading.pn-arc:before {\\n  background-image: url(\\\"data:image/svg+xml;base64,PHN2ZyB4bWxucz0iaHR0cDovL3d3dy53My5vcmcvMjAwMC9zdmciIHN0eWxlPSJtYXJnaW46IGF1dG87IGJhY2tncm91bmQ6IG5vbmU7IGRpc3BsYXk6IGJsb2NrOyBzaGFwZS1yZW5kZXJpbmc6IGF1dG87IiB2aWV3Qm94PSIwIDAgMTAwIDEwMCIgcHJlc2VydmVBc3BlY3RSYXRpbz0ieE1pZFlNaWQiPiAgPGNpcmNsZSBjeD0iNTAiIGN5PSI1MCIgZmlsbD0ibm9uZSIgc3Ryb2tlPSIjYzNjM2MzIiBzdHJva2Utd2lkdGg9IjEwIiByPSIzNSIgc3Ryb2tlLWRhc2hhcnJheT0iMTY0LjkzMzYxNDMxMzQ2NDE1IDU2Ljk3Nzg3MTQzNzgyMTM4Ij4gICAgPGFuaW1hdGVUcmFuc2Zvcm0gYXR0cmlidXRlTmFtZT0idHJhbnNmb3JtIiB0eXBlPSJyb3RhdGUiIHJlcGVhdENvdW50PSJpbmRlZmluaXRlIiBkdXI9IjFzIiB2YWx1ZXM9IjAgNTAgNTA7MzYwIDUwIDUwIiBrZXlUaW1lcz0iMDsxIj48L2FuaW1hdGVUcmFuc2Zvcm0+ICA8L2NpcmNsZT48L3N2Zz4=\\\");\\n  background-size: auto calc(min(50%, 400px));\\n}\",{\"id\":\"05179817-f79b-4af2-965b-7fb3fdc71b6e\"},{\"id\":\"cda13461-dd67-44f8-a052-2a5159271cf4\"},{\"id\":\"721bb6fa-ca46-4720-ac23-29f421296575\"}],\"margin\":0,\"sizing_mode\":\"stretch_width\",\"align\":\"start\"}}]}},{\"type\":\"object\",\"name\":\"panel.models.comm_manager.CommManager\",\"id\":\"d0d80f08-7988-4d26-a470-63703b2dcd98\",\"attributes\":{\"plot_id\":\"4f86b375-27b6-4974-b477-04333d4d4048\",\"comm_id\":\"d921332859e84a0ebc02b644511a3ddb\",\"client_comm_id\":\"65f3318d75ea4e9a8fb406b0bf9dec4d\"}}],\"defs\":[{\"type\":\"model\",\"name\":\"ReactiveHTML1\"},{\"type\":\"model\",\"name\":\"FlexBox1\",\"properties\":[{\"name\":\"align_content\",\"kind\":\"Any\",\"default\":\"flex-start\"},{\"name\":\"align_items\",\"kind\":\"Any\",\"default\":\"flex-start\"},{\"name\":\"flex_direction\",\"kind\":\"Any\",\"default\":\"row\"},{\"name\":\"flex_wrap\",\"kind\":\"Any\",\"default\":\"wrap\"},{\"name\":\"justify_content\",\"kind\":\"Any\",\"default\":\"flex-start\"}]},{\"type\":\"model\",\"name\":\"FloatPanel1\",\"properties\":[{\"name\":\"config\",\"kind\":\"Any\",\"default\":{\"type\":\"map\"}},{\"name\":\"contained\",\"kind\":\"Any\",\"default\":true},{\"name\":\"position\",\"kind\":\"Any\",\"default\":\"right-top\"},{\"name\":\"offsetx\",\"kind\":\"Any\",\"default\":null},{\"name\":\"offsety\",\"kind\":\"Any\",\"default\":null},{\"name\":\"theme\",\"kind\":\"Any\",\"default\":\"primary\"},{\"name\":\"status\",\"kind\":\"Any\",\"default\":\"normalized\"}]},{\"type\":\"model\",\"name\":\"GridStack1\",\"properties\":[{\"name\":\"mode\",\"kind\":\"Any\",\"default\":\"warn\"},{\"name\":\"ncols\",\"kind\":\"Any\",\"default\":null},{\"name\":\"nrows\",\"kind\":\"Any\",\"default\":null},{\"name\":\"allow_resize\",\"kind\":\"Any\",\"default\":true},{\"name\":\"allow_drag\",\"kind\":\"Any\",\"default\":true},{\"name\":\"state\",\"kind\":\"Any\",\"default\":[]}]},{\"type\":\"model\",\"name\":\"drag1\",\"properties\":[{\"name\":\"slider_width\",\"kind\":\"Any\",\"default\":5},{\"name\":\"slider_color\",\"kind\":\"Any\",\"default\":\"black\"},{\"name\":\"value\",\"kind\":\"Any\",\"default\":50}]},{\"type\":\"model\",\"name\":\"click1\",\"properties\":[{\"name\":\"terminal_output\",\"kind\":\"Any\",\"default\":\"\"},{\"name\":\"debug_name\",\"kind\":\"Any\",\"default\":\"\"},{\"name\":\"clears\",\"kind\":\"Any\",\"default\":0}]},{\"type\":\"model\",\"name\":\"FastWrapper1\",\"properties\":[{\"name\":\"object\",\"kind\":\"Any\",\"default\":null},{\"name\":\"style\",\"kind\":\"Any\",\"default\":null}]},{\"type\":\"model\",\"name\":\"NotificationAreaBase1\",\"properties\":[{\"name\":\"js_events\",\"kind\":\"Any\",\"default\":{\"type\":\"map\"}},{\"name\":\"position\",\"kind\":\"Any\",\"default\":\"bottom-right\"},{\"name\":\"_clear\",\"kind\":\"Any\",\"default\":0}]},{\"type\":\"model\",\"name\":\"NotificationArea1\",\"properties\":[{\"name\":\"js_events\",\"kind\":\"Any\",\"default\":{\"type\":\"map\"}},{\"name\":\"notifications\",\"kind\":\"Any\",\"default\":[]},{\"name\":\"position\",\"kind\":\"Any\",\"default\":\"bottom-right\"},{\"name\":\"_clear\",\"kind\":\"Any\",\"default\":0},{\"name\":\"types\",\"kind\":\"Any\",\"default\":[{\"type\":\"map\",\"entries\":[[\"type\",\"warning\"],[\"background\",\"#ffc107\"],[\"icon\",{\"type\":\"map\",\"entries\":[[\"className\",\"fas fa-exclamation-triangle\"],[\"tagName\",\"i\"],[\"color\",\"white\"]]}]]},{\"type\":\"map\",\"entries\":[[\"type\",\"info\"],[\"background\",\"#007bff\"],[\"icon\",{\"type\":\"map\",\"entries\":[[\"className\",\"fas fa-info-circle\"],[\"tagName\",\"i\"],[\"color\",\"white\"]]}]]}]}]},{\"type\":\"model\",\"name\":\"Notification\",\"properties\":[{\"name\":\"background\",\"kind\":\"Any\",\"default\":null},{\"name\":\"duration\",\"kind\":\"Any\",\"default\":3000},{\"name\":\"icon\",\"kind\":\"Any\",\"default\":null},{\"name\":\"message\",\"kind\":\"Any\",\"default\":\"\"},{\"name\":\"notification_type\",\"kind\":\"Any\",\"default\":null},{\"name\":\"_destroyed\",\"kind\":\"Any\",\"default\":false}]},{\"type\":\"model\",\"name\":\"TemplateActions1\",\"properties\":[{\"name\":\"open_modal\",\"kind\":\"Any\",\"default\":0},{\"name\":\"close_modal\",\"kind\":\"Any\",\"default\":0}]},{\"type\":\"model\",\"name\":\"BootstrapTemplateActions1\",\"properties\":[{\"name\":\"open_modal\",\"kind\":\"Any\",\"default\":0},{\"name\":\"close_modal\",\"kind\":\"Any\",\"default\":0}]},{\"type\":\"model\",\"name\":\"MaterialTemplateActions1\",\"properties\":[{\"name\":\"open_modal\",\"kind\":\"Any\",\"default\":0},{\"name\":\"close_modal\",\"kind\":\"Any\",\"default\":0}]}]}};\n",
       "  var render_items = [{\"docid\":\"9e859340-540f-4974-ade6-1fe65f9eb7b3\",\"roots\":{\"4f86b375-27b6-4974-b477-04333d4d4048\":\"de650ec5-3643-45c6-8e2b-b019eabd7caf\"},\"root_ids\":[\"4f86b375-27b6-4974-b477-04333d4d4048\"]}];\n",
       "  var docs = Object.values(docs_json)\n",
       "  if (!docs) {\n",
       "    return\n",
       "  }\n",
       "  const py_version = docs[0].version.replace('rc', '-rc.').replace('.dev', '-dev.')\n",
       "  const is_dev = py_version.indexOf(\"+\") !== -1 || py_version.indexOf(\"-\") !== -1\n",
       "  function embed_document(root) {\n",
       "    var Bokeh = get_bokeh(root)\n",
       "    Bokeh.embed.embed_items_notebook(docs_json, render_items);\n",
       "    for (const render_item of render_items) {\n",
       "      for (const root_id of render_item.root_ids) {\n",
       "\tconst id_el = document.getElementById(root_id)\n",
       "\tif (id_el.children.length && (id_el.children[0].className === 'bk-root')) {\n",
       "\t  const root_el = id_el.children[0]\n",
       "\t  root_el.id = root_el.id + '-rendered'\n",
       "\t}\n",
       "      }\n",
       "    }\n",
       "  }\n",
       "  function get_bokeh(root) {\n",
       "    if (root.Bokeh === undefined) {\n",
       "      return null\n",
       "    } else if (root.Bokeh.version !== py_version && !is_dev) {\n",
       "      if (root.Bokeh.versions === undefined || !root.Bokeh.versions.has(py_version)) {\n",
       "\treturn null\n",
       "      }\n",
       "      return root.Bokeh.versions.get(py_version);\n",
       "    } else if (root.Bokeh.version === py_version) {\n",
       "      return root.Bokeh\n",
       "    }\n",
       "    return null\n",
       "  }\n",
       "  function is_loaded(root) {\n",
       "    var Bokeh = get_bokeh(root)\n",
       "    return (Bokeh != null && Bokeh.Panel !== undefined)\n",
       "  }\n",
       "  if (is_loaded(root)) {\n",
       "    embed_document(root);\n",
       "  } else {\n",
       "    var attempts = 0;\n",
       "    var timer = setInterval(function(root) {\n",
       "      if (is_loaded(root)) {\n",
       "        clearInterval(timer);\n",
       "        embed_document(root);\n",
       "      } else if (document.readyState == \"complete\") {\n",
       "        attempts++;\n",
       "        if (attempts > 200) {\n",
       "          clearInterval(timer);\n",
       "\t  var Bokeh = get_bokeh(root)\n",
       "\t  if (Bokeh == null || Bokeh.Panel == null) {\n",
       "            console.warn(\"Panel: ERROR: Unable to run Panel code because Bokeh or Panel library is missing\");\n",
       "\t  } else {\n",
       "\t    console.warn(\"Panel: WARNING: Attempting to render but not all required libraries could be resolved.\")\n",
       "\t    embed_document(root)\n",
       "\t  }\n",
       "        }\n",
       "      }\n",
       "    }, 25, root)\n",
       "  }\n",
       "})(window);</script>"
      ],
      "text/plain": [
       "hvDataFrameExplorer(axes=Axes(explorer=..., height=None, legend='right', logx=False, logy=False, name='Axes74654', responsive=False, shared_axes=True, width=None, xlim=None, ylim=None), by=[], colormapping=Colormapping(clim=None, cmap='kbc_r', cnorm='linear', color=None, colorbar=None, explorer=..., name='Colormapping74714', rescale_discrete_levels=True, symmetric=False), groupby=[], kind='line', labels=Labels(clabel='', explorer=..., fontscale=1, name='Labels74761', rot=0, title='', xlabel='', ylabel=''), name='hvDataFrameExplorer74621', operations=Operations(aggregator=None, datashade=False, dynspread=False, explorer=..., name='Operations74805', rasterize=False, x_sampling=None, y_sampling=None), style=Style(alpha=1, explorer=..., name='Style74849'), x='index', y='Year', y_multi=[], z=None)"
      ]
     },
     "execution_count": 123,
     "metadata": {
      "application/vnd.holoviews_exec.v0+json": {
       "id": "4f86b375-27b6-4974-b477-04333d4d4048"
      }
     },
     "output_type": "execute_result"
    }
   ],
   "source": [
    "explorer(df_expanded)"
   ]
  },
  {
   "cell_type": "markdown",
   "id": "b4b799b1",
   "metadata": {},
   "source": [
    "**Dataset other countries exploration**"
   ]
  },
  {
   "cell_type": "code",
   "execution_count": null,
   "id": "9f76a0cf",
   "metadata": {},
   "outputs": [],
   "source": [
    "#Importing the datasets\n",
    "df_eucountries = pd.read_csv(\"estat_rail_pa_total_en.csv\")"
   ]
  },
  {
   "cell_type": "code",
   "execution_count": null,
   "id": "16aa03a0",
   "metadata": {},
   "outputs": [],
   "source": [
    "#Exploring dataset by dataset\n",
    "df_eucountries.head()"
   ]
  },
  {
   "cell_type": "code",
   "execution_count": null,
   "id": "6ba5047b",
   "metadata": {},
   "outputs": [],
   "source": [
    "#Examining the dataset's shape\n",
    "df_eucountries.shape"
   ]
  },
  {
   "cell_type": "code",
   "execution_count": null,
   "id": "990f034f",
   "metadata": {},
   "outputs": [],
   "source": [
    "#Dropping unnecessary columns\n",
    "df_eucountries.drop(columns = [\"LAST UPDATE\",\"freq\",\"OBS_FLAG\"], axis = 1, inplace = True)\n",
    "df_eucountries.head()"
   ]
  },
  {
   "cell_type": "code",
   "execution_count": null,
   "id": "0fc9e065",
   "metadata": {},
   "outputs": [],
   "source": [
    "#Examining the data types included in the dataset\n",
    "df_eucountries.dtypes"
   ]
  },
  {
   "cell_type": "code",
   "execution_count": null,
   "id": "efaef6e3",
   "metadata": {},
   "outputs": [],
   "source": [
    "#Examining general statistics parameters of the dataset\n",
    "df_eucountries.describe()"
   ]
  },
  {
   "cell_type": "code",
   "execution_count": null,
   "id": "4fa58ab5",
   "metadata": {},
   "outputs": [],
   "source": [
    "#Having a look at the general information of the dataset\n",
    "df_eucountries.info()"
   ]
  },
  {
   "cell_type": "markdown",
   "id": "8fe679ac",
   "metadata": {},
   "source": [
    "From the inspection above it has been identified missing values in the attribute \"OBS_VALUE\"."
   ]
  },
  {
   "cell_type": "code",
   "execution_count": null,
   "id": "dc41a63b",
   "metadata": {},
   "outputs": [],
   "source": [
    "#Confirming the presence or not of null values\n",
    "print(f'Duplicated values on dataset:\\n{df_eucountries.isna().sum()}\\n')\n",
    "\n",
    "#Confirming the presence or not of duplicated values\n",
    "print(f'Duplicated values on dataset: {df_eucountries.duplicated().sum()}')"
   ]
  },
  {
   "cell_type": "code",
   "execution_count": null,
   "id": "e2a63655",
   "metadata": {},
   "outputs": [],
   "source": [
    "#Identifying the missing values to make a decision of how to proceed with it\n",
    "null_data = df_eucountries[df_eucountries.isnull().any(axis=1)]\n",
    "null_data"
   ]
  },
  {
   "cell_type": "markdown",
   "id": "5cd41ca8",
   "metadata": {},
   "source": [
    "The missing values does not corresponden to an specific country, it seems just have been issues in the recording of the data. This values will be deleted because they are going to affect in the visualization, tests and models."
   ]
  },
  {
   "cell_type": "code",
   "execution_count": null,
   "id": "3cd7f0c3",
   "metadata": {},
   "outputs": [],
   "source": [
    "#Dropping the missing values\n",
    "df_eucountries.dropna(inplace = True)\n",
    "df_eucountries"
   ]
  },
  {
   "cell_type": "code",
   "execution_count": null,
   "id": "c506b0f6",
   "metadata": {},
   "outputs": [],
   "source": [
    "#Confirming the presence or not of null values\n",
    "print(f'Duplicated values on dataset:\\n{df_eucountries.isna().sum()}\\n')\n",
    "\n",
    "#Confirming the presence or not of duplicated values\n",
    "print(f'Duplicated values on dataset: {df_eucountries.duplicated().sum()}')"
   ]
  },
  {
   "cell_type": "code",
   "execution_count": null,
   "id": "921c6d95",
   "metadata": {},
   "outputs": [],
   "source": [
    "#Renaming columns for better understanding\n",
    "df_eucountries.rename(columns = {\"DATAFLOW\": \"Statistic_label\",\"unit\": \"Unit\", \"geo\": \"Country_code\", \"TIME_PERIOD\": \"Year\", \"OBS_VALUE\": \"Passengers\"}, inplace = True)\n",
    "df_eucountries"
   ]
  },
  {
   "cell_type": "code",
   "execution_count": null,
   "id": "fe1311df",
   "metadata": {},
   "outputs": [],
   "source": [
    "#Identifying unique values per attribute\n",
    "dataframe_uniques(df_eucountries)"
   ]
  },
  {
   "cell_type": "markdown",
   "id": "8ea9c135",
   "metadata": {},
   "source": [
    "The data corresponding to \"MIO_PKM\" will not be used in this project and it will be drop in this case.\n",
    "Regarding to the countries and years included in the dataset the corresponding data of interest will be selected from the complete dataset in order to use it on the corresponding comparisions that is aim as purpose of the project."
   ]
  },
  {
   "cell_type": "code",
   "execution_count": null,
   "id": "f1c93fb6",
   "metadata": {
    "scrolled": false
   },
   "outputs": [],
   "source": [
    "#Importing codes the datasets\n",
    "df_codes = pd.read_csv(\"country_codes.tsv\",  sep='\\t')\n",
    "df_codes"
   ]
  },
  {
   "cell_type": "code",
   "execution_count": null,
   "id": "91e69dc7",
   "metadata": {
    "scrolled": true
   },
   "outputs": [],
   "source": [
    "#Deleting attributes that will not be needed in the merge \n",
    "df_codes.drop(columns = [\"Numeric\"], axis = 1, inplace = True)\n",
    "df_codes"
   ]
  },
  {
   "cell_type": "code",
   "execution_count": null,
   "id": "f66ae24a",
   "metadata": {},
   "outputs": [],
   "source": [
    "#Renaming columns for better understanding\n",
    "df_codes.rename(columns = {\"Alpha-2 code\": \"Country_code\",\"Alpha-3 code\": \"Alpa_3code\"}, inplace = True)"
   ]
  },
  {
   "cell_type": "code",
   "execution_count": null,
   "id": "b3f72057",
   "metadata": {},
   "outputs": [],
   "source": [
    "df_eucountries_code = pd.merge(df_eucountries, df_codes, on = \"Country_code\")\n",
    "df_eucountries_code"
   ]
  },
  {
   "cell_type": "code",
   "execution_count": null,
   "id": "b025abaf",
   "metadata": {
    "scrolled": true
   },
   "outputs": [],
   "source": [
    "#Reindexing the dataset for understanding purposes\n",
    "df_eucountries_code = df_eucountries_code[[\"Statistic_label\",\"Year\",\"Country_code\",\"Country\",\"Alpa_3code\",\"Unit\",\"Passengers\"]]\n",
    "df_eucountries_code"
   ]
  },
  {
   "cell_type": "code",
   "execution_count": null,
   "id": "51aa15e1",
   "metadata": {},
   "outputs": [],
   "source": [
    "#Identifying unique values per attribute\n",
    "dataframe_uniques(df_eucountries_code)"
   ]
  },
  {
   "cell_type": "code",
   "execution_count": null,
   "id": "d95d0a91",
   "metadata": {},
   "outputs": [],
   "source": [
    "#Selecting the years and countries of interest\n",
    "df_eu = df_eucountries_code.loc[(df_eucountries_code[\"Year\"] >= 2018) & (df_eucountries_code[\"Year\"] < 2023) & (df_eucountries_code[\"Unit\"] == \"THS_PAS\") & (df_eucountries_code[\"Country\"].isin([\"Spain\",\"France\",\"Italy\",\"Germany\",\"Denmark\",\"Austria\",\"Portugal\",\"Finland\"]))]\n",
    "df_eu"
   ]
  },
  {
   "cell_type": "code",
   "execution_count": null,
   "id": "60da15a9",
   "metadata": {},
   "outputs": [],
   "source": [
    "df_eu[\"Passengers\"]  = df_eu[\"Passengers\"].apply(lambda x : x*1000)\n",
    "df_eu"
   ]
  },
  {
   "cell_type": "code",
   "execution_count": null,
   "id": "efe1c12a",
   "metadata": {},
   "outputs": [],
   "source": [
    "df_eu.shape"
   ]
  },
  {
   "cell_type": "code",
   "execution_count": null,
   "id": "2ef111b2",
   "metadata": {},
   "outputs": [],
   "source": [
    "mean_eu = np.mean(df_eu[\"Passengers\"])\n",
    "mean_eu"
   ]
  },
  {
   "cell_type": "code",
   "execution_count": null,
   "id": "a129d0d3",
   "metadata": {},
   "outputs": [],
   "source": []
  },
  {
   "cell_type": "code",
   "execution_count": null,
   "id": "7a26403d",
   "metadata": {},
   "outputs": [],
   "source": []
  },
  {
   "cell_type": "code",
   "execution_count": null,
   "id": "3a4dcd19",
   "metadata": {},
   "outputs": [],
   "source": []
  },
  {
   "cell_type": "markdown",
   "id": "36f74320",
   "metadata": {},
   "source": [
    "## Statistics"
   ]
  },
  {
   "cell_type": "markdown",
   "id": "b5351792",
   "metadata": {},
   "source": [
    "- Descriptive statistics and visualizations to summarise the datasets"
   ]
  },
  {
   "cell_type": "markdown",
   "id": "63f5fa20",
   "metadata": {},
   "source": [
    "**Descriptive statistics Ireland Dataset**"
   ]
  },
  {
   "cell_type": "markdown",
   "id": "dabf087f",
   "metadata": {},
   "source": [
    "Shape of the data"
   ]
  },
  {
   "cell_type": "code",
   "execution_count": null,
   "id": "47430f62",
   "metadata": {
    "scrolled": false
   },
   "outputs": [],
   "source": [
    "sns.histplot(df_general[\"Passengers\"], kde=True);"
   ]
  },
  {
   "cell_type": "markdown",
   "id": "96cf520d",
   "metadata": {},
   "source": [
    "- Modes \n",
    "\n",
    "In this case it is Non- Symmetric bi-modal distribution due to the presence of two modes (two values that occur more frequently than any other).\n",
    "It in fact a Non - Symmetric left - skewed bi modal distribution."
   ]
  },
  {
   "cell_type": "code",
   "execution_count": null,
   "id": "dbc129a0",
   "metadata": {
    "scrolled": false
   },
   "outputs": [],
   "source": [
    "sns.kdeplot(df_general[\"Passengers\"]);"
   ]
  },
  {
   "cell_type": "markdown",
   "id": "4e603e14",
   "metadata": {},
   "source": [
    "- Skewness"
   ]
  },
  {
   "cell_type": "code",
   "execution_count": null,
   "id": "89c43746",
   "metadata": {},
   "outputs": [],
   "source": [
    "#Skewness of the data\n",
    "s = df_general[\"Passengers\"].skew()\n",
    "print(f'Coefficient of skewness (S): {s}')"
   ]
  },
  {
   "cell_type": "markdown",
   "id": "3edf4f30",
   "metadata": {},
   "source": [
    "It is known that negative values of skewness refers to Left-Skewed (Negative). Even if the distribution shows a bimodal distribution it it is evident the same has a left-skewed behaviour.\n"
   ]
  },
  {
   "cell_type": "markdown",
   "id": "21992f84",
   "metadata": {},
   "source": [
    "- Kurtosis"
   ]
  },
  {
   "cell_type": "code",
   "execution_count": null,
   "id": "fc34dde7",
   "metadata": {},
   "outputs": [],
   "source": [
    "#Kurtosis of the data\n",
    "k = df_general[\"Passengers\"].kurtosis()\n",
    "print(f'Kurtosis (K): {s}')"
   ]
  },
  {
   "cell_type": "markdown",
   "id": "f26875f2",
   "metadata": {},
   "source": [
    "A negative kurtosis indicates a Platykurtic distribution it's shape is more flatter than normal and spread out, most of the values are in a range, leaving the tails with not so many records."
   ]
  },
  {
   "cell_type": "markdown",
   "id": "e6cbf91e",
   "metadata": {},
   "source": [
    "Measures of central tendency"
   ]
  },
  {
   "cell_type": "code",
   "execution_count": null,
   "id": "73d272d1",
   "metadata": {
    "scrolled": false
   },
   "outputs": [],
   "source": [
    "median = np.median(df_general[\"Passengers\"])\n",
    "print(f'Median: {median}')\n",
    "mean = np.mean(df_general[\"Passengers\"])\n",
    "print(f'Mean: {mean}')\n",
    "maximun = max(df_general[\"Passengers\"])\n",
    "print(f'Max Value: {maximun}')\n",
    "minimun = min(df_general[\"Passengers\"])\n",
    "print(f'Min Value: {minimun}')\n",
    "rangev = np.ptp(df_general[\"Passengers\"])\n",
    "print(f'Range: {rangev}')"
   ]
  },
  {
   "cell_type": "code",
   "execution_count": null,
   "id": "86b98508",
   "metadata": {
    "scrolled": false
   },
   "outputs": [],
   "source": [
    "sns.histplot(df_general[\"Passengers\"], kde=True);\n",
    "plt.axvline(x = df_general[\"Passengers\"].mean(),\n",
    "            color='red');\n",
    "plt.axvline(x = df_general[\"Passengers\"].median(),\n",
    "            color='yellow');"
   ]
  },
  {
   "cell_type": "markdown",
   "id": "c5ff3dbb",
   "metadata": {},
   "source": [
    "As seen in the grapgh above being the \"red\" line is the mean and the \"yellow\" the median. For the used dataset distribution it would be better to use the median due to the Left skewness of the data, being the median the value in between the mean and the left mode in this case."
   ]
  },
  {
   "cell_type": "markdown",
   "id": "1d311ee3",
   "metadata": {},
   "source": [
    "Measures of variability"
   ]
  },
  {
   "cell_type": "code",
   "execution_count": null,
   "id": "3ea0acef",
   "metadata": {
    "scrolled": false
   },
   "outputs": [],
   "source": [
    "sns.boxplot(data = df_general[\"Passengers\"], orient = \"h\");"
   ]
  },
  {
   "cell_type": "code",
   "execution_count": null,
   "id": "87880468",
   "metadata": {
    "scrolled": true
   },
   "outputs": [],
   "source": [
    "df_general.describe()"
   ]
  },
  {
   "cell_type": "code",
   "execution_count": null,
   "id": "03800006",
   "metadata": {},
   "outputs": [],
   "source": [
    "std = np.std(df_general[\"Passengers\"], ddof =1)\n",
    "print(f'Standard deviation: {std}')"
   ]
  },
  {
   "cell_type": "code",
   "execution_count": null,
   "id": "78a29a10",
   "metadata": {},
   "outputs": [],
   "source": [
    "quantiles = np.quantile(df_general[\"Passengers\"],[0,0.25,0.5,0.75,1])\n",
    "print(f'Quantiles: {quantiles}')"
   ]
  },
  {
   "cell_type": "code",
   "execution_count": null,
   "id": "8fa337de",
   "metadata": {},
   "outputs": [],
   "source": [
    "q1 = np.quantile(df_general[\"Passengers\"],0.25)\n",
    "print(f'Q1: {q1}')\n",
    "q2 = np.quantile(df_general[\"Passengers\"],0.5)\n",
    "print(f'Q2: {q2}')\n",
    "q3 = np.quantile(df_general[\"Passengers\"],0.75)\n",
    "print(f'Q3: {q3}')\n",
    "\n",
    "from scipy.stats import iqr\n",
    "iqr = iqr(df_general[\"Passengers\"])\n",
    "print(f'IQR: {iqr}')"
   ]
  },
  {
   "cell_type": "code",
   "execution_count": null,
   "id": "82d2cc47",
   "metadata": {},
   "outputs": [],
   "source": [
    "#Outliers\n",
    "Outliers = df_general[((df_general[\"Passengers\"]<(q1-1.5*iqr)) | (df_general[\"Passengers\"]>(q3+1.5*iqr))) ]"
   ]
  },
  {
   "cell_type": "code",
   "execution_count": null,
   "id": "02820150",
   "metadata": {},
   "outputs": [],
   "source": [
    "print(f'Outliers_shape:  {Outliers.shape}')\n",
    "print(f'df_general: {df_general.shape}')"
   ]
  },
  {
   "cell_type": "code",
   "execution_count": null,
   "id": "0e9e69d0",
   "metadata": {},
   "outputs": [],
   "source": [
    "outliers = (df_general[~((df_general[\"Passengers\"]<(q1-(1.5*iqr))) | (df_general[\"Passengers\"]>(q3+(1.5*iqr)))) ] )\n",
    "outliers"
   ]
  },
  {
   "cell_type": "markdown",
   "id": "a4938255",
   "metadata": {},
   "source": [
    "Graphically representation of the dataset compared to a normal distribution"
   ]
  },
  {
   "cell_type": "code",
   "execution_count": null,
   "id": "6743d9f6",
   "metadata": {
    "scrolled": false
   },
   "outputs": [],
   "source": [
    "sns.distplot(df_general[\"Passengers\"], fit = norm);\n",
    "# plt.axvline(x = df_general[\"Passengers\"].median(),\n",
    "#             color='yellow');"
   ]
  },
  {
   "cell_type": "markdown",
   "id": "e65ba7c1",
   "metadata": {},
   "source": [
    "- Shapiro - Wilk test"
   ]
  },
  {
   "cell_type": "markdown",
   "id": "df9c7cde",
   "metadata": {},
   "source": [
    "Hypothesis\n",
    "\n",
    "Ho (Accepted): The data are normally distributed (Po > 0.05)\n",
    "\n",
    "Ha (Rejected): The data are not normally distributed "
   ]
  },
  {
   "cell_type": "code",
   "execution_count": null,
   "id": "511ef6bc",
   "metadata": {},
   "outputs": [],
   "source": [
    "shapiro(df_general[\"Passengers\"])"
   ]
  },
  {
   "cell_type": "markdown",
   "id": "8930b0a6",
   "metadata": {},
   "source": [
    "Based on the results it would have to be concluded, that being the pvalue obtained with the Shapiro Test 2.68 which it is greater than 0.05, the null hypothesis would have to be accepted. However, graphically it is evident the data is not normally distributed."
   ]
  },
  {
   "cell_type": "markdown",
   "id": "7482d532",
   "metadata": {},
   "source": [
    "It is important to note that the Shapiro-Wilk test is a one-tailed test, meaning that it only detects deviations from normality in one tail of the distribution. Therefore, it is possible for a data set to be non-normal but not detected by the Shapiro-Wilk test. Therefore, other techniques would be used to test normality in this case."
   ]
  },
  {
   "cell_type": "markdown",
   "id": "607b0611",
   "metadata": {},
   "source": [
    "- Q-Q plot"
   ]
  },
  {
   "cell_type": "code",
   "execution_count": null,
   "id": "1ba2e4a6",
   "metadata": {
    "scrolled": false
   },
   "outputs": [],
   "source": [
    "qqplot(df_general[\"Passengers\"],norm, fit = True, line = \"45\")\n",
    "plt.show()"
   ]
  },
  {
   "cell_type": "markdown",
   "id": "88e2af6e",
   "metadata": {},
   "source": [
    "It can be seen the two modes representing in the qqplot. It also shows how the data does not follows a normal ditribution."
   ]
  },
  {
   "cell_type": "markdown",
   "id": "3e868748",
   "metadata": {},
   "source": [
    "- Inferential statistics"
   ]
  },
  {
   "cell_type": "markdown",
   "id": "baeea3c9",
   "metadata": {},
   "source": [
    "**Sampling the data (Ireland dataset)**"
   ]
  },
  {
   "cell_type": "code",
   "execution_count": null,
   "id": "a0fc07d6",
   "metadata": {},
   "outputs": [],
   "source": [
    "sample_size = 80\n",
    "sample = df_general.sample(sample_size, random_state = 40)\n",
    "\n",
    "sns.distplot(sample[\"Passengers\"], fit = norm);"
   ]
  },
  {
   "cell_type": "markdown",
   "id": "6e07a222",
   "metadata": {},
   "source": [
    "**Z-score test (Ireland dataset)**\n",
    "\n",
    "Ho: The mean of the passangers is equal to 656782.31\n",
    "\n",
    "Ha: The mean of the passangers i not equal to 656782.31"
   ]
  },
  {
   "cell_type": "code",
   "execution_count": null,
   "id": "847d3f47",
   "metadata": {},
   "outputs": [],
   "source": [
    "import math\n",
    "\n",
    "#Values \n",
    "n = sample_size\n",
    "cl = 0.95\n",
    "alpha = 0.05\n",
    "x_bar = np.mean(sample[\"Passengers\"])\n",
    "x = df_general[\"Passengers\"].mean()\n",
    "square = math.sqrt(n)\n",
    "std_p = np.std(df_general[\"Passengers\"], ddof =1)\n",
    "std_error  = std_p / square\n",
    "\n",
    "cvalue_p = norm.ppf(1-(alpha/2))\n",
    "print(f'cvalue_p = {cvalue_p}')\n",
    "cvalue_n = norm.ppf((alpha/2))\n",
    "print(f'cvalue_n = {cvalue_n}')\n",
    "z = (x_bar-x)/std_error\n",
    "print(f'Z_score: {z}')"
   ]
  },
  {
   "cell_type": "markdown",
   "id": "6be0cd21",
   "metadata": {},
   "source": [
    "Having a confidence interval of 95% it means our p values correspondes to 5% divided into the 2 tails. \n",
    "The critical value in the normal would be then the 1-0.025 = 0.975 which in the Z score table gives us a value of 1.96.\n",
    "\n",
    "The Z score obtained is in between the value of the ranges of acceptability \n",
    "which leads of to fail to reject the null Hypothesis."
   ]
  },
  {
   "cell_type": "code",
   "execution_count": null,
   "id": "55856d6a",
   "metadata": {},
   "outputs": [],
   "source": [
    "if (z >= cvalue_p) & (z <= cvalue_n):\n",
    "    print(\"Reject the null hypothesis\")\n",
    "else: \n",
    "    print(\"Fail to reject of the null hypothesis.\")"
   ]
  },
  {
   "cell_type": "code",
   "execution_count": null,
   "id": "2ee1bde8",
   "metadata": {},
   "outputs": [],
   "source": [
    "print(f'Population mean: {x}')\n",
    "print(f'Sample mean: {x_bar}')"
   ]
  },
  {
   "cell_type": "markdown",
   "id": "d3a41bc6",
   "metadata": {},
   "source": [
    "**Significance level - (Ireland dataset)**"
   ]
  },
  {
   "cell_type": "markdown",
   "id": "8e23145b",
   "metadata": {},
   "source": [
    "P-value"
   ]
  },
  {
   "cell_type": "code",
   "execution_count": null,
   "id": "c2885e80",
   "metadata": {
    "scrolled": true
   },
   "outputs": [],
   "source": [
    "#With a Z score of 0.36 the P value would be 0.6406\n",
    "p_value_test = norm.cdf(z)\n",
    "\n",
    "print(f'P_value: {p_value_test}')\n",
    "print(f'P_value <= alpha: {p_value_test<=alpha}')\n",
    "\n",
    "# Interpret the results\n",
    "alpha = 0.05\n",
    "if p_value_test < alpha:\n",
    "    print(\"Reject the null hypothesis: The sample mean is significantly different from the population mean.\")\n",
    "else:\n",
    "    print(\"Fail to reject the null hypothesis: The sample mean is not significantly different from the population mean.\")\n"
   ]
  },
  {
   "cell_type": "markdown",
   "id": "c49f032a",
   "metadata": {},
   "source": [
    "Fail to reject the null hypothesis due to the fact that the P value is greater than 0.05 which leads us to accept the null hypothesis"
   ]
  },
  {
   "cell_type": "markdown",
   "id": "f3dc9894",
   "metadata": {},
   "source": [
    "**Confidence interval (Ireland dataset)**"
   ]
  },
  {
   "cell_type": "code",
   "execution_count": null,
   "id": "03441e7d",
   "metadata": {},
   "outputs": [],
   "source": [
    "x_bar = np.mean(sample[\"Passengers\"])\n",
    "cl = 0.95\n",
    "z =1.96\n",
    "std_sample = np.std(sample[\"Passengers\"])\n",
    "square = math.sqrt(n)"
   ]
  },
  {
   "cell_type": "code",
   "execution_count": null,
   "id": "cd566b77",
   "metadata": {},
   "outputs": [],
   "source": [
    "margin_of_error = z*(std_sample/square)\n",
    "print(f'Margin of error ME = {margin_of_error}')"
   ]
  },
  {
   "cell_type": "code",
   "execution_count": null,
   "id": "c214667d",
   "metadata": {},
   "outputs": [],
   "source": [
    "print(f'confidence_interval_lower = {x_bar - margin_of_error}')\n",
    "print(f'confidence_interval_upper = {x_bar + margin_of_error}')"
   ]
  },
  {
   "cell_type": "markdown",
   "id": "5b15dd60",
   "metadata": {},
   "source": [
    "**One sample proportion test (Ireland dataset)**"
   ]
  },
  {
   "cell_type": "code",
   "execution_count": null,
   "id": "74b3c06e",
   "metadata": {},
   "outputs": [],
   "source": [
    "sample_size_prop = 80\n",
    "sample_prop = df_expanded.sample(sample_size_prop, random_state = 40)\n",
    "\n",
    "sns.distplot(sample_prop[\"Passengers\"], fit = norm);"
   ]
  },
  {
   "cell_type": "code",
   "execution_count": null,
   "id": "dc8666bc",
   "metadata": {},
   "outputs": [],
   "source": [
    "# Example data\n",
    "sample_success = sample_prop.loc[sample_prop[\"Luas_line\"] == \"Green line\"][\"Passengers\"].count()  \n",
    "population_proportion = 0.6\n",
    "print(sample_size_prop, sample_success)\n",
    "# Conduct one-sample proportion test\n",
    "z_stat, p_value = proportions_ztest(sample_success, sample_size_prop, population_proportion)\n",
    "\n",
    "# Display the results\n",
    "print(f'Z-statistic: {z_stat}')\n",
    "print(f'P-value: {p_value}')\n",
    "\n",
    "# Interpret the results\n",
    "alpha = 0.05\n",
    "if p_value < alpha:\n",
    "    print(\"Reject the null hypothesis: The sample proportion is significantly different from the population proportion.\")\n",
    "else:\n",
    "    print(\"Fail to reject the null hypothesis: The sample proportion is not significantly different from the population proportion.\")"
   ]
  },
  {
   "cell_type": "markdown",
   "id": "3cdce7fe",
   "metadata": {},
   "source": [
    "**Sampling the data (Eu dataset)**"
   ]
  },
  {
   "cell_type": "code",
   "execution_count": null,
   "id": "0e7af03f",
   "metadata": {},
   "outputs": [],
   "source": [
    "sample_size_eu = 20\n",
    "sample_eu = df_eu.sample(sample_size_eu, random_state = 50)\n",
    "\n",
    "sns.distplot(sample_eu[\"Passengers\"], fit = norm);"
   ]
  },
  {
   "cell_type": "markdown",
   "id": "125e9af1",
   "metadata": {},
   "source": [
    "**T-test (EU dataset)**\n",
    "\n",
    "Ho: The mean of the passangers is equal to 660085225.0\n",
    "\n",
    "Ha: The mean of the passangers is not equal to 660085225.0"
   ]
  },
  {
   "cell_type": "code",
   "execution_count": null,
   "id": "5117f877",
   "metadata": {
    "scrolled": true
   },
   "outputs": [],
   "source": [
    "#Values \n",
    "n_eu = sample_size_eu\n",
    "cl = 0.95\n",
    "alpha = 0.05\n",
    "x_bar_eu = np.mean(sample_eu[\"Passengers\"])\n",
    "x = df_eu[\"Passengers\"].mean()\n",
    "square_eu = math.sqrt(n_eu)\n",
    "std_p_eu = np.std(df_eu[\"Passengers\"], ddof =1)\n",
    "std_error_eu  = std_p_eu / square_eu\n",
    "df = n_eu-1\n",
    "\n",
    "cvalue_p = t.ppf(1-(alpha/2),df)\n",
    "print(f'cvalue_p = {cvalue_p}')\n",
    "cvalue_n = t.ppf((alpha/2),df)\n",
    "print(f'cvalue_n = {cvalue_n}')\n",
    "t_value = (x_bar_eu-x)/std_error_eu\n",
    "print(f't_value: {t_value}')"
   ]
  },
  {
   "cell_type": "code",
   "execution_count": null,
   "id": "b5334f5c",
   "metadata": {},
   "outputs": [],
   "source": [
    "if t_value < cvalue_n or t_value > cvalue_p:\n",
    "    print(\"⚠️Reject the null hypothesis.\")\n",
    "else: \n",
    "    print(\"⚠️Fail to reject of the null hypothesis.\")"
   ]
  },
  {
   "cell_type": "markdown",
   "id": "f379aed5",
   "metadata": {},
   "source": [
    "**Significance level - (EU dataset)**"
   ]
  },
  {
   "cell_type": "markdown",
   "id": "d2d214ea",
   "metadata": {},
   "source": [
    "P-value"
   ]
  },
  {
   "cell_type": "code",
   "execution_count": null,
   "id": "cb58c7b8",
   "metadata": {},
   "outputs": [],
   "source": [
    "#Calculating the p_value\n",
    "p_value_test = 2*(1 - t.cdf(abs(t_value),df=df))\n",
    "\n",
    "print(f'P_value: {p_value_test}')\n",
    "print(f'P_value <= alpha: {p_value_test<=alpha}')\n",
    "\n",
    "alpha = 0.05\n",
    "if p_value_test < alpha:\n",
    "    print(\"Reject the null hypothesis. The sample mean is significantly different from the population mean.\")\n",
    "else:\n",
    "    print(\"Fail to reject the null hypothesis. The sample mean is not significantly different from the population mean.\")"
   ]
  },
  {
   "cell_type": "markdown",
   "id": "0c37573c",
   "metadata": {},
   "source": [
    "**Confidence interval (EU dataset)**"
   ]
  },
  {
   "cell_type": "code",
   "execution_count": null,
   "id": "f60ec25b",
   "metadata": {},
   "outputs": [],
   "source": [
    "n_eu = sample_size_eu\n",
    "cl = 0.95\n",
    "square_eu = math.sqrt(n_eu)\n",
    "\n",
    "t_critical = t.ppf((1+cl) / 2, df)\n",
    "\n",
    "std_sample_eu = np.std(sample_eu[\"Passengers\"], ddof =1)\n",
    "std_error_sample  = std_sample_eu / square_eu\n",
    "\n",
    "margin_of_error = t_critical * std_error_sample\n",
    "\n",
    "lower_bound = x_bar_eu - margin_of_error\n",
    "upper_bound = x_bar_eu + margin_of_error\n",
    "\n",
    "print(\"Confidente Interval:\", (lower_bound, upper_bound))"
   ]
  },
  {
   "cell_type": "markdown",
   "id": "84474aee",
   "metadata": {},
   "source": [
    "**#1 Independent two - tailed t - test (Ireland  and EU datasets)**\n",
    "\n",
    "Ho: The mean of the passangers of Ireland dataset is equal to the mean of EU dataset\n",
    "\n",
    "Ha: The mean of the passangers of Ireland dataset is not equal to the mean of EU dataset"
   ]
  },
  {
   "cell_type": "code",
   "execution_count": null,
   "id": "3aa8ca83",
   "metadata": {
    "scrolled": true
   },
   "outputs": [],
   "source": [
    "n = sample_size\n",
    "n_eu = sample_size_eu\n",
    "x_bar = np.mean(sample[\"Passengers\"])\n",
    "x_bar_eu = np.mean(sample_eu[\"Passengers\"])\n",
    "std_sample = np.std(sample[\"Passengers\"])\n",
    "std_sample_eu = np.std(sample_eu[\"Passengers\"], ddof =1)\n",
    "cl = 0.95\n",
    "df = (n + n_eu)-2\n",
    "\n",
    "cvalue_p = t.ppf(1 - alpha / 2 ,df)\n",
    "print(f'cvalue_p = {cvalue_p}')\n",
    "cvalue_n = t.ppf(alpha / 2 ,df)\n",
    "print(f'cvalue_n = {cvalue_n}')\n",
    "t_value = (x_bar - x_bar_eu) / (math.sqrt((std_sample**2 / n) + (std_sample_eu**2 / n_eu)))\n",
    "print(f't_value: {t_value}')"
   ]
  },
  {
   "cell_type": "code",
   "execution_count": null,
   "id": "0b83c3f2",
   "metadata": {},
   "outputs": [],
   "source": [
    "if t_value < cvalue_n or t_value > cvalue_p:\n",
    "    print(\"⚠️Reject the null hypothesis.\")\n",
    "else: \n",
    "    print(\"⚠️Fail to reject of the null hypothesis.\")"
   ]
  },
  {
   "cell_type": "markdown",
   "id": "a7474614",
   "metadata": {},
   "source": [
    "**Significance level - (Ireland and EU datasets)**"
   ]
  },
  {
   "cell_type": "code",
   "execution_count": null,
   "id": "90b02173",
   "metadata": {},
   "outputs": [],
   "source": [
    "#Calculating the p_value\n",
    "p_value_test = 2*(1 - t.cdf(abs(t_value) ,df=df))\n",
    "\n",
    "print(f'P_value: {p_value_test}')\n",
    "print(f'P_value <= alpha: {p_value_test<=alpha}')"
   ]
  },
  {
   "cell_type": "markdown",
   "id": "cbafeec0",
   "metadata": {},
   "source": [
    "The null hypothesis is rejected due to the fact that the P value is not greater than the alpha."
   ]
  },
  {
   "cell_type": "markdown",
   "id": "5de087d4",
   "metadata": {},
   "source": [
    "**#2 Independent left - tailed t - test (Ireland  and EU datasets)**\n",
    "\n",
    "Ho: The mean of the passangers of Ireland dataset is > = than the mean of EU dataset\n",
    "\n",
    "Ha: The mean of the passangers of Ireland dataset < than the mean of EU dataset"
   ]
  },
  {
   "cell_type": "code",
   "execution_count": null,
   "id": "4eeca052",
   "metadata": {},
   "outputs": [],
   "source": [
    "n = sample_size\n",
    "n_eu = sample_size_eu\n",
    "x_bar = np.mean(sample[\"Passengers\"])\n",
    "x_bar_eu = np.mean(sample_eu[\"Passengers\"])\n",
    "std_sample = np.std(sample[\"Passengers\"])\n",
    "std_sample_eu = np.std(sample_eu[\"Passengers\"], ddof =1)\n",
    "cl = 0.95\n",
    "df = (n + n_eu)-2\n",
    "\n",
    "cvalue_n = t.ppf(alpha ,df)\n",
    "print(f'cvalue_n = {cvalue_n}')\n",
    "t_value = (x_bar - x_bar_eu) / (math.sqrt((std_sample**2 / n) + (std_sample_eu**2 / n_eu)))\n",
    "print(f't_value: {t_value}')"
   ]
  },
  {
   "cell_type": "code",
   "execution_count": null,
   "id": "90642e26",
   "metadata": {},
   "outputs": [],
   "source": [
    "if t_value < cvalue_n:\n",
    "    print(\"⚠️Reject the null hypothesis.\")\n",
    "else: \n",
    "    print(\"⚠️Fail to reject of the null hypothesis.\")"
   ]
  },
  {
   "cell_type": "markdown",
   "id": "e3c29a80",
   "metadata": {},
   "source": [
    "**Significance level - (Ireland and EU datasets)**"
   ]
  },
  {
   "cell_type": "code",
   "execution_count": null,
   "id": "d0393f59",
   "metadata": {},
   "outputs": [],
   "source": [
    "#Calculating the p_value\n",
    "p_value_test = t.cdf(t_value ,df=df)\n",
    "\n",
    "print(f'P_value: {p_value_test}')\n",
    "print(f'P_value <= alpha: {p_value_test<=alpha}')"
   ]
  },
  {
   "cell_type": "code",
   "execution_count": null,
   "id": "f0195c3f",
   "metadata": {},
   "outputs": [],
   "source": [
    "alpha = 0.05\n",
    "if p_value_test < alpha:\n",
    "    print(\"Reject the null hypothesis. The sample mean is significantly different from the population mean.\")\n",
    "else:\n",
    "    print(\"Fail to reject the null hypothesis. The sample mean is not significantly different from the population mean.\")"
   ]
  },
  {
   "cell_type": "markdown",
   "id": "95c2803b",
   "metadata": {},
   "source": [
    "**#3 One - Way ANOVA test (Ireland  and EU datasets)**\n",
    "\n",
    "Ho: The mean of the passangers of Ireland dataset is equal to the mean of EU dataset\n",
    "\n",
    "Ha: The mean of the passangers of Ireland dataset is not equal to the mean of EU dataset\n"
   ]
  },
  {
   "cell_type": "code",
   "execution_count": null,
   "id": "10739b23",
   "metadata": {},
   "outputs": [],
   "source": [
    "# Perform a one-way ANOVA\n",
    "f_statistic, p_value = f_oneway(df_general[\"Passengers\"], df_eu[\"Passengers\"])\n",
    "\n",
    "# Display the results\n",
    "print(\"F-statistic:\", f_statistic)\n",
    "print(\"p-value:\", p_value)\n",
    "\n",
    "# Make a decision based on the p-value\n",
    "alpha = 0.05\n",
    "if p_value < alpha:\n",
    "    print(\"Reject the null hypothesis. There is evidence that at least one group mean is different.\")\n",
    "else:\n",
    "    print(\"Fail to reject the null hypothesis. There is no significant evidence of a difference in group means.\")"
   ]
  },
  {
   "cell_type": "markdown",
   "id": "6816f989",
   "metadata": {},
   "source": [
    "**#4 One - Way ANOVA test (Ireland  and Second EU datasets)**\n",
    "\n",
    "Ho: The mean of the passangers of Ireland dataset is equal to the mean of second EU dataset\n",
    "\n",
    "Ha: The mean of the passangers of Ireland dataset is not equal to the mean of second EU dataset"
   ]
  },
  {
   "cell_type": "code",
   "execution_count": null,
   "id": "4b45b6ca",
   "metadata": {},
   "outputs": [],
   "source": [
    "#Selecting second EU dataset\n",
    "df_eu2 = df_eucountries_code.loc[(df_eucountries_code[\"Year\"] >= 2018) & (df_eucountries_code[\"Year\"] < 2023) & (df_eucountries_code[\"Unit\"] == \"THS_PAS\") & (df_eucountries_code[\"Country\"].isin([\"Estonia\",\"Croatia\",\"Turkey\",\"Bulgaria\"]))]\n",
    "df_eu2"
   ]
  },
  {
   "cell_type": "code",
   "execution_count": null,
   "id": "d9cb2de3",
   "metadata": {},
   "outputs": [],
   "source": [
    "# Perform a one-way ANOVA\n",
    "f_statistic, p_value = f_oneway(df_general[\"Passengers\"], df_eu2[\"Passengers\"])\n",
    "\n",
    "# Display the results\n",
    "print(\"F-statistic:\", f_statistic)\n",
    "print(\"p-value:\", p_value)\n",
    "\n",
    "# Make a decision based on the p-value\n",
    "alpha = 0.05\n",
    "if p_value < alpha:\n",
    "    print(\"Reject the null hypothesis. There is evidence that at least one group mean is different.\")\n",
    "else:\n",
    "    print(\"Fail to reject the null hypothesis. There is no significant evidence of a difference in group means.\")"
   ]
  },
  {
   "cell_type": "markdown",
   "id": "9f095136",
   "metadata": {},
   "source": [
    "**#5 Independent right - tailed t - test (Ireland  and second EU datasets)**\n",
    "\n",
    "Ho: The mean of the passangers of Ireland dataset is <= than the mean of EU dataset\n",
    "\n",
    "Ha: The mean of the passangers of Ireland dataset > than the mean of EU dataset"
   ]
  },
  {
   "cell_type": "code",
   "execution_count": null,
   "id": "14ba4fa7",
   "metadata": {},
   "outputs": [],
   "source": [
    "n = sample_size\n",
    "n_eu2 = len(df_eu2[\"Passengers\"])\n",
    "x_bar = np.mean(sample[\"Passengers\"])\n",
    "x_bar_eu2 = np.mean(df_eu2[\"Passengers\"])\n",
    "std_sample = np.std(sample[\"Passengers\"])\n",
    "std_sample_eu2 = np.std(df_eu2[\"Passengers\"], ddof =1)\n",
    "cl = 0.95\n",
    "df = (n + n_eu2)-2\n",
    "\n",
    "cvalue_p = t.ppf(1-alpha ,df)\n",
    "print(f'cvalue_p = {cvalue_p}')\n",
    "t_value = (x_bar - x_bar_eu2) / (math.sqrt((std_sample**2 / n) + (std_sample_eu2**2 / n_eu2)))\n",
    "print(f't_value: {t_value}')"
   ]
  },
  {
   "cell_type": "code",
   "execution_count": null,
   "id": "f97aa9b0",
   "metadata": {},
   "outputs": [],
   "source": [
    "if t_value > cvalue_p:\n",
    "    print(\"⚠️Reject the null hypothesis.\")\n",
    "else: \n",
    "    print(\"⚠️Fail to reject of the null hypothesis.\")"
   ]
  },
  {
   "cell_type": "code",
   "execution_count": null,
   "id": "65a275fd",
   "metadata": {},
   "outputs": [],
   "source": [
    "#Calculating the p_value\n",
    "p_value_test = t.cdf(1-t_value ,df=df)\n",
    "\n",
    "print(f'P_value: {p_value_test}')\n",
    "print(f'P_value <= alpha: {p_value_test<=alpha}')\n",
    "\n",
    "alpha = 0.05\n",
    "if p_value_test < alpha:\n",
    "    print(\"Reject the null hypothesis. The sample mean is significantly different from the population mean.\")\n",
    "else:\n",
    "    print(\"Fail to reject the null hypothesis. The sample mean is not significantly different from the population mean.\")"
   ]
  },
  {
   "cell_type": "code",
   "execution_count": null,
   "id": "6da4c88e",
   "metadata": {},
   "outputs": [],
   "source": []
  },
  {
   "cell_type": "code",
   "execution_count": null,
   "id": "da60f810",
   "metadata": {},
   "outputs": [],
   "source": []
  },
  {
   "cell_type": "markdown",
   "id": "326ff401",
   "metadata": {},
   "source": [
    "# Machine Learning"
   ]
  },
  {
   "cell_type": "code",
   "execution_count": null,
   "id": "1b971649",
   "metadata": {},
   "outputs": [],
   "source": []
  },
  {
   "cell_type": "code",
   "execution_count": null,
   "id": "276d427e",
   "metadata": {},
   "outputs": [],
   "source": [
    "results = []\n",
    "\n",
    "def save_results(model,train_score,test_score):\n",
    "    results.append([model,train_score,test_score])\n",
    "    \n",
    "def show_results():\n",
    "    x = PrettyTable()\n",
    "    x.field_names = [\"Model\", \"Train Score\", \"Test Scores\"]\n",
    "    for result in results:\n",
    "         x.add_row([result[0],\"{:.2f}\".format(result[1]),\"{:.2f}\".format(result[2])])    \n",
    "    print(x)"
   ]
  },
  {
   "cell_type": "markdown",
   "id": "62ee1a1a",
   "metadata": {},
   "source": [
    "**Preprocessing the data before building the models**"
   ]
  },
  {
   "cell_type": "code",
   "execution_count": null,
   "id": "fca7a7d5",
   "metadata": {
    "scrolled": false
   },
   "outputs": [],
   "source": [
    "df_general"
   ]
  },
  {
   "cell_type": "code",
   "execution_count": null,
   "id": "888346db",
   "metadata": {
    "scrolled": true
   },
   "outputs": [],
   "source": [
    "df_general[\"Week\"] = df_general[\"Week_Year\"].apply(lambda x: x.split(\" \")[1])\n",
    "df_general[\"date\"] =  pd.to_datetime(df_general['Year'].astype(str) + df_general['Week'].astype(str) + '0', format='%G%V%w')\n",
    "df_general[\"month\"] = df_general[\"date\"].apply(lambda x: x.month ) \n",
    "df_ml = df_general.groupby([\"Year\",\"month\"]).agg({\"Passengers\": \"sum\"}).reset_index()\n",
    "condition = df_general[\"Year\"] > str(\"2019\")\n",
    "df_ml = df_general[condition]\n",
    "df_ml[\"Year\"] = df_ml[\"Year\"].astype(\"int64\")\n",
    "df_ml[\"Week\"] = df_ml[\"Week\"].astype(\"int64\")\n",
    "df_ml.info()"
   ]
  },
  {
   "cell_type": "markdown",
   "id": "fe0c4355",
   "metadata": {},
   "source": [
    "**Linear Regression**"
   ]
  },
  {
   "cell_type": "code",
   "execution_count": null,
   "id": "6df5647c",
   "metadata": {
    "scrolled": false
   },
   "outputs": [],
   "source": [
    "#Splitting the data\n",
    "X = df_ml[[\"Year\",\"month\"]]\n",
    "y = df_ml[\"Passengers\"]\n",
    "\n",
    "# Split the data set into Training and Testing parts\n",
    "X_train, X_test, y_train, y_test = train_test_split(X, y, test_size = 0.30, random_state = 10)\n",
    "\n",
    "# Display the Number of rows and columns before (X, y) and after Splitting (X_train, X_test, y_train, y_test)\n",
    "X.shape, y.shape, X_train.shape, X_test.shape, y_train.shape, y_test.shape\n",
    "\n",
    "#Fit model\n",
    "my_lm = LinearRegression()\n",
    "my_lm.fit(X = X_train, y = y_train)\n",
    "\n",
    "train_fcst = my_lm.predict(X_train)\n",
    "test_fcst = my_lm.predict(X_test)\n",
    "predicted_passengers = my_lm.predict(X)\n",
    "\n",
    "#Store the R2 error into train_r2 and test_r2\n",
    "train_r2 = r2_score(y_train, train_fcst)\n",
    "test_r2 = r2_score(y_test, test_fcst)\n",
    "\n",
    "#Storing the results\n",
    "save_results(\"Linear regression model\",train_r2,test_r2)\n",
    "\n",
    "#Plot result\n",
    "label_graph(\"Year\", \"Passengers\", \"Linear Regression Model\",8,6)\n",
    "sns.scatterplot(x = \"date\", y = \"Passengers\", data = df_ml , color='blue', label='Actual Values of Passengers')\n",
    "sns.lineplot(x = \"date\", y = predicted_passengers, data = df_ml, color='red', label='Linear Regression Line')\n",
    "\n",
    "# Show the plot\n",
    "plt.show()\n",
    "\n",
    "# Display the score values\n",
    "print(\"Training set R^2 score: {:.2f}\".format(my_lm.score(X_train, y_train)))\n",
    "print(\"Test set R^2 score: {:.2f}\".format(my_lm.score(X_test, y_test)))"
   ]
  },
  {
   "cell_type": "markdown",
   "id": "3d214427",
   "metadata": {},
   "source": [
    "**Lagged Linear Regression**"
   ]
  },
  {
   "cell_type": "code",
   "execution_count": null,
   "id": "f6dc5c6d",
   "metadata": {},
   "outputs": [],
   "source": [
    "df_ml_lagged = df_ml.copy()\n",
    "#Adding lagged variable\n",
    "df_ml_lagged[\"passenger_l1\"] = df_ml_lagged[\"Passengers\"].shift(1)\n",
    "df_ml_lagged[\"passenger_l2\"] = df_ml_lagged[\"Passengers\"].shift(2)\n",
    "df_ml_lagged[\"passenger_l3\"] = df_ml_lagged[\"Passengers\"].shift(3)\n",
    "df_ml_lagged[\"passenger_l4\"] = df_ml_lagged[\"Passengers\"].shift(4)\n",
    "df_ml_lagged[\"passenger_l5\"] = df_ml_lagged[\"Passengers\"].shift(5)\n",
    "\n",
    "# Display the first 10 records\n",
    "df_ml_lagged.head(10)"
   ]
  },
  {
   "cell_type": "code",
   "execution_count": null,
   "id": "ced5f1e4",
   "metadata": {},
   "outputs": [],
   "source": [
    "# Drop Null values from the dataframe\n",
    "df_ml_lagged = df_ml_lagged.dropna()\n",
    "\n",
    "# Display the first 10 records\n",
    "df_ml_lagged.head(10)"
   ]
  },
  {
   "cell_type": "code",
   "execution_count": null,
   "id": "e1851c04",
   "metadata": {},
   "outputs": [],
   "source": [
    "#Fitting the full Linear Regression model\n",
    "\n",
    "#Create X and y objects\n",
    "X = df_ml_lagged[[\"Year\",\"month\",\"passenger_l1\", \"passenger_l2\", \"passenger_l3\", \"passenger_l4\", \"passenger_l5\"]]\n",
    "y = df_ml_lagged[\"Passengers\"]\n",
    "\n",
    "#Train Test Split\n",
    "X_train, X_test, y_train, y_test = train_test_split(X, y, test_size = 0.30, random_state = 10)\n",
    "\n",
    "#Fit the model\n",
    "ml_lml = LinearRegression()\n",
    "ml_lml.fit(X_train, y_train)\n",
    "\n",
    "#Calculate the train Forecasting\n",
    "train_fcst = ml_lml.predict(X_train)\n",
    "test_fcst = ml_lml.predict(X_test)\n",
    "predicted_passengers = ml_lml.predict(X)\n",
    "\n",
    "#Calculate teh r2 score for train and test\n",
    "train_r2 = r2_score(y_train, train_fcst)\n",
    "test_r2 = r2_score(y_test, test_fcst)\n",
    "\n",
    "#Storing the results\n",
    "save_results(\"Lagged Linear regression\",train_r2,test_r2)\n",
    "\n",
    "#Plot result\n",
    "label_graph(\"Year\", \"Passengers\", \"Lagged Linear Regression Model\",8,6)\n",
    "sns.scatterplot(x = \"date\", y = \"Passengers\", data = df_ml_lagged , color='blue', label='Actual Values of Passengers')\n",
    "sns.lineplot(x = \"date\", y = predicted_passengers, data = df_ml_lagged, color='red', label='Lagged Linear Regression Model Line')\n",
    "\n",
    "# Show the plot\n",
    "plt.show()\n",
    "\n",
    "# Display the score values\n",
    "print(\"Training set R^2 score: {:.2f}\".format(ml_lml.score(X_train, y_train)))\n",
    "print(\"Test set R^2 score: {:.2f}\".format(ml_lml.score(X_test, y_test)))"
   ]
  },
  {
   "cell_type": "markdown",
   "id": "e532a2ca",
   "metadata": {},
   "source": [
    "**Polynomial Regression**"
   ]
  },
  {
   "cell_type": "code",
   "execution_count": null,
   "id": "72ad8e8f",
   "metadata": {},
   "outputs": [],
   "source": [
    "# Create X and y objects\n",
    "X = df_ml[[\"Year\",\"month\"]]\n",
    "y = df_ml[\"Passengers\"]\n",
    "\n",
    "# Train Test Split\n",
    "X_train, X_test, y_train, y_test = train_test_split(X, y, test_size = 0.30, random_state = 10)\n",
    "\n",
    "poly = PolynomialFeatures(degree = 2)\n",
    "poly\n",
    "poly_features = poly.fit_transform(X)\n",
    "poly_X_train = poly.fit_transform(X_train)\n",
    "poly_X_test = poly.fit_transform(X_test)\n",
    "poly_model = LinearRegression()\n",
    "poly_model.fit(poly_features, y)  \n",
    "\n",
    "train_fcst = poly_model.predict(poly_X_train)\n",
    "test_fcst = poly_model.predict(poly_X_test)\n",
    "\n",
    "train_r2 = r2_score(y_train, train_fcst)\n",
    "test_r2 = r2_score(y_test, test_fcst)\n",
    "\n",
    "# Storing the results\n",
    "save_results(\"Polinomial regression model\",train_r2,test_r2)\n",
    "\n",
    "predict_passengers = poly_model.predict(poly_features)\n",
    "\n",
    "#Plot result\n",
    "label_graph(\"Year\", \"Passengers\", \"Polynomial Regression Model\",8,6)\n",
    "sns.scatterplot(x = \"date\", y = \"Passengers\", data = df_ml , color='blue', label='Actual Values of Passengers')\n",
    "sns.lineplot(x = \"date\", y = predict_passengers, data = df_ml, color='red', label='Polynomial Regression Line')\n",
    "\n",
    "# Show the plot\n",
    "plt.show()\n",
    "\n",
    "# Display the score values\n",
    "print(\"Training set R^2 score: {:.2f}\".format(poly_model.score(poly_X_train, y_train)))\n",
    "print(\"Test set R^2 score: {:.2f}\".format(poly_model.score(poly_X_test, y_test)))"
   ]
  },
  {
   "cell_type": "markdown",
   "id": "9284e00e",
   "metadata": {},
   "source": [
    "**Polynomial Regression - GridSearchCV**"
   ]
  },
  {
   "cell_type": "code",
   "execution_count": null,
   "id": "0d1f1e40",
   "metadata": {},
   "outputs": [],
   "source": [
    "#Create X and y objects\n",
    "X = df_ml[[\"Year\",\"month\"]]\n",
    "y = df_ml[\"Passengers\"]\n",
    "\n",
    "#Train Test Split\n",
    "X_train, X_test, y_train, y_test = train_test_split(X, y, test_size = 0.3, random_state = 10)\n",
    "\n",
    "#Tune Hyperparameters\n",
    "poly_reg = make_pipeline(PolynomialFeatures(), LinearRegression())\n",
    "folds = KFold(n_splits = 5, shuffle = True, random_state = 100)\n",
    "param_grid = {'polynomialfeatures__degree': np.arange(2, 10)}\n",
    "grid_search = GridSearchCV(poly_reg, param_grid, scoring = 'r2', cv = folds, verbose = 1, n_jobs = -1)\n",
    "grid_search.fit(X_train, y_train)\n",
    "\n",
    "#Get the best hyperparameter values\n",
    "best_params = grid_search.best_params_\n",
    "print(\"Best Hyperparameter Values:\", best_params)\n",
    "\n",
    "#Get the best model\n",
    "best_model = grid_search.best_estimator_\n",
    "\n",
    "#Predictions and R^2 scores\n",
    "train_pred = best_model.predict(X_train)\n",
    "test_pred = best_model.predict(X_test)\n",
    "\n",
    "train_r2 = r2_score(y_train, train_pred)\n",
    "test_r2 = r2_score(y_test, test_pred)\n",
    "\n",
    "#Storing the results\n",
    "save_results(\"Polynomial Regression Model - GridsearchCV\",train_r2,test_r2)\n",
    "\n",
    "# Plot the results\n",
    "poly_X = best_model.named_steps['polynomialfeatures'].transform(X)\n",
    "predict_passengers = best_model.predict(X)\n",
    "\n",
    "#Plot result\n",
    "label_graph(\"Year\", \"Passengers\", \"Polynomial Regression Model - GridsearchCV\",8,6)\n",
    "sns.scatterplot(x = \"date\", y = \"Passengers\", data = df_ml , color='blue', label='Actual Values of Passengers')\n",
    "sns.lineplot(x = \"date\", y = predict_passengers, data = df_ml, color='red', label='Polynomial Regression Model Line - GridsearchCV')\n",
    "\n",
    "# Show the plot\n",
    "plt.show()\n",
    "\n",
    "# Display the score values\n",
    "print(\"Training set R^2 score: {:.2f}\".format(best_model.score(X_train, y_train)))\n",
    "print(\"Test set R^2 score: {:.2f}\".format(best_model.score(X_test, y_test)))\n",
    "print(f'Best Hyperparameters: {grid_search.best_params_}')\n",
    "print(\"Cross - Validation best score: {:.2f}\".format(grid_search.best_score_))"
   ]
  },
  {
   "cell_type": "markdown",
   "id": "721944be",
   "metadata": {},
   "source": [
    "**Ridge model**"
   ]
  },
  {
   "cell_type": "code",
   "execution_count": null,
   "id": "355ee9f3",
   "metadata": {},
   "outputs": [],
   "source": [
    "from sklearn.linear_model import Ridge\n",
    "\n",
    "#Splitting the data\n",
    "X = df_ml[[\"Year\",\"month\"]]\n",
    "y = df_ml[\"Passengers\"]\n",
    "\n",
    "#Train Test Split\n",
    "X_train, X_test, y_train, y_test = train_test_split(X, y, test_size = 0.30, random_state = 10)\n",
    "\n",
    "#Train the Ridge() mode by calling a fit() method\n",
    "ridge = Ridge().fit(X_train, y_train)\n",
    "\n",
    "#Calculate the train Forecasting\n",
    "train_fcst = ridge.predict(X_train)\n",
    "test_fcst = ridge.predict(X_test)\n",
    "predicted_passengers = ridge.predict(X)\n",
    "\n",
    "#Calculate teh r2 score for train and test\n",
    "train_r2 = r2_score(y_train, train_fcst)\n",
    "test_r2 = r2_score(y_test, test_fcst)\n",
    "\n",
    "#Storing the results\n",
    "save_results(\"Ridge regression model\",train_r2,test_r2)\n",
    "\n",
    "#Plot result\n",
    "label_graph(\"Year\", \"Passengers\", \"Ridge Regression Model\",8,6)\n",
    "sns.scatterplot(x = \"date\", y = \"Passengers\", data = df_ml , color='blue', label='Actual Population')\n",
    "sns.lineplot(x = \"date\", y = predicted_passengers, data = df_ml, color='red', label='Ridge regression model Line')\n",
    "\n",
    "#Show the plot\n",
    "plt.show()\n",
    "\n",
    "#Display the score by using ridge object\n",
    "print(\"Training set score: {:.2f}\".format(ridge.score(X_train, y_train)))\n",
    "print(\"Test set score: {:.2f}\".format(ridge.score(X_test, y_test)))"
   ]
  },
  {
   "cell_type": "markdown",
   "id": "eaca2f05",
   "metadata": {},
   "source": [
    "**Ridge model - GridsearchCV**"
   ]
  },
  {
   "cell_type": "code",
   "execution_count": null,
   "id": "40885f0f",
   "metadata": {},
   "outputs": [],
   "source": [
    "#Create X and y objects\n",
    "X = df_ml[[\"Year\",\"month\"]]\n",
    "y = df_ml[\"Passengers\"]\n",
    "\n",
    "#Train Test Split\n",
    "X_train, X_test, y_train, y_test = train_test_split(X, y, test_size = 0.3, random_state = 10)\n",
    "\n",
    "#Tune Hyperparameters\n",
    "poly_reg = make_pipeline(PolynomialFeatures(), Ridge())\n",
    "folds = KFold(n_splits = 5, shuffle = True, random_state = 100)\n",
    "param_grid = {'polynomialfeatures__degree': np.arange(2, 10),\"ridge__alpha\": [0.1,1,100,1000]}\n",
    "grid_search = GridSearchCV(poly_reg, param_grid, scoring = 'r2', cv = folds, verbose = 1, n_jobs = -1)\n",
    "grid_search.fit(X_train, y_train)\n",
    "\n",
    "#Get the best hyperparameter values\n",
    "best_params = grid_search.best_params_\n",
    "print(\"Best Hyperparameter Values:\", best_params)\n",
    "\n",
    "#Get the best model\n",
    "best_model = grid_search.best_estimator_\n",
    "\n",
    "#Predictions and R^2 scores\n",
    "train_pred = best_model.predict(X_train)\n",
    "test_pred = best_model.predict(X_test)\n",
    "\n",
    "train_r2 = r2_score(y_train, train_pred)\n",
    "test_r2 = r2_score(y_test, test_pred)\n",
    "\n",
    "#Storing the results\n",
    "save_results(\"Ridge Regression Model - GridsearchCV\",train_r2,test_r2)\n",
    "\n",
    "#Plot the results\n",
    "poly_X = best_model.named_steps['polynomialfeatures'].transform(X)\n",
    "predict_passengers = best_model.predict(X)\n",
    "\n",
    "#Plot result\n",
    "label_graph(\"Year\", \"Passengers\", \"Ridge Regression Model - GridsearchCV\",8,6)\n",
    "sns.scatterplot(x = \"date\", y = \"Passengers\", data = df_ml , color='blue', label='Actual Values of Passengers')\n",
    "sns.lineplot(x = \"date\", y = predict_passengers, data = df_ml, color='red', label='Ridge Regression Model Line - GridsearchCV')\n",
    "\n",
    "# Show the plot\n",
    "plt.show()\n",
    "\n",
    "# Display the score values\n",
    "print(\"Training set R^2 score: {:.2f}\".format(best_model.score(X_train, y_train)))\n",
    "print(\"Test set R^2 score: {:.2f}\".format(best_model.score(X_test, y_test)))\n",
    "print(f'Best Hyperparameters: {grid_search.best_params_}')\n",
    "print(\"Cross - Validation best score: {:.2f}\".format(grid_search.best_score_))"
   ]
  },
  {
   "cell_type": "markdown",
   "id": "99415988",
   "metadata": {},
   "source": [
    "**Decision Tree Regression**"
   ]
  },
  {
   "cell_type": "code",
   "execution_count": null,
   "id": "197bf7b3",
   "metadata": {},
   "outputs": [],
   "source": [
    "#Store the feature or attribute values in X and y\n",
    "X = df_ml[[\"Year\",\"month\"]].values\n",
    "y = df_ml[\"Passengers\"].values\n",
    "\n",
    "#Split the data set into Training and Testing parts\n",
    "X_train, X_test, y_train, y_test = train_test_split(X, y, test_size = 0.30, random_state = 10)\n",
    "\n",
    "#Display the Number of rows and columns before (X, y) and after Splitting (X_train, X_test, y_train, y_test)\n",
    "X.shape, y.shape, X_train.shape, X_test.shape, y_train.shape, y_test.shape\n",
    "\n",
    "#Initialise an object by calling a method DecisionTreeRegressor()\n",
    "tree = DecisionTreeRegressor(max_depth = 3)\n",
    "tree.fit(X, y)\n",
    "\n",
    "train_fcst = tree.predict(X_train)\n",
    "test_fcst = tree.predict(X_test)\n",
    "predicted_passengers = tree.predict(X)\n",
    "\n",
    "#Store the R2 error into train_r2 and test_r2\n",
    "train_r2 = r2_score(y_train, train_fcst)\n",
    "test_r2 = r2_score(y_test, test_fcst)\n",
    "\n",
    "#Storing the results\n",
    "save_results(\"Decision Tree regression model\",train_r2,test_r2)\n",
    "\n",
    "#Plot result\n",
    "label_graph(\"Year\", \"Passengers\", \"Decision Tree Regression Model\",8,6)\n",
    "sns.scatterplot(x = \"date\", y = \"Passengers\", data = df_ml , color='blue', label='Actual Values of Passengers')\n",
    "sns.lineplot(x = \"date\", y = predicted_passengers, data = df_ml, color='red', label='Decision tree Regression Line')\n",
    "\n",
    "# Show the plot\n",
    "plt.show()\n",
    "\n",
    "# Display the score values for Decision Tree function\n",
    "print(\"Training set score: {:.2f}\".format(tree.score(X_train, y_train)))\n",
    "print(\"Test set score: {:.2f}\".format(tree.score(X_test, y_test)))"
   ]
  },
  {
   "cell_type": "markdown",
   "id": "21b1d193",
   "metadata": {},
   "source": [
    "**Decision Tree Regression - GridSearchCV**"
   ]
  },
  {
   "cell_type": "code",
   "execution_count": null,
   "id": "dc16e4a8",
   "metadata": {},
   "outputs": [],
   "source": [
    "#Store the feature or attribute values in X and y\n",
    "X = df_ml[[\"Year\",\"month\"]].values\n",
    "y = df_ml[\"Passengers\"].values\n",
    "\n",
    "#Split the data set into Training and Testing parts\n",
    "X_train, X_test, y_train, y_test = train_test_split(X, y, test_size = 0.30, random_state = 10)\n",
    "\n",
    "#Display the Number of rows and columns before (X, y) and after Splitting (X_train, X_test, y_train, y_test)\n",
    "X.shape, y.shape, X_train.shape, X_test.shape, y_train.shape, y_test.shape\n",
    "\n",
    "#Tune Hyperparameters\n",
    "tree = DecisionTreeRegressor()\n",
    "folds = KFold(n_splits = 5, shuffle = True, random_state = 100)\n",
    "tree_params = [{'max_depth': list(range(4, 20))}]\n",
    "clf = GridSearchCV(tree, tree_params, cv = folds, scoring='r2', n_jobs = -1)\n",
    "clf.fit(X_train, y_train)\n",
    "\n",
    "#Predictions\n",
    "train_fcst = clf.predict(X_train)\n",
    "test_fcst = clf.predict(X_test)\n",
    "predicted_passengers = clf.predict(X)\n",
    "\n",
    "#Store the R2 error into train_r2 and test_r2\n",
    "train_r2 = r2_score(y_train, train_fcst)\n",
    "test_r2 = r2_score(y_test, test_fcst)\n",
    "\n",
    "#Storing the results\n",
    "save_results(\"Decision Tree Regression Model - GridsearchCV\",train_r2,test_r2)\n",
    "\n",
    "#Plot result\n",
    "label_graph(\"Year\", \"Passengers\", \"Decision Tree Regression Model - GridsearchCV\",8,6)\n",
    "sns.scatterplot(x = \"date\", y = \"Passengers\", data = df_ml , color='blue', label='Actual Values of Passengers')\n",
    "sns.lineplot(x = \"date\", y = predicted_passengers, data = df_ml, color='red', label='Decision Tree Regression Line - GridsearchCV')\n",
    "\n",
    "# Show the plot\n",
    "plt.show()\n",
    "\n",
    "# Display the score values for Decision Tree function\n",
    "print(\"Training set score: {:.2f}\".format(clf.score(X_train, y_train)))\n",
    "print(\"Test set score: {:.2f}\".format(clf.score(X_test, y_test)))\n",
    "print(f'Best Hyperparameters: {clf.best_params_}')\n",
    "print(\"Cross - Validation best score: {:.2f}\".format(clf.best_score_))"
   ]
  },
  {
   "cell_type": "markdown",
   "id": "002e1713",
   "metadata": {},
   "source": [
    "**Random forest regression**"
   ]
  },
  {
   "cell_type": "code",
   "execution_count": null,
   "id": "eb7a4da0",
   "metadata": {},
   "outputs": [],
   "source": [
    "#Store the feature or attribute values in X and y\n",
    "X = df_ml[[\"Year\",\"month\"]].values\n",
    "y = df_ml[\"Passengers\"].values\n",
    "\n",
    "#Split the data set into Training and Testing parts\n",
    "X_train, X_test, y_train, y_test = train_test_split(X, y, test_size = 0.30, random_state = 10)\n",
    "\n",
    "#Display the Number of rows and columns before (X, y) and after Splitting (X_train, X_test, y_train, y_test)\n",
    "X.shape, y.shape, X_train.shape, X_test.shape, y_train.shape, y_test.shape\n",
    "\n",
    "#Initialise an object by calling a method DecisionTreeRegressor()\n",
    "forest = RandomForestRegressor(n_estimators = 1000, \n",
    "                               criterion='squared_error',\n",
    "                               max_depth  = None,\n",
    "                               min_samples_split = 2, \n",
    "                               min_samples_leaf = 1)\n",
    "forest.fit(X, y)\n",
    "\n",
    "train_fcst = forest.predict(X_train)\n",
    "test_fcst = forest.predict(X_test)\n",
    "predicted_passengers = forest.predict(X)\n",
    "\n",
    "\n",
    "#Store the R2 error into train_r2 and test_r2\n",
    "train_r2 = r2_score(y_train, train_fcst)\n",
    "test_r2 = r2_score(y_test, test_fcst)\n",
    "\n",
    "#Store the results\n",
    "print(train_r2, test_r2)\n",
    "save_results(\"Random forest Regression model\",train_r2,test_r2)\n",
    "\n",
    "#Plot result\n",
    "label_graph(\"Year\", \"Passengers\", \"Random forest Regression Model\",8,6)\n",
    "sns.scatterplot(x = \"date\", y = \"Passengers\", data = df_ml , color='blue', label='Actual Values of Passengers')\n",
    "sns.lineplot(x = \"date\", y = predicted_passengers, data = df_ml, color='red', label='Random forest Regression Line')\n",
    "\n",
    "#Show the plot\n",
    "plt.show()\n",
    "\n",
    "#Display the score values for Fores function\n",
    "print(\"Training set score: {:.2f}\".format(forest.score(X_train, y_train)))\n",
    "print(\"Test set score: {:.2f}\".format(forest.score(X_test, y_test)))"
   ]
  },
  {
   "cell_type": "markdown",
   "id": "4a0a19a3",
   "metadata": {},
   "source": [
    "**Random forest regression - GridsearchCV**"
   ]
  },
  {
   "cell_type": "code",
   "execution_count": null,
   "id": "81198553",
   "metadata": {},
   "outputs": [],
   "source": [
    "#Store the feature or attribute values in X and y\n",
    "X = df_ml[[\"Year\",\"month\"]].values\n",
    "y = df_ml[\"Passengers\"].values\n",
    "\n",
    "#Split the data set into Training and Testing parts\n",
    "X_train, X_test, y_train, y_test = train_test_split(X, y, test_size = 0.30, random_state = 10)\n",
    "\n",
    "#Display the Number of rows and columns before (X, y) and after Splitting (X_train, X_test, y_train, y_test)\n",
    "X.shape, y.shape, X_train.shape, X_test.shape, y_train.shape, y_test.shape\n",
    "\n",
    "#Tune Hyperparameters\n",
    "forest = RandomForestRegressor()\n",
    "folds = KFold(n_splits = 5, shuffle = True, random_state = 100)\n",
    "param_grid = {\n",
    "    'n_estimators': [50, 100, 150,1000],\n",
    "    'max_depth': [None, 10, 20, 30],\n",
    "    'min_samples_split': [2, 5, 10],\n",
    "    'min_samples_leaf': [1, 2, 4],\n",
    "    'criterion':['squared_error']\n",
    "}\n",
    "\n",
    "grid_search = GridSearchCV(estimator = forest, param_grid = param_grid, scoring = 'r2', cv = folds)\n",
    "grid_search.fit(X_train, y_train)\n",
    "\n",
    "best_params = grid_search.best_params_\n",
    "best_model = grid_search.best_estimator_\n",
    "\n",
    "train_fcst = grid_search.predict(X_train)\n",
    "test_fcst = grid_search.predict(X_test)\n",
    "predicted_passengers = grid_search.predict(X)\n",
    "\n",
    "#Store the R2 error into train_r2 and test_r2\n",
    "train_r2 = r2_score(y_train, train_fcst)\n",
    "test_r2 = r2_score(y_test, test_fcst)\n",
    "\n",
    "#Store the results\n",
    "save_results(\"Random forest regression - GridsearchCV\",train_r2,test_r2)\n",
    "\n",
    "#Plot result\n",
    "label_graph(\"Year\", \"Passengers\", \"Random forest regression - GridsearchCV\",8,6)\n",
    "sns.scatterplot(x = \"date\", y = \"Passengers\", data = df_ml , color='blue', label='Actual Values of Passengers')\n",
    "sns.lineplot(x = \"date\", y = predicted_passengers, data = df_ml, color='red', label='Random forest regression Line - GridsearchCV')\n",
    "\n",
    "#Show the plot\n",
    "plt.show()\n",
    "\n",
    "#Display the score values for Forest function\n",
    "print(\"Training set score: {:.2f}\".format(grid_search.score(X_train, y_train)))\n",
    "print(\"Test set score: {:.2f}\".format(grid_search.score(X_test, y_test)))\n",
    "print(f'Best Hyperparameters: {grid_search.best_params_}')\n",
    "print(\"Cross - Validation best score: {:.2f}\".format(grid_search.best_score_))"
   ]
  },
  {
   "cell_type": "markdown",
   "id": "c2aaa9f0",
   "metadata": {},
   "source": [
    "**Random forest regression - GridsearchCV**"
   ]
  },
  {
   "cell_type": "code",
   "execution_count": null,
   "id": "7bac2ba5",
   "metadata": {},
   "outputs": [],
   "source": [
    "#Store the feature or attribute values in X and y\n",
    "X = df_ml[[\"Year\",\"month\"]].values\n",
    "y = df_ml[\"Passengers\"].values\n",
    "\n",
    "#Split the data set into Training and Testing parts\n",
    "X_train, X_test, y_train, y_test = train_test_split(X, y, test_size = 0.30, random_state = 10)\n",
    "\n",
    "#Display the Number of rows and columns before (X, y) and after Splitting (X_train, X_test, y_train, y_test)\n",
    "X.shape, y.shape, X_train.shape, X_test.shape, y_train.shape, y_test.shape\n",
    "\n",
    "#Tune Hyperparameters\n",
    "forest = RandomForestRegressor()\n",
    "param_grid = {\n",
    "    'n_estimators': [50, 100, 150,1000],\n",
    "    'max_depth': [None, 10, 20, 30],\n",
    "    'min_samples_split': [2, 5, 10],\n",
    "    'min_samples_leaf': [1, 2, 4],\n",
    "    'criterion':['squared_error']\n",
    "}\n",
    "\n",
    "grid_search = GridSearchCV(estimator=forest, param_grid=param_grid, scoring='r2', cv=5)\n",
    "grid_search.fit(X_train, y_train)\n",
    "\n",
    "best_params = grid_search.best_params_\n",
    "best_model = grid_search.best_estimator_\n",
    "print(grid_search.best_params_)\n",
    "print(grid_search.best_score_)\n",
    "\n",
    "train_fcst = grid_search.predict(X_train)\n",
    "test_fcst = grid_search.predict(X_test)\n",
    "predicted_passengers = grid_search.predict(X)\n",
    "\n",
    "#Store the R2 error into train_r2 and test_r2\n",
    "train_r2 = r2_score(y_train, train_fcst)\n",
    "test_r2 = r2_score(y_test, test_fcst)\n",
    "\n",
    "#Store the results\n",
    "save_results(\"Random forest regression - GridsearchCV\",train_r2,test_r2)\n",
    "\n",
    "#Plot result\n",
    "label_graph(\"Year\", \"Passengers\", \"Random forest regression - GridsearchCV\",8,6)\n",
    "sns.scatterplot(x = \"date\", y = \"Passengers\", data = df_ml , color='blue', label='Actual Values of Passengers')\n",
    "sns.lineplot(x = \"date\", y = predicted_passengers, data = df_ml, color='red', label='Random forest regression Line - GridsearchCV')\n",
    "\n",
    "# Show the plot\n",
    "plt.show()\n",
    "\n",
    "# Display the score values for Ridge function\n",
    "print(\"Training set score: {:.2f}\".format(grid_search.score(X_train, y_train)))\n",
    "print(\"Test set score: {:.2f}\".format(grid_search.score(X_test, y_test)))\n",
    "print(f'Best Hyperparameters: {grid_search.best_params_}')\n",
    "print(\"Cross - Validation best score: {:.2f}\".format(grid_search.best_score_))"
   ]
  },
  {
   "cell_type": "code",
   "execution_count": null,
   "id": "5e61d39e",
   "metadata": {
    "scrolled": false
   },
   "outputs": [],
   "source": [
    "# Store the feature or attribute values in X and y\n",
    "X = df_ml[[\"Year\",\"month\"]].values\n",
    "y = df_ml[\"Passengers\"].values\n",
    "\n",
    "# Split the data set into Training and Testing parts\n",
    "X_train, X_test, y_train, y_test = train_test_split(X, y, test_size = 0.30, random_state = 10)\n",
    "\n",
    "# Display the Number of rows and columns before (X, y) and after Splitting (X_train, X_test, y_train, y_test)\n",
    "X.shape, y.shape, X_train.shape, X_test.shape, y_train.shape, y_test.shape\n",
    "\n",
    "#Tune Hyperparameters\n",
    "forest = RandomForestRegressor()\n",
    "folds = KFold(n_splits = 5, shuffle = True, random_state = 100)\n",
    "param_grid = {\n",
    "    'n_estimators': [50, 100, 150,1000],\n",
    "    'max_depth': [None, 10, 20, 30],\n",
    "    'min_samples_split': [2, 5, 10],\n",
    "    'min_samples_leaf': [1, 2, 4],\n",
    "    'criterion':['squared_error']\n",
    "}\n",
    "\n",
    "grid_search = GridSearchCV(estimator = forest, param_grid = param_grid, scoring = 'r2', cv = folds, verbose = 1, return_train_score = True)\n",
    "grid_search.fit(X_train, y_train)\n",
    "best_params = grid_search.best_params_\n",
    "best_model = grid_search.best_estimator_\n",
    "\n",
    "\n",
    "train_fcst = grid_search.predict(X_train)\n",
    "test_fcst = grid_search.predict(X_test)\n",
    "predicted_passengers = grid_search.predict(X)\n",
    "\n",
    "\n",
    "#Store the R2 error into train_r2 and test_r2\n",
    "train_r2 = r2_score(y_train, train_fcst)\n",
    "test_r2 = r2_score(y_test, test_fcst)\n",
    "\n",
    "#Display the training and test score\n",
    "print(train_r2, test_r2)\n",
    "#save_results(\"Random forest regression - (GridsearchCV)\",train_r2,test_r2)\n",
    "\n",
    "#Plot result\n",
    "label_graph(\"Year\", \"Passengers\", \"Random forest regression - (GridsearchCV)\",8,6)\n",
    "sns.scatterplot(x = \"date\", y = \"Passengers\", data = df_ml , color='blue', label='Actual Values of Passengers')\n",
    "sns.lineplot(x = \"date\", y = predicted_passengers, data = df_ml, color='red', label='Random forest regression Line - (GridsearchCV)')\n",
    "\n",
    "# Show the plot\n",
    "plt.show()\n",
    "\n",
    "# Display the score values for Ridge function\n",
    "print(\"Training set score: {:.2f}\".format(grid_search.score(X_train, y_train)))\n",
    "print(\"Test set score: {:.2f}\".format(grid_search.score(X_test, y_test)))\n",
    "print(f'Best Hyperparameters: {grid_search.best_params_}')\n",
    "print(\"Cross - Validation best score: {:.2f}\".format(grid_search.best_score_))"
   ]
  },
  {
   "cell_type": "markdown",
   "id": "1a81bf03",
   "metadata": {},
   "source": [
    "**Tabulating results**"
   ]
  },
  {
   "cell_type": "code",
   "execution_count": null,
   "id": "0b070ff8",
   "metadata": {},
   "outputs": [],
   "source": [
    "show_results()"
   ]
  },
  {
   "cell_type": "markdown",
   "id": "85ed3dce",
   "metadata": {},
   "source": [
    "- Sentimental analysis"
   ]
  },
  {
   "cell_type": "markdown",
   "id": "15cc6cc6",
   "metadata": {},
   "source": [
    "**Sentimental analysis on Ireland Dataset**"
   ]
  },
  {
   "cell_type": "code",
   "execution_count": null,
   "id": "e95f428c",
   "metadata": {},
   "outputs": [],
   "source": [
    "!pip install praw"
   ]
  },
  {
   "cell_type": "code",
   "execution_count": null,
   "id": "51e7a950",
   "metadata": {},
   "outputs": [],
   "source": [
    "!pip install python-dotenv"
   ]
  },
  {
   "cell_type": "code",
   "execution_count": null,
   "id": "f589bc72",
   "metadata": {},
   "outputs": [],
   "source": [
    "import praw\n",
    "from datetime import datetime as dt\n",
    "from dotenv import load_dotenv\n",
    "from os import getenv"
   ]
  },
  {
   "cell_type": "code",
   "execution_count": null,
   "id": "596bac9f",
   "metadata": {},
   "outputs": [],
   "source": [
    "load_dotenv()"
   ]
  },
  {
   "cell_type": "code",
   "execution_count": null,
   "id": "812f2431",
   "metadata": {},
   "outputs": [],
   "source": [
    "# Get the environmental variables\n",
    "APP_NAME = getenv('APP_NAME')\n",
    "APP_ID = getenv(\"APP_ID\")\n",
    "APP_SECRET = getenv(\"APP_SECRET\")\n",
    "USERNAME = getenv('REDDIT_USERNAME')\n",
    "#PASSWORD = getenv('PASSWORD')\n"
   ]
  },
  {
   "cell_type": "code",
   "execution_count": null,
   "id": "af30b255",
   "metadata": {
    "scrolled": true
   },
   "outputs": [],
   "source": [
    "#Testing\n",
    "# Check that the variables all loaded\n",
    "if APP_NAME and APP_ID and APP_SECRET and USERNAME:\n",
    "    print(\"Credentials loaded\")\n",
    "else:\n",
    "    print(\"ERROR: Credentials not loaded!!\")\n"
   ]
  },
  {
   "cell_type": "code",
   "execution_count": null,
   "id": "c9e565ad",
   "metadata": {
    "scrolled": true
   },
   "outputs": [],
   "source": [
    "#Connecting to Reddit\n",
    "reddit = praw.Reddit(\n",
    "    client_id = getenv(\"APP_ID\"),\n",
    "    client_secret = getenv(\"APP_SECRET\"),\n",
    "    user_agent = f'CA_02 u/ {getenv(\"REDDIT_USERNAME\")}',\n",
    ")\n",
    "    "
   ]
  },
  {
   "cell_type": "code",
   "execution_count": null,
   "id": "9074690b",
   "metadata": {},
   "outputs": [],
   "source": [
    "print(reddit.read_only)"
   ]
  },
  {
   "cell_type": "code",
   "execution_count": null,
   "id": "9dc4d788",
   "metadata": {},
   "outputs": [],
   "source": [
    "subreddit = reddit.subreddit(\"Ireland\")"
   ]
  },
  {
   "cell_type": "code",
   "execution_count": null,
   "id": "13069d6e",
   "metadata": {},
   "outputs": [],
   "source": [
    "#Extracting the comments and relevant information\n",
    "for post in subreddit.search(\"luas\"):\n",
    "    print(\"******\")\n",
    "    print(\"Text =\", post.selftext)\n",
    "    \n",
    "    for comment in list(post.comments):\n",
    "        print(\"Title =\", post.title)\n",
    "        print(\"Coment =\", comment.body)\n",
    "        print(\"Score =\", comment.score)\n",
    "        print(\"Comment count =\", post.num_comments)\n",
    "        print(dt.fromtimestamp(comment.created_utc))\n",
    "        print(\"\\n\")\n",
    "        print(\"------------------------------------------\")\n",
    "        \n",
    "#print(subreddit.display_name)\n",
    "#print(subreddit.title)\n",
    "#print(subreddit.description)"
   ]
  },
  {
   "cell_type": "code",
   "execution_count": null,
   "id": "eb9f6249",
   "metadata": {},
   "outputs": [],
   "source": [
    "#Creating dataframe with the information extracted\n",
    "postTitles = []\n",
    "postComments = []\n",
    "\n",
    "for post in subreddit.search(\"luas\"):\n",
    "    postTitles.append(post.title)\n",
    "    \n",
    "    if post.selftext != \"\":\n",
    "          postTitles.append(post.selftext)\n",
    "            \n",
    "    for comment in list(post.comments):\n",
    "        postComments.append(comment.body)\n",
    "        \n",
    "        if comment.body != \"\" and comment.body != \"[deleted]\":\n",
    "             postComments.append(post.selftext)\n",
    "    "
   ]
  },
  {
   "cell_type": "code",
   "execution_count": null,
   "id": "f2db75b3",
   "metadata": {},
   "outputs": [],
   "source": [
    "df_sent_titles = pd.DataFrame({\n",
    "    \"Post_title\": postTitles,\n",
    "})"
   ]
  },
  {
   "cell_type": "code",
   "execution_count": null,
   "id": "62fe243d",
   "metadata": {},
   "outputs": [],
   "source": [
    "df_sent_comments = pd.DataFrame({\n",
    "    \"Comments\": postComments,\n",
    "})"
   ]
  },
  {
   "cell_type": "code",
   "execution_count": null,
   "id": "04b5ebfa",
   "metadata": {
    "scrolled": true
   },
   "outputs": [],
   "source": [
    "df_sent_titles"
   ]
  },
  {
   "cell_type": "code",
   "execution_count": null,
   "id": "91b1923e",
   "metadata": {},
   "outputs": [],
   "source": [
    "df_sent_comments"
   ]
  },
  {
   "cell_type": "markdown",
   "id": "2cdb8fcf",
   "metadata": {},
   "source": [
    "**- Sentiment Analysis Post Titles**\n",
    " - Text processing"
   ]
  },
  {
   "cell_type": "code",
   "execution_count": null,
   "id": "4834d8e4",
   "metadata": {
    "scrolled": true
   },
   "outputs": [],
   "source": [
    "#Converting all text into lower case\n",
    "df_sent_titles[\"Post_title\"]  = df_sent_titles[\"Post_title\"].apply(lambda x : \" \".join(x.lower() for x in x.split()))\n",
    "\n",
    "#Taking away any character present\n",
    "df_sent_titles[\"Post_title\"]  = df_sent_titles[\"Post_title\"].str.replace(\"[^\\w\\s]\", \"\")\n",
    "\n",
    "#Taking away stopwords\n",
    "from nltk.corpus import stopwords\n",
    "stop = stopwords.words(\"english\")\n",
    "df_sent_titles[\"Post_title\"]  = df_sent_titles[\"Post_title\"].apply(lambda x : \" \".join(x for x in x.split() if x not in stop))\n",
    "\n",
    "#Tokenizing words\n",
    "#df_sent[\"clean_comment\"]  = df_sent[\"Post_title\"].apply(lambda x : \" \".join(nltk.word_tokenize(x).split()))\n",
    "\n",
    "df_sent_titles.head()"
   ]
  },
  {
   "cell_type": "code",
   "execution_count": null,
   "id": "6165dfc6",
   "metadata": {},
   "outputs": [],
   "source": [
    "#Using textblox\n",
    "!pip install textblob"
   ]
  },
  {
   "cell_type": "code",
   "execution_count": null,
   "id": "ddf71a1c",
   "metadata": {},
   "outputs": [],
   "source": [
    "#Textblob\n",
    "from textblob import TextBlob\n",
    "df_sent_titles[\"Post_title\"].apply(lambda x: str(TextBlob(x).correct()))\n",
    "\n",
    "#Stemmer\n",
    "from nltk.stem import PorterStemmer\n",
    "st = PorterStemmer()\n",
    "df_sent_titles[\"st\"] = df_sent_titles[\"Post_title\"].apply(lambda x: \" \".join([st.stem(word) for word in x.split()]))\n",
    "\n",
    "#Lemmatize\n",
    "nltk.download(\"wordnet\")\n",
    "from textblob import Word\n",
    "df_sent_titles[\"ltz\"] = df_sent_titles[\"Post_title\"].apply(lambda x: \" \".join([Word(word).lemmatize() for word in x.split()]))\n",
    "\n",
    "df_sent_titles.head()"
   ]
  },
  {
   "cell_type": "markdown",
   "id": "82a98f60",
   "metadata": {},
   "source": [
    "- Feauture extraction"
   ]
  },
  {
   "cell_type": "code",
   "execution_count": null,
   "id": "4243f752",
   "metadata": {},
   "outputs": [],
   "source": [
    "freq = pd.Series(' '.join(df_sent_titles[\"Post_title\"]).split()).value_counts()[:15]\n",
    "freq"
   ]
  },
  {
   "cell_type": "code",
   "execution_count": null,
   "id": "9006999e",
   "metadata": {},
   "outputs": [],
   "source": [
    "TextBlob(df_sent_titles[\"Post_title\"][0]).ngrams(2)"
   ]
  },
  {
   "cell_type": "markdown",
   "id": "1afb8cc9",
   "metadata": {},
   "source": [
    "- Model Sentiment Analysis"
   ]
  },
  {
   "cell_type": "code",
   "execution_count": null,
   "id": "4989c85a",
   "metadata": {},
   "outputs": [],
   "source": [
    "def sentiment_analysis(dataset,feauture,new_feature,score):\n",
    "    \n",
    "    def getPolarity(text):\n",
    "        return TextBlob(text).sentiment.polarity\n",
    "    \n",
    "    def Result_analysis(score):\n",
    "        if score < 0:\n",
    "            return \"Negative\"\n",
    "        elif score == 0:\n",
    "             return \"Neutral\"\n",
    "        else:\n",
    "            return \"Positive\"\n",
    "    \n",
    "    dataset[new_feature] = dataset[feauture].apply(getPolarity)\n",
    "    dataset[score] = dataset[new_feature].apply(Result_analysis)\n"
   ]
  },
  {
   "cell_type": "code",
   "execution_count": null,
   "id": "557ec0d0",
   "metadata": {},
   "outputs": [],
   "source": [
    "sentiment_analysis(df_sent_titles,\"st\",\"st_sentiment\",\"st_score\")\n",
    "sentiment_analysis(df_sent_titles,\"ltz\",\"ltz_sentiment\",\"ltz_score\")\n",
    "df_sent_titles"
   ]
  },
  {
   "cell_type": "markdown",
   "id": "a8a50ae5",
   "metadata": {},
   "source": [
    "### Sentiment Analysis Comments\n",
    " - Text processing"
   ]
  },
  {
   "cell_type": "code",
   "execution_count": null,
   "id": "044b2a67",
   "metadata": {},
   "outputs": [],
   "source": [
    "#Converting all text into lower case\n",
    "df_sent_comments[\"Comments\"]  = df_sent_comments[\"Comments\"].apply(lambda x : \" \".join(x.lower() for x in x.split()))\n",
    "\n",
    "#Taking away any character present\n",
    "df_sent_comments[\"Comments\"]  = df_sent_comments[\"Comments\"].str.replace(\"[^\\w\\s]\", \"\")\n",
    "\n",
    "#Taking away stopwords\n",
    "from nltk.corpus import stopwords\n",
    "stop = stopwords.words(\"english\")\n",
    "df_sent_comments[\"Comments\"]  = df_sent_comments[\"Comments\"].apply(lambda x : \" \".join(x for x in x.split() if x not in stop))\n",
    "\n",
    "df_sent_comments.head()"
   ]
  },
  {
   "cell_type": "code",
   "execution_count": null,
   "id": "0a1202f3",
   "metadata": {},
   "outputs": [],
   "source": [
    "#Textblob\n",
    "# from textblob import TextBlob\n",
    "# df_sent_comments[\"Comments\"].apply(lambda x: str(TextBlob(x).correct()))"
   ]
  },
  {
   "cell_type": "code",
   "execution_count": null,
   "id": "bd9752bd",
   "metadata": {},
   "outputs": [],
   "source": [
    "#Stemmer\n",
    "from nltk.stem import PorterStemmer\n",
    "st = PorterStemmer()\n",
    "df_sent_comments[\"st\"] = df_sent_comments[\"Comments\"].apply(lambda x: \" \".join([st.stem(word) for word in x.split()]))\n",
    "\n",
    "#Lemmatize\n",
    "nltk.download(\"wordnet\")\n",
    "from textblob import Word\n",
    "df_sent_comments[\"ltz\"] = df_sent_comments[\"Comments\"].apply(lambda x: \" \".join([Word(word).lemmatize() for word in x.split()]))\n",
    "\n",
    "df_sent_comments.head()"
   ]
  },
  {
   "cell_type": "code",
   "execution_count": null,
   "id": "e90ec68f",
   "metadata": {},
   "outputs": [],
   "source": [
    "freq = pd.Series(' '.join(df_sent_comments[\"Comments\"]).split()).value_counts()[:15]\n",
    "freq"
   ]
  },
  {
   "cell_type": "code",
   "execution_count": null,
   "id": "9d891b5d",
   "metadata": {},
   "outputs": [],
   "source": [
    "TextBlob(df_sent_comments[\"Comments\"][0]).ngrams(2)"
   ]
  },
  {
   "cell_type": "code",
   "execution_count": null,
   "id": "5838d1b0",
   "metadata": {},
   "outputs": [],
   "source": [
    "sentiment_analysis(df_sent_comments,\"st\",\"st_sentiment\",\"st_score\")\n",
    "sentiment_analysis(df_sent_comments,\"ltz\",\"ltz_sentiment\",\"ltz_score\")\n",
    "df_sent_comments"
   ]
  },
  {
   "cell_type": "code",
   "execution_count": null,
   "id": "13cdf9b2",
   "metadata": {
    "scrolled": false
   },
   "outputs": [],
   "source": [
    "sns.histplot(data = df_sent_comments[\"st_score\"])"
   ]
  },
  {
   "cell_type": "code",
   "execution_count": null,
   "id": "053ece38",
   "metadata": {},
   "outputs": [],
   "source": [
    "# Create a subplot for each year\n",
    "fig, axes = plt.subplots(ncols = 2, figsize = (20, 8), sharey = True)\n",
    "\n",
    "\n",
    "hist_st = sns.histplot(data = df_sent_comments[\"st_score\"].sort_values(), ax = axes[0])\n",
    "\n",
    "score_group = df_sent_comments.groupby(\"st_score\")[\"Comments\"].count()\n",
    "\n",
    "for score in range(len(score_group)):\n",
    "     hist_st.text(score, score_group[score]/2, str(score_group[score]),\n",
    "     fontdict = dict(color = \"white\", fontsize = 15),\n",
    "     horizontalalignment = \"center\")\n",
    "         \n",
    "hist_ltz = sns.histplot(data = df_sent_comments[\"ltz_score\"].sort_values(), ax = axes[1])\n",
    "\n",
    "score_groupltz = df_sent_comments.groupby(\"ltz_score\")[\"Comments\"].count()\n",
    "\n",
    "for score in range(len(score_groupltz)):\n",
    "     hist_ltz.text(score, score_groupltz[score]/2, str(score_groupltz[score]),\n",
    "     fontdict = dict(color = \"white\", fontsize = 15),\n",
    "     horizontalalignment = \"center\")\n",
    "\n",
    "\n",
    "plt.show()"
   ]
  },
  {
   "cell_type": "code",
   "execution_count": null,
   "id": "3ca56c6b",
   "metadata": {},
   "outputs": [],
   "source": [
    "df_sent_comments"
   ]
  },
  {
   "cell_type": "code",
   "execution_count": null,
   "id": "833eddf6",
   "metadata": {
    "scrolled": true
   },
   "outputs": [],
   "source": [
    "df_sent_comments.groupby(\"st_score\")[\"st_sentiment\"].count()"
   ]
  },
  {
   "cell_type": "markdown",
   "id": "711bf1ad",
   "metadata": {},
   "source": [
    "**Sentimental analysis for EU Dataset**"
   ]
  },
  {
   "cell_type": "code",
   "execution_count": null,
   "id": "2da78a6b",
   "metadata": {},
   "outputs": [],
   "source": [
    "subreddit = reddit.subreddit(\"germany\")"
   ]
  },
  {
   "cell_type": "code",
   "execution_count": null,
   "id": "2e6932f7",
   "metadata": {
    "scrolled": true
   },
   "outputs": [],
   "source": [
    "#Extracting the comments and relevant information\n",
    "for post in subreddit.search(\"tram\"):\n",
    "    print(\"******\")\n",
    "    print(\"Text =\", post.selftext)\n",
    "    \n",
    "    for comment in list(post.comments):\n",
    "        \n",
    "        print(\"Title =\", post.title)\n",
    "        print(\"Coment =\", comment.body)\n",
    "        print(\"Score =\", comment.score)\n",
    "        print(\"Comment count =\", post.num_comments)\n",
    "        print(dt.fromtimestamp(comment.created_utc))\n",
    "        print(\"\\n\")\n",
    "        print(\"------------------------------------------\")"
   ]
  },
  {
   "cell_type": "code",
   "execution_count": null,
   "id": "039d7c23",
   "metadata": {},
   "outputs": [],
   "source": [
    "# Install the langid library\n",
    "!pip install langid"
   ]
  },
  {
   "cell_type": "code",
   "execution_count": null,
   "id": "81b669b4",
   "metadata": {},
   "outputs": [],
   "source": [
    "import langid\n",
    "\n",
    "def is_english(text):\n",
    "    lang, _ = langid.classify(text)\n",
    "    return lang == 'en'"
   ]
  },
  {
   "cell_type": "code",
   "execution_count": null,
   "id": "3672ccbc",
   "metadata": {},
   "outputs": [],
   "source": [
    "english_comments = [comment for comment in all_comments if is_english(comment['body'])]"
   ]
  },
  {
   "cell_type": "code",
   "execution_count": null,
   "id": "8c221416",
   "metadata": {},
   "outputs": [],
   "source": [
    "# Extracting comments and relevant information\n",
    "for post in subreddit.search(\"tram\"):\n",
    "    print(\"******\")\n",
    "    print(\"Title =\", post.title)\n",
    "    print(\"Text =\", post.selftext)\n",
    "\n",
    "    for comment in list(post.comments):\n",
    "        if is_english(comment.body):\n",
    "            print(\"Comment =\", comment.body)\n",
    "            print(\"Score =\", comment.score)\n",
    "            print(\"Comment count =\", post.num_comments)\n",
    "            print(\"Creation time =\", dt.fromtimestamp(comment.created_utc))\n",
    "            print(\"\\n\")\n",
    "            print(\"------------------------------------------\")\n"
   ]
  },
  {
   "cell_type": "code",
   "execution_count": null,
   "id": "081e53fb",
   "metadata": {},
   "outputs": [],
   "source": [
    "#Creating dataframe with the information extracted\n",
    "postTitles = []\n",
    "postComments = []\n",
    "\n",
    "for post in subreddit.search(\"tram\"):\n",
    "    postTitles.append(post.title)\n",
    "    \n",
    "    if post.selftext != \"\":\n",
    "          postTitles.append(post.selftext)\n",
    "            \n",
    "    for comment in list(post.comments):\n",
    "        postComments.append(comment.body)\n",
    "        \n",
    "        if comment.body != \"\" and comment.body != \"[deleted]\":\n",
    "             postComments.append(post.selftext)\n",
    "    "
   ]
  },
  {
   "cell_type": "code",
   "execution_count": null,
   "id": "b6ff198b",
   "metadata": {},
   "outputs": [],
   "source": [
    "df_sent_titles_eu = pd.DataFrame({\n",
    "    \"Post_title\": postTitles,\n",
    "})"
   ]
  },
  {
   "cell_type": "code",
   "execution_count": null,
   "id": "ca441c3c",
   "metadata": {},
   "outputs": [],
   "source": [
    "df_sent_comments_eu = pd.DataFrame({\n",
    "    \"Comments\": postComments,\n",
    "})"
   ]
  },
  {
   "cell_type": "markdown",
   "id": "14746815",
   "metadata": {},
   "source": [
    "**Sentimental analysis titles - EU**"
   ]
  },
  {
   "cell_type": "code",
   "execution_count": null,
   "id": "c13f2b4b",
   "metadata": {},
   "outputs": [],
   "source": [
    "#Converting all text into lower case\n",
    "df_sent_titles_eu[\"Post_title\"]  = df_sent_titles_eu[\"Post_title\"].apply(lambda x : \" \".join(x.lower() for x in x.split()))\n",
    "\n",
    "#Taking away any character present\n",
    "df_sent_titles_eu[\"Post_title\"]  = df_sent_titles_eu[\"Post_title\"].str.replace(\"[^\\w\\s]\", \"\")\n",
    "\n",
    "#Taking away stopwords\n",
    "from nltk.corpus import stopwords\n",
    "stop = stopwords.words(\"english\")\n",
    "df_sent_titles_eu[\"Post_title\"]  = df_sent_titles_eu[\"Post_title\"].apply(lambda x : \" \".join(x for x in x.split() if x not in stop))\n",
    "\n",
    "#Tokenizing words\n",
    "#df_sent[\"clean_comment\"]  = df_sent[\"Post_title\"].apply(lambda x : \" \".join(nltk.word_tokenize(x).split()))\n",
    "\n",
    "df_sent_titles_eu.head()"
   ]
  },
  {
   "cell_type": "code",
   "execution_count": null,
   "id": "a35e4325",
   "metadata": {
    "scrolled": true
   },
   "outputs": [],
   "source": [
    "#Textblob\n",
    "from textblob import TextBlob\n",
    "df_sent_titles_eu[\"Post_title\"].apply(lambda x: str(TextBlob(x).correct()))\n",
    "\n",
    "#Stemmer\n",
    "from nltk.stem import PorterStemmer\n",
    "st = PorterStemmer()\n",
    "df_sent_titles_eu[\"st\"] = df_sent_titles_eu[\"Post_title\"].apply(lambda x: \" \".join([st.stem(word) for word in x.split()]))\n",
    "\n",
    "#Lemmatize\n",
    "nltk.download(\"wordnet\")\n",
    "from textblob import Word\n",
    "df_sent_titles_eu[\"ltz\"] = df_sent_titles_eu[\"Post_title\"].apply(lambda x: \" \".join([Word(word).lemmatize() for word in x.split()]))\n",
    "\n",
    "df_sent_titles_eu.head()"
   ]
  },
  {
   "cell_type": "code",
   "execution_count": null,
   "id": "290b35be",
   "metadata": {},
   "outputs": [],
   "source": [
    "freq = pd.Series(' '.join(df_sent_titles_eu[\"Post_title\"]).split()).value_counts()[:15]\n",
    "freq"
   ]
  },
  {
   "cell_type": "code",
   "execution_count": null,
   "id": "10f02e99",
   "metadata": {},
   "outputs": [],
   "source": [
    "TextBlob(df_sent_titles_eu[\"Post_title\"][0]).ngrams(2)"
   ]
  },
  {
   "cell_type": "code",
   "execution_count": null,
   "id": "31142663",
   "metadata": {},
   "outputs": [],
   "source": [
    "sentiment_analysis(df_sent_titles_eu,\"st\",\"st_sentiment\",\"st_score\")\n",
    "sentiment_analysis(df_sent_titles_eu,\"ltz\",\"ltz_sentiment\",\"ltz_score\")\n",
    "df_sent_titles_eu"
   ]
  },
  {
   "cell_type": "markdown",
   "id": "d5bdea39",
   "metadata": {},
   "source": [
    "**Sentimental analysis Comments - EU**"
   ]
  },
  {
   "cell_type": "code",
   "execution_count": null,
   "id": "510f4e39",
   "metadata": {},
   "outputs": [],
   "source": [
    "#Converting all text into lower case\n",
    "df_sent_comments_eu[\"Comments\"]  = df_sent_comments_eu[\"Comments\"].apply(lambda x : \" \".join(x.lower() for x in x.split()))\n",
    "\n",
    "#Taking away any character present\n",
    "df_sent_comments_eu[\"Comments\"]  = df_sent_comments_eu[\"Comments\"].str.replace(\"[^\\w\\s]\", \"\")\n",
    "\n",
    "#Taking away stopwords\n",
    "from nltk.corpus import stopwords\n",
    "stop = stopwords.words(\"english\")\n",
    "df_sent_comments_eu[\"Comments\"]  = df_sent_comments_eu[\"Comments\"].apply(lambda x : \" \".join(x for x in x.split() if x not in stop))\n",
    "\n",
    "df_sent_comments_eu.head()"
   ]
  },
  {
   "cell_type": "code",
   "execution_count": null,
   "id": "a38a5a48",
   "metadata": {},
   "outputs": [],
   "source": [
    "#Stemmer\n",
    "from nltk.stem import PorterStemmer\n",
    "st = PorterStemmer()\n",
    "df_sent_comments_eu[\"st\"] = df_sent_comments_eu[\"Comments\"].apply(lambda x: \" \".join([st.stem(word) for word in x.split()]))\n",
    "\n",
    "#Lemmatize\n",
    "nltk.download(\"wordnet\")\n",
    "from textblob import Word\n",
    "df_sent_comments_eu[\"ltz\"] = df_sent_comments_eu[\"Comments\"].apply(lambda x: \" \".join([Word(word).lemmatize() for word in x.split()]))\n",
    "\n",
    "df_sent_comments_eu.head()"
   ]
  },
  {
   "cell_type": "code",
   "execution_count": null,
   "id": "3c8e99d0",
   "metadata": {},
   "outputs": [],
   "source": [
    "freq = pd.Series(' '.join(df_sent_comments_eu[\"Comments\"]).split()).value_counts()[:15]\n",
    "freq"
   ]
  },
  {
   "cell_type": "code",
   "execution_count": null,
   "id": "4ef6fe34",
   "metadata": {},
   "outputs": [],
   "source": [
    "TextBlob(df_sent_comments_eu[\"Comments\"][0]).ngrams(2)"
   ]
  },
  {
   "cell_type": "code",
   "execution_count": null,
   "id": "913273b8",
   "metadata": {},
   "outputs": [],
   "source": [
    "sentiment_analysis(df_sent_comments_eu,\"st\",\"st_sentiment\",\"st_score\")\n",
    "sentiment_analysis(df_sent_comments_eu,\"ltz\",\"ltz_sentiment\",\"ltz_score\")\n",
    "df_sent_comments_eu"
   ]
  },
  {
   "cell_type": "code",
   "execution_count": null,
   "id": "2ec6b4af",
   "metadata": {},
   "outputs": [],
   "source": [
    "sns.histplot(data = df_sent_comments_eu[\"st_score\"])"
   ]
  },
  {
   "cell_type": "code",
   "execution_count": null,
   "id": "877462c9",
   "metadata": {},
   "outputs": [],
   "source": [
    "# Create a subplot for each year\n",
    "fig, axes = plt.subplots(ncols = 2, figsize = (20, 8), sharey = True)\n",
    "\n",
    "\n",
    "hist_st = sns.histplot(data = df_sent_comments_eu[\"st_score\"].sort_values(), ax = axes[0])\n",
    "\n",
    "score_group = df_sent_comments_eu.groupby(\"st_score\")[\"Comments\"].count()\n",
    "\n",
    "for score in range(len(score_group)):\n",
    "     hist_st.text(score, score_group[score]/2, str(score_group[score]),\n",
    "     fontdict = dict(color = \"white\", fontsize = 15),\n",
    "     horizontalalignment = \"center\")\n",
    "         \n",
    "hist_ltz = sns.histplot(data = df_sent_comments_eu[\"ltz_score\"].sort_values(), ax = axes[1])\n",
    "\n",
    "score_groupltz = df_sent_comments_eu.groupby(\"ltz_score\")[\"Comments\"].count()\n",
    "\n",
    "for score in range(len(score_groupltz)):\n",
    "     hist_ltz.text(score, score_groupltz[score]/2, str(score_groupltz[score]),\n",
    "     fontdict = dict(color = \"white\", fontsize = 15),\n",
    "     horizontalalignment = \"center\")\n",
    "\n",
    "\n",
    "plt.show()"
   ]
  },
  {
   "cell_type": "markdown",
   "id": "92762729",
   "metadata": {},
   "source": [
    "**Dashboard**"
   ]
  },
  {
   "cell_type": "code",
   "execution_count": null,
   "id": "44722edc",
   "metadata": {},
   "outputs": [],
   "source": [
    "bar_ex = px.bar(\n",
    "    data_frame = df_sent_comments_eu,\n",
    "    x = \"st_score\")"
   ]
  },
  {
   "cell_type": "code",
   "execution_count": null,
   "id": "727a0517",
   "metadata": {
    "scrolled": false
   },
   "outputs": [],
   "source": [
    "app = dash.Dash()\n",
    "\n",
    "app.layout = html.Div(\n",
    "    children = [\n",
    "    html.H1(\"MSC_DA_CA - Dashboard\"),\n",
    "    html.Span(\n",
    "    children = [\n",
    "    f'Prepared: {datetime.now().date()}', \n",
    "    html.Br(),\n",
    "    ' by ',\n",
    "    html.B(\"Leda Gale (2023205), \"),\n",
    "    html.Br(),   \n",
    "    html.I(\"MSc in Data Analytics (CCT College Dublin)\")\n",
    "    ]),\n",
    "    dcc.Graph(id = \" \", figure = bar_ex),\n",
    "    dcc.DatePickerRange(\n",
    "    initial_visible_month = datetime.now(),\n",
    "    start_date = date(2019,1,1),\n",
    "    end_date = date(2023,7,10),\n",
    ")\n",
    "])\n",
    "\n",
    "\n",
    "if __name__ == \"__main__\":\n",
    "    app.run_server(debug = True, port=\"8053\")\n",
    "    \n",
    "    \n"
   ]
  },
  {
   "cell_type": "code",
   "execution_count": null,
   "id": "e6d00dd2",
   "metadata": {},
   "outputs": [],
   "source": [
    "@app.callback(\n",
    "    Output(component_id = \"my_plot\",\n",
    "        component_property = \"figure\"),\n",
    "    Input(component_id = \"my_input\",\n",
    "        component_property = \"value\" )\n",
    ")\n",
    "\n",
    "def update_figure(colorscale):\n",
    "    return px.scatter(\n",
    "        df, x=\"total_bill\", y=\"tip\", color=\"size\",\n",
    "        color_continuous_scale=colorscale,\n",
    "        render_mode=\"webgl\", title=\"Tips\"\n",
    "    )\n",
    "\n"
   ]
  },
  {
   "cell_type": "code",
   "execution_count": null,
   "id": "bbae117b",
   "metadata": {},
   "outputs": [],
   "source": [
    "dcc.DatePickerSingle(\n",
    "    initial_visible_month = datetime.now(),\n",
    "    min_date_allowed = date(2019,1,1),\n",
    "    max_date_allowed = date(2023,7,10),\n",
    ")"
   ]
  },
  {
   "cell_type": "code",
   "execution_count": null,
   "id": "fad37cc4",
   "metadata": {},
   "outputs": [],
   "source": []
  }
 ],
 "metadata": {
  "kernelspec": {
   "display_name": "Python 3 (ipykernel)",
   "language": "python",
   "name": "python3"
  },
  "language_info": {
   "codemirror_mode": {
    "name": "ipython",
    "version": 3
   },
   "file_extension": ".py",
   "mimetype": "text/x-python",
   "name": "python",
   "nbconvert_exporter": "python",
   "pygments_lexer": "ipython3",
   "version": "3.11.4"
  }
 },
 "nbformat": 4,
 "nbformat_minor": 5
}
